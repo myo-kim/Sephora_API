{
 "cells": [
  {
   "cell_type": "markdown",
   "metadata": {},
   "source": [
    "# Data Cleaning & EDA"
   ]
  },
  {
   "cell_type": "code",
   "execution_count": 1,
   "metadata": {},
   "outputs": [],
   "source": [
    "import pandas as pd\n",
    "import numpy as np"
   ]
  },
  {
   "cell_type": "code",
   "execution_count": 26,
   "metadata": {},
   "outputs": [],
   "source": [
    "df_products = pd.read_csv('dfs_test.csv')\n",
    "df_reviews = pd.read_csv('reviews_data.csv')\n",
    "df_ratings = pd.read_csv('agg_rating.csv')\n",
    "df_summaries = pd.read_csv('summary_data.csv')"
   ]
  },
  {
   "cell_type": "code",
   "execution_count": 30,
   "metadata": {},
   "outputs": [],
   "source": [
    "df_products.drop(columns = 'Unnamed: 0', inplace = True)\n",
    "df_reviews.drop(columns = 'Unnamed: 0', inplace = True)\n",
    "df_ratings.drop(columns = 'Unnamed: 0', inplace = True)\n",
    "df_summaries.drop(columns = 'Unnamed: 0', inplace = True)"
   ]
  },
  {
   "cell_type": "code",
   "execution_count": 6,
   "metadata": {},
   "outputs": [
    {
     "data": {
      "text/html": [
       "<div>\n",
       "<style scoped>\n",
       "    .dataframe tbody tr th:only-of-type {\n",
       "        vertical-align: middle;\n",
       "    }\n",
       "\n",
       "    .dataframe tbody tr th {\n",
       "        vertical-align: top;\n",
       "    }\n",
       "\n",
       "    .dataframe thead th {\n",
       "        text-align: right;\n",
       "    }\n",
       "</style>\n",
       "<table border=\"1\" class=\"dataframe\">\n",
       "  <thead>\n",
       "    <tr style=\"text-align: right;\">\n",
       "      <th></th>\n",
       "      <th>brand</th>\n",
       "      <th>category</th>\n",
       "      <th>name</th>\n",
       "      <th>price</th>\n",
       "      <th>sale_price</th>\n",
       "      <th>url</th>\n",
       "      <th>product_id</th>\n",
       "    </tr>\n",
       "  </thead>\n",
       "  <tbody>\n",
       "    <tr>\n",
       "      <th>0</th>\n",
       "      <td>FENTY BEAUTY by Rihanna</td>\n",
       "      <td>Foundation</td>\n",
       "      <td>Pro Filt'r Hydrating Longwear Foundation</td>\n",
       "      <td>35.0</td>\n",
       "      <td>NaN</td>\n",
       "      <td>https://www.sephora.com/product/pro-filt-r-hyd...</td>\n",
       "      <td>2268274</td>\n",
       "    </tr>\n",
       "    <tr>\n",
       "      <th>1</th>\n",
       "      <td>PAT McGRATH LABS</td>\n",
       "      <td>Foundation</td>\n",
       "      <td>Skin Fetish: Sublime Perfection Foundation</td>\n",
       "      <td>68.0</td>\n",
       "      <td>NaN</td>\n",
       "      <td>https://www.sephora.com/product/skin-fetish-su...</td>\n",
       "      <td>2257111</td>\n",
       "    </tr>\n",
       "    <tr>\n",
       "      <th>2</th>\n",
       "      <td>FENTY BEAUTY by Rihanna</td>\n",
       "      <td>Foundation</td>\n",
       "      <td>Pro Filt'r Soft Matte Longwear Foundation</td>\n",
       "      <td>35.0</td>\n",
       "      <td>NaN</td>\n",
       "      <td>https://www.sephora.com/product/pro-filtr-soft...</td>\n",
       "      <td>2164671</td>\n",
       "    </tr>\n",
       "    <tr>\n",
       "      <th>3</th>\n",
       "      <td>MILK MAKEUP</td>\n",
       "      <td>Foundation</td>\n",
       "      <td>Flex Foundation Stick</td>\n",
       "      <td>36.0</td>\n",
       "      <td>NaN</td>\n",
       "      <td>https://www.sephora.com/product/flex-foundatio...</td>\n",
       "      <td>2242105</td>\n",
       "    </tr>\n",
       "    <tr>\n",
       "      <th>4</th>\n",
       "      <td>Estée Lauder</td>\n",
       "      <td>Foundation</td>\n",
       "      <td>Double Wear Stay-in-Place Foundation</td>\n",
       "      <td>43.0</td>\n",
       "      <td>NaN</td>\n",
       "      <td>https://www.sephora.com/product/double-wear-st...</td>\n",
       "      <td>2112167</td>\n",
       "    </tr>\n",
       "  </tbody>\n",
       "</table>\n",
       "</div>"
      ],
      "text/plain": [
       "                     brand    category  \\\n",
       "0  FENTY BEAUTY by Rihanna  Foundation   \n",
       "1         PAT McGRATH LABS  Foundation   \n",
       "2  FENTY BEAUTY by Rihanna  Foundation   \n",
       "3              MILK MAKEUP  Foundation   \n",
       "4             Estée Lauder  Foundation   \n",
       "\n",
       "                                         name  price  sale_price  \\\n",
       "0    Pro Filt'r Hydrating Longwear Foundation   35.0         NaN   \n",
       "1  Skin Fetish: Sublime Perfection Foundation   68.0         NaN   \n",
       "2   Pro Filt'r Soft Matte Longwear Foundation   35.0         NaN   \n",
       "3                       Flex Foundation Stick   36.0         NaN   \n",
       "4        Double Wear Stay-in-Place Foundation   43.0         NaN   \n",
       "\n",
       "                                                 url  product_id  \n",
       "0  https://www.sephora.com/product/pro-filt-r-hyd...     2268274  \n",
       "1  https://www.sephora.com/product/skin-fetish-su...     2257111  \n",
       "2  https://www.sephora.com/product/pro-filtr-soft...     2164671  \n",
       "3  https://www.sephora.com/product/flex-foundatio...     2242105  \n",
       "4  https://www.sephora.com/product/double-wear-st...     2112167  "
      ]
     },
     "execution_count": 6,
     "metadata": {},
     "output_type": "execute_result"
    }
   ],
   "source": [
    "df_products.head()"
   ]
  },
  {
   "cell_type": "code",
   "execution_count": 7,
   "metadata": {},
   "outputs": [
    {
     "data": {
      "text/html": [
       "<div>\n",
       "<style scoped>\n",
       "    .dataframe tbody tr th:only-of-type {\n",
       "        vertical-align: middle;\n",
       "    }\n",
       "\n",
       "    .dataframe tbody tr th {\n",
       "        vertical-align: top;\n",
       "    }\n",
       "\n",
       "    .dataframe thead th {\n",
       "        text-align: right;\n",
       "    }\n",
       "</style>\n",
       "<table border=\"1\" class=\"dataframe\">\n",
       "  <thead>\n",
       "    <tr style=\"text-align: right;\">\n",
       "      <th></th>\n",
       "      <th>age_range</th>\n",
       "      <th>eye_color</th>\n",
       "      <th>product_id</th>\n",
       "      <th>rating</th>\n",
       "      <th>review</th>\n",
       "      <th>skin_tone</th>\n",
       "      <th>skin_type</th>\n",
       "      <th>title</th>\n",
       "      <th>user</th>\n",
       "    </tr>\n",
       "  </thead>\n",
       "  <tbody>\n",
       "    <tr>\n",
       "      <th>0</th>\n",
       "      <td>NaN</td>\n",
       "      <td>Brown</td>\n",
       "      <td>2268274</td>\n",
       "      <td>5</td>\n",
       "      <td>WOW! I love this foundation, and the packaging...</td>\n",
       "      <td>Olive</td>\n",
       "      <td>Combination</td>\n",
       "      <td>Love this foundation in addition to the soft m...</td>\n",
       "      <td>TyraFox</td>\n",
       "    </tr>\n",
       "    <tr>\n",
       "      <th>1</th>\n",
       "      <td>NaN</td>\n",
       "      <td>Brown</td>\n",
       "      <td>2268274</td>\n",
       "      <td>5</td>\n",
       "      <td>A natural finish and at the same time gives co...</td>\n",
       "      <td>NaN</td>\n",
       "      <td>Oily</td>\n",
       "      <td>Feels airy and fresh with natural coverage</td>\n",
       "      <td>veens</td>\n",
       "    </tr>\n",
       "    <tr>\n",
       "      <th>2</th>\n",
       "      <td>18-24</td>\n",
       "      <td>Brown</td>\n",
       "      <td>2268274</td>\n",
       "      <td>4</td>\n",
       "      <td>Uh, at first I wanted to rate this a tad bit l...</td>\n",
       "      <td>Dark</td>\n",
       "      <td>Combination</td>\n",
       "      <td>Oh man...</td>\n",
       "      <td>KhrisGal</td>\n",
       "    </tr>\n",
       "    <tr>\n",
       "      <th>3</th>\n",
       "      <td>NaN</td>\n",
       "      <td>Brown</td>\n",
       "      <td>2268274</td>\n",
       "      <td>4</td>\n",
       "      <td>I wear 290 in the Soft Matte Longwear Foundati...</td>\n",
       "      <td>Olive</td>\n",
       "      <td>Combination</td>\n",
       "      <td>NaN</td>\n",
       "      <td>nichemarkit</td>\n",
       "    </tr>\n",
       "    <tr>\n",
       "      <th>4</th>\n",
       "      <td>35-44</td>\n",
       "      <td>Brown</td>\n",
       "      <td>2268274</td>\n",
       "      <td>5</td>\n",
       "      <td>Wow. This foundation is a drink of water that ...</td>\n",
       "      <td>Medium</td>\n",
       "      <td>Combination</td>\n",
       "      <td>Wow. A drink of water foundation.</td>\n",
       "      <td>northernrokz</td>\n",
       "    </tr>\n",
       "  </tbody>\n",
       "</table>\n",
       "</div>"
      ],
      "text/plain": [
       "  age_range eye_color  product_id  rating  \\\n",
       "0       NaN     Brown     2268274       5   \n",
       "1       NaN     Brown     2268274       5   \n",
       "2     18-24     Brown     2268274       4   \n",
       "3       NaN     Brown     2268274       4   \n",
       "4     35-44     Brown     2268274       5   \n",
       "\n",
       "                                              review skin_tone    skin_type  \\\n",
       "0  WOW! I love this foundation, and the packaging...     Olive  Combination   \n",
       "1  A natural finish and at the same time gives co...       NaN         Oily   \n",
       "2  Uh, at first I wanted to rate this a tad bit l...      Dark  Combination   \n",
       "3  I wear 290 in the Soft Matte Longwear Foundati...     Olive  Combination   \n",
       "4  Wow. This foundation is a drink of water that ...    Medium  Combination   \n",
       "\n",
       "                                               title           user  \n",
       "0  Love this foundation in addition to the soft m...       TyraFox   \n",
       "1         Feels airy and fresh with natural coverage         veens   \n",
       "2                                          Oh man...      KhrisGal   \n",
       "3                                                NaN   nichemarkit   \n",
       "4                  Wow. A drink of water foundation.  northernrokz   "
      ]
     },
     "execution_count": 7,
     "metadata": {},
     "output_type": "execute_result"
    }
   ],
   "source": [
    "df_reviews.head()"
   ]
  },
  {
   "cell_type": "code",
   "execution_count": 8,
   "metadata": {},
   "outputs": [
    {
     "data": {
      "text/html": [
       "<div>\n",
       "<style scoped>\n",
       "    .dataframe tbody tr th:only-of-type {\n",
       "        vertical-align: middle;\n",
       "    }\n",
       "\n",
       "    .dataframe tbody tr th {\n",
       "        vertical-align: top;\n",
       "    }\n",
       "\n",
       "    .dataframe thead th {\n",
       "        text-align: right;\n",
       "    }\n",
       "</style>\n",
       "<table border=\"1\" class=\"dataframe\">\n",
       "  <thead>\n",
       "    <tr style=\"text-align: right;\">\n",
       "      <th></th>\n",
       "      <th>1 star</th>\n",
       "      <th>2 stars</th>\n",
       "      <th>3 stars</th>\n",
       "      <th>4 stars</th>\n",
       "      <th>5 stars</th>\n",
       "      <th>avg_rating</th>\n",
       "      <th>product_id</th>\n",
       "      <th>review_count</th>\n",
       "    </tr>\n",
       "  </thead>\n",
       "  <tbody>\n",
       "    <tr>\n",
       "      <th>0</th>\n",
       "      <td>0</td>\n",
       "      <td>0</td>\n",
       "      <td>0</td>\n",
       "      <td>5</td>\n",
       "      <td>10</td>\n",
       "      <td>4.7</td>\n",
       "      <td>2268274</td>\n",
       "      <td>15 reviews</td>\n",
       "    </tr>\n",
       "    <tr>\n",
       "      <th>1</th>\n",
       "      <td>28</td>\n",
       "      <td>34</td>\n",
       "      <td>53</td>\n",
       "      <td>210</td>\n",
       "      <td>535</td>\n",
       "      <td>4.4</td>\n",
       "      <td>2257111</td>\n",
       "      <td>860 reviews</td>\n",
       "    </tr>\n",
       "    <tr>\n",
       "      <th>2</th>\n",
       "      <td>1,139</td>\n",
       "      <td>1,279</td>\n",
       "      <td>1,324</td>\n",
       "      <td>2,145</td>\n",
       "      <td>8,373</td>\n",
       "      <td>4.1</td>\n",
       "      <td>2164671</td>\n",
       "      <td>14,260 reviews</td>\n",
       "    </tr>\n",
       "    <tr>\n",
       "      <th>3</th>\n",
       "      <td>0</td>\n",
       "      <td>9</td>\n",
       "      <td>21</td>\n",
       "      <td>106</td>\n",
       "      <td>207</td>\n",
       "      <td>4.5</td>\n",
       "      <td>2242105</td>\n",
       "      <td>343 reviews</td>\n",
       "    </tr>\n",
       "    <tr>\n",
       "      <th>4</th>\n",
       "      <td>213</td>\n",
       "      <td>257</td>\n",
       "      <td>299</td>\n",
       "      <td>836</td>\n",
       "      <td>3,758</td>\n",
       "      <td>4.4</td>\n",
       "      <td>2112167</td>\n",
       "      <td>5,363 reviews</td>\n",
       "    </tr>\n",
       "  </tbody>\n",
       "</table>\n",
       "</div>"
      ],
      "text/plain": [
       "  1 star 2 stars 3 stars 4 stars 5 stars  avg_rating  product_id  \\\n",
       "0      0       0       0       5      10         4.7     2268274   \n",
       "1     28      34      53     210     535         4.4     2257111   \n",
       "2  1,139   1,279   1,324   2,145   8,373         4.1     2164671   \n",
       "3      0       9      21     106     207         4.5     2242105   \n",
       "4    213     257     299     836   3,758         4.4     2112167   \n",
       "\n",
       "     review_count  \n",
       "0      15 reviews  \n",
       "1     860 reviews  \n",
       "2  14,260 reviews  \n",
       "3     343 reviews  \n",
       "4   5,363 reviews  "
      ]
     },
     "execution_count": 8,
     "metadata": {},
     "output_type": "execute_result"
    }
   ],
   "source": [
    "df_ratings.head()"
   ]
  },
  {
   "cell_type": "code",
   "execution_count": 9,
   "metadata": {},
   "outputs": [
    {
     "data": {
      "text/html": [
       "<div>\n",
       "<style scoped>\n",
       "    .dataframe tbody tr th:only-of-type {\n",
       "        vertical-align: middle;\n",
       "    }\n",
       "\n",
       "    .dataframe tbody tr th {\n",
       "        vertical-align: top;\n",
       "    }\n",
       "\n",
       "    .dataframe thead th {\n",
       "        text-align: right;\n",
       "    }\n",
       "</style>\n",
       "<table border=\"1\" class=\"dataframe\">\n",
       "  <thead>\n",
       "    <tr style=\"text-align: right;\">\n",
       "      <th></th>\n",
       "      <th>key_word</th>\n",
       "      <th>key_word_count</th>\n",
       "      <th>product_id</th>\n",
       "    </tr>\n",
       "  </thead>\n",
       "  <tbody>\n",
       "    <tr>\n",
       "      <th>0</th>\n",
       "      <td>long wearing</td>\n",
       "      <td>(1,165)</td>\n",
       "      <td>2112167</td>\n",
       "    </tr>\n",
       "    <tr>\n",
       "      <th>1</th>\n",
       "      <td>buildable coverage</td>\n",
       "      <td>(905)</td>\n",
       "      <td>2112167</td>\n",
       "    </tr>\n",
       "    <tr>\n",
       "      <th>2</th>\n",
       "      <td>oil-free</td>\n",
       "      <td>(608)</td>\n",
       "      <td>2112167</td>\n",
       "    </tr>\n",
       "    <tr>\n",
       "      <th>3</th>\n",
       "      <td>full coverage</td>\n",
       "      <td>(77)</td>\n",
       "      <td>2112167</td>\n",
       "    </tr>\n",
       "    <tr>\n",
       "      <th>4</th>\n",
       "      <td>cakey</td>\n",
       "      <td>(26)</td>\n",
       "      <td>2112167</td>\n",
       "    </tr>\n",
       "  </tbody>\n",
       "</table>\n",
       "</div>"
      ],
      "text/plain": [
       "             key_word key_word_count  product_id\n",
       "0        long wearing        (1,165)     2112167\n",
       "1  buildable coverage          (905)     2112167\n",
       "2            oil-free          (608)     2112167\n",
       "3       full coverage           (77)     2112167\n",
       "4               cakey           (26)     2112167"
      ]
     },
     "execution_count": 9,
     "metadata": {},
     "output_type": "execute_result"
    }
   ],
   "source": [
    "df_summaries.head()"
   ]
  },
  {
   "cell_type": "code",
   "execution_count": 17,
   "metadata": {},
   "outputs": [],
   "source": [
    "df_products['target'] = df_products['sale_price'].map(lambda x: 1 if x > 0 else 0)"
   ]
  },
  {
   "cell_type": "code",
   "execution_count": 23,
   "metadata": {},
   "outputs": [],
   "source": [
    "df_ratings['review_count'] = df_ratings['review_count'].map(lambda x: int(x.split()[0].strip().replace(',', '')))"
   ]
  },
  {
   "cell_type": "code",
   "execution_count": 28,
   "metadata": {},
   "outputs": [],
   "source": [
    "df_summaries['key_word_count'] = df_summaries['key_word_count'].map(lambda x: int(x[1:-1].replace(',', '')))"
   ]
  },
  {
   "cell_type": "code",
   "execution_count": 35,
   "metadata": {},
   "outputs": [],
   "source": [
    "# transposing rows to columns to have key words as features\n",
    "df_sum_pivot = df_summaries.pivot_table(index = 'product_id', columns = 'key_word', values = 'key_word_count')"
   ]
  },
  {
   "cell_type": "code",
   "execution_count": 50,
   "metadata": {},
   "outputs": [],
   "source": [
    "df_sum_pivot.fillna(0, inplace = True)"
   ]
  },
  {
   "cell_type": "code",
   "execution_count": 37,
   "metadata": {},
   "outputs": [
    {
     "data": {
      "text/plain": [
       "(965, 8)"
      ]
     },
     "execution_count": 37,
     "metadata": {},
     "output_type": "execute_result"
    }
   ],
   "source": [
    "df_ratings.shape"
   ]
  },
  {
   "cell_type": "code",
   "execution_count": 38,
   "metadata": {},
   "outputs": [
    {
     "data": {
      "text/plain": [
       "(1387, 8)"
      ]
     },
     "execution_count": 38,
     "metadata": {},
     "output_type": "execute_result"
    }
   ],
   "source": [
    "df_products.shape"
   ]
  },
  {
   "cell_type": "code",
   "execution_count": 39,
   "metadata": {},
   "outputs": [
    {
     "data": {
      "text/plain": [
       "0    1209\n",
       "1     178\n",
       "Name: target, dtype: int64"
      ]
     },
     "execution_count": 39,
     "metadata": {},
     "output_type": "execute_result"
    }
   ],
   "source": [
    "df_products['target'].value_counts()"
   ]
  },
  {
   "cell_type": "code",
   "execution_count": 40,
   "metadata": {},
   "outputs": [
    {
     "data": {
      "text/plain": [
       "0.12833453496755587"
      ]
     },
     "execution_count": 40,
     "metadata": {},
     "output_type": "execute_result"
    }
   ],
   "source": [
    "# Percent of sale items in data set\n",
    "df_products['target'].mean()"
   ]
  },
  {
   "cell_type": "code",
   "execution_count": 43,
   "metadata": {},
   "outputs": [],
   "source": [
    "sale_only = df_products[df_products['target'] == 1]"
   ]
  },
  {
   "cell_type": "code",
   "execution_count": 48,
   "metadata": {},
   "outputs": [
    {
     "data": {
      "text/plain": [
       "Face Primer               31\n",
       "Mascara                   21\n",
       "Setting Spray & Powder    21\n",
       "Highlighter               12\n",
       "Lipstick                  11\n",
       "Name: category, dtype: int64"
      ]
     },
     "execution_count": 48,
     "metadata": {},
     "output_type": "execute_result"
    }
   ],
   "source": [
    "# Top 5 product categories that go on sale\n",
    "sale_only['category'].value_counts()[:5]"
   ]
  },
  {
   "cell_type": "code",
   "execution_count": 52,
   "metadata": {},
   "outputs": [
    {
     "data": {
      "text/plain": [
       "754"
      ]
     },
     "execution_count": 52,
     "metadata": {},
     "output_type": "execute_result"
    }
   ],
   "source": [
    "len(set(df_reviews['product_id']))"
   ]
  },
  {
   "cell_type": "code",
   "execution_count": null,
   "metadata": {},
   "outputs": [],
   "source": []
  }
 ],
 "metadata": {
  "kernelspec": {
   "display_name": "Python 3",
   "language": "python",
   "name": "python3"
  },
  "language_info": {
   "codemirror_mode": {
    "name": "ipython",
    "version": 3
   },
   "file_extension": ".py",
   "mimetype": "text/x-python",
   "name": "python",
   "nbconvert_exporter": "python",
   "pygments_lexer": "ipython3",
   "version": "3.7.3"
  }
 },
 "nbformat": 4,
 "nbformat_minor": 2
}
