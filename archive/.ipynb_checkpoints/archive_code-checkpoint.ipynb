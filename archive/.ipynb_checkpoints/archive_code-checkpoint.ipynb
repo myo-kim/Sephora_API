{
 "cells": [
  {
   "cell_type": "markdown",
   "metadata": {},
   "source": [
    "# First run for getting product id and stuff"
   ]
  },
  {
   "cell_type": "code",
   "execution_count": 409,
   "metadata": {},
   "outputs": [],
   "source": [
    "url = 'https://www.sephora.com/shop/foundation-makeup'\n",
    "res = requests.get(url)\n",
    "res.content\n",
    "soup = BeautifulSoup(res.content, 'lxml')"
   ]
  },
  {
   "cell_type": "code",
   "execution_count": 412,
   "metadata": {
    "scrolled": false
   },
   "outputs": [],
   "source": [
    "product_grid = soup.find_all('script', {'type':\"application/ld+json\"})"
   ]
  },
  {
   "cell_type": "code",
   "execution_count": 18,
   "metadata": {},
   "outputs": [
    {
     "data": {
      "text/plain": [
       "'name\":\"Pro Filt\\'r Hydrating Longwear Foundation\",\"category\":\"Foundation\",\"@context\":\"http://schema.org\",\"brand\":\"FENTY BEAUTY by Rihanna\",\"url\":\"https://www.sephora.com/product/pro-filt-r-hydrating-longwear-foundation-P448702\"},{\"offers\":{\"seller\":{\"@type\":\"Organization\",\"name\":\"Sephora\"},\"priceCurrency\":\"USD\",\"@type\":\"Offer\",\"price\":\"68.00\",\"availability\":\"http://schema.org/InStock\",\"sku\":\"2257111\"},\"image\":\"https://www.sephora.com/productimages/sku/s2257111-main-grid.jpg'"
      ]
     },
     "execution_count": 18,
     "metadata": {},
     "output_type": "execute_result"
    }
   ],
   "source": [
    "product_grid[1].text.split('Product')[1][3:-11]"
   ]
  },
  {
   "cell_type": "code",
   "execution_count": 20,
   "metadata": {},
   "outputs": [],
   "source": [
    "ex_list = product_grid[1].text.split('Product')[-1].split(',')"
   ]
  },
  {
   "cell_type": "code",
   "execution_count": 21,
   "metadata": {},
   "outputs": [
    {
     "data": {
      "text/plain": [
       "['\"',\n",
       " '\"name\":\"Stay-Matte Sheer Pressed Powder\"',\n",
       " '\"category\":\"Foundation\"',\n",
       " '\"@context\":\"http://schema.org\"',\n",
       " '\"brand\":\"CLINIQUE\"',\n",
       " '\"url\":\"https://www.sephora.com/product/stay-matte-sheer-pressed-powder-P122748\"}]']"
      ]
     },
     "execution_count": 21,
     "metadata": {},
     "output_type": "execute_result"
    }
   ],
   "source": [
    "ex_list"
   ]
  },
  {
   "cell_type": "code",
   "execution_count": 22,
   "metadata": {},
   "outputs": [
    {
     "data": {
      "text/plain": [
       "['\"url\":\"https://www.sephora.com/product/stay-matte-sheer-pressed-powder-P122748\"}]']"
      ]
     },
     "execution_count": 22,
     "metadata": {},
     "output_type": "execute_result"
    }
   ],
   "source": [
    "[i for i in ex_list if 'url' in i]"
   ]
  },
  {
   "cell_type": "code",
   "execution_count": 23,
   "metadata": {
    "scrolled": false
   },
   "outputs": [],
   "source": [
    "example = product_grid[1].text.split(\"Product\")[1]"
   ]
  },
  {
   "cell_type": "code",
   "execution_count": 24,
   "metadata": {},
   "outputs": [
    {
     "data": {
      "text/plain": [
       "'https://www.sephora.com/product/pro-filt-r-hydrating-longwear-foundation-P448702'"
      ]
     },
     "execution_count": 24,
     "metadata": {},
     "output_type": "execute_result"
    }
   ],
   "source": [
    "example.split(',')[1:-1][4].split(\":\", 1)[1][1:-2]"
   ]
  },
  {
   "cell_type": "code",
   "execution_count": 504,
   "metadata": {},
   "outputs": [],
   "source": [
    "product_data = []\n",
    "for row in product_grid[1].text.split('\"priceCurrency\":\"USD\"'):\n",
    "    product_data.append(row.split(','))\n"
   ]
  },
  {
   "cell_type": "code",
   "execution_count": 605,
   "metadata": {},
   "outputs": [],
   "source": [
    "product_data[2].remove('\"name\":\"Sephora\"}')"
   ]
  },
  {
   "cell_type": "code",
   "execution_count": 614,
   "metadata": {},
   "outputs": [
    {
     "data": {
      "text/plain": [
       "['',\n",
       " '\"lowPrice\":\"42.00\"',\n",
       " '\"@type\":\"AggregateOffer\"',\n",
       " '\"highPrice\":\"64.00\"}',\n",
       " '\"image\":\"https://www.sephora.com/productimages/sku/s2079168-main-grid.jpg\"',\n",
       " '\"@type\":\"Product\"',\n",
       " '\"name\":\"Luminous Silk Foundation\"',\n",
       " '\"category\":\"Foundation\"',\n",
       " '\"@context\":\"http://schema.org\"',\n",
       " '\"brand\":\"Giorgio Armani Beauty\"',\n",
       " '\"url\":\"https://www.sephora.com/product/luminous-silk-foundation-P393401\"}',\n",
       " '{\"offers\":{']"
      ]
     },
     "execution_count": 614,
     "metadata": {},
     "output_type": "execute_result"
    }
   ],
   "source": [
    "product_data[6]"
   ]
  },
  {
   "cell_type": "code",
   "execution_count": 506,
   "metadata": {},
   "outputs": [],
   "source": [
    "product_url = []\n",
    "for product in product_data[1:]:\n",
    "    for row in product:\n",
    "        if 'url' in row:\n",
    "            product_url.append(re.sub('[\"]', \"\", row.split(':',1)[1][1:-2]))"
   ]
  },
  {
   "cell_type": "code",
   "execution_count": 507,
   "metadata": {},
   "outputs": [
    {
     "data": {
      "text/plain": [
       "['https://www.sephora.com/product/pro-filt-r-hydrating-longwear-foundation-P448702',\n",
       " 'https://www.sephora.com/product/skin-fetish-sublime-perfection-foundation-P447519',\n",
       " 'https://www.sephora.com/product/pro-filtr-soft-matte-longwear-foundation-P87985432',\n",
       " 'https://www.sephora.com/product/flex-foundation-stick-P448151',\n",
       " 'https://www.sephora.com/product/double-wear-stay-in-place-makeup-P378284']"
      ]
     },
     "execution_count": 507,
     "metadata": {},
     "output_type": "execute_result"
    }
   ],
   "source": [
    "product_url[:5]"
   ]
  },
  {
   "cell_type": "code",
   "execution_count": 508,
   "metadata": {},
   "outputs": [],
   "source": [
    "def get_product_url(url):\n",
    "    url = url\n",
    "    res = requests.get(url)\n",
    "    res.content\n",
    "    soup = BeautifulSoup(res.content, 'lxml')\n",
    "    product_grid = soup.find_all('script', {'type':\"application/ld+json\"})\n",
    "    \n",
    "    product_data = []\n",
    "    for row in product_grid[1].text.split('\"priceCurrency\":\"USD\"'):\n",
    "        product_data.append(row.split(','))\n",
    "            \n",
    "    product_url = []\n",
    "    for product in product_data[1:]:\n",
    "        for row in product:\n",
    "            if 'url' in row:\n",
    "                product_url.append(re.sub('[\"]', \"\", row.split(':',1)[1][1:-2]))\n",
    "    return product_url"
   ]
  },
  {
   "cell_type": "code",
   "execution_count": 834,
   "metadata": {},
   "outputs": [],
   "source": [
    "# Returns product id given the individual product url\n",
    "def product_id(url_list):\n",
    "    product_ids = []\n",
    "    count = 0\n",
    "    for i, url in enumerate(url_list):\n",
    "        url = url\n",
    "        res = requests.get(url)\n",
    "        res.content\n",
    "        soup = BeautifulSoup(res.content, 'lxml')\n",
    "        div = soup.find('div', {'class':'css-1owflha'})\n",
    "        try:\n",
    "            product_ids.append(div.contents[1].text.split('ITEM')[-1].strip())\n",
    "            count += 1\n",
    "        except:\n",
    "            pass\n",
    "        if count % 10 == 0:\n",
    "            print(f\"Product_id {count} retrieved\")\n",
    "    return product_ids"
   ]
  },
  {
   "cell_type": "code",
   "execution_count": 264,
   "metadata": {},
   "outputs": [],
   "source": [
    "# Takes in each sub level category as url\n",
    "def make_product_df(url):\n",
    "    product_df_data = []\n",
    "    url = url\n",
    "    res = requests.get(url)\n",
    "    res.content\n",
    "    soup = BeautifulSoup(res.content, 'lxml')\n",
    "    product_grid = soup.find_all('script', {'type':\"application/ld+json\"})\n",
    "    \n",
    "    # Split data on priceCurrency \n",
    "    product_data = []\n",
    "    for row in product_grid[1].text.split('\"priceCurrency\":\"USD\"'):\n",
    "        product_data.append(row.split(','))\n",
    "    \n",
    "    # Remove name:Sephora to return product name \n",
    "    for product in product_data:\n",
    "        if '\"name\":\"Sephora\"}' in product:\n",
    "            product.remove('\"name\":\"Sephora\"}')\n",
    "     \n",
    "    # Product information \n",
    "    for product in product_data[1:]:\n",
    "        products = {}    \n",
    "        for row in product:\n",
    "            if 'url' in row:\n",
    "                products['url'] = re.sub('[\"]', \"\", row.split(':',1)[1][1:-2])\n",
    "                \n",
    "            if '\"price\"' in row:\n",
    "                products['price'] = re.sub('[\"}]', \"\", row.split(\":\", 1)[1])\n",
    "                \n",
    "            if '\"lowPrice\"' in row:\n",
    "                products['sale_price'] = re.sub('[\"}]', \"\", row.split(\":\", 1)[1])\n",
    "                \n",
    "            if '\"highPrice\"' in row:\n",
    "                products['price'] = re.sub('[\"}]', \"\", row.split(\":\", 1)[1])\n",
    "\n",
    "            if 'category' in row:\n",
    "                products['category'] = re.sub('[\"}]', \"\", row.split(\":\", 1)[1])\n",
    "                \n",
    "            if 'brand' in row:\n",
    "                products['brand'] = re.sub('[\"}]', \"\", row.split(\":\", 1)[1])\n",
    "            \n",
    "            if '\"name\"' in row:\n",
    "                products['name'] = re.sub('[\"}]', \"\", row.split(\":\", 1)[1]) \n",
    "                \n",
    "        product_df_data.append(products)\n",
    "   \n",
    "    product_df = pd.DataFrame(product_df_data)\n",
    "    \n",
    "    # Returns product_id from individual product url \n",
    "    try: \n",
    "        product_df['product_id'] = product_id(product_df['url'])\n",
    "    except:\n",
    "        pass\n",
    "    return product_df"
   ]
  },
  {
   "cell_type": "code",
   "execution_count": 259,
   "metadata": {},
   "outputs": [],
   "source": [
    "# Pop in nth_level_hrefs \n",
    "def make_final_product_df(url_list):\n",
    "    for short_url in url_list:\n",
    "        long_url = 'https://www.sephora.com'+ short_url + '?pageSize=300'\n",
    "        make_product_df(long_url)\n",
    "        sleep(2)"
   ]
  },
  {
   "cell_type": "code",
   "execution_count": 838,
   "metadata": {},
   "outputs": [],
   "source": [
    "# make_final_product_df(nth_hrefs)"
   ]
  },
  {
   "cell_type": "code",
   "execution_count": 265,
   "metadata": {},
   "outputs": [],
   "source": [
    "make_product_df(https://www.sephora.com/shop/foundation-makeup?pageSize=300)"
   ]
  },
  {
   "cell_type": "code",
   "execution_count": 267,
   "metadata": {},
   "outputs": [],
   "source": [
    "url = 'https://www.sephora.com/shop/bronzer-makeup?pageSize=300'\n",
    "res = requests.get(url)\n",
    "res.content\n",
    "soup = BeautifulSoup(res.content, 'lxml')\n",
    "product_grid = soup.find_all('script', {'type':\"application/ld+json\"})"
   ]
  },
  {
   "cell_type": "code",
   "execution_count": 280,
   "metadata": {},
   "outputs": [
    {
     "data": {
      "text/plain": [
       "30"
      ]
     },
     "execution_count": 280,
     "metadata": {},
     "output_type": "execute_result"
    }
   ],
   "source": [
    "len(soup.find_all('script'))"
   ]
  },
  {
   "cell_type": "code",
   "execution_count": 318,
   "metadata": {
    "scrolled": false
   },
   "outputs": [
    {
     "data": {
      "text/plain": [
       "'Sephora.Util.Perf.markPageRender(\"/productimages/sku/s513234-main-grid.jpg\");Quick LookBenefit CosmeticsHoola Matte Bronzer$16.00 - $44.006 more colors'"
      ]
     },
     "execution_count": 318,
     "metadata": {},
     "output_type": "execute_result"
    }
   ],
   "source": [
    "soup.find_all('div', {'class':'css-dkxsdo'})[0].find_all('a')[0].text"
   ]
  },
  {
   "cell_type": "code",
   "execution_count": 386,
   "metadata": {},
   "outputs": [],
   "source": [
    "cheek_dict = json.loads(soup.find_all('script', {'id':'linkJSON'})[0].text)[2][\"props\"][\"products\"]"
   ]
  },
  {
   "cell_type": "code",
   "execution_count": 388,
   "metadata": {},
   "outputs": [
    {
     "data": {
      "text/plain": [
       "[{'brandName': 'Charlotte Tilbury',\n",
       "  'currentSku': {'biExclusiveLevel': 'none',\n",
       "   'imageAltText': 'Charlotte Tilbury - Glowgasm Face Palette',\n",
       "   'isAppExclusive': False,\n",
       "   'isBI': False,\n",
       "   'isBest': False,\n",
       "   'isFirstAccess': False,\n",
       "   'isLimitedEdition': True,\n",
       "   'isLimitedTimeOffer': False,\n",
       "   'isNatural': False,\n",
       "   'isNew': False,\n",
       "   'isOnlineOnly': True,\n",
       "   'isOrganic': False,\n",
       "   'isSephoraExclusive': False,\n",
       "   'listPrice': '$75.00',\n",
       "   'salePrice': '',\n",
       "   'skuId': '2201440',\n",
       "   'skuType': 'Standard'},\n",
       "  'displayName': 'Glowgasm Face Palette',\n",
       "  'heroImage': '/productimages/sku/s2201440-main-grid.jpg',\n",
       "  'image135': '/productimages/sku/s2201440-main-grid.jpg',\n",
       "  'image250': '/productimages/sku/s2201440-main-hero.jpg',\n",
       "  'image450': '/productimages/sku/s2201440-main-Lhero.jpg',\n",
       "  'moreColors': 1,\n",
       "  'productId': 'P444155',\n",
       "  'rating': '3.8269',\n",
       "  'targetUrl': '/product/glowgasm-face-palette-P444155',\n",
       "  'url': '/v1/catalog/products/P444155?preferedSku=2201440'},\n",
       " {'brandName': 'Kat Von D',\n",
       "  'currentSku': {'biExclusiveLevel': 'none',\n",
       "   'imageAltText': 'Kat Von D - Shade + Light Face Contour Refillable Palette',\n",
       "   'isAppExclusive': False,\n",
       "   'isBI': False,\n",
       "   'isBest': False,\n",
       "   'isFirstAccess': False,\n",
       "   'isLimitedEdition': False,\n",
       "   'isLimitedTimeOffer': False,\n",
       "   'isNatural': False,\n",
       "   'isNew': False,\n",
       "   'isOnlineOnly': False,\n",
       "   'isOrganic': False,\n",
       "   'isSephoraExclusive': True,\n",
       "   'listPrice': '$49.00',\n",
       "   'salePrice': '',\n",
       "   'skuId': '1848522',\n",
       "   'skuType': 'Standard'},\n",
       "  'displayName': 'Shade + Light Face Contour Refillable Palette',\n",
       "  'heroImage': '/productimages/sku/s1848522-main-grid.jpg',\n",
       "  'image135': '/productimages/sku/s1848522-main-grid.jpg',\n",
       "  'image250': '/productimages/sku/s1848522-main-hero.jpg',\n",
       "  'image450': '/productimages/sku/s1848522-main-Lhero.jpg',\n",
       "  'productId': 'P413458',\n",
       "  'rating': '4.4185',\n",
       "  'targetUrl': '/product/shade-light-face-contour-refillable-palette-P413458',\n",
       "  'url': '/v1/catalog/products/P413458?preferedSku=1848522'},\n",
       " {'brandName': 'Charlotte Tilbury',\n",
       "  'currentSku': {'biExclusiveLevel': 'none',\n",
       "   'imageAltText': 'Charlotte Tilbury - Filmstar Bronze & Glow Contour Duo',\n",
       "   'isAppExclusive': False,\n",
       "   'isBI': False,\n",
       "   'isBest': False,\n",
       "   'isFirstAccess': False,\n",
       "   'isLimitedEdition': False,\n",
       "   'isLimitedTimeOffer': False,\n",
       "   'isNatural': False,\n",
       "   'isNew': False,\n",
       "   'isOnlineOnly': False,\n",
       "   'isOrganic': False,\n",
       "   'isSephoraExclusive': False,\n",
       "   'listPrice': '$68.00',\n",
       "   'salePrice': '',\n",
       "   'skuId': '2115939',\n",
       "   'skuType': 'Standard'},\n",
       "  'displayName': 'Filmstar Bronze & Glow Contour Duo',\n",
       "  'heroImage': '/productimages/sku/s2115939-main-grid.jpg',\n",
       "  'image135': '/productimages/sku/s2115939-main-grid.jpg',\n",
       "  'image250': '/productimages/sku/s2115939-main-hero.jpg',\n",
       "  'image450': '/productimages/sku/s2115939-main-Lhero.jpg',\n",
       "  'moreColors': 1,\n",
       "  'productId': 'P433528',\n",
       "  'rating': '4.5345',\n",
       "  'targetUrl': '/product/filmstar-bronze-glow-contour-duoP433528',\n",
       "  'url': '/v1/catalog/products/P433528?preferedSku=2115939'},\n",
       " {'brandName': 'Jouer Cosmetics',\n",
       "  'currentSku': {'biExclusiveLevel': 'none',\n",
       "   'imageAltText': 'Jouer Cosmetics - Blush Bouquet Dual Blush Palette',\n",
       "   'isAppExclusive': False,\n",
       "   'isBI': False,\n",
       "   'isBest': False,\n",
       "   'isFirstAccess': False,\n",
       "   'isLimitedEdition': True,\n",
       "   'isLimitedTimeOffer': False,\n",
       "   'isNatural': False,\n",
       "   'isNew': False,\n",
       "   'isOnlineOnly': False,\n",
       "   'isOrganic': False,\n",
       "   'isSephoraExclusive': False,\n",
       "   'listPrice': '$18.00 - $30.00',\n",
       "   'salePrice': '',\n",
       "   'skuId': '2225605',\n",
       "   'skuType': 'Standard'},\n",
       "  'displayName': 'Blush Bouquet Dual Blush Palette',\n",
       "  'heroImage': '/productimages/sku/s2225605-main-grid.jpg',\n",
       "  'image135': '/productimages/sku/s2225605-main-grid.jpg',\n",
       "  'image250': '/productimages/sku/s2225605-main-hero.jpg',\n",
       "  'image450': '/productimages/sku/s2225605-main-Lhero.jpg',\n",
       "  'moreColors': 5,\n",
       "  'productId': 'P434021',\n",
       "  'rating': '4.7974',\n",
       "  'targetUrl': '/product/powder-blush-duo-P434021',\n",
       "  'url': '/v1/catalog/products/P434021?preferedSku=2225605'},\n",
       " {'brandName': 'Dior',\n",
       "  'currentSku': {'biExclusiveLevel': 'none',\n",
       "   'imageAltText': 'Dior - BACKSTAGE Glow Face Palette',\n",
       "   'isAppExclusive': False,\n",
       "   'isBI': False,\n",
       "   'isBest': False,\n",
       "   'isFirstAccess': False,\n",
       "   'isLimitedEdition': False,\n",
       "   'isLimitedTimeOffer': False,\n",
       "   'isNatural': False,\n",
       "   'isNew': False,\n",
       "   'isOnlineOnly': False,\n",
       "   'isOrganic': False,\n",
       "   'isSephoraExclusive': True,\n",
       "   'listPrice': '$45.00',\n",
       "   'salePrice': '',\n",
       "   'skuId': '2224954',\n",
       "   'skuType': 'Standard'},\n",
       "  'displayName': 'BACKSTAGE Glow Face Palette',\n",
       "  'heroImage': '/productimages/sku/s2224954-main-grid.jpg',\n",
       "  'image135': '/productimages/sku/s2224954-main-grid.jpg',\n",
       "  'image250': '/productimages/sku/s2224954-main-hero.jpg',\n",
       "  'image450': '/productimages/sku/s2224954-main-Lhero.jpg',\n",
       "  'moreColors': 1,\n",
       "  'productId': 'P432502',\n",
       "  'rating': '4.6517',\n",
       "  'targetUrl': '/product/backstage-glow-face-palette-P432502',\n",
       "  'url': '/v1/catalog/products/P432502?preferedSku=2224954'}]"
      ]
     },
     "execution_count": 388,
     "metadata": {},
     "output_type": "execute_result"
    }
   ],
   "source": [
    "cheek_dict[:5]"
   ]
  },
  {
   "cell_type": "code",
   "execution_count": 408,
   "metadata": {},
   "outputs": [
    {
     "data": {
      "text/html": [
       "<div>\n",
       "<style scoped>\n",
       "    .dataframe tbody tr th:only-of-type {\n",
       "        vertical-align: middle;\n",
       "    }\n",
       "\n",
       "    .dataframe tbody tr th {\n",
       "        vertical-align: top;\n",
       "    }\n",
       "\n",
       "    .dataframe thead th {\n",
       "        text-align: right;\n",
       "    }\n",
       "</style>\n",
       "<table border=\"1\" class=\"dataframe\">\n",
       "  <thead>\n",
       "    <tr style=\"text-align: right;\">\n",
       "      <th></th>\n",
       "      <th>biExclusiveLevel</th>\n",
       "      <th>cat</th>\n",
       "      <th>imageAltText</th>\n",
       "      <th>isAppExclusive</th>\n",
       "      <th>isBI</th>\n",
       "      <th>isBest</th>\n",
       "      <th>isFirstAccess</th>\n",
       "      <th>isLimitedEdition</th>\n",
       "      <th>isLimitedTimeOffer</th>\n",
       "      <th>isNatural</th>\n",
       "      <th>isNew</th>\n",
       "      <th>isOnlineOnly</th>\n",
       "      <th>isOrganic</th>\n",
       "      <th>isSephoraExclusive</th>\n",
       "      <th>listPrice</th>\n",
       "      <th>salePrice</th>\n",
       "      <th>skuId</th>\n",
       "      <th>skuType</th>\n",
       "    </tr>\n",
       "  </thead>\n",
       "  <tbody>\n",
       "    <tr>\n",
       "      <th>0</th>\n",
       "      <td>none</td>\n",
       "      <td>cheek</td>\n",
       "      <td>Charlotte Tilbury - Glowgasm Face Palette</td>\n",
       "      <td>False</td>\n",
       "      <td>False</td>\n",
       "      <td>False</td>\n",
       "      <td>False</td>\n",
       "      <td>True</td>\n",
       "      <td>False</td>\n",
       "      <td>False</td>\n",
       "      <td>False</td>\n",
       "      <td>True</td>\n",
       "      <td>False</td>\n",
       "      <td>False</td>\n",
       "      <td>$75.00</td>\n",
       "      <td></td>\n",
       "      <td>2201440</td>\n",
       "      <td>Standard</td>\n",
       "    </tr>\n",
       "    <tr>\n",
       "      <th>1</th>\n",
       "      <td>none</td>\n",
       "      <td>cheek</td>\n",
       "      <td>Kat Von D - Shade + Light Face Contour Refilla...</td>\n",
       "      <td>False</td>\n",
       "      <td>False</td>\n",
       "      <td>False</td>\n",
       "      <td>False</td>\n",
       "      <td>False</td>\n",
       "      <td>False</td>\n",
       "      <td>False</td>\n",
       "      <td>False</td>\n",
       "      <td>False</td>\n",
       "      <td>False</td>\n",
       "      <td>True</td>\n",
       "      <td>$49.00</td>\n",
       "      <td></td>\n",
       "      <td>1848522</td>\n",
       "      <td>Standard</td>\n",
       "    </tr>\n",
       "  </tbody>\n",
       "</table>\n",
       "</div>"
      ],
      "text/plain": [
       "  biExclusiveLevel    cat                                       imageAltText  \\\n",
       "0             none  cheek          Charlotte Tilbury - Glowgasm Face Palette   \n",
       "1             none  cheek  Kat Von D - Shade + Light Face Contour Refilla...   \n",
       "\n",
       "   isAppExclusive   isBI  isBest  isFirstAccess  isLimitedEdition  \\\n",
       "0           False  False   False          False              True   \n",
       "1           False  False   False          False             False   \n",
       "\n",
       "   isLimitedTimeOffer  isNatural  isNew  isOnlineOnly  isOrganic  \\\n",
       "0               False      False  False          True      False   \n",
       "1               False      False  False         False      False   \n",
       "\n",
       "   isSephoraExclusive listPrice salePrice    skuId   skuType  \n",
       "0               False    $75.00            2201440  Standard  \n",
       "1                True    $49.00            1848522  Standard  "
      ]
     },
     "execution_count": 408,
     "metadata": {},
     "output_type": "execute_result"
    }
   ],
   "source": [
    "pd.DataFrame(datas)"
   ]
  },
  {
   "cell_type": "code",
   "execution_count": 407,
   "metadata": {},
   "outputs": [
    {
     "data": {
      "text/plain": [
       "[{'cat': 'cheek',\n",
       "  'biExclusiveLevel': 'none',\n",
       "  'imageAltText': 'Charlotte Tilbury - Glowgasm Face Palette',\n",
       "  'isAppExclusive': False,\n",
       "  'isBI': False,\n",
       "  'isBest': False,\n",
       "  'isFirstAccess': False,\n",
       "  'isLimitedEdition': True,\n",
       "  'isLimitedTimeOffer': False,\n",
       "  'isNatural': False,\n",
       "  'isNew': False,\n",
       "  'isOnlineOnly': True,\n",
       "  'isOrganic': False,\n",
       "  'isSephoraExclusive': False,\n",
       "  'listPrice': '$75.00',\n",
       "  'salePrice': '',\n",
       "  'skuId': '2201440',\n",
       "  'skuType': 'Standard'},\n",
       " {'cat': 'cheek',\n",
       "  'biExclusiveLevel': 'none',\n",
       "  'imageAltText': 'Kat Von D - Shade + Light Face Contour Refillable Palette',\n",
       "  'isAppExclusive': False,\n",
       "  'isBI': False,\n",
       "  'isBest': False,\n",
       "  'isFirstAccess': False,\n",
       "  'isLimitedEdition': False,\n",
       "  'isLimitedTimeOffer': False,\n",
       "  'isNatural': False,\n",
       "  'isNew': False,\n",
       "  'isOnlineOnly': False,\n",
       "  'isOrganic': False,\n",
       "  'isSephoraExclusive': True,\n",
       "  'listPrice': '$49.00',\n",
       "  'salePrice': '',\n",
       "  'skuId': '1848522',\n",
       "  'skuType': 'Standard'}]"
      ]
     },
     "execution_count": 407,
     "metadata": {},
     "output_type": "execute_result"
    }
   ],
   "source": [
    "datas = []\n",
    "for dic in cheek_dict[:2]:\n",
    "    d = {}\n",
    "    d['cat'] = 'cheek'\n",
    "    test = dic['currentSku']\n",
    "    for k,v in test.items():\n",
    "        d[k] = v\n",
    "        \n",
    "    datas.append(d)\n",
    "\n",
    "datas"
   ]
  },
  {
   "cell_type": "code",
   "execution_count": 433,
   "metadata": {
    "scrolled": true
   },
   "outputs": [
    {
     "data": {
      "text/plain": [
       "{'brandName': 'Charlotte Tilbury',\n",
       " 'currentSku': {'biExclusiveLevel': 'none',\n",
       "  'imageAltText': 'Charlotte Tilbury - Glowgasm Face Palette',\n",
       "  'isAppExclusive': False,\n",
       "  'isBI': False,\n",
       "  'isBest': False,\n",
       "  'isFirstAccess': False,\n",
       "  'isLimitedEdition': True,\n",
       "  'isLimitedTimeOffer': False,\n",
       "  'isNatural': False,\n",
       "  'isNew': False,\n",
       "  'isOnlineOnly': True,\n",
       "  'isOrganic': False,\n",
       "  'isSephoraExclusive': False,\n",
       "  'listPrice': '$75.00',\n",
       "  'salePrice': '',\n",
       "  'skuId': '2201440',\n",
       "  'skuType': 'Standard'},\n",
       " 'displayName': 'Glowgasm Face Palette',\n",
       " 'heroImage': '/productimages/sku/s2201440-main-grid.jpg',\n",
       " 'image135': '/productimages/sku/s2201440-main-grid.jpg',\n",
       " 'image250': '/productimages/sku/s2201440-main-hero.jpg',\n",
       " 'image450': '/productimages/sku/s2201440-main-Lhero.jpg',\n",
       " 'moreColors': 1,\n",
       " 'productId': 'P444155',\n",
       " 'rating': '3.8269',\n",
       " 'targetUrl': '/product/glowgasm-face-palette-P444155',\n",
       " 'url': '/v1/catalog/products/P444155?preferedSku=2201440'}"
      ]
     },
     "execution_count": 433,
     "metadata": {},
     "output_type": "execute_result"
    }
   ],
   "source": [
    "json.loads(soup.find_all('script', {'id':'linkJSON'})[0].text)[2][\"props\"][\"products\"][0]\n",
    "# {\"id\":2,\"class\":\"CatalogPage\",\"path\":\"CatalogPage\""
   ]
  },
  {
   "cell_type": "markdown",
   "metadata": {},
   "source": [
    "### Get Product ID"
   ]
  },
  {
   "cell_type": "code",
   "execution_count": 241,
   "metadata": {},
   "outputs": [],
   "source": [
    "url = 'https://www.sephora.com/product/pro-filt-r-hydrating-longwear-foundation-P448702'\n",
    "res = requests.get(url)\n",
    "res.content\n",
    "soup = BeautifulSoup(res.content, 'lxml')"
   ]
  },
  {
   "cell_type": "code",
   "execution_count": 325,
   "metadata": {},
   "outputs": [],
   "source": [
    "div = soup.find('div', {'class':'css-1owflha'})"
   ]
  },
  {
   "cell_type": "code",
   "execution_count": 276,
   "metadata": {},
   "outputs": [
    {
     "data": {
      "text/plain": [
       "bs4.element.Tag"
      ]
     },
     "execution_count": 276,
     "metadata": {},
     "output_type": "execute_result"
    }
   ],
   "source": [
    "type(div[0])"
   ]
  },
  {
   "cell_type": "code",
   "execution_count": 327,
   "metadata": {},
   "outputs": [
    {
     "data": {
      "text/plain": [
       "\"FENTY BEAUTY by RihannaPro Filt'r Hydrating Longwear Foundation\""
      ]
     },
     "execution_count": 327,
     "metadata": {},
     "output_type": "execute_result"
    }
   ],
   "source": [
    "div.contents[0].text"
   ]
  },
  {
   "cell_type": "code",
   "execution_count": 316,
   "metadata": {},
   "outputs": [
    {
     "data": {
      "text/plain": [
       "\"FENTY BEAUTY by RihannaPro Filt'r Hydrating Longwear FoundationSIZE 1.08 oz/ 32 mL•ITEM 22682745 reviews6213 lovesexclusive·online only\""
      ]
     },
     "execution_count": 316,
     "metadata": {},
     "output_type": "execute_result"
    }
   ],
   "source": [
    "div[0].text"
   ]
  },
  {
   "cell_type": "code",
   "execution_count": 329,
   "metadata": {},
   "outputs": [
    {
     "data": {
      "text/plain": [
       "['SIZE 1.08 oz/ 32 mL', 'ITEM 2268274']"
      ]
     },
     "execution_count": 329,
     "metadata": {},
     "output_type": "execute_result"
    }
   ],
   "source": [
    "div.contents[1].text.split(\"•\")"
   ]
  },
  {
   "cell_type": "code",
   "execution_count": 39,
   "metadata": {},
   "outputs": [],
   "source": [
    "def product_id(url_list):\n",
    "    product_ids = []\n",
    "    for i, url in enumerate(url_list):\n",
    "        url = url\n",
    "        res = requests.get(url)\n",
    "        res.content\n",
    "        soup = BeautifulSoup(res.content, 'lxml')\n",
    "        div = soup.find('div', {'class':'css-1owflha'})\n",
    "        product_ids.append(div.contents[1].text.split('ITEM')[-1].strip())\n",
    "        print(f\"Product_id {i} retrieved\")\n",
    "    return product_ids"
   ]
  },
  {
   "cell_type": "code",
   "execution_count": 388,
   "metadata": {},
   "outputs": [],
   "source": [
    "url = 'https://www.sephora.com/product/stay-matte-sheer-pressed-powder-P122748'\n",
    "res = requests.get(url)\n",
    "res.content\n",
    "soup = BeautifulSoup(res.content, 'lxml')\n",
    "div = soup.find('div', {'class':'css-1owflha'})"
   ]
  },
  {
   "cell_type": "code",
   "execution_count": 389,
   "metadata": {},
   "outputs": [
    {
     "data": {
      "text/plain": [
       "'51573'"
      ]
     },
     "execution_count": 389,
     "metadata": {},
     "output_type": "execute_result"
    }
   ],
   "source": [
    "div.contents[1].text.split('ITEM')[-1].strip()"
   ]
  },
  {
   "cell_type": "code",
   "execution_count": 347,
   "metadata": {},
   "outputs": [
    {
     "name": "stdout",
     "output_type": "stream",
     "text": [
      "Product_id 0 retrieved\n",
      "Product_id 1 retrieved\n",
      "Product_id 2 retrieved\n",
      "Product_id 3 retrieved\n",
      "Product_id 4 retrieved\n"
     ]
    },
    {
     "data": {
      "text/plain": [
       "['2268274', '2257111', '2164671', '2242105', '2112167']"
      ]
     },
     "execution_count": 347,
     "metadata": {},
     "output_type": "execute_result"
    }
   ],
   "source": [
    "product_id(product_url[:5])"
   ]
  },
  {
   "cell_type": "markdown",
   "metadata": {},
   "source": [
    "# Extract page numbers for reviews"
   ]
  },
  {
   "cell_type": "code",
   "execution_count": 44,
   "metadata": {},
   "outputs": [],
   "source": [
    "url = 'http://reviews.sephora.com/8723abredes/2268274/reviews.htm?format=embedded&page=1'\n",
    "res = requests.get(url)\n",
    "res.content\n",
    "soup = BeautifulSoup(res.content, 'lxml')"
   ]
  },
  {
   "cell_type": "code",
   "execution_count": 45,
   "metadata": {},
   "outputs": [],
   "source": [
    "reviews = soup.find_all('span',{'class':'BVRRReviewText'})"
   ]
  },
  {
   "cell_type": "code",
   "execution_count": 46,
   "metadata": {},
   "outputs": [
    {
     "data": {
      "text/plain": [
       "\"A natural finish and at the same time gives coverage. It didnt' feel cakey at all but it looked amazing. My skin was glowing but not greasy. When the Mattying foundation launched I didnt like it as it felt dry on my skin just like how some people felt. This is my new favorite foundation.\""
      ]
     },
     "execution_count": 46,
     "metadata": {},
     "output_type": "execute_result"
    }
   ],
   "source": [
    "reviews[0].text"
   ]
  },
  {
   "cell_type": "code",
   "execution_count": 50,
   "metadata": {},
   "outputs": [
    {
     "data": {
      "text/plain": [
       "<span class=\"BVRRReviewText\">I wear 290 in the Soft Matte Longwear Foundation and found that 290 in this formulation is not an exact match even though it’s supposed to. It looked a bit grey so I went with 255. Not a perfect match but definitely made it work by buffing it out well (used about a half a pump). </span>"
      ]
     },
     "execution_count": 50,
     "metadata": {},
     "output_type": "execute_result"
    }
   ],
   "source": [
    "reviews[1]"
   ]
  },
  {
   "cell_type": "code",
   "execution_count": 359,
   "metadata": {},
   "outputs": [
    {
     "data": {
      "text/plain": [
       "[<span class=\"BVRRPageLink BVRRPageNumber BVRRSelectedPageNumber\">1</span>]"
      ]
     },
     "execution_count": 359,
     "metadata": {},
     "output_type": "execute_result"
    }
   ],
   "source": [
    "soup.find_all('span', {'class':'BVRRPageLink BVRRPageNumber BVRRSelectedPageNumber'})"
   ]
  },
  {
   "cell_type": "code",
   "execution_count": 361,
   "metadata": {},
   "outputs": [],
   "source": [
    "pages = soup.find_all('div', {'class':'BVRRPager BVRRPageBasedPager'})"
   ]
  },
  {
   "cell_type": "code",
   "execution_count": 372,
   "metadata": {},
   "outputs": [
    {
     "data": {
      "text/plain": [
       "['1', '|', '2', '|', '3', '|', '...next', '|']"
      ]
     },
     "execution_count": 372,
     "metadata": {},
     "output_type": "execute_result"
    }
   ],
   "source": [
    "# [num for num in pages[0].text.split() if isinstance(num, int)]\n",
    "pages[0].text.split()"
   ]
  },
  {
   "cell_type": "code",
   "execution_count": 377,
   "metadata": {},
   "outputs": [],
   "source": [
    "page_nums = []\n",
    "for string in pages[0].text.split():\n",
    "    try:\n",
    "        page_nums.append(int(string))\n",
    "    except:\n",
    "        pass"
   ]
  },
  {
   "cell_type": "code",
   "execution_count": 378,
   "metadata": {},
   "outputs": [
    {
     "data": {
      "text/plain": [
       "[1, 2, 3]"
      ]
     },
     "execution_count": 378,
     "metadata": {},
     "output_type": "execute_result"
    }
   ],
   "source": [
    "page_nums"
   ]
  },
  {
   "cell_type": "code",
   "execution_count": 1,
   "metadata": {},
   "outputs": [],
   "source": [
    "import pandas as pd\n",
    "import requests\n",
    "from bs4 import BeautifulSoup\n",
    "import re\n",
    "from time import sleep"
   ]
  },
  {
   "cell_type": "code",
   "execution_count": 20,
   "metadata": {},
   "outputs": [
    {
     "ename": "KeyboardInterrupt",
     "evalue": "",
     "output_type": "error",
     "traceback": [
      "\u001b[0;31m---------------------------------------------------------------------------\u001b[0m",
      "\u001b[0;31mKeyboardInterrupt\u001b[0m                         Traceback (most recent call last)",
      "\u001b[0;32m<ipython-input-20-3c6d1ecb29ad>\u001b[0m in \u001b[0;36m<module>\u001b[0;34m\u001b[0m\n\u001b[1;32m     22\u001b[0m     \u001b[0;32mif\u001b[0m \u001b[0mcount\u001b[0m \u001b[0;34m%\u001b[0m \u001b[0;36m300\u001b[0m \u001b[0;34m==\u001b[0m \u001b[0;36m0\u001b[0m\u001b[0;34m:\u001b[0m\u001b[0;34m\u001b[0m\u001b[0;34m\u001b[0m\u001b[0m\n\u001b[1;32m     23\u001b[0m         \u001b[0mprint\u001b[0m\u001b[0;34m(\u001b[0m\u001b[0;34mf'{count} out of {len(df_products[\"skuId\"])}'\u001b[0m\u001b[0;34m)\u001b[0m\u001b[0;34m\u001b[0m\u001b[0;34m\u001b[0m\u001b[0m\n\u001b[0;32m---> 24\u001b[0;31m     \u001b[0msleep\u001b[0m\u001b[0;34m(\u001b[0m\u001b[0;36m1\u001b[0m\u001b[0;34m)\u001b[0m\u001b[0;34m\u001b[0m\u001b[0;34m\u001b[0m\u001b[0m\n\u001b[0m\u001b[1;32m     25\u001b[0m \u001b[0;34m\u001b[0m\u001b[0m\n\u001b[1;32m     26\u001b[0m \u001b[0;34m\u001b[0m\u001b[0m\n",
      "\u001b[0;31mKeyboardInterrupt\u001b[0m: "
     ]
    }
   ],
   "source": [
    "summaries = []\n",
    "count = 0 \n",
    "for product_id in df_products['skuId']:\n",
    "    url = (f'http://reviews.sephora.com/8723abredes/{product_id}/reviews.htm?format=embedded&page=1')\n",
    "    res = requests.get(url)\n",
    "    res.content\n",
    "    soup = BeautifulSoup(res.content, 'lxml')\n",
    "    quick_take = soup.find_all('td', {'id': 'BVRRQuickTakeProTagsID'})\n",
    "    count +=1\n",
    "    try:\n",
    "        quick_list = quick_take[0].find_all('a')\n",
    "        quick_count = quick_take[0].find_all('span')\n",
    "\n",
    "        for i, row in enumerate(quick_list[:-1]):\n",
    "            summary = {}\n",
    "            summary['key_word'] = quick_list[i].text\n",
    "            summary['key_word_count'] = quick_count[i].text\n",
    "            summary['product_id'] = product_id\n",
    "            summaries.append(summary)\n",
    "    except:\n",
    "        pass\n",
    "    if count % 300 == 0:\n",
    "        print(f'{count} out of {len(df_products[\"skuId\"])}')\n",
    "    sleep(1)\n",
    "    \n",
    "        "
   ]
  },
  {
   "cell_type": "code",
   "execution_count": 17,
   "metadata": {},
   "outputs": [],
   "source": [
    "summaries_df = pd.DataFrame(summaries)"
   ]
  },
  {
   "cell_type": "code",
   "execution_count": 19,
   "metadata": {},
   "outputs": [],
   "source": [
    "summaries_df.to_csv('summaries_final.csv')"
   ]
  },
  {
   "cell_type": "markdown",
   "metadata": {},
   "source": [
    "Test?"
   ]
  },
  {
   "cell_type": "code",
   "execution_count": 131,
   "metadata": {},
   "outputs": [],
   "source": [
    "def get_summary_content(product_ids):\n",
    "    summaries = []\n",
    "    for p in product_ids:\n",
    "        url = (f'http://reviews.sephora.com/8723abredes/{p}/reviews.htm?format=embedded&page=1')\n",
    "        res = requests.get(url)\n",
    "        res.content\n",
    "        soup = BeautifulSoup(res.content, 'lxml')\n",
    "        quick_take = soup.find_all('td', {'id': 'BVRRQuickTakeProTagsID'})\n",
    "        quick_list = quick_take[0].find_all('a')\n",
    "        quick_count = quick_take[0].find_all('span')\n",
    "    \n",
    "        for i, row in enumerate(quick_list[:-1]):\n",
    "            summary = {}\n",
    "            summary['key_word'] = quick_list[i].text\n",
    "            summary['key_word_count'] = quick_count[i].text\n",
    "            summary['product_id'] = p\n",
    "            summaries.append(summary)\n",
    "        sleep(1)\n",
    "    return summaries\n",
    "        "
   ]
  },
  {
   "cell_type": "code",
   "execution_count": 171,
   "metadata": {},
   "outputs": [],
   "source": [
    "def get_summary(product_ids):\n",
    "    summaries = []\n",
    "    for product_id in product_ids:\n",
    "        url = (f'http://reviews.sephora.com/8723abredes/{product_id}/reviews.htm?format=embedded&page=1')\n",
    "        res = requests.get(url)\n",
    "        res.content\n",
    "        soup = BeautifulSoup(res.content, 'lxml')\n",
    "        quick_take = soup.find_all('td', {'id': 'BVRRQuickTakeProTagsID'})\n",
    "        quick_list = quick_take[0].find_all('a')\n",
    "        quick_count = quick_take[0].find_all('span')\n",
    "\n",
    "        for i, row in enumerate(quick_list[:-1]):\n",
    "            summary = {}\n",
    "            summary['key_word'] = quick_list[i].text\n",
    "            summary['key_word_count'] = quick_count[i].text\n",
    "            summary['product_id'] = product_id\n",
    "            summaries.append(summary)\n",
    "        sleep(2)\n",
    "    \n",
    "    return summaries"
   ]
  },
  {
   "cell_type": "code",
   "execution_count": 3,
   "metadata": {},
   "outputs": [],
   "source": [
    "df_products = pd.read_csv('df_review_pages_incl.csv')\n",
    "df_products.drop(columns = 'Unnamed: 0', inplace = True)"
   ]
  },
  {
   "cell_type": "code",
   "execution_count": 9,
   "metadata": {},
   "outputs": [
    {
     "data": {
      "text/plain": [
       "0    2268274\n",
       "1    2257111\n",
       "Name: skuId, dtype: int64"
      ]
     },
     "execution_count": 9,
     "metadata": {},
     "output_type": "execute_result"
    }
   ],
   "source": [
    "df_products['skuId'][]"
   ]
  },
  {
   "cell_type": "code",
   "execution_count": 28,
   "metadata": {},
   "outputs": [
    {
     "name": "stdout",
     "output_type": "stream",
     "text": [
      "300 out of 3534\n",
      "600 out of 3534\n",
      "900 out of 3534\n",
      "1200 out of 3534\n",
      "1500 out of 3534\n",
      "1800 out of 3534\n",
      "2100 out of 3534\n",
      "2400 out of 3534\n",
      "2700 out of 3534\n",
      "3000 out of 3534\n",
      "3300 out of 3534\n"
     ]
    }
   ],
   "source": [
    "agg_rating = []\n",
    "count_track = 0\n",
    "for p in df_products['skuId']:\n",
    "    aggs = {}\n",
    "    url = (f'http://reviews.sephora.com/8723abredes/{p}/reviews.htm?format=embedded&page=1')\n",
    "    res = requests.get(url)\n",
    "    res.content\n",
    "    soup = BeautifulSoup(res.content, 'lxml')\n",
    "    rating = soup.find_all('div', {'class': 'BVRRRatingSummaryColumn'})\n",
    "    count_track +=1\n",
    "    try:\n",
    "        avg = rating[0].find('span', {'itemprop':'ratingValue'}).text\n",
    "        count = rating[0].find('span', {'class':'BVRRCount BVRRNonZeroCount'}).text\n",
    "\n",
    "        ind_star = rating[0].find('div', {'class':'BVRRHistogramContent'}).find_all('span')\n",
    "\n",
    "        aggs[ind_star[1].text] = ind_star[2].text\n",
    "        aggs[ind_star[4].text] = ind_star[5].text\n",
    "        aggs[ind_star[7].text] = ind_star[8].text\n",
    "        aggs[ind_star[10].text] = ind_star[11].text\n",
    "        aggs[ind_star[13].text] = ind_star[14].text\n",
    "        aggs['avg_rating'] = avg\n",
    "        aggs['review_count'] = count\n",
    "        aggs['product_id'] = p\n",
    "        agg_rating.append(aggs)\n",
    "    except:\n",
    "        pass\n",
    "    if count_track % 300 == 0:\n",
    "        print(f'{count_track} out of {len(df_products[\"skuId\"])}')\n",
    "    \n",
    "    sleep(1)"
   ]
  },
  {
   "cell_type": "code",
   "execution_count": 30,
   "metadata": {},
   "outputs": [],
   "source": [
    "agg_rating_df = pd.DataFrame(agg_rating)"
   ]
  },
  {
   "cell_type": "code",
   "execution_count": 32,
   "metadata": {},
   "outputs": [],
   "source": [
    "agg_rating_df.to_csv('agg_rating_data.csv')"
   ]
  },
  {
   "cell_type": "code",
   "execution_count": 38,
   "metadata": {},
   "outputs": [],
   "source": [
    "url = (f'http://reviews.sephora.com/8723abredes/2246726/reviews.htm?format=embedded&page=1')\n",
    "res = requests.get(url)\n",
    "res.content\n",
    "soup = BeautifulSoup(res.content, 'lxml')\n",
    "# base_data_reviews = soup.find_all('span', {'itemprop': 'review'})"
   ]
  },
  {
   "cell_type": "code",
   "execution_count": 58,
   "metadata": {},
   "outputs": [],
   "source": [
    "hm = soup.find_all('td', {'id': 'BVRRQuickTakeProTagsID'})"
   ]
  },
  {
   "cell_type": "code",
   "execution_count": 120,
   "metadata": {},
   "outputs": [
    {
     "data": {
      "text/plain": [
       "30"
      ]
     },
     "execution_count": 120,
     "metadata": {},
     "output_type": "execute_result"
    }
   ],
   "source": [
    "len(hm[0].find_all('li'))"
   ]
  },
  {
   "cell_type": "code",
   "execution_count": 125,
   "metadata": {},
   "outputs": [
    {
     "data": {
      "text/plain": [
       "31"
      ]
     },
     "execution_count": 125,
     "metadata": {},
     "output_type": "execute_result"
    }
   ],
   "source": [
    "len(hm[0].find_all('a'))"
   ]
  },
  {
   "cell_type": "code",
   "execution_count": 126,
   "metadata": {},
   "outputs": [
    {
     "data": {
      "text/plain": [
       "'See All'"
      ]
     },
     "execution_count": 126,
     "metadata": {},
     "output_type": "execute_result"
    }
   ],
   "source": [
    "# key word\n",
    "hm[0].find_all('a')[-1].text"
   ]
  },
  {
   "cell_type": "code",
   "execution_count": 129,
   "metadata": {},
   "outputs": [
    {
     "data": {
      "text/plain": [
       "30"
      ]
     },
     "execution_count": 129,
     "metadata": {},
     "output_type": "execute_result"
    }
   ],
   "source": [
    "# number of key word uses\n",
    "len(hm[0].find_all('span'))"
   ]
  },
  {
   "cell_type": "code",
   "execution_count": 99,
   "metadata": {},
   "outputs": [
    {
     "data": {
      "text/plain": [
       "'3.9'"
      ]
     },
     "execution_count": 99,
     "metadata": {},
     "output_type": "execute_result"
    }
   ],
   "source": [
    "# Overall Rating \n",
    "rating[0].find('span', {'itemprop':'ratingValue'}).text"
   ]
  },
  {
   "cell_type": "code",
   "execution_count": 101,
   "metadata": {},
   "outputs": [
    {
     "data": {
      "text/plain": [
       "'9,565 reviews'"
      ]
     },
     "execution_count": 101,
     "metadata": {},
     "output_type": "execute_result"
    }
   ],
   "source": [
    "rating[0].find('span', {'class':'BVRRCount BVRRNonZeroCount'}).text"
   ]
  },
  {
   "cell_type": "code",
   "execution_count": 217,
   "metadata": {},
   "outputs": [
    {
     "data": {
      "text/plain": [
       "'1 star'"
      ]
     },
     "execution_count": 217,
     "metadata": {},
     "output_type": "execute_result"
    }
   ],
   "source": [
    "# Star count\n",
    "rating[0].find('div', {'class':'BVRRHistogramContent'}).find_all('span')[13].text"
   ]
  },
  {
   "cell_type": "code",
   "execution_count": 37,
   "metadata": {},
   "outputs": [],
   "source": [
    "def get_aggregate(product_ids):\n",
    "    for p in product_ids:\n",
    "        url = (f'http://reviews.sephora.com/8723abredes/{p}/reviews.htm?format=embedded&page=1')\n",
    "        res = requests.get(url)\n",
    "        res.content\n",
    "        soup = BeautifulSoup(res.content, 'lxml')\n",
    "        agg_r = soup.find_all('span', {'itemprop': 'aggregateRating'})\n",
    "        rating = agg_r[0].find('span').text\n",
    "        print(rating) \n",
    "        sleep(1)"
   ]
  },
  {
   "cell_type": "code",
   "execution_count": 33,
   "metadata": {},
   "outputs": [
    {
     "data": {
      "text/plain": [
       "6    2250603\n",
       "7    2251874\n",
       "8    2246726\n",
       "9    1868165\n",
       "Name: product_id, dtype: int64"
      ]
     },
     "execution_count": 33,
     "metadata": {},
     "output_type": "execute_result"
    }
   ],
   "source": [
    "df_product['product_id'][6:10]"
   ]
  },
  {
   "cell_type": "code",
   "execution_count": 36,
   "metadata": {},
   "outputs": [
    {
     "name": "stdout",
     "output_type": "stream",
     "text": [
      "3.9\n",
      "4\n"
     ]
    }
   ],
   "source": [
    "agg_rating = []\n",
    "for p in df_product['product_id'][8:10]:\n",
    "    url = (f'http://reviews.sephora.com/8723abredes/{p}/reviews.htm?format=embedded&page=1')\n",
    "    res = requests.get(url)\n",
    "    res.content\n",
    "    soup = BeautifulSoup(res.content, 'lxml')\n",
    "    agg_r = soup.find_all('span', {'itemprop': 'aggregateRating'})\n",
    "    rating = agg_r[0].find('span').text\n",
    "    \n",
    "    \n"
   ]
  },
  {
   "cell_type": "code",
   "execution_count": 9,
   "metadata": {},
   "outputs": [],
   "source": [
    "# Create array values for non binary categorical columns\n",
    "def create_array(column):\n",
    "    enc = OneHotEncoder(handle_unknown = 'error', drop = 'first')\n",
    "    encode = enc.fit_transform(df[[column]]).toarray()\n",
    "    encode_df = pd.DataFrame(index = df['skuId'], data = encode)\n",
    "    encode_df[column] = encode_df.apply(lambda x: tuple(x), axis =1).apply(np.array)\n",
    "    encode_df = encode_df[[column]]\n",
    "    return encode_df"
   ]
  },
  {
   "cell_type": "code",
   "execution_count": 10,
   "metadata": {},
   "outputs": [],
   "source": [
    "# category = create_array('category')\n",
    "\n",
    "# brand_name = create_array('brand_name')\n",
    "\n",
    "# df = pd.merge(left = df, right = category, how = 'inner', left_on = 'skuId', right_index = True)\n",
    "\n",
    "# df = pd.merge(left = df, right = brand_name, how = 'inner', left_on = 'skuId', right_index = True)\n",
    "\n",
    "# df_dummies = df.drop(columns = ['brand_name_x', 'category_x', 'skuType'])\n",
    "\n",
    "# df_dummies.fillna(0, inplace = True)"
   ]
  },
  {
   "cell_type": "code",
   "execution_count": 11,
   "metadata": {},
   "outputs": [],
   "source": [
    "# df_dummies.drop(columns = 'skuType', inplace = True)"
   ]
  },
  {
   "cell_type": "code",
   "execution_count": null,
   "metadata": {},
   "outputs": [],
   "source": []
  }
 ],
 "metadata": {
  "kernelspec": {
   "display_name": "Python 3",
   "language": "python",
   "name": "python3"
  },
  "language_info": {
   "codemirror_mode": {
    "name": "ipython",
    "version": 3
   },
   "file_extension": ".py",
   "mimetype": "text/x-python",
   "name": "python",
   "nbconvert_exporter": "python",
   "pygments_lexer": "ipython3",
   "version": "3.7.3"
  }
 },
 "nbformat": 4,
 "nbformat_minor": 2
}
