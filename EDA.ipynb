{
 "cells": [
  {
   "cell_type": "markdown",
   "metadata": {},
   "source": [
    "# EDA"
   ]
  },
  {
   "cell_type": "code",
   "execution_count": 220,
   "metadata": {},
   "outputs": [],
   "source": [
    "import pandas as pd\n",
    "import numpy as np\n",
    "\n",
    "import matplotlib.pyplot as plt\n",
    "import seaborn as sns \n",
    "\n",
    "from nltk.stem import WordNetLemmatizer\n",
    "from nltk.stem.porter import PorterStemmer\n",
    "from nltk.tokenize import RegexpTokenizer\n",
    "from nltk.corpus import stopwords\n",
    "from nltk.classify import NaiveBayesClassifier\n",
    "from nltk.corpus import subjectivity\n",
    "from nltk.sentiment import SentimentAnalyzer\n",
    "from nltk.sentiment.util import *\n",
    "from nltk.sentiment.vader import SentimentIntensityAnalyzer\n",
    "\n",
    "from sklearn.feature_extraction.text import CountVectorizer, TfidfVectorizer\n",
    "\n",
    "import regex as re"
   ]
  },
  {
   "cell_type": "markdown",
   "metadata": {},
   "source": [
    "Load datasets"
   ]
  },
  {
   "cell_type": "code",
   "execution_count": 178,
   "metadata": {},
   "outputs": [],
   "source": [
    "products = pd.read_csv('datasets_clean/df_products_clean.csv')\n",
    "ratings = pd.read_csv('datasets_clean/df_ratings_clean.csv')\n",
    "summaries = pd.read_csv('datasets_clean/df_summaries_clean.csv')\n",
    "reviews = pd.read_csv('datasets_clean/df_reviews_clean.csv')"
   ]
  },
  {
   "cell_type": "markdown",
   "metadata": {},
   "source": [
    "### Products"
   ]
  },
  {
   "cell_type": "code",
   "execution_count": 6,
   "metadata": {},
   "outputs": [],
   "source": [
    "# Create separate dataframes for sale and regular priced products for easier comparison\n",
    "sale_prod = products[products['target'] == 1]\n",
    "reg_prod = products[products['target'] == 0]"
   ]
  },
  {
   "cell_type": "code",
   "execution_count": 7,
   "metadata": {},
   "outputs": [
    {
     "data": {
      "text/html": [
       "<div>\n",
       "<style scoped>\n",
       "    .dataframe tbody tr th:only-of-type {\n",
       "        vertical-align: middle;\n",
       "    }\n",
       "\n",
       "    .dataframe tbody tr th {\n",
       "        vertical-align: top;\n",
       "    }\n",
       "\n",
       "    .dataframe thead th {\n",
       "        text-align: right;\n",
       "    }\n",
       "</style>\n",
       "<table border=\"1\" class=\"dataframe\">\n",
       "  <thead>\n",
       "    <tr style=\"text-align: right;\">\n",
       "      <th></th>\n",
       "      <th>listPrice</th>\n",
       "      <th>salePrice</th>\n",
       "      <th>skuId</th>\n",
       "      <th>review_count</th>\n",
       "      <th>target</th>\n",
       "    </tr>\n",
       "  </thead>\n",
       "  <tbody>\n",
       "    <tr>\n",
       "      <th>count</th>\n",
       "      <td>185.000000</td>\n",
       "      <td>185.000000</td>\n",
       "      <td>1.850000e+02</td>\n",
       "      <td>185.000000</td>\n",
       "      <td>185.0</td>\n",
       "    </tr>\n",
       "    <tr>\n",
       "      <th>mean</th>\n",
       "      <td>30.170270</td>\n",
       "      <td>18.009730</td>\n",
       "      <td>1.935692e+06</td>\n",
       "      <td>37.318919</td>\n",
       "      <td>1.0</td>\n",
       "    </tr>\n",
       "    <tr>\n",
       "      <th>std</th>\n",
       "      <td>18.926616</td>\n",
       "      <td>14.165534</td>\n",
       "      <td>1.601297e+05</td>\n",
       "      <td>118.952497</td>\n",
       "      <td>0.0</td>\n",
       "    </tr>\n",
       "    <tr>\n",
       "      <th>min</th>\n",
       "      <td>6.000000</td>\n",
       "      <td>3.000000</td>\n",
       "      <td>1.359850e+06</td>\n",
       "      <td>1.000000</td>\n",
       "      <td>1.0</td>\n",
       "    </tr>\n",
       "    <tr>\n",
       "      <th>25%</th>\n",
       "      <td>20.000000</td>\n",
       "      <td>10.000000</td>\n",
       "      <td>1.805563e+06</td>\n",
       "      <td>1.000000</td>\n",
       "      <td>1.0</td>\n",
       "    </tr>\n",
       "    <tr>\n",
       "      <th>50%</th>\n",
       "      <td>27.000000</td>\n",
       "      <td>15.000000</td>\n",
       "      <td>1.935576e+06</td>\n",
       "      <td>5.000000</td>\n",
       "      <td>1.0</td>\n",
       "    </tr>\n",
       "    <tr>\n",
       "      <th>75%</th>\n",
       "      <td>38.000000</td>\n",
       "      <td>21.750000</td>\n",
       "      <td>2.071439e+06</td>\n",
       "      <td>23.000000</td>\n",
       "      <td>1.0</td>\n",
       "    </tr>\n",
       "    <tr>\n",
       "      <th>max</th>\n",
       "      <td>149.000000</td>\n",
       "      <td>105.000000</td>\n",
       "      <td>2.226785e+06</td>\n",
       "      <td>984.000000</td>\n",
       "      <td>1.0</td>\n",
       "    </tr>\n",
       "  </tbody>\n",
       "</table>\n",
       "</div>"
      ],
      "text/plain": [
       "        listPrice   salePrice         skuId  review_count  target\n",
       "count  185.000000  185.000000  1.850000e+02    185.000000   185.0\n",
       "mean    30.170270   18.009730  1.935692e+06     37.318919     1.0\n",
       "std     18.926616   14.165534  1.601297e+05    118.952497     0.0\n",
       "min      6.000000    3.000000  1.359850e+06      1.000000     1.0\n",
       "25%     20.000000   10.000000  1.805563e+06      1.000000     1.0\n",
       "50%     27.000000   15.000000  1.935576e+06      5.000000     1.0\n",
       "75%     38.000000   21.750000  2.071439e+06     23.000000     1.0\n",
       "max    149.000000  105.000000  2.226785e+06    984.000000     1.0"
      ]
     },
     "execution_count": 7,
     "metadata": {},
     "output_type": "execute_result"
    }
   ],
   "source": [
    "sale_prod.describe()"
   ]
  },
  {
   "cell_type": "code",
   "execution_count": 8,
   "metadata": {},
   "outputs": [
    {
     "data": {
      "text/html": [
       "<div>\n",
       "<style scoped>\n",
       "    .dataframe tbody tr th:only-of-type {\n",
       "        vertical-align: middle;\n",
       "    }\n",
       "\n",
       "    .dataframe tbody tr th {\n",
       "        vertical-align: top;\n",
       "    }\n",
       "\n",
       "    .dataframe thead th {\n",
       "        text-align: right;\n",
       "    }\n",
       "</style>\n",
       "<table border=\"1\" class=\"dataframe\">\n",
       "  <thead>\n",
       "    <tr style=\"text-align: right;\">\n",
       "      <th></th>\n",
       "      <th>listPrice</th>\n",
       "      <th>salePrice</th>\n",
       "      <th>skuId</th>\n",
       "      <th>review_count</th>\n",
       "      <th>target</th>\n",
       "    </tr>\n",
       "  </thead>\n",
       "  <tbody>\n",
       "    <tr>\n",
       "      <th>count</th>\n",
       "      <td>3349.000000</td>\n",
       "      <td>3349.0</td>\n",
       "      <td>3.349000e+03</td>\n",
       "      <td>3349.000000</td>\n",
       "      <td>3349.0</td>\n",
       "    </tr>\n",
       "    <tr>\n",
       "      <th>mean</th>\n",
       "      <td>35.671335</td>\n",
       "      <td>0.0</td>\n",
       "      <td>1.919525e+06</td>\n",
       "      <td>102.031353</td>\n",
       "      <td>0.0</td>\n",
       "    </tr>\n",
       "    <tr>\n",
       "      <th>std</th>\n",
       "      <td>23.486541</td>\n",
       "      <td>0.0</td>\n",
       "      <td>3.466956e+05</td>\n",
       "      <td>289.900479</td>\n",
       "      <td>0.0</td>\n",
       "    </tr>\n",
       "    <tr>\n",
       "      <th>min</th>\n",
       "      <td>2.000000</td>\n",
       "      <td>0.0</td>\n",
       "      <td>4.857900e+04</td>\n",
       "      <td>1.000000</td>\n",
       "      <td>0.0</td>\n",
       "    </tr>\n",
       "    <tr>\n",
       "      <th>25%</th>\n",
       "      <td>24.000000</td>\n",
       "      <td>0.0</td>\n",
       "      <td>1.813229e+06</td>\n",
       "      <td>1.000000</td>\n",
       "      <td>0.0</td>\n",
       "    </tr>\n",
       "    <tr>\n",
       "      <th>50%</th>\n",
       "      <td>30.000000</td>\n",
       "      <td>0.0</td>\n",
       "      <td>2.016699e+06</td>\n",
       "      <td>7.000000</td>\n",
       "      <td>0.0</td>\n",
       "    </tr>\n",
       "    <tr>\n",
       "      <th>75%</th>\n",
       "      <td>42.000000</td>\n",
       "      <td>0.0</td>\n",
       "      <td>2.166403e+06</td>\n",
       "      <td>68.000000</td>\n",
       "      <td>0.0</td>\n",
       "    </tr>\n",
       "    <tr>\n",
       "      <th>max</th>\n",
       "      <td>270.000000</td>\n",
       "      <td>0.0</td>\n",
       "      <td>2.282051e+06</td>\n",
       "      <td>3883.000000</td>\n",
       "      <td>0.0</td>\n",
       "    </tr>\n",
       "  </tbody>\n",
       "</table>\n",
       "</div>"
      ],
      "text/plain": [
       "         listPrice  salePrice         skuId  review_count  target\n",
       "count  3349.000000     3349.0  3.349000e+03   3349.000000  3349.0\n",
       "mean     35.671335        0.0  1.919525e+06    102.031353     0.0\n",
       "std      23.486541        0.0  3.466956e+05    289.900479     0.0\n",
       "min       2.000000        0.0  4.857900e+04      1.000000     0.0\n",
       "25%      24.000000        0.0  1.813229e+06      1.000000     0.0\n",
       "50%      30.000000        0.0  2.016699e+06      7.000000     0.0\n",
       "75%      42.000000        0.0  2.166403e+06     68.000000     0.0\n",
       "max     270.000000        0.0  2.282051e+06   3883.000000     0.0"
      ]
     },
     "execution_count": 8,
     "metadata": {},
     "output_type": "execute_result"
    }
   ],
   "source": [
    "reg_prod.describe()"
   ]
  },
  {
   "cell_type": "markdown",
   "metadata": {},
   "source": [
    "From the makeup products only on Sephora, there are a total of 3,534 products. Of those 3,534 products, 185 are on sale. This makes up only 5% of the total products.  \n",
    "  \n",
    "The average prices for sale products were less than those that were regularly priced. However, the median was more similar with median sale prices being 27 dollars and median regular sitting at 30 dollars."
   ]
  },
  {
   "cell_type": "code",
   "execution_count": 9,
   "metadata": {},
   "outputs": [],
   "source": [
    "spc = pd.DataFrame(sale_prod['category'].value_counts())"
   ]
  },
  {
   "cell_type": "code",
   "execution_count": 10,
   "metadata": {},
   "outputs": [],
   "source": [
    "rpc = reg_prod['category'].value_counts()"
   ]
  },
  {
   "cell_type": "code",
   "execution_count": 11,
   "metadata": {},
   "outputs": [],
   "source": [
    "c_count = pd.merge(left = spc, right = rpc, how = 'right', left_on = spc.index, right_on = rpc.index)\n",
    "c_count.fillna(0, inplace = True)"
   ]
  },
  {
   "cell_type": "code",
   "execution_count": 12,
   "metadata": {},
   "outputs": [],
   "source": [
    "c_count['pct_sale'] = np.round(c_count['category_x']/c_count['category_y'],2)"
   ]
  },
  {
   "cell_type": "code",
   "execution_count": 13,
   "metadata": {},
   "outputs": [
    {
     "data": {
      "text/html": [
       "<div>\n",
       "<style scoped>\n",
       "    .dataframe tbody tr th:only-of-type {\n",
       "        vertical-align: middle;\n",
       "    }\n",
       "\n",
       "    .dataframe tbody tr th {\n",
       "        vertical-align: top;\n",
       "    }\n",
       "\n",
       "    .dataframe thead th {\n",
       "        text-align: right;\n",
       "    }\n",
       "</style>\n",
       "<table border=\"1\" class=\"dataframe\">\n",
       "  <thead>\n",
       "    <tr style=\"text-align: right;\">\n",
       "      <th></th>\n",
       "      <th>key_0</th>\n",
       "      <th>category_x</th>\n",
       "      <th>category_y</th>\n",
       "      <th>pct_sale</th>\n",
       "    </tr>\n",
       "  </thead>\n",
       "  <tbody>\n",
       "    <tr>\n",
       "      <th>16</th>\n",
       "      <td>lip-plumper</td>\n",
       "      <td>4.0</td>\n",
       "      <td>25</td>\n",
       "      <td>0.16</td>\n",
       "    </tr>\n",
       "    <tr>\n",
       "      <th>3</th>\n",
       "      <td>liquid-lipstick</td>\n",
       "      <td>12.0</td>\n",
       "      <td>79</td>\n",
       "      <td>0.15</td>\n",
       "    </tr>\n",
       "    <tr>\n",
       "      <th>7</th>\n",
       "      <td>lip-palettes-gloss-sets</td>\n",
       "      <td>8.0</td>\n",
       "      <td>52</td>\n",
       "      <td>0.15</td>\n",
       "    </tr>\n",
       "    <tr>\n",
       "      <th>13</th>\n",
       "      <td>fake-eyelashes-false-eyelashes</td>\n",
       "      <td>5.0</td>\n",
       "      <td>37</td>\n",
       "      <td>0.14</td>\n",
       "    </tr>\n",
       "    <tr>\n",
       "      <th>12</th>\n",
       "      <td>lip-liner-lip-pencils</td>\n",
       "      <td>6.0</td>\n",
       "      <td>43</td>\n",
       "      <td>0.14</td>\n",
       "    </tr>\n",
       "  </tbody>\n",
       "</table>\n",
       "</div>"
      ],
      "text/plain": [
       "                             key_0  category_x  category_y  pct_sale\n",
       "16                     lip-plumper         4.0          25      0.16\n",
       "3                  liquid-lipstick        12.0          79      0.15\n",
       "7          lip-palettes-gloss-sets         8.0          52      0.15\n",
       "13  fake-eyelashes-false-eyelashes         5.0          37      0.14\n",
       "12           lip-liner-lip-pencils         6.0          43      0.14"
      ]
     },
     "execution_count": 13,
     "metadata": {},
     "output_type": "execute_result"
    }
   ],
   "source": [
    "c_count.sort_values(by = 'pct_sale', ascending = False).head()"
   ]
  },
  {
   "cell_type": "code",
   "execution_count": 14,
   "metadata": {},
   "outputs": [
    {
     "data": {
      "text/html": [
       "<div>\n",
       "<style scoped>\n",
       "    .dataframe tbody tr th:only-of-type {\n",
       "        vertical-align: middle;\n",
       "    }\n",
       "\n",
       "    .dataframe tbody tr th {\n",
       "        vertical-align: top;\n",
       "    }\n",
       "\n",
       "    .dataframe thead th {\n",
       "        text-align: right;\n",
       "    }\n",
       "</style>\n",
       "<table border=\"1\" class=\"dataframe\">\n",
       "  <thead>\n",
       "    <tr style=\"text-align: right;\">\n",
       "      <th></th>\n",
       "      <th>key_0</th>\n",
       "      <th>category_x</th>\n",
       "      <th>category_y</th>\n",
       "      <th>pct_sale</th>\n",
       "    </tr>\n",
       "  </thead>\n",
       "  <tbody>\n",
       "    <tr>\n",
       "      <th>0</th>\n",
       "      <td>lipstick</td>\n",
       "      <td>25.0</td>\n",
       "      <td>268</td>\n",
       "      <td>0.09</td>\n",
       "    </tr>\n",
       "    <tr>\n",
       "      <th>1</th>\n",
       "      <td>luminizer-luminous-makeup</td>\n",
       "      <td>20.0</td>\n",
       "      <td>232</td>\n",
       "      <td>0.09</td>\n",
       "    </tr>\n",
       "    <tr>\n",
       "      <th>2</th>\n",
       "      <td>eyeshadow</td>\n",
       "      <td>16.0</td>\n",
       "      <td>276</td>\n",
       "      <td>0.06</td>\n",
       "    </tr>\n",
       "    <tr>\n",
       "      <th>3</th>\n",
       "      <td>liquid-lipstick</td>\n",
       "      <td>12.0</td>\n",
       "      <td>79</td>\n",
       "      <td>0.15</td>\n",
       "    </tr>\n",
       "    <tr>\n",
       "      <th>4</th>\n",
       "      <td>eyeshadow-palettes</td>\n",
       "      <td>11.0</td>\n",
       "      <td>208</td>\n",
       "      <td>0.05</td>\n",
       "    </tr>\n",
       "  </tbody>\n",
       "</table>\n",
       "</div>"
      ],
      "text/plain": [
       "                       key_0  category_x  category_y  pct_sale\n",
       "0                   lipstick        25.0         268      0.09\n",
       "1  luminizer-luminous-makeup        20.0         232      0.09\n",
       "2                  eyeshadow        16.0         276      0.06\n",
       "3            liquid-lipstick        12.0          79      0.15\n",
       "4         eyeshadow-palettes        11.0         208      0.05"
      ]
     },
     "execution_count": 14,
     "metadata": {},
     "output_type": "execute_result"
    }
   ],
   "source": [
    "# Sale priced makeup count by descending \n",
    "c_count.sort_values(by = 'category_x', ascending = False).head()"
   ]
  },
  {
   "cell_type": "code",
   "execution_count": 15,
   "metadata": {},
   "outputs": [
    {
     "data": {
      "text/html": [
       "<div>\n",
       "<style scoped>\n",
       "    .dataframe tbody tr th:only-of-type {\n",
       "        vertical-align: middle;\n",
       "    }\n",
       "\n",
       "    .dataframe tbody tr th {\n",
       "        vertical-align: top;\n",
       "    }\n",
       "\n",
       "    .dataframe thead th {\n",
       "        text-align: right;\n",
       "    }\n",
       "</style>\n",
       "<table border=\"1\" class=\"dataframe\">\n",
       "  <thead>\n",
       "    <tr style=\"text-align: right;\">\n",
       "      <th></th>\n",
       "      <th>key_0</th>\n",
       "      <th>category_x</th>\n",
       "      <th>category_y</th>\n",
       "      <th>pct_sale</th>\n",
       "    </tr>\n",
       "  </thead>\n",
       "  <tbody>\n",
       "    <tr>\n",
       "      <th>2</th>\n",
       "      <td>eyeshadow</td>\n",
       "      <td>16.0</td>\n",
       "      <td>276</td>\n",
       "      <td>0.06</td>\n",
       "    </tr>\n",
       "    <tr>\n",
       "      <th>0</th>\n",
       "      <td>lipstick</td>\n",
       "      <td>25.0</td>\n",
       "      <td>268</td>\n",
       "      <td>0.09</td>\n",
       "    </tr>\n",
       "    <tr>\n",
       "      <th>1</th>\n",
       "      <td>luminizer-luminous-makeup</td>\n",
       "      <td>20.0</td>\n",
       "      <td>232</td>\n",
       "      <td>0.09</td>\n",
       "    </tr>\n",
       "    <tr>\n",
       "      <th>20</th>\n",
       "      <td>foundation-makeup</td>\n",
       "      <td>3.0</td>\n",
       "      <td>213</td>\n",
       "      <td>0.01</td>\n",
       "    </tr>\n",
       "    <tr>\n",
       "      <th>4</th>\n",
       "      <td>eyeshadow-palettes</td>\n",
       "      <td>11.0</td>\n",
       "      <td>208</td>\n",
       "      <td>0.05</td>\n",
       "    </tr>\n",
       "  </tbody>\n",
       "</table>\n",
       "</div>"
      ],
      "text/plain": [
       "                        key_0  category_x  category_y  pct_sale\n",
       "2                   eyeshadow        16.0         276      0.06\n",
       "0                    lipstick        25.0         268      0.09\n",
       "1   luminizer-luminous-makeup        20.0         232      0.09\n",
       "20          foundation-makeup         3.0         213      0.01\n",
       "4          eyeshadow-palettes        11.0         208      0.05"
      ]
     },
     "execution_count": 15,
     "metadata": {},
     "output_type": "execute_result"
    }
   ],
   "source": [
    "# Regular priced makeup count by descending \n",
    "c_count.sort_values(by = 'category_y', ascending = False).head()"
   ]
  },
  {
   "cell_type": "markdown",
   "metadata": {},
   "source": [
    "Unsurprisingly, the most products to go on sale are lipsticks, which also account for the most number of products. It is interesting to note that general lip products consisted of the highest percent of sale products. "
   ]
  },
  {
   "cell_type": "code",
   "execution_count": 129,
   "metadata": {},
   "outputs": [
    {
     "name": "stderr",
     "output_type": "stream",
     "text": [
      "/anaconda3/envs/dsi/lib/python3.7/site-packages/ipykernel_launcher.py:1: SettingWithCopyWarning: \n",
      "A value is trying to be set on a copy of a slice from a DataFrame.\n",
      "Try using .loc[row_indexer,col_indexer] = value instead\n",
      "\n",
      "See the caveats in the documentation: http://pandas.pydata.org/pandas-docs/stable/indexing.html#indexing-view-versus-copy\n",
      "  \"\"\"Entry point for launching an IPython kernel.\n"
     ]
    }
   ],
   "source": [
    "sale_prod['sale_pct'] = np.round(((sale_prod['listPrice'] - sale_prod['salePrice'])/sale_prod['listPrice']),3)*100"
   ]
  },
  {
   "cell_type": "code",
   "execution_count": 130,
   "metadata": {},
   "outputs": [
    {
     "data": {
      "text/html": [
       "<div>\n",
       "<style scoped>\n",
       "    .dataframe tbody tr th:only-of-type {\n",
       "        vertical-align: middle;\n",
       "    }\n",
       "\n",
       "    .dataframe tbody tr th {\n",
       "        vertical-align: top;\n",
       "    }\n",
       "\n",
       "    .dataframe thead th {\n",
       "        text-align: right;\n",
       "    }\n",
       "</style>\n",
       "<table border=\"1\" class=\"dataframe\">\n",
       "  <thead>\n",
       "    <tr style=\"text-align: right;\">\n",
       "      <th></th>\n",
       "      <th>isLimitedEdition</th>\n",
       "      <th>isNew</th>\n",
       "      <th>isOnlineOnly</th>\n",
       "      <th>isSephoraExclusive</th>\n",
       "      <th>listPrice</th>\n",
       "      <th>salePrice</th>\n",
       "      <th>skuId</th>\n",
       "      <th>review_count</th>\n",
       "      <th>target</th>\n",
       "      <th>sale_pct</th>\n",
       "    </tr>\n",
       "    <tr>\n",
       "      <th>category</th>\n",
       "      <th></th>\n",
       "      <th></th>\n",
       "      <th></th>\n",
       "      <th></th>\n",
       "      <th></th>\n",
       "      <th></th>\n",
       "      <th></th>\n",
       "      <th></th>\n",
       "      <th></th>\n",
       "      <th></th>\n",
       "    </tr>\n",
       "  </thead>\n",
       "  <tbody>\n",
       "    <tr>\n",
       "      <th>eyeshadow-primer-eye-primer</th>\n",
       "      <td>0.500000</td>\n",
       "      <td>0.0</td>\n",
       "      <td>0.0</td>\n",
       "      <td>1.00</td>\n",
       "      <td>14.000000</td>\n",
       "      <td>5.000000</td>\n",
       "      <td>1.838969e+06</td>\n",
       "      <td>8.000000</td>\n",
       "      <td>1.0</td>\n",
       "      <td>64.250000</td>\n",
       "    </tr>\n",
       "    <tr>\n",
       "      <th>contour-palette-brush</th>\n",
       "      <td>0.666667</td>\n",
       "      <td>0.0</td>\n",
       "      <td>0.0</td>\n",
       "      <td>1.00</td>\n",
       "      <td>41.333333</td>\n",
       "      <td>20.333333</td>\n",
       "      <td>1.664278e+06</td>\n",
       "      <td>3.666667</td>\n",
       "      <td>1.0</td>\n",
       "      <td>51.266667</td>\n",
       "    </tr>\n",
       "    <tr>\n",
       "      <th>liquid-lipstick</th>\n",
       "      <td>0.333333</td>\n",
       "      <td>0.0</td>\n",
       "      <td>0.0</td>\n",
       "      <td>0.75</td>\n",
       "      <td>21.541667</td>\n",
       "      <td>10.904167</td>\n",
       "      <td>1.957420e+06</td>\n",
       "      <td>85.166667</td>\n",
       "      <td>1.0</td>\n",
       "      <td>50.316667</td>\n",
       "    </tr>\n",
       "    <tr>\n",
       "      <th>bronzer-makeup</th>\n",
       "      <td>0.000000</td>\n",
       "      <td>0.0</td>\n",
       "      <td>0.5</td>\n",
       "      <td>0.50</td>\n",
       "      <td>37.500000</td>\n",
       "      <td>20.000000</td>\n",
       "      <td>1.887702e+06</td>\n",
       "      <td>10.000000</td>\n",
       "      <td>1.0</td>\n",
       "      <td>50.000000</td>\n",
       "    </tr>\n",
       "    <tr>\n",
       "      <th>color-correcting</th>\n",
       "      <td>0.000000</td>\n",
       "      <td>0.0</td>\n",
       "      <td>0.0</td>\n",
       "      <td>1.00</td>\n",
       "      <td>29.750000</td>\n",
       "      <td>14.875000</td>\n",
       "      <td>1.881976e+06</td>\n",
       "      <td>4.500000</td>\n",
       "      <td>1.0</td>\n",
       "      <td>50.000000</td>\n",
       "    </tr>\n",
       "  </tbody>\n",
       "</table>\n",
       "</div>"
      ],
      "text/plain": [
       "                             isLimitedEdition  isNew  isOnlineOnly  \\\n",
       "category                                                             \n",
       "eyeshadow-primer-eye-primer          0.500000    0.0           0.0   \n",
       "contour-palette-brush                0.666667    0.0           0.0   \n",
       "liquid-lipstick                      0.333333    0.0           0.0   \n",
       "bronzer-makeup                       0.000000    0.0           0.5   \n",
       "color-correcting                     0.000000    0.0           0.0   \n",
       "\n",
       "                             isSephoraExclusive  listPrice  salePrice  \\\n",
       "category                                                                \n",
       "eyeshadow-primer-eye-primer                1.00  14.000000   5.000000   \n",
       "contour-palette-brush                      1.00  41.333333  20.333333   \n",
       "liquid-lipstick                            0.75  21.541667  10.904167   \n",
       "bronzer-makeup                             0.50  37.500000  20.000000   \n",
       "color-correcting                           1.00  29.750000  14.875000   \n",
       "\n",
       "                                    skuId  review_count  target   sale_pct  \n",
       "category                                                                    \n",
       "eyeshadow-primer-eye-primer  1.838969e+06      8.000000     1.0  64.250000  \n",
       "contour-palette-brush        1.664278e+06      3.666667     1.0  51.266667  \n",
       "liquid-lipstick              1.957420e+06     85.166667     1.0  50.316667  \n",
       "bronzer-makeup               1.887702e+06     10.000000     1.0  50.000000  \n",
       "color-correcting             1.881976e+06      4.500000     1.0  50.000000  "
      ]
     },
     "execution_count": 130,
     "metadata": {},
     "output_type": "execute_result"
    }
   ],
   "source": [
    "sale_prod.groupby(by = 'category').mean().sort_values('sale_pct', ascending = False).head(5)"
   ]
  },
  {
   "cell_type": "code",
   "execution_count": 131,
   "metadata": {},
   "outputs": [
    {
     "data": {
      "text/html": [
       "<div>\n",
       "<style scoped>\n",
       "    .dataframe tbody tr th:only-of-type {\n",
       "        vertical-align: middle;\n",
       "    }\n",
       "\n",
       "    .dataframe tbody tr th {\n",
       "        vertical-align: top;\n",
       "    }\n",
       "\n",
       "    .dataframe thead th {\n",
       "        text-align: right;\n",
       "    }\n",
       "</style>\n",
       "<table border=\"1\" class=\"dataframe\">\n",
       "  <thead>\n",
       "    <tr style=\"text-align: right;\">\n",
       "      <th></th>\n",
       "      <th>isLimitedEdition</th>\n",
       "      <th>isNew</th>\n",
       "      <th>isOnlineOnly</th>\n",
       "      <th>isSephoraExclusive</th>\n",
       "      <th>listPrice</th>\n",
       "      <th>salePrice</th>\n",
       "      <th>skuId</th>\n",
       "      <th>review_count</th>\n",
       "      <th>target</th>\n",
       "      <th>sale_pct</th>\n",
       "    </tr>\n",
       "    <tr>\n",
       "      <th>category</th>\n",
       "      <th></th>\n",
       "      <th></th>\n",
       "      <th></th>\n",
       "      <th></th>\n",
       "      <th></th>\n",
       "      <th></th>\n",
       "      <th></th>\n",
       "      <th></th>\n",
       "      <th></th>\n",
       "      <th></th>\n",
       "    </tr>\n",
       "  </thead>\n",
       "  <tbody>\n",
       "    <tr>\n",
       "      <th>lip-plumper</th>\n",
       "      <td>0.000</td>\n",
       "      <td>0.0</td>\n",
       "      <td>0.250000</td>\n",
       "      <td>0.750000</td>\n",
       "      <td>21.000000</td>\n",
       "      <td>15.25000</td>\n",
       "      <td>1.912338e+06</td>\n",
       "      <td>5.500000</td>\n",
       "      <td>1.0</td>\n",
       "      <td>27.100000</td>\n",
       "    </tr>\n",
       "    <tr>\n",
       "      <th>lip-balm-treatments-lips-makeup</th>\n",
       "      <td>0.125</td>\n",
       "      <td>0.0</td>\n",
       "      <td>0.375000</td>\n",
       "      <td>0.500000</td>\n",
       "      <td>32.000000</td>\n",
       "      <td>23.16875</td>\n",
       "      <td>1.882576e+06</td>\n",
       "      <td>5.625000</td>\n",
       "      <td>1.0</td>\n",
       "      <td>30.350000</td>\n",
       "    </tr>\n",
       "    <tr>\n",
       "      <th>under-eye-concealer</th>\n",
       "      <td>0.000</td>\n",
       "      <td>0.0</td>\n",
       "      <td>0.000000</td>\n",
       "      <td>0.333333</td>\n",
       "      <td>30.166667</td>\n",
       "      <td>19.75000</td>\n",
       "      <td>1.975177e+06</td>\n",
       "      <td>344.666667</td>\n",
       "      <td>1.0</td>\n",
       "      <td>34.466667</td>\n",
       "    </tr>\n",
       "    <tr>\n",
       "      <th>concealer</th>\n",
       "      <td>0.000</td>\n",
       "      <td>0.0</td>\n",
       "      <td>0.000000</td>\n",
       "      <td>0.400000</td>\n",
       "      <td>31.700000</td>\n",
       "      <td>20.15000</td>\n",
       "      <td>1.887799e+06</td>\n",
       "      <td>222.200000</td>\n",
       "      <td>1.0</td>\n",
       "      <td>36.840000</td>\n",
       "    </tr>\n",
       "    <tr>\n",
       "      <th>foundation-makeup</th>\n",
       "      <td>0.000</td>\n",
       "      <td>0.0</td>\n",
       "      <td>0.333333</td>\n",
       "      <td>0.666667</td>\n",
       "      <td>41.666667</td>\n",
       "      <td>25.50000</td>\n",
       "      <td>1.772903e+06</td>\n",
       "      <td>15.666667</td>\n",
       "      <td>1.0</td>\n",
       "      <td>38.333333</td>\n",
       "    </tr>\n",
       "  </tbody>\n",
       "</table>\n",
       "</div>"
      ],
      "text/plain": [
       "                                 isLimitedEdition  isNew  isOnlineOnly  \\\n",
       "category                                                                 \n",
       "lip-plumper                                 0.000    0.0      0.250000   \n",
       "lip-balm-treatments-lips-makeup             0.125    0.0      0.375000   \n",
       "under-eye-concealer                         0.000    0.0      0.000000   \n",
       "concealer                                   0.000    0.0      0.000000   \n",
       "foundation-makeup                           0.000    0.0      0.333333   \n",
       "\n",
       "                                 isSephoraExclusive  listPrice  salePrice  \\\n",
       "category                                                                    \n",
       "lip-plumper                                0.750000  21.000000   15.25000   \n",
       "lip-balm-treatments-lips-makeup            0.500000  32.000000   23.16875   \n",
       "under-eye-concealer                        0.333333  30.166667   19.75000   \n",
       "concealer                                  0.400000  31.700000   20.15000   \n",
       "foundation-makeup                          0.666667  41.666667   25.50000   \n",
       "\n",
       "                                        skuId  review_count  target   sale_pct  \n",
       "category                                                                        \n",
       "lip-plumper                      1.912338e+06      5.500000     1.0  27.100000  \n",
       "lip-balm-treatments-lips-makeup  1.882576e+06      5.625000     1.0  30.350000  \n",
       "under-eye-concealer              1.975177e+06    344.666667     1.0  34.466667  \n",
       "concealer                        1.887799e+06    222.200000     1.0  36.840000  \n",
       "foundation-makeup                1.772903e+06     15.666667     1.0  38.333333  "
      ]
     },
     "execution_count": 131,
     "metadata": {},
     "output_type": "execute_result"
    }
   ],
   "source": [
    "sale_prod.groupby(by = 'category').mean().sort_values('sale_pct', ascending = True).head(5)"
   ]
  },
  {
   "cell_type": "code",
   "execution_count": 134,
   "metadata": {},
   "outputs": [
    {
     "data": {
      "image/png": "[encoded data removed]",
      "text/plain": [
       "<Figure size 720x720 with 1 Axes>"
      ]
     },
     "metadata": {
      "needs_background": "light"
     },
     "output_type": "display_data"
    }
   ],
   "source": [
    "plt.figure(figsize = (10, 10))\n",
    "sns.barplot(data = sale_prod, y = 'category', x = 'sale_pct', ci = None)\n",
    "plt.title('Average Sale Percent per Category for Sale Items')\n",
    "plt.xlabel('Average Sale Percent (%)');"
   ]
  },
  {
   "cell_type": "markdown",
   "metadata": {},
   "source": [
    "The percent sale of these products could depend on the manufacturing costs as well as contract agreements for certain brands. A lip product is in the top percent change in price. It also happens to be 2nd highest product to go on sale. "
   ]
  },
  {
   "cell_type": "code",
   "execution_count": 118,
   "metadata": {},
   "outputs": [
    {
     "data": {
      "image/png": "[encoded data removed]",
      "text/plain": [
       "<Figure size 1080x792 with 3 Axes>"
      ]
     },
     "metadata": {
      "needs_background": "light"
     },
     "output_type": "display_data"
    },
    {
     "data": {
      "text/plain": [
       "<Figure size 576x1080 with 0 Axes>"
      ]
     },
     "metadata": {},
     "output_type": "display_data"
    }
   ],
   "source": [
    "fig, ax = plt.subplots(nrows = 3, ncols = 1, figsize = (15, 11), sharey = True)\n",
    "plt.subplots_adjust(hspace = 1.5)\n",
    "plt.figure(figsize = (8, 15))\n",
    "\n",
    "sns.barplot(data = products, y = 'listPrice', x = 'category', ci = None, ax = ax[0])\n",
    "ax[0].set_xticklabels(ax[0].get_xticklabels(), rotation = 45)\n",
    "ax[0].set_xlabel('')\n",
    "ax[0].set_ylabel('Average List Price')\n",
    "ax[0].set_title('Average Regular Price for All Items')\n",
    "\n",
    "sns.barplot(data = reg_prod, y = 'listPrice', x = 'category', ci = None, ax = ax[1])\n",
    "ax[1].set_xticklabels(ax[1].get_xticklabels(), rotation = 45)\n",
    "ax[1].set_xlabel('')\n",
    "ax[1].set_ylabel('Average List Price')\n",
    "ax[1].set_title('Average Regular Price for Regular Items')\n",
    "\n",
    "sns.barplot(data = sale_prod, y = 'listPrice', x = 'category', ci = None, ax = ax[2])\n",
    "ax[2].set_xticklabels(ax[2].get_xticklabels(), rotation = 45)\n",
    "ax[2].set_ylabel('Average List Price')\n",
    "ax[2].set_title('Average Regular Price for Sale Items')\n",
    "\n",
    "\n",
    "for label in ax[0].get_xticklabels():\n",
    "    label.set_horizontalalignment('right')\n",
    "    \n",
    "for label in ax[1].get_xticklabels():\n",
    "    label.set_horizontalalignment('right')\n",
    "    \n",
    "for label in ax[2].get_xticklabels():\n",
    "    label.set_horizontalalignment('right')\n",
    "# fig.xticks(rotation = 45)"
   ]
  },
  {
   "cell_type": "code",
   "execution_count": 88,
   "metadata": {},
   "outputs": [
    {
     "data": {
      "text/plain": [
       "Text(0.5, 1.0, 'Average Regular Price for Sale Items')"
      ]
     },
     "execution_count": 88,
     "metadata": {},
     "output_type": "execute_result"
    },
    {
     "data": {
      "image/png": "[encoded data removed]",
      "text/plain": [
       "<Figure size 1080x792 with 3 Axes>"
      ]
     },
     "metadata": {
      "needs_background": "light"
     },
     "output_type": "display_data"
    },
    {
     "data": {
      "text/plain": [
       "<Figure size 1080x720 with 0 Axes>"
      ]
     },
     "metadata": {},
     "output_type": "display_data"
    }
   ],
   "source": [
    "fig, ax = plt.subplots(nrows = 1, ncols = 3, figsize = (15, 11), sharex = True)\n",
    "plt.subplots_adjust(wspace = 1.2)\n",
    "plt.figure(figsize = (15, 10))\n",
    "sns.barplot(data = products, x = 'listPrice', y = 'category', ci = None, ax = ax[0])\n",
    "ax[0].set_ylabel('Category')\n",
    "ax[0].set_xlabel('Average List Price')\n",
    "ax[0].set_title('Average Regular Price for All Items')\n",
    "\n",
    "sns.barplot(data = reg_prod, x = 'listPrice', y = 'category', ci = None, ax = ax[1])\n",
    "ax[1].set_ylabel('')\n",
    "ax[1].set_xlabel('Average List Price')\n",
    "ax[1].set_title('Average Regular Price for Regular Items')\n",
    "\n",
    "sns.barplot(data = sale_prod, x = 'listPrice', y = 'category', ci = None, ax = ax[2])\n",
    "ax[2].set_ylabel('')\n",
    "ax[2].set_xlabel('Average List Price')\n",
    "ax[2].set_title('Average Regular Price for Sale Items')\n",
    "\n"
   ]
  },
  {
   "cell_type": "code",
   "execution_count": 67,
   "metadata": {},
   "outputs": [
    {
     "data": {
      "image/png": "[encoded data removed]",
      "text/plain": [
       "<Figure size 1080x792 with 2 Axes>"
      ]
     },
     "metadata": {
      "needs_background": "light"
     },
     "output_type": "display_data"
    },
    {
     "data": {
      "text/plain": [
       "<Figure size 468x468 with 0 Axes>"
      ]
     },
     "metadata": {},
     "output_type": "display_data"
    }
   ],
   "source": [
    "fig, axes = plt.subplots(nrows = 1, ncols = 2, figsize = (15, 11), sharex = True)\n",
    "plt.subplots_adjust(wspace = .75)\n",
    "plt.figure(figsize = (6.5,6.5))\n",
    "sns.barplot(data = sale_prod, x = 'listPrice', y = 'category', alpha = .5, ci = None, ax = axes[1])\n",
    "axes[0].set_title('List Price for Sale Items')\n",
    "sns.barplot(data = sale_prod, x = 'salePrice', y = 'category', alpha = .5, ci = None, ax = axes[0])\n",
    "axes[1].set_title('Sale Price for Sale Items');"
   ]
  },
  {
   "cell_type": "code",
   "execution_count": 70,
   "metadata": {},
   "outputs": [
    {
     "data": {
      "image/png": "[encoded data removed]",
      "text/plain": [
       "<Figure size 1080x792 with 2 Axes>"
      ]
     },
     "metadata": {
      "needs_background": "light"
     },
     "output_type": "display_data"
    },
    {
     "data": {
      "text/plain": [
       "<Figure size 468x468 with 0 Axes>"
      ]
     },
     "metadata": {},
     "output_type": "display_data"
    }
   ],
   "source": [
    "fig, axes = plt.subplots(nrows = 1, ncols = 2, figsize = (15, 11))\n",
    "plt.subplots_adjust(wspace = .75)\n",
    "plt.figure(figsize = (6.5,6.5))\n",
    "sns.countplot(data = reg_prod, y = 'category', ax = axes[0])\n",
    "axes[0].set_title('Regular Products')\n",
    "sns.countplot(data = sale_prod, y = 'category', ax = axes[1])\n",
    "axes[1].set_title('Sale Products');"
   ]
  },
  {
   "cell_type": "code",
   "execution_count": 71,
   "metadata": {},
   "outputs": [
    {
     "data": {
      "image/png": "[encoded data removed]",
      "text/plain": [
       "<Figure size 1080x792 with 2 Axes>"
      ]
     },
     "metadata": {
      "needs_background": "light"
     },
     "output_type": "display_data"
    },
    {
     "data": {
      "text/plain": [
       "<Figure size 468x468 with 0 Axes>"
      ]
     },
     "metadata": {},
     "output_type": "display_data"
    }
   ],
   "source": [
    "# X-axis on the same scale\n",
    "fig, axes = plt.subplots(nrows = 1, ncols = 2, figsize = (15, 11), sharex = True)\n",
    "plt.subplots_adjust(wspace = .75)\n",
    "plt.figure(figsize = (6.5,6.5))\n",
    "sns.countplot(data = reg_prod, y = 'category', ax = axes[0])\n",
    "axes[0].set_title('Regular Products')\n",
    "sns.countplot(data = sale_prod, y = 'category', ax = axes[1])\n",
    "axes[1].set_title('Sale Products');"
   ]
  },
  {
   "cell_type": "markdown",
   "metadata": {},
   "source": [
    "##### More EDA on Sale items.."
   ]
  },
  {
   "cell_type": "code",
   "execution_count": 148,
   "metadata": {},
   "outputs": [
    {
     "data": {
      "text/plain": [
       "False    185\n",
       "Name: isNew, dtype: int64"
      ]
     },
     "execution_count": 148,
     "metadata": {},
     "output_type": "execute_result"
    }
   ],
   "source": [
    "sale_prod['isNew'].value_counts()"
   ]
  },
  {
   "cell_type": "code",
   "execution_count": 161,
   "metadata": {},
   "outputs": [
    {
     "data": {
      "text/plain": [
       "SEPHORA COLLECTION         0.281081\n",
       "Black Up                   0.081081\n",
       "FENTY BEAUTY by Rihanna    0.081081\n",
       "Kat Von D                  0.075676\n",
       "MAKE UP FOR EVER           0.059459\n",
       "Name: brand_name, dtype: float64"
      ]
     },
     "execution_count": 161,
     "metadata": {},
     "output_type": "execute_result"
    }
   ],
   "source": [
    "sale_prod['brand_name'].value_counts()[0:5]/len(sale_prod['brand_name'])"
   ]
  },
  {
   "cell_type": "code",
   "execution_count": 159,
   "metadata": {},
   "outputs": [
    {
     "data": {
      "text/plain": [
       "(5.856, 34.6]     0.708108\n",
       "(34.6, 63.2]      0.264865\n",
       "(91.8, 120.4]     0.016216\n",
       "(120.4, 149.0]    0.010811\n",
       "(63.2, 91.8]      0.000000\n",
       "Name: listPrice, dtype: float64"
      ]
     },
     "execution_count": 159,
     "metadata": {},
     "output_type": "execute_result"
    }
   ],
   "source": [
    "sale_prod['listPrice'].value_counts(bins = 5).sort_values(ascending = False)/len(sale_prod['listPrice'])"
   ]
  },
  {
   "cell_type": "code",
   "execution_count": 163,
   "metadata": {},
   "outputs": [
    {
     "data": {
      "text/plain": [
       "(1.731, 35.5]     0.617498\n",
       "(35.5, 69.0]      0.338609\n",
       "(69.0, 102.5]     0.025082\n",
       "(102.5, 136.0]    0.009555\n",
       "(136.0, 169.5]    0.003882\n",
       "(203.0, 236.5]    0.003285\n",
       "(236.5, 270.0]    0.001493\n",
       "(169.5, 203.0]    0.000597\n",
       "Name: listPrice, dtype: float64"
      ]
     },
     "execution_count": 163,
     "metadata": {},
     "output_type": "execute_result"
    }
   ],
   "source": [
    "reg_prod['listPrice'].value_counts(bins = 8).sort_values(ascending = False)/len(reg_prod['listPrice'])"
   ]
  },
  {
   "cell_type": "code",
   "execution_count": 160,
   "metadata": {},
   "outputs": [
    {
     "data": {
      "text/plain": [
       "(2.8970000000000002, 23.4]    0.794595\n",
       "(23.4, 43.8]                  0.178378\n",
       "(64.2, 84.6]                  0.016216\n",
       "(84.6, 105.0]                 0.010811\n",
       "(43.8, 64.2]                  0.000000\n",
       "Name: salePrice, dtype: float64"
      ]
     },
     "execution_count": 160,
     "metadata": {},
     "output_type": "execute_result"
    }
   ],
   "source": [
    "sale_prod['salePrice'].value_counts(bins = 5).sort_values(ascending = False)/len(sale_prod['salePrice'])"
   ]
  },
  {
   "cell_type": "markdown",
   "metadata": {},
   "source": [
    "- There were no new products that were put on sale. This makes sense.   \n",
    "- The brand name that went on sale the most was Sephora's in house brand, the Sephora Collection. It would be the easiest to put their in house items on sale most frequently as they are not bound by any contracts. Also, there might be lots of inventory for their in house products.   \n",
    "- Surprisingly, it looks as though price did not contribute much to whether an item goes on sale. The regular prices for sale items mostly fell under 63 dollars. Most non-sale items' regular prices also fell under 69 dollars.   \n",
    "- Almost all items that went on sale had a sale price under 44 dollars."
   ]
  },
  {
   "cell_type": "code",
   "execution_count": 187,
   "metadata": {},
   "outputs": [
    {
     "data": {
      "text/html": [
       "<div>\n",
       "<style scoped>\n",
       "    .dataframe tbody tr th:only-of-type {\n",
       "        vertical-align: middle;\n",
       "    }\n",
       "\n",
       "    .dataframe tbody tr th {\n",
       "        vertical-align: top;\n",
       "    }\n",
       "\n",
       "    .dataframe thead th {\n",
       "        text-align: right;\n",
       "    }\n",
       "</style>\n",
       "<table border=\"1\" class=\"dataframe\">\n",
       "  <thead>\n",
       "    <tr style=\"text-align: right;\">\n",
       "      <th></th>\n",
       "      <th>isLimitedEdition</th>\n",
       "      <th>isNew</th>\n",
       "      <th>isOnlineOnly</th>\n",
       "      <th>isSephoraExclusive</th>\n",
       "      <th>listPrice</th>\n",
       "      <th>salePrice</th>\n",
       "      <th>skuId</th>\n",
       "      <th>review_count</th>\n",
       "      <th>target</th>\n",
       "      <th>sale_pct</th>\n",
       "    </tr>\n",
       "  </thead>\n",
       "  <tbody>\n",
       "    <tr>\n",
       "      <th>isLimitedEdition</th>\n",
       "      <td>1.000000</td>\n",
       "      <td>NaN</td>\n",
       "      <td>-0.174229</td>\n",
       "      <td>0.369534</td>\n",
       "      <td>0.202474</td>\n",
       "      <td>0.141921</td>\n",
       "      <td>0.295724</td>\n",
       "      <td>-0.142754</td>\n",
       "      <td>NaN</td>\n",
       "      <td>0.106143</td>\n",
       "    </tr>\n",
       "    <tr>\n",
       "      <th>isNew</th>\n",
       "      <td>NaN</td>\n",
       "      <td>NaN</td>\n",
       "      <td>NaN</td>\n",
       "      <td>NaN</td>\n",
       "      <td>NaN</td>\n",
       "      <td>NaN</td>\n",
       "      <td>NaN</td>\n",
       "      <td>NaN</td>\n",
       "      <td>NaN</td>\n",
       "      <td>NaN</td>\n",
       "    </tr>\n",
       "    <tr>\n",
       "      <th>isOnlineOnly</th>\n",
       "      <td>-0.174229</td>\n",
       "      <td>NaN</td>\n",
       "      <td>1.000000</td>\n",
       "      <td>-0.356647</td>\n",
       "      <td>0.421093</td>\n",
       "      <td>0.499424</td>\n",
       "      <td>0.093008</td>\n",
       "      <td>-0.086338</td>\n",
       "      <td>NaN</td>\n",
       "      <td>-0.369844</td>\n",
       "    </tr>\n",
       "    <tr>\n",
       "      <th>isSephoraExclusive</th>\n",
       "      <td>0.369534</td>\n",
       "      <td>NaN</td>\n",
       "      <td>-0.356647</td>\n",
       "      <td>1.000000</td>\n",
       "      <td>-0.084859</td>\n",
       "      <td>-0.150774</td>\n",
       "      <td>-0.057331</td>\n",
       "      <td>-0.131464</td>\n",
       "      <td>NaN</td>\n",
       "      <td>0.299309</td>\n",
       "    </tr>\n",
       "    <tr>\n",
       "      <th>listPrice</th>\n",
       "      <td>0.202474</td>\n",
       "      <td>NaN</td>\n",
       "      <td>0.421093</td>\n",
       "      <td>-0.084859</td>\n",
       "      <td>1.000000</td>\n",
       "      <td>0.964979</td>\n",
       "      <td>0.196668</td>\n",
       "      <td>-0.094166</td>\n",
       "      <td>NaN</td>\n",
       "      <td>-0.272542</td>\n",
       "    </tr>\n",
       "    <tr>\n",
       "      <th>salePrice</th>\n",
       "      <td>0.141921</td>\n",
       "      <td>NaN</td>\n",
       "      <td>0.499424</td>\n",
       "      <td>-0.150774</td>\n",
       "      <td>0.964979</td>\n",
       "      <td>1.000000</td>\n",
       "      <td>0.228984</td>\n",
       "      <td>-0.061326</td>\n",
       "      <td>NaN</td>\n",
       "      <td>-0.474110</td>\n",
       "    </tr>\n",
       "    <tr>\n",
       "      <th>skuId</th>\n",
       "      <td>0.295724</td>\n",
       "      <td>NaN</td>\n",
       "      <td>0.093008</td>\n",
       "      <td>-0.057331</td>\n",
       "      <td>0.196668</td>\n",
       "      <td>0.228984</td>\n",
       "      <td>1.000000</td>\n",
       "      <td>0.050459</td>\n",
       "      <td>NaN</td>\n",
       "      <td>-0.250064</td>\n",
       "    </tr>\n",
       "    <tr>\n",
       "      <th>review_count</th>\n",
       "      <td>-0.142754</td>\n",
       "      <td>NaN</td>\n",
       "      <td>-0.086338</td>\n",
       "      <td>-0.131464</td>\n",
       "      <td>-0.094166</td>\n",
       "      <td>-0.061326</td>\n",
       "      <td>0.050459</td>\n",
       "      <td>1.000000</td>\n",
       "      <td>NaN</td>\n",
       "      <td>-0.058459</td>\n",
       "    </tr>\n",
       "    <tr>\n",
       "      <th>target</th>\n",
       "      <td>NaN</td>\n",
       "      <td>NaN</td>\n",
       "      <td>NaN</td>\n",
       "      <td>NaN</td>\n",
       "      <td>NaN</td>\n",
       "      <td>NaN</td>\n",
       "      <td>NaN</td>\n",
       "      <td>NaN</td>\n",
       "      <td>NaN</td>\n",
       "      <td>NaN</td>\n",
       "    </tr>\n",
       "    <tr>\n",
       "      <th>sale_pct</th>\n",
       "      <td>0.106143</td>\n",
       "      <td>NaN</td>\n",
       "      <td>-0.369844</td>\n",
       "      <td>0.299309</td>\n",
       "      <td>-0.272542</td>\n",
       "      <td>-0.474110</td>\n",
       "      <td>-0.250064</td>\n",
       "      <td>-0.058459</td>\n",
       "      <td>NaN</td>\n",
       "      <td>1.000000</td>\n",
       "    </tr>\n",
       "  </tbody>\n",
       "</table>\n",
       "</div>"
      ],
      "text/plain": [
       "                    isLimitedEdition  isNew  isOnlineOnly  isSephoraExclusive  \\\n",
       "isLimitedEdition            1.000000    NaN     -0.174229            0.369534   \n",
       "isNew                            NaN    NaN           NaN                 NaN   \n",
       "isOnlineOnly               -0.174229    NaN      1.000000           -0.356647   \n",
       "isSephoraExclusive          0.369534    NaN     -0.356647            1.000000   \n",
       "listPrice                   0.202474    NaN      0.421093           -0.084859   \n",
       "salePrice                   0.141921    NaN      0.499424           -0.150774   \n",
       "skuId                       0.295724    NaN      0.093008           -0.057331   \n",
       "review_count               -0.142754    NaN     -0.086338           -0.131464   \n",
       "target                           NaN    NaN           NaN                 NaN   \n",
       "sale_pct                    0.106143    NaN     -0.369844            0.299309   \n",
       "\n",
       "                    listPrice  salePrice     skuId  review_count  target  \\\n",
       "isLimitedEdition     0.202474   0.141921  0.295724     -0.142754     NaN   \n",
       "isNew                     NaN        NaN       NaN           NaN     NaN   \n",
       "isOnlineOnly         0.421093   0.499424  0.093008     -0.086338     NaN   \n",
       "isSephoraExclusive  -0.084859  -0.150774 -0.057331     -0.131464     NaN   \n",
       "listPrice            1.000000   0.964979  0.196668     -0.094166     NaN   \n",
       "salePrice            0.964979   1.000000  0.228984     -0.061326     NaN   \n",
       "skuId                0.196668   0.228984  1.000000      0.050459     NaN   \n",
       "review_count        -0.094166  -0.061326  0.050459      1.000000     NaN   \n",
       "target                    NaN        NaN       NaN           NaN     NaN   \n",
       "sale_pct            -0.272542  -0.474110 -0.250064     -0.058459     NaN   \n",
       "\n",
       "                    sale_pct  \n",
       "isLimitedEdition    0.106143  \n",
       "isNew                    NaN  \n",
       "isOnlineOnly       -0.369844  \n",
       "isSephoraExclusive  0.299309  \n",
       "listPrice          -0.272542  \n",
       "salePrice          -0.474110  \n",
       "skuId              -0.250064  \n",
       "review_count       -0.058459  \n",
       "target                   NaN  \n",
       "sale_pct            1.000000  "
      ]
     },
     "execution_count": 187,
     "metadata": {},
     "output_type": "execute_result"
    }
   ],
   "source": [
    "sale_prod.corr()"
   ]
  },
  {
   "cell_type": "code",
   "execution_count": 188,
   "metadata": {},
   "outputs": [
    {
     "data": {
      "text/html": [
       "<div>\n",
       "<style scoped>\n",
       "    .dataframe tbody tr th:only-of-type {\n",
       "        vertical-align: middle;\n",
       "    }\n",
       "\n",
       "    .dataframe tbody tr th {\n",
       "        vertical-align: top;\n",
       "    }\n",
       "\n",
       "    .dataframe thead th {\n",
       "        text-align: right;\n",
       "    }\n",
       "</style>\n",
       "<table border=\"1\" class=\"dataframe\">\n",
       "  <thead>\n",
       "    <tr style=\"text-align: right;\">\n",
       "      <th></th>\n",
       "      <th>isLimitedEdition</th>\n",
       "      <th>isNew</th>\n",
       "      <th>isOnlineOnly</th>\n",
       "      <th>isSephoraExclusive</th>\n",
       "      <th>listPrice</th>\n",
       "      <th>salePrice</th>\n",
       "      <th>skuId</th>\n",
       "      <th>review_count</th>\n",
       "      <th>target</th>\n",
       "    </tr>\n",
       "  </thead>\n",
       "  <tbody>\n",
       "    <tr>\n",
       "      <th>isLimitedEdition</th>\n",
       "      <td>1.000000</td>\n",
       "      <td>0.063146</td>\n",
       "      <td>0.073460</td>\n",
       "      <td>0.222116</td>\n",
       "      <td>0.065770</td>\n",
       "      <td>0.150150</td>\n",
       "      <td>0.231287</td>\n",
       "      <td>-0.116574</td>\n",
       "      <td>0.157341</td>\n",
       "    </tr>\n",
       "    <tr>\n",
       "      <th>isNew</th>\n",
       "      <td>0.063146</td>\n",
       "      <td>1.000000</td>\n",
       "      <td>0.026921</td>\n",
       "      <td>0.045198</td>\n",
       "      <td>-0.030868</td>\n",
       "      <td>-0.046464</td>\n",
       "      <td>0.243254</td>\n",
       "      <td>-0.053864</td>\n",
       "      <td>-0.059671</td>\n",
       "    </tr>\n",
       "    <tr>\n",
       "      <th>isOnlineOnly</th>\n",
       "      <td>0.073460</td>\n",
       "      <td>0.026921</td>\n",
       "      <td>1.000000</td>\n",
       "      <td>-0.080629</td>\n",
       "      <td>0.196263</td>\n",
       "      <td>0.058771</td>\n",
       "      <td>0.119721</td>\n",
       "      <td>-0.104448</td>\n",
       "      <td>-0.011292</td>\n",
       "    </tr>\n",
       "    <tr>\n",
       "      <th>isSephoraExclusive</th>\n",
       "      <td>0.222116</td>\n",
       "      <td>0.045198</td>\n",
       "      <td>-0.080629</td>\n",
       "      <td>1.000000</td>\n",
       "      <td>-0.126613</td>\n",
       "      <td>0.138670</td>\n",
       "      <td>0.146101</td>\n",
       "      <td>-0.023651</td>\n",
       "      <td>0.203698</td>\n",
       "    </tr>\n",
       "    <tr>\n",
       "      <th>listPrice</th>\n",
       "      <td>0.065770</td>\n",
       "      <td>-0.030868</td>\n",
       "      <td>0.196263</td>\n",
       "      <td>-0.126613</td>\n",
       "      <td>1.000000</td>\n",
       "      <td>0.071287</td>\n",
       "      <td>0.087754</td>\n",
       "      <td>-0.091901</td>\n",
       "      <td>-0.052593</td>\n",
       "    </tr>\n",
       "    <tr>\n",
       "      <th>salePrice</th>\n",
       "      <td>0.150150</td>\n",
       "      <td>-0.046464</td>\n",
       "      <td>0.058771</td>\n",
       "      <td>0.138670</td>\n",
       "      <td>0.071287</td>\n",
       "      <td>1.000000</td>\n",
       "      <td>0.023725</td>\n",
       "      <td>-0.043220</td>\n",
       "      <td>0.778663</td>\n",
       "    </tr>\n",
       "    <tr>\n",
       "      <th>skuId</th>\n",
       "      <td>0.231287</td>\n",
       "      <td>0.243254</td>\n",
       "      <td>0.119721</td>\n",
       "      <td>0.146101</td>\n",
       "      <td>0.087754</td>\n",
       "      <td>0.023725</td>\n",
       "      <td>1.000000</td>\n",
       "      <td>-0.238459</td>\n",
       "      <td>0.010608</td>\n",
       "    </tr>\n",
       "    <tr>\n",
       "      <th>review_count</th>\n",
       "      <td>-0.116574</td>\n",
       "      <td>-0.053864</td>\n",
       "      <td>-0.104448</td>\n",
       "      <td>-0.023651</td>\n",
       "      <td>-0.091901</td>\n",
       "      <td>-0.043220</td>\n",
       "      <td>-0.238459</td>\n",
       "      <td>1.000000</td>\n",
       "      <td>-0.050780</td>\n",
       "    </tr>\n",
       "    <tr>\n",
       "      <th>target</th>\n",
       "      <td>0.157341</td>\n",
       "      <td>-0.059671</td>\n",
       "      <td>-0.011292</td>\n",
       "      <td>0.203698</td>\n",
       "      <td>-0.052593</td>\n",
       "      <td>0.778663</td>\n",
       "      <td>0.010608</td>\n",
       "      <td>-0.050780</td>\n",
       "      <td>1.000000</td>\n",
       "    </tr>\n",
       "  </tbody>\n",
       "</table>\n",
       "</div>"
      ],
      "text/plain": [
       "                    isLimitedEdition     isNew  isOnlineOnly  \\\n",
       "isLimitedEdition            1.000000  0.063146      0.073460   \n",
       "isNew                       0.063146  1.000000      0.026921   \n",
       "isOnlineOnly                0.073460  0.026921      1.000000   \n",
       "isSephoraExclusive          0.222116  0.045198     -0.080629   \n",
       "listPrice                   0.065770 -0.030868      0.196263   \n",
       "salePrice                   0.150150 -0.046464      0.058771   \n",
       "skuId                       0.231287  0.243254      0.119721   \n",
       "review_count               -0.116574 -0.053864     -0.104448   \n",
       "target                      0.157341 -0.059671     -0.011292   \n",
       "\n",
       "                    isSephoraExclusive  listPrice  salePrice     skuId  \\\n",
       "isLimitedEdition              0.222116   0.065770   0.150150  0.231287   \n",
       "isNew                         0.045198  -0.030868  -0.046464  0.243254   \n",
       "isOnlineOnly                 -0.080629   0.196263   0.058771  0.119721   \n",
       "isSephoraExclusive            1.000000  -0.126613   0.138670  0.146101   \n",
       "listPrice                    -0.126613   1.000000   0.071287  0.087754   \n",
       "salePrice                     0.138670   0.071287   1.000000  0.023725   \n",
       "skuId                         0.146101   0.087754   0.023725  1.000000   \n",
       "review_count                 -0.023651  -0.091901  -0.043220 -0.238459   \n",
       "target                        0.203698  -0.052593   0.778663  0.010608   \n",
       "\n",
       "                    review_count    target  \n",
       "isLimitedEdition       -0.116574  0.157341  \n",
       "isNew                  -0.053864 -0.059671  \n",
       "isOnlineOnly           -0.104448 -0.011292  \n",
       "isSephoraExclusive     -0.023651  0.203698  \n",
       "listPrice              -0.091901 -0.052593  \n",
       "salePrice              -0.043220  0.778663  \n",
       "skuId                  -0.238459  0.010608  \n",
       "review_count            1.000000 -0.050780  \n",
       "target                 -0.050780  1.000000  "
      ]
     },
     "execution_count": 188,
     "metadata": {},
     "output_type": "execute_result"
    }
   ],
   "source": [
    "products.corr()"
   ]
  },
  {
   "cell_type": "markdown",
   "metadata": {},
   "source": [
    "## Ratings"
   ]
  },
  {
   "cell_type": "code",
   "execution_count": 135,
   "metadata": {},
   "outputs": [
    {
     "data": {
      "text/html": [
       "<div>\n",
       "<style scoped>\n",
       "    .dataframe tbody tr th:only-of-type {\n",
       "        vertical-align: middle;\n",
       "    }\n",
       "\n",
       "    .dataframe tbody tr th {\n",
       "        vertical-align: top;\n",
       "    }\n",
       "\n",
       "    .dataframe thead th {\n",
       "        text-align: right;\n",
       "    }\n",
       "</style>\n",
       "<table border=\"1\" class=\"dataframe\">\n",
       "  <thead>\n",
       "    <tr style=\"text-align: right;\">\n",
       "      <th></th>\n",
       "      <th>1 star</th>\n",
       "      <th>2 stars</th>\n",
       "      <th>3 stars</th>\n",
       "      <th>4 stars</th>\n",
       "      <th>5 stars</th>\n",
       "      <th>avg_rating</th>\n",
       "      <th>product_id</th>\n",
       "      <th>review_count</th>\n",
       "      <th>total_ratings</th>\n",
       "      <th>target</th>\n",
       "    </tr>\n",
       "  </thead>\n",
       "  <tbody>\n",
       "    <tr>\n",
       "      <th>0</th>\n",
       "      <td>0</td>\n",
       "      <td>0</td>\n",
       "      <td>0</td>\n",
       "      <td>5</td>\n",
       "      <td>11</td>\n",
       "      <td>4.7</td>\n",
       "      <td>2268274</td>\n",
       "      <td>16</td>\n",
       "      <td>16</td>\n",
       "      <td>0</td>\n",
       "    </tr>\n",
       "    <tr>\n",
       "      <th>1</th>\n",
       "      <td>28</td>\n",
       "      <td>35</td>\n",
       "      <td>57</td>\n",
       "      <td>212</td>\n",
       "      <td>548</td>\n",
       "      <td>4.4</td>\n",
       "      <td>2257111</td>\n",
       "      <td>880</td>\n",
       "      <td>880</td>\n",
       "      <td>0</td>\n",
       "    </tr>\n",
       "    <tr>\n",
       "      <th>2</th>\n",
       "      <td>1139</td>\n",
       "      <td>1279</td>\n",
       "      <td>1324</td>\n",
       "      <td>2149</td>\n",
       "      <td>8379</td>\n",
       "      <td>4.1</td>\n",
       "      <td>2164671</td>\n",
       "      <td>14270</td>\n",
       "      <td>14270</td>\n",
       "      <td>0</td>\n",
       "    </tr>\n",
       "    <tr>\n",
       "      <th>3</th>\n",
       "      <td>1</td>\n",
       "      <td>10</td>\n",
       "      <td>23</td>\n",
       "      <td>115</td>\n",
       "      <td>214</td>\n",
       "      <td>4.5</td>\n",
       "      <td>2242105</td>\n",
       "      <td>363</td>\n",
       "      <td>363</td>\n",
       "      <td>0</td>\n",
       "    </tr>\n",
       "    <tr>\n",
       "      <th>4</th>\n",
       "      <td>213</td>\n",
       "      <td>258</td>\n",
       "      <td>299</td>\n",
       "      <td>837</td>\n",
       "      <td>3758</td>\n",
       "      <td>4.4</td>\n",
       "      <td>2112167</td>\n",
       "      <td>5365</td>\n",
       "      <td>5365</td>\n",
       "      <td>0</td>\n",
       "    </tr>\n",
       "  </tbody>\n",
       "</table>\n",
       "</div>"
      ],
      "text/plain": [
       "   1 star  2 stars  3 stars  4 stars  5 stars  avg_rating  product_id  \\\n",
       "0       0        0        0        5       11         4.7     2268274   \n",
       "1      28       35       57      212      548         4.4     2257111   \n",
       "2    1139     1279     1324     2149     8379         4.1     2164671   \n",
       "3       1       10       23      115      214         4.5     2242105   \n",
       "4     213      258      299      837     3758         4.4     2112167   \n",
       "\n",
       "   review_count  total_ratings  target  \n",
       "0            16             16       0  \n",
       "1           880            880       0  \n",
       "2         14270          14270       0  \n",
       "3           363            363       0  \n",
       "4          5365           5365       0  "
      ]
     },
     "execution_count": 135,
     "metadata": {},
     "output_type": "execute_result"
    }
   ],
   "source": [
    "ratings.head()"
   ]
  },
  {
   "cell_type": "code",
   "execution_count": 136,
   "metadata": {},
   "outputs": [],
   "source": [
    "sale_ratings = ratings[ratings['target'] == 1]\n",
    "reg_ratings = ratings[ratings['target'] == 0]"
   ]
  },
  {
   "cell_type": "code",
   "execution_count": 137,
   "metadata": {},
   "outputs": [
    {
     "data": {
      "text/html": [
       "<div>\n",
       "<style scoped>\n",
       "    .dataframe tbody tr th:only-of-type {\n",
       "        vertical-align: middle;\n",
       "    }\n",
       "\n",
       "    .dataframe tbody tr th {\n",
       "        vertical-align: top;\n",
       "    }\n",
       "\n",
       "    .dataframe thead th {\n",
       "        text-align: right;\n",
       "    }\n",
       "</style>\n",
       "<table border=\"1\" class=\"dataframe\">\n",
       "  <thead>\n",
       "    <tr style=\"text-align: right;\">\n",
       "      <th></th>\n",
       "      <th>1 star</th>\n",
       "      <th>2 stars</th>\n",
       "      <th>3 stars</th>\n",
       "      <th>4 stars</th>\n",
       "      <th>5 stars</th>\n",
       "      <th>avg_rating</th>\n",
       "      <th>product_id</th>\n",
       "      <th>review_count</th>\n",
       "      <th>total_ratings</th>\n",
       "      <th>target</th>\n",
       "    </tr>\n",
       "  </thead>\n",
       "  <tbody>\n",
       "    <tr>\n",
       "      <th>count</th>\n",
       "      <td>109.000000</td>\n",
       "      <td>109.000000</td>\n",
       "      <td>109.000000</td>\n",
       "      <td>109.000000</td>\n",
       "      <td>109.000000</td>\n",
       "      <td>109.000000</td>\n",
       "      <td>1.090000e+02</td>\n",
       "      <td>109.000000</td>\n",
       "      <td>109.000000</td>\n",
       "      <td>109.0</td>\n",
       "    </tr>\n",
       "    <tr>\n",
       "      <th>mean</th>\n",
       "      <td>23.440367</td>\n",
       "      <td>20.862385</td>\n",
       "      <td>28.889908</td>\n",
       "      <td>70.752294</td>\n",
       "      <td>167.761468</td>\n",
       "      <td>3.855963</td>\n",
       "      <td>1.928570e+06</td>\n",
       "      <td>311.706422</td>\n",
       "      <td>311.706422</td>\n",
       "      <td>1.0</td>\n",
       "    </tr>\n",
       "    <tr>\n",
       "      <th>std</th>\n",
       "      <td>48.848108</td>\n",
       "      <td>46.593289</td>\n",
       "      <td>70.305595</td>\n",
       "      <td>186.650404</td>\n",
       "      <td>414.029743</td>\n",
       "      <td>0.534968</td>\n",
       "      <td>1.577955e+05</td>\n",
       "      <td>750.763085</td>\n",
       "      <td>750.763085</td>\n",
       "      <td>0.0</td>\n",
       "    </tr>\n",
       "    <tr>\n",
       "      <th>min</th>\n",
       "      <td>0.000000</td>\n",
       "      <td>0.000000</td>\n",
       "      <td>0.000000</td>\n",
       "      <td>0.000000</td>\n",
       "      <td>1.000000</td>\n",
       "      <td>1.700000</td>\n",
       "      <td>1.501428e+06</td>\n",
       "      <td>5.000000</td>\n",
       "      <td>5.000000</td>\n",
       "      <td>1.0</td>\n",
       "    </tr>\n",
       "    <tr>\n",
       "      <th>25%</th>\n",
       "      <td>3.000000</td>\n",
       "      <td>3.000000</td>\n",
       "      <td>4.000000</td>\n",
       "      <td>6.000000</td>\n",
       "      <td>14.000000</td>\n",
       "      <td>3.600000</td>\n",
       "      <td>1.813930e+06</td>\n",
       "      <td>33.000000</td>\n",
       "      <td>33.000000</td>\n",
       "      <td>1.0</td>\n",
       "    </tr>\n",
       "    <tr>\n",
       "      <th>50%</th>\n",
       "      <td>9.000000</td>\n",
       "      <td>8.000000</td>\n",
       "      <td>8.000000</td>\n",
       "      <td>15.000000</td>\n",
       "      <td>41.000000</td>\n",
       "      <td>3.900000</td>\n",
       "      <td>1.911171e+06</td>\n",
       "      <td>85.000000</td>\n",
       "      <td>85.000000</td>\n",
       "      <td>1.0</td>\n",
       "    </tr>\n",
       "    <tr>\n",
       "      <th>75%</th>\n",
       "      <td>25.000000</td>\n",
       "      <td>16.000000</td>\n",
       "      <td>18.000000</td>\n",
       "      <td>31.000000</td>\n",
       "      <td>100.000000</td>\n",
       "      <td>4.300000</td>\n",
       "      <td>2.060762e+06</td>\n",
       "      <td>180.000000</td>\n",
       "      <td>180.000000</td>\n",
       "      <td>1.0</td>\n",
       "    </tr>\n",
       "    <tr>\n",
       "      <th>max</th>\n",
       "      <td>304.000000</td>\n",
       "      <td>313.000000</td>\n",
       "      <td>481.000000</td>\n",
       "      <td>1175.000000</td>\n",
       "      <td>2646.000000</td>\n",
       "      <td>4.700000</td>\n",
       "      <td>2.226785e+06</td>\n",
       "      <td>4919.000000</td>\n",
       "      <td>4919.000000</td>\n",
       "      <td>1.0</td>\n",
       "    </tr>\n",
       "  </tbody>\n",
       "</table>\n",
       "</div>"
      ],
      "text/plain": [
       "           1 star     2 stars     3 stars      4 stars      5 stars  \\\n",
       "count  109.000000  109.000000  109.000000   109.000000   109.000000   \n",
       "mean    23.440367   20.862385   28.889908    70.752294   167.761468   \n",
       "std     48.848108   46.593289   70.305595   186.650404   414.029743   \n",
       "min      0.000000    0.000000    0.000000     0.000000     1.000000   \n",
       "25%      3.000000    3.000000    4.000000     6.000000    14.000000   \n",
       "50%      9.000000    8.000000    8.000000    15.000000    41.000000   \n",
       "75%     25.000000   16.000000   18.000000    31.000000   100.000000   \n",
       "max    304.000000  313.000000  481.000000  1175.000000  2646.000000   \n",
       "\n",
       "       avg_rating    product_id  review_count  total_ratings  target  \n",
       "count  109.000000  1.090000e+02    109.000000     109.000000   109.0  \n",
       "mean     3.855963  1.928570e+06    311.706422     311.706422     1.0  \n",
       "std      0.534968  1.577955e+05    750.763085     750.763085     0.0  \n",
       "min      1.700000  1.501428e+06      5.000000       5.000000     1.0  \n",
       "25%      3.600000  1.813930e+06     33.000000      33.000000     1.0  \n",
       "50%      3.900000  1.911171e+06     85.000000      85.000000     1.0  \n",
       "75%      4.300000  2.060762e+06    180.000000     180.000000     1.0  \n",
       "max      4.700000  2.226785e+06   4919.000000    4919.000000     1.0  "
      ]
     },
     "execution_count": 137,
     "metadata": {},
     "output_type": "execute_result"
    }
   ],
   "source": [
    "sale_ratings.describe()"
   ]
  },
  {
   "cell_type": "code",
   "execution_count": 138,
   "metadata": {},
   "outputs": [
    {
     "data": {
      "text/html": [
       "<div>\n",
       "<style scoped>\n",
       "    .dataframe tbody tr th:only-of-type {\n",
       "        vertical-align: middle;\n",
       "    }\n",
       "\n",
       "    .dataframe tbody tr th {\n",
       "        vertical-align: top;\n",
       "    }\n",
       "\n",
       "    .dataframe thead th {\n",
       "        text-align: right;\n",
       "    }\n",
       "</style>\n",
       "<table border=\"1\" class=\"dataframe\">\n",
       "  <thead>\n",
       "    <tr style=\"text-align: right;\">\n",
       "      <th></th>\n",
       "      <th>1 star</th>\n",
       "      <th>2 stars</th>\n",
       "      <th>3 stars</th>\n",
       "      <th>4 stars</th>\n",
       "      <th>5 stars</th>\n",
       "      <th>avg_rating</th>\n",
       "      <th>product_id</th>\n",
       "      <th>review_count</th>\n",
       "      <th>total_ratings</th>\n",
       "      <th>target</th>\n",
       "    </tr>\n",
       "  </thead>\n",
       "  <tbody>\n",
       "    <tr>\n",
       "      <th>count</th>\n",
       "      <td>2174.000000</td>\n",
       "      <td>2174.000000</td>\n",
       "      <td>2174.000000</td>\n",
       "      <td>2174.000000</td>\n",
       "      <td>2174.000000</td>\n",
       "      <td>2174.000000</td>\n",
       "      <td>2.174000e+03</td>\n",
       "      <td>2174.000000</td>\n",
       "      <td>2174.000000</td>\n",
       "      <td>2174.0</td>\n",
       "    </tr>\n",
       "    <tr>\n",
       "      <th>mean</th>\n",
       "      <td>44.471941</td>\n",
       "      <td>45.971021</td>\n",
       "      <td>62.406164</td>\n",
       "      <td>152.092456</td>\n",
       "      <td>477.283809</td>\n",
       "      <td>4.149770</td>\n",
       "      <td>1.875873e+06</td>\n",
       "      <td>782.225391</td>\n",
       "      <td>782.225391</td>\n",
       "      <td>0.0</td>\n",
       "    </tr>\n",
       "    <tr>\n",
       "      <th>std</th>\n",
       "      <td>112.386933</td>\n",
       "      <td>106.706644</td>\n",
       "      <td>132.995034</td>\n",
       "      <td>321.259547</td>\n",
       "      <td>1141.141360</td>\n",
       "      <td>0.418649</td>\n",
       "      <td>3.690001e+05</td>\n",
       "      <td>1740.717521</td>\n",
       "      <td>1740.717521</td>\n",
       "      <td>0.0</td>\n",
       "    </tr>\n",
       "    <tr>\n",
       "      <th>min</th>\n",
       "      <td>0.000000</td>\n",
       "      <td>0.000000</td>\n",
       "      <td>0.000000</td>\n",
       "      <td>0.000000</td>\n",
       "      <td>0.000000</td>\n",
       "      <td>1.800000</td>\n",
       "      <td>5.153200e+04</td>\n",
       "      <td>1.000000</td>\n",
       "      <td>1.000000</td>\n",
       "      <td>0.0</td>\n",
       "    </tr>\n",
       "    <tr>\n",
       "      <th>25%</th>\n",
       "      <td>2.000000</td>\n",
       "      <td>3.000000</td>\n",
       "      <td>4.000000</td>\n",
       "      <td>6.000000</td>\n",
       "      <td>23.000000</td>\n",
       "      <td>3.900000</td>\n",
       "      <td>1.727408e+06</td>\n",
       "      <td>40.000000</td>\n",
       "      <td>40.000000</td>\n",
       "      <td>0.0</td>\n",
       "    </tr>\n",
       "    <tr>\n",
       "      <th>50%</th>\n",
       "      <td>10.000000</td>\n",
       "      <td>11.000000</td>\n",
       "      <td>15.000000</td>\n",
       "      <td>30.000000</td>\n",
       "      <td>98.500000</td>\n",
       "      <td>4.200000</td>\n",
       "      <td>1.968981e+06</td>\n",
       "      <td>174.500000</td>\n",
       "      <td>174.500000</td>\n",
       "      <td>0.0</td>\n",
       "    </tr>\n",
       "    <tr>\n",
       "      <th>75%</th>\n",
       "      <td>38.000000</td>\n",
       "      <td>42.750000</td>\n",
       "      <td>63.000000</td>\n",
       "      <td>149.000000</td>\n",
       "      <td>412.750000</td>\n",
       "      <td>4.400000</td>\n",
       "      <td>2.137183e+06</td>\n",
       "      <td>708.250000</td>\n",
       "      <td>708.250000</td>\n",
       "      <td>0.0</td>\n",
       "    </tr>\n",
       "    <tr>\n",
       "      <th>max</th>\n",
       "      <td>1766.000000</td>\n",
       "      <td>1742.000000</td>\n",
       "      <td>1772.000000</td>\n",
       "      <td>2989.000000</td>\n",
       "      <td>15008.000000</td>\n",
       "      <td>5.000000</td>\n",
       "      <td>2.274298e+06</td>\n",
       "      <td>19413.000000</td>\n",
       "      <td>19413.000000</td>\n",
       "      <td>0.0</td>\n",
       "    </tr>\n",
       "  </tbody>\n",
       "</table>\n",
       "</div>"
      ],
      "text/plain": [
       "            1 star      2 stars      3 stars      4 stars       5 stars  \\\n",
       "count  2174.000000  2174.000000  2174.000000  2174.000000   2174.000000   \n",
       "mean     44.471941    45.971021    62.406164   152.092456    477.283809   \n",
       "std     112.386933   106.706644   132.995034   321.259547   1141.141360   \n",
       "min       0.000000     0.000000     0.000000     0.000000      0.000000   \n",
       "25%       2.000000     3.000000     4.000000     6.000000     23.000000   \n",
       "50%      10.000000    11.000000    15.000000    30.000000     98.500000   \n",
       "75%      38.000000    42.750000    63.000000   149.000000    412.750000   \n",
       "max    1766.000000  1742.000000  1772.000000  2989.000000  15008.000000   \n",
       "\n",
       "        avg_rating    product_id  review_count  total_ratings  target  \n",
       "count  2174.000000  2.174000e+03   2174.000000    2174.000000  2174.0  \n",
       "mean      4.149770  1.875873e+06    782.225391     782.225391     0.0  \n",
       "std       0.418649  3.690001e+05   1740.717521    1740.717521     0.0  \n",
       "min       1.800000  5.153200e+04      1.000000       1.000000     0.0  \n",
       "25%       3.900000  1.727408e+06     40.000000      40.000000     0.0  \n",
       "50%       4.200000  1.968981e+06    174.500000     174.500000     0.0  \n",
       "75%       4.400000  2.137183e+06    708.250000     708.250000     0.0  \n",
       "max       5.000000  2.274298e+06  19413.000000   19413.000000     0.0  "
      ]
     },
     "execution_count": 138,
     "metadata": {},
     "output_type": "execute_result"
    }
   ],
   "source": [
    "reg_ratings.describe()"
   ]
  },
  {
   "cell_type": "markdown",
   "metadata": {},
   "source": [
    "From a first glance, the average rating for sale products was not much lower than the average rating from regular priced items. There were much fewer ratings for sale products however. At the 75th percentile, 75% of sale items' review count fell under 180. While for regular priced products at the 50th percentile, the review count was up to 175 reviews. "
   ]
  },
  {
   "cell_type": "code",
   "execution_count": 164,
   "metadata": {},
   "outputs": [
    {
     "data": {
      "text/html": [
       "<div>\n",
       "<style scoped>\n",
       "    .dataframe tbody tr th:only-of-type {\n",
       "        vertical-align: middle;\n",
       "    }\n",
       "\n",
       "    .dataframe tbody tr th {\n",
       "        vertical-align: top;\n",
       "    }\n",
       "\n",
       "    .dataframe thead th {\n",
       "        text-align: right;\n",
       "    }\n",
       "</style>\n",
       "<table border=\"1\" class=\"dataframe\">\n",
       "  <thead>\n",
       "    <tr style=\"text-align: right;\">\n",
       "      <th></th>\n",
       "      <th>0</th>\n",
       "    </tr>\n",
       "  </thead>\n",
       "  <tbody>\n",
       "    <tr>\n",
       "      <th>1 star</th>\n",
       "      <td>0.075200</td>\n",
       "    </tr>\n",
       "    <tr>\n",
       "      <th>2 stars</th>\n",
       "      <td>0.066930</td>\n",
       "    </tr>\n",
       "    <tr>\n",
       "      <th>3 stars</th>\n",
       "      <td>0.092683</td>\n",
       "    </tr>\n",
       "    <tr>\n",
       "      <th>4 stars</th>\n",
       "      <td>0.226984</td>\n",
       "    </tr>\n",
       "    <tr>\n",
       "      <th>5 stars</th>\n",
       "      <td>0.538203</td>\n",
       "    </tr>\n",
       "  </tbody>\n",
       "</table>\n",
       "</div>"
      ],
      "text/plain": [
       "                0\n",
       "1 star   0.075200\n",
       "2 stars  0.066930\n",
       "3 stars  0.092683\n",
       "4 stars  0.226984\n",
       "5 stars  0.538203"
      ]
     },
     "execution_count": 164,
     "metadata": {},
     "output_type": "execute_result"
    }
   ],
   "source": [
    "pd.DataFrame(sale_ratings.sum()[0:5]/sum(sale_ratings.sum()[0:5]))"
   ]
  },
  {
   "cell_type": "code",
   "execution_count": 165,
   "metadata": {},
   "outputs": [
    {
     "data": {
      "text/html": [
       "<div>\n",
       "<style scoped>\n",
       "    .dataframe tbody tr th:only-of-type {\n",
       "        vertical-align: middle;\n",
       "    }\n",
       "\n",
       "    .dataframe tbody tr th {\n",
       "        vertical-align: top;\n",
       "    }\n",
       "\n",
       "    .dataframe thead th {\n",
       "        text-align: right;\n",
       "    }\n",
       "</style>\n",
       "<table border=\"1\" class=\"dataframe\">\n",
       "  <thead>\n",
       "    <tr style=\"text-align: right;\">\n",
       "      <th></th>\n",
       "      <th>0</th>\n",
       "    </tr>\n",
       "  </thead>\n",
       "  <tbody>\n",
       "    <tr>\n",
       "      <th>1 star</th>\n",
       "      <td>0.056853</td>\n",
       "    </tr>\n",
       "    <tr>\n",
       "      <th>2 stars</th>\n",
       "      <td>0.058770</td>\n",
       "    </tr>\n",
       "    <tr>\n",
       "      <th>3 stars</th>\n",
       "      <td>0.079780</td>\n",
       "    </tr>\n",
       "    <tr>\n",
       "      <th>4 stars</th>\n",
       "      <td>0.194436</td>\n",
       "    </tr>\n",
       "    <tr>\n",
       "      <th>5 stars</th>\n",
       "      <td>0.610161</td>\n",
       "    </tr>\n",
       "  </tbody>\n",
       "</table>\n",
       "</div>"
      ],
      "text/plain": [
       "                0\n",
       "1 star   0.056853\n",
       "2 stars  0.058770\n",
       "3 stars  0.079780\n",
       "4 stars  0.194436\n",
       "5 stars  0.610161"
      ]
     },
     "execution_count": 165,
     "metadata": {},
     "output_type": "execute_result"
    }
   ],
   "source": [
    "pd.DataFrame(reg_ratings.sum()[0:5]/sum(reg_ratings.sum()[0:5]))"
   ]
  },
  {
   "cell_type": "markdown",
   "metadata": {},
   "source": [
    "On average, sale products had more products given 1 stars or 2 stars ratings. The regular ratings also had a higher average rate of 5 star ratings"
   ]
  },
  {
   "cell_type": "code",
   "execution_count": 219,
   "metadata": {},
   "outputs": [
    {
     "data": {
      "text/html": [
       "<div>\n",
       "<style scoped>\n",
       "    .dataframe tbody tr th:only-of-type {\n",
       "        vertical-align: middle;\n",
       "    }\n",
       "\n",
       "    .dataframe tbody tr th {\n",
       "        vertical-align: top;\n",
       "    }\n",
       "\n",
       "    .dataframe thead th {\n",
       "        text-align: right;\n",
       "    }\n",
       "</style>\n",
       "<table border=\"1\" class=\"dataframe\">\n",
       "  <thead>\n",
       "    <tr style=\"text-align: right;\">\n",
       "      <th></th>\n",
       "      <th>1 star</th>\n",
       "      <th>2 stars</th>\n",
       "      <th>3 stars</th>\n",
       "      <th>4 stars</th>\n",
       "      <th>5 stars</th>\n",
       "      <th>avg_rating</th>\n",
       "      <th>product_id</th>\n",
       "      <th>review_count</th>\n",
       "      <th>total_ratings</th>\n",
       "      <th>target</th>\n",
       "    </tr>\n",
       "  </thead>\n",
       "  <tbody>\n",
       "    <tr>\n",
       "      <th>1 star</th>\n",
       "      <td>1.000000</td>\n",
       "      <td>0.968431</td>\n",
       "      <td>0.899483</td>\n",
       "      <td>0.769757</td>\n",
       "      <td>0.677213</td>\n",
       "      <td>-0.120928</td>\n",
       "      <td>-0.175704</td>\n",
       "      <td>0.778647</td>\n",
       "      <td>0.778647</td>\n",
       "      <td>-0.040675</td>\n",
       "    </tr>\n",
       "    <tr>\n",
       "      <th>2 stars</th>\n",
       "      <td>0.968431</td>\n",
       "      <td>1.000000</td>\n",
       "      <td>0.962499</td>\n",
       "      <td>0.848022</td>\n",
       "      <td>0.756964</td>\n",
       "      <td>-0.065142</td>\n",
       "      <td>-0.187375</td>\n",
       "      <td>0.850077</td>\n",
       "      <td>0.850077</td>\n",
       "      <td>-0.051118</td>\n",
       "    </tr>\n",
       "    <tr>\n",
       "      <th>3 stars</th>\n",
       "      <td>0.899483</td>\n",
       "      <td>0.962499</td>\n",
       "      <td>1.000000</td>\n",
       "      <td>0.946173</td>\n",
       "      <td>0.862125</td>\n",
       "      <td>0.013932</td>\n",
       "      <td>-0.206773</td>\n",
       "      <td>0.933228</td>\n",
       "      <td>0.933228</td>\n",
       "      <td>-0.054618</td>\n",
       "    </tr>\n",
       "    <tr>\n",
       "      <th>4 stars</th>\n",
       "      <td>0.769757</td>\n",
       "      <td>0.848022</td>\n",
       "      <td>0.946173</td>\n",
       "      <td>1.000000</td>\n",
       "      <td>0.943861</td>\n",
       "      <td>0.103591</td>\n",
       "      <td>-0.236716</td>\n",
       "      <td>0.977204</td>\n",
       "      <td>0.977204</td>\n",
       "      <td>-0.054795</td>\n",
       "    </tr>\n",
       "    <tr>\n",
       "      <th>5 stars</th>\n",
       "      <td>0.677213</td>\n",
       "      <td>0.756964</td>\n",
       "      <td>0.862125</td>\n",
       "      <td>0.943861</td>\n",
       "      <td>1.000000</td>\n",
       "      <td>0.151391</td>\n",
       "      <td>-0.234709</td>\n",
       "      <td>0.985575</td>\n",
       "      <td>0.985575</td>\n",
       "      <td>-0.058985</td>\n",
       "    </tr>\n",
       "    <tr>\n",
       "      <th>avg_rating</th>\n",
       "      <td>-0.120928</td>\n",
       "      <td>-0.065142</td>\n",
       "      <td>0.013932</td>\n",
       "      <td>0.103591</td>\n",
       "      <td>0.151391</td>\n",
       "      <td>1.000000</td>\n",
       "      <td>-0.032204</td>\n",
       "      <td>0.107573</td>\n",
       "      <td>0.107573</td>\n",
       "      <td>-0.145933</td>\n",
       "    </tr>\n",
       "    <tr>\n",
       "      <th>product_id</th>\n",
       "      <td>-0.175704</td>\n",
       "      <td>-0.187375</td>\n",
       "      <td>-0.206773</td>\n",
       "      <td>-0.236716</td>\n",
       "      <td>-0.234709</td>\n",
       "      <td>-0.032204</td>\n",
       "      <td>1.000000</td>\n",
       "      <td>-0.236150</td>\n",
       "      <td>-0.236150</td>\n",
       "      <td>0.031056</td>\n",
       "    </tr>\n",
       "    <tr>\n",
       "      <th>review_count</th>\n",
       "      <td>0.778647</td>\n",
       "      <td>0.850077</td>\n",
       "      <td>0.933228</td>\n",
       "      <td>0.977204</td>\n",
       "      <td>0.985575</td>\n",
       "      <td>0.107573</td>\n",
       "      <td>-0.236150</td>\n",
       "      <td>1.000000</td>\n",
       "      <td>1.000000</td>\n",
       "      <td>-0.058703</td>\n",
       "    </tr>\n",
       "    <tr>\n",
       "      <th>total_ratings</th>\n",
       "      <td>0.778647</td>\n",
       "      <td>0.850077</td>\n",
       "      <td>0.933228</td>\n",
       "      <td>0.977204</td>\n",
       "      <td>0.985575</td>\n",
       "      <td>0.107573</td>\n",
       "      <td>-0.236150</td>\n",
       "      <td>1.000000</td>\n",
       "      <td>1.000000</td>\n",
       "      <td>-0.058703</td>\n",
       "    </tr>\n",
       "    <tr>\n",
       "      <th>target</th>\n",
       "      <td>-0.040675</td>\n",
       "      <td>-0.051118</td>\n",
       "      <td>-0.054618</td>\n",
       "      <td>-0.054795</td>\n",
       "      <td>-0.058985</td>\n",
       "      <td>-0.145933</td>\n",
       "      <td>0.031056</td>\n",
       "      <td>-0.058703</td>\n",
       "      <td>-0.058703</td>\n",
       "      <td>1.000000</td>\n",
       "    </tr>\n",
       "  </tbody>\n",
       "</table>\n",
       "</div>"
      ],
      "text/plain": [
       "                 1 star   2 stars   3 stars   4 stars   5 stars  avg_rating  \\\n",
       "1 star         1.000000  0.968431  0.899483  0.769757  0.677213   -0.120928   \n",
       "2 stars        0.968431  1.000000  0.962499  0.848022  0.756964   -0.065142   \n",
       "3 stars        0.899483  0.962499  1.000000  0.946173  0.862125    0.013932   \n",
       "4 stars        0.769757  0.848022  0.946173  1.000000  0.943861    0.103591   \n",
       "5 stars        0.677213  0.756964  0.862125  0.943861  1.000000    0.151391   \n",
       "avg_rating    -0.120928 -0.065142  0.013932  0.103591  0.151391    1.000000   \n",
       "product_id    -0.175704 -0.187375 -0.206773 -0.236716 -0.234709   -0.032204   \n",
       "review_count   0.778647  0.850077  0.933228  0.977204  0.985575    0.107573   \n",
       "total_ratings  0.778647  0.850077  0.933228  0.977204  0.985575    0.107573   \n",
       "target        -0.040675 -0.051118 -0.054618 -0.054795 -0.058985   -0.145933   \n",
       "\n",
       "               product_id  review_count  total_ratings    target  \n",
       "1 star          -0.175704      0.778647       0.778647 -0.040675  \n",
       "2 stars         -0.187375      0.850077       0.850077 -0.051118  \n",
       "3 stars         -0.206773      0.933228       0.933228 -0.054618  \n",
       "4 stars         -0.236716      0.977204       0.977204 -0.054795  \n",
       "5 stars         -0.234709      0.985575       0.985575 -0.058985  \n",
       "avg_rating      -0.032204      0.107573       0.107573 -0.145933  \n",
       "product_id       1.000000     -0.236150      -0.236150  0.031056  \n",
       "review_count    -0.236150      1.000000       1.000000 -0.058703  \n",
       "total_ratings   -0.236150      1.000000       1.000000 -0.058703  \n",
       "target           0.031056     -0.058703      -0.058703  1.000000  "
      ]
     },
     "execution_count": 219,
     "metadata": {},
     "output_type": "execute_result"
    }
   ],
   "source": [
    "ratings.corr()"
   ]
  },
  {
   "cell_type": "markdown",
   "metadata": {},
   "source": [
    "## Summaries"
   ]
  },
  {
   "cell_type": "code",
   "execution_count": 179,
   "metadata": {},
   "outputs": [
    {
     "data": {
      "text/html": [
       "<div>\n",
       "<style scoped>\n",
       "    .dataframe tbody tr th:only-of-type {\n",
       "        vertical-align: middle;\n",
       "    }\n",
       "\n",
       "    .dataframe tbody tr th {\n",
       "        vertical-align: top;\n",
       "    }\n",
       "\n",
       "    .dataframe thead th {\n",
       "        text-align: right;\n",
       "    }\n",
       "</style>\n",
       "<table border=\"1\" class=\"dataframe\">\n",
       "  <thead>\n",
       "    <tr style=\"text-align: right;\">\n",
       "      <th></th>\n",
       "      <th>product_id</th>\n",
       "      <th>a little go a long way</th>\n",
       "      <th>absorbs quickly</th>\n",
       "      <th>affordable</th>\n",
       "      <th>amazing</th>\n",
       "      <th>awesome</th>\n",
       "      <th>awful</th>\n",
       "      <th>beautiful</th>\n",
       "      <th>beautiful color</th>\n",
       "      <th>blend easily</th>\n",
       "      <th>...</th>\n",
       "      <th>very black</th>\n",
       "      <th>very pigmented</th>\n",
       "      <th>vibrant</th>\n",
       "      <th>volumizing</th>\n",
       "      <th>water resistant</th>\n",
       "      <th>waterproof</th>\n",
       "      <th>watery</th>\n",
       "      <th>weightless</th>\n",
       "      <th>wonderful</th>\n",
       "      <th>target</th>\n",
       "    </tr>\n",
       "  </thead>\n",
       "  <tbody>\n",
       "    <tr>\n",
       "      <th>0</th>\n",
       "      <td>51532</td>\n",
       "      <td>0.0</td>\n",
       "      <td>0.0</td>\n",
       "      <td>0.0</td>\n",
       "      <td>2.0</td>\n",
       "      <td>1.0</td>\n",
       "      <td>0.0</td>\n",
       "      <td>1.0</td>\n",
       "      <td>0.0</td>\n",
       "      <td>1.0</td>\n",
       "      <td>...</td>\n",
       "      <td>0.0</td>\n",
       "      <td>0.0</td>\n",
       "      <td>0.0</td>\n",
       "      <td>0.0</td>\n",
       "      <td>0.0</td>\n",
       "      <td>0.0</td>\n",
       "      <td>0.0</td>\n",
       "      <td>0.0</td>\n",
       "      <td>0.0</td>\n",
       "      <td>0</td>\n",
       "    </tr>\n",
       "    <tr>\n",
       "      <th>1</th>\n",
       "      <td>51573</td>\n",
       "      <td>0.0</td>\n",
       "      <td>0.0</td>\n",
       "      <td>2.0</td>\n",
       "      <td>0.0</td>\n",
       "      <td>0.0</td>\n",
       "      <td>0.0</td>\n",
       "      <td>0.0</td>\n",
       "      <td>0.0</td>\n",
       "      <td>0.0</td>\n",
       "      <td>...</td>\n",
       "      <td>0.0</td>\n",
       "      <td>0.0</td>\n",
       "      <td>0.0</td>\n",
       "      <td>0.0</td>\n",
       "      <td>0.0</td>\n",
       "      <td>0.0</td>\n",
       "      <td>0.0</td>\n",
       "      <td>0.0</td>\n",
       "      <td>0.0</td>\n",
       "      <td>0</td>\n",
       "    </tr>\n",
       "    <tr>\n",
       "      <th>2</th>\n",
       "      <td>51904</td>\n",
       "      <td>0.0</td>\n",
       "      <td>0.0</td>\n",
       "      <td>0.0</td>\n",
       "      <td>3.0</td>\n",
       "      <td>0.0</td>\n",
       "      <td>0.0</td>\n",
       "      <td>0.0</td>\n",
       "      <td>0.0</td>\n",
       "      <td>0.0</td>\n",
       "      <td>...</td>\n",
       "      <td>0.0</td>\n",
       "      <td>0.0</td>\n",
       "      <td>0.0</td>\n",
       "      <td>0.0</td>\n",
       "      <td>0.0</td>\n",
       "      <td>0.0</td>\n",
       "      <td>0.0</td>\n",
       "      <td>0.0</td>\n",
       "      <td>0.0</td>\n",
       "      <td>0</td>\n",
       "    </tr>\n",
       "    <tr>\n",
       "      <th>3</th>\n",
       "      <td>52852</td>\n",
       "      <td>0.0</td>\n",
       "      <td>0.0</td>\n",
       "      <td>0.0</td>\n",
       "      <td>3.0</td>\n",
       "      <td>0.0</td>\n",
       "      <td>0.0</td>\n",
       "      <td>0.0</td>\n",
       "      <td>0.0</td>\n",
       "      <td>0.0</td>\n",
       "      <td>...</td>\n",
       "      <td>0.0</td>\n",
       "      <td>0.0</td>\n",
       "      <td>0.0</td>\n",
       "      <td>0.0</td>\n",
       "      <td>0.0</td>\n",
       "      <td>0.0</td>\n",
       "      <td>0.0</td>\n",
       "      <td>0.0</td>\n",
       "      <td>0.0</td>\n",
       "      <td>0</td>\n",
       "    </tr>\n",
       "    <tr>\n",
       "      <th>4</th>\n",
       "      <td>54312</td>\n",
       "      <td>0.0</td>\n",
       "      <td>0.0</td>\n",
       "      <td>0.0</td>\n",
       "      <td>1.0</td>\n",
       "      <td>0.0</td>\n",
       "      <td>0.0</td>\n",
       "      <td>1.0</td>\n",
       "      <td>0.0</td>\n",
       "      <td>0.0</td>\n",
       "      <td>...</td>\n",
       "      <td>0.0</td>\n",
       "      <td>0.0</td>\n",
       "      <td>0.0</td>\n",
       "      <td>0.0</td>\n",
       "      <td>0.0</td>\n",
       "      <td>0.0</td>\n",
       "      <td>0.0</td>\n",
       "      <td>0.0</td>\n",
       "      <td>0.0</td>\n",
       "      <td>0</td>\n",
       "    </tr>\n",
       "  </tbody>\n",
       "</table>\n",
       "<p>5 rows × 203 columns</p>\n",
       "</div>"
      ],
      "text/plain": [
       "   product_id  a little go a long way  absorbs quickly  affordable  amazing  \\\n",
       "0       51532                     0.0              0.0         0.0      2.0   \n",
       "1       51573                     0.0              0.0         2.0      0.0   \n",
       "2       51904                     0.0              0.0         0.0      3.0   \n",
       "3       52852                     0.0              0.0         0.0      3.0   \n",
       "4       54312                     0.0              0.0         0.0      1.0   \n",
       "\n",
       "   awesome  awful  beautiful  beautiful color  blend easily  ...  very black  \\\n",
       "0      1.0    0.0        1.0              0.0           1.0  ...         0.0   \n",
       "1      0.0    0.0        0.0              0.0           0.0  ...         0.0   \n",
       "2      0.0    0.0        0.0              0.0           0.0  ...         0.0   \n",
       "3      0.0    0.0        0.0              0.0           0.0  ...         0.0   \n",
       "4      0.0    0.0        1.0              0.0           0.0  ...         0.0   \n",
       "\n",
       "   very pigmented  vibrant  volumizing  water resistant  waterproof  watery  \\\n",
       "0             0.0      0.0         0.0              0.0         0.0     0.0   \n",
       "1             0.0      0.0         0.0              0.0         0.0     0.0   \n",
       "2             0.0      0.0         0.0              0.0         0.0     0.0   \n",
       "3             0.0      0.0         0.0              0.0         0.0     0.0   \n",
       "4             0.0      0.0         0.0              0.0         0.0     0.0   \n",
       "\n",
       "   weightless  wonderful  target  \n",
       "0         0.0        0.0       0  \n",
       "1         0.0        0.0       0  \n",
       "2         0.0        0.0       0  \n",
       "3         0.0        0.0       0  \n",
       "4         0.0        0.0       0  \n",
       "\n",
       "[5 rows x 203 columns]"
      ]
     },
     "execution_count": 179,
     "metadata": {},
     "output_type": "execute_result"
    }
   ],
   "source": [
    "summaries.head()"
   ]
  },
  {
   "cell_type": "code",
   "execution_count": 263,
   "metadata": {},
   "outputs": [],
   "source": [
    "# Create positive and negative weights for the key words in the summaries dataset \n",
    "key_word_weights = {}\n",
    "for words in summaries.columns:\n",
    "    key_word_weights[words] = {}\n",
    "    ss = sid.polarity_scores(words)\n",
    "    for k in sorted(ss):\n",
    "        key_word_weights[words][k] = ss[k]"
   ]
  },
  {
   "cell_type": "code",
   "execution_count": 265,
   "metadata": {},
   "outputs": [],
   "source": [
    "key_word_sentiment = pd.DataFrame.from_dict(key_word_weights, orient = 'index')"
   ]
  },
  {
   "cell_type": "code",
   "execution_count": 312,
   "metadata": {},
   "outputs": [],
   "source": [
    "summaries['compound_score'] = None\n",
    "for i_1 in range(len(summaries)):\n",
    "    compound = 0\n",
    "    for i_2 in range(len(key_word_sentiment)):\n",
    "        if key_word_sentiment.index[i_2] in summaries.iloc[i_1][1:]:\n",
    "            compound += key_word_sentiment.iloc[i_2]['compound'] * summaries.iloc[i_1][key_word_sentiment.index[i_2]]\n",
    "    summaries.at[i_1, 'compound_score'] = compound"
   ]
  },
  {
   "cell_type": "code",
   "execution_count": 322,
   "metadata": {},
   "outputs": [],
   "source": [
    "from sklearn.preprocessing import StandardScaler"
   ]
  },
  {
   "cell_type": "markdown",
   "metadata": {},
   "source": [
    "Scale our compound scores so we can compare the two"
   ]
  },
  {
   "cell_type": "code",
   "execution_count": 324,
   "metadata": {},
   "outputs": [],
   "source": [
    "ss = StandardScaler()\n",
    "compound_sc = ss.fit_transform(summaries[['compound_score']])"
   ]
  },
  {
   "cell_type": "code",
   "execution_count": 326,
   "metadata": {},
   "outputs": [],
   "source": [
    "summaries['compound_sc'] = compound_sc"
   ]
  },
  {
   "cell_type": "code",
   "execution_count": 327,
   "metadata": {},
   "outputs": [],
   "source": [
    "sale_summaries = summaries[summaries['target'] == 1]\n",
    "reg_summaries = summaries[summaries['target'] == 0]"
   ]
  },
  {
   "cell_type": "code",
   "execution_count": 328,
   "metadata": {},
   "outputs": [
    {
     "data": {
      "text/plain": [
       "full coverage       0.166280\n",
       "lightweight         0.118590\n",
       "nondrying           0.104312\n",
       "creamy              0.089119\n",
       "long wearing        0.082718\n",
       "glide on easily     0.068158\n",
       "soft                0.058592\n",
       "natural looking     0.046775\n",
       "color correcting    0.036154\n",
       "moisturizing        0.030668\n",
       "dtype: float64"
      ]
     },
     "execution_count": 328,
     "metadata": {},
     "output_type": "execute_result"
    }
   ],
   "source": [
    "sale_summaries.drop(columns = ['product_id', 'target', 'compound_score', 'compound_sc']).sum().sort_values(ascending = False)[0:10]/sum(sale_summaries.drop(columns = ['product_id', 'target', 'compound_score', 'compound_sc']).sum())\n",
    "                                                                                      "
   ]
  },
  {
   "cell_type": "code",
   "execution_count": 329,
   "metadata": {},
   "outputs": [
    {
     "data": {
      "text/plain": [
       "long wearing          0.115468\n",
       "lengthening           0.065950\n",
       "volumizing            0.057891\n",
       "defining              0.055737\n",
       "buildable coverage    0.050088\n",
       "creamy                0.046504\n",
       "natural looking       0.039358\n",
       "long lasting          0.035205\n",
       "moisturizing          0.030400\n",
       "waterproof            0.028982\n",
       "dtype: float64"
      ]
     },
     "execution_count": 329,
     "metadata": {},
     "output_type": "execute_result"
    }
   ],
   "source": [
    "reg_summaries.drop(columns = ['product_id', 'target', 'compound_score', 'compound_sc']).sum().sort_values(ascending = False)[0:10]/sum(reg_summaries.drop(columns = ['product_id', 'target', 'compound_score', 'compound_sc']).sum())\n"
   ]
  },
  {
   "cell_type": "markdown",
   "metadata": {},
   "source": [
    "Interestingly, for the keywords seen in sale item reviews, the key words were mostly positive words. There were also many similarities in the top key words for the regular and sale priced items."
   ]
  },
  {
   "cell_type": "markdown",
   "metadata": {},
   "source": [
    "Looking at sentiment.."
   ]
  },
  {
   "cell_type": "code",
   "execution_count": 318,
   "metadata": {},
   "outputs": [
    {
     "data": {
      "text/plain": [
       "19.488536363636364"
      ]
     },
     "execution_count": 318,
     "metadata": {},
     "output_type": "execute_result"
    }
   ],
   "source": [
    "sale_summaries['compound_score'].mean()"
   ]
  },
  {
   "cell_type": "code",
   "execution_count": 319,
   "metadata": {},
   "outputs": [
    {
     "data": {
      "text/plain": [
       "53.85351505813946"
      ]
     },
     "execution_count": 319,
     "metadata": {},
     "output_type": "execute_result"
    }
   ],
   "source": [
    "reg_summaries['compound_score'].mean()"
   ]
  },
  {
   "cell_type": "markdown",
   "metadata": {},
   "source": [
    "Based on the average sentiment, it should be noted that regularly priced items had a much more positive sentiment score. HOWEVER, because regularly priced items have much more reviews in general, it will skew the average compound score"
   ]
  },
  {
   "cell_type": "code",
   "execution_count": 330,
   "metadata": {},
   "outputs": [
    {
     "data": {
      "text/plain": [
       "-0.11824069103961317"
      ]
     },
     "execution_count": 330,
     "metadata": {},
     "output_type": "execute_result"
    }
   ],
   "source": [
    "sale_summaries['compound_sc'].mean()"
   ]
  },
  {
   "cell_type": "code",
   "execution_count": 331,
   "metadata": {},
   "outputs": [
    {
     "data": {
      "text/plain": [
       "0.006049523727608092"
      ]
     },
     "execution_count": 331,
     "metadata": {},
     "output_type": "execute_result"
    }
   ],
   "source": [
    "reg_summaries['compound_sc'].mean()"
   ]
  },
  {
   "cell_type": "markdown",
   "metadata": {},
   "source": [
    "Think about the constrution of weights .. divide by the total word frequency. and DON'T NEED TO SCALE"
   ]
  },
  {
   "cell_type": "code",
   "execution_count": 320,
   "metadata": {},
   "outputs": [
    {
     "data": {
      "text/plain": [
       "(-0.705, 68.221]      41\n",
       "(273.966, 342.548]     1\n",
       "(205.384, 273.966]     1\n",
       "(68.221, 136.802]      1\n",
       "(136.802, 205.384]     0\n",
       "Name: compound_score, dtype: int64"
      ]
     },
     "execution_count": 320,
     "metadata": {},
     "output_type": "execute_result"
    }
   ],
   "source": [
    "sale_summaries['compound_score'].value_counts(bins = 5)"
   ]
  },
  {
   "cell_type": "code",
   "execution_count": 321,
   "metadata": {},
   "outputs": [
    {
     "data": {
      "text/plain": [
       "(-17.639000000000003, 1078.998]    855\n",
       "(3261.358, 4352.537]                 2\n",
       "(1078.998, 2170.178]                 2\n",
       "(4352.537, 5443.717]                 1\n",
       "(2170.178, 3261.358]                 0\n",
       "Name: compound_score, dtype: int64"
      ]
     },
     "execution_count": 321,
     "metadata": {},
     "output_type": "execute_result"
    }
   ],
   "source": [
    "reg_summaries['compound_score'].value_counts(bins = 5)"
   ]
  },
  {
   "cell_type": "code",
   "execution_count": 333,
   "metadata": {},
   "outputs": [
    {
     "data": {
      "text/plain": [
       "(-0.192, 0.058]    41\n",
       "(0.802, 1.05]       1\n",
       "(0.554, 0.802]      1\n",
       "(0.058, 0.306]      1\n",
       "(0.306, 0.554]      0\n",
       "Name: compound_sc, dtype: int64"
      ]
     },
     "execution_count": 333,
     "metadata": {},
     "output_type": "execute_result"
    }
   ],
   "source": [
    "sale_summaries['compound_sc'].value_counts(bins = 5)"
   ]
  },
  {
   "cell_type": "code",
   "execution_count": 332,
   "metadata": {},
   "outputs": [
    {
     "data": {
      "text/plain": [
       "(-0.254, 3.714]     855\n",
       "(11.607, 15.553]      2\n",
       "(3.714, 7.66]         2\n",
       "(15.553, 19.5]        1\n",
       "(7.66, 11.607]        0\n",
       "Name: compound_sc, dtype: int64"
      ]
     },
     "execution_count": 332,
     "metadata": {},
     "output_type": "execute_result"
    }
   ],
   "source": [
    "reg_summaries['compound_sc'].value_counts(bins = 5)"
   ]
  },
  {
   "cell_type": "code",
   "execution_count": 385,
   "metadata": {},
   "outputs": [],
   "source": [
    "compound_summaries = summaries[['compound_score', 'product_id']]"
   ]
  },
  {
   "cell_type": "markdown",
   "metadata": {},
   "source": [
    "## Reviews"
   ]
  },
  {
   "cell_type": "code",
   "execution_count": 212,
   "metadata": {},
   "outputs": [],
   "source": [
    "reviews.drop_duplicates(subset = 'review', inplace = True)"
   ]
  },
  {
   "cell_type": "code",
   "execution_count": 216,
   "metadata": {},
   "outputs": [],
   "source": [
    "reviews.reset_index(drop = True, inplace = True)"
   ]
  },
  {
   "cell_type": "code",
   "execution_count": 193,
   "metadata": {},
   "outputs": [],
   "source": [
    "# Stem reviews \n",
    "p_stem = PorterStemmer()\n",
    "reviews['stem'] = reviews['review'].apply(lambda x: \n",
    "                               re.sub('[^a-zA-Z\\s]', \"\", \n",
    "                                      \" \".join([p_stem.stem(word) for word in str(x).split()])).strip())"
   ]
  },
  {
   "cell_type": "code",
   "execution_count": 199,
   "metadata": {},
   "outputs": [],
   "source": [
    "stopwords = stopwords.words('english')"
   ]
  },
  {
   "cell_type": "code",
   "execution_count": 204,
   "metadata": {},
   "outputs": [],
   "source": [
    "reviews['review_nsw'] = reviews['review'].apply(lambda x: \n",
    "                                                \" \".join([word for word in str(x).split() if word not in stopwords]))"
   ]
  },
  {
   "cell_type": "code",
   "execution_count": 217,
   "metadata": {},
   "outputs": [],
   "source": [
    "reviews['stem_nsw'] = reviews['review_nsw'].apply(lambda x: \n",
    "                               re.sub('[^a-zA-Z\\s]', \"\", \n",
    "                                      \" \".join([p_stem.stem(word) for word in str(x).split()])).strip())"
   ]
  },
  {
   "cell_type": "code",
   "execution_count": 221,
   "metadata": {},
   "outputs": [],
   "source": [
    "sid = SentimentIntensityAnalyzer()"
   ]
  },
  {
   "cell_type": "code",
   "execution_count": 351,
   "metadata": {},
   "outputs": [],
   "source": [
    "reviews['compound'] = None\n",
    "reviews['pos'] = None\n",
    "reviews['neg'] = None\n",
    "reviews['neu'] = None\n",
    "for i in range(len(reviews['review'])):\n",
    "    ss = sid.polarity_scores(reviews['review'][i])\n",
    "    for k in sorted(ss):\n",
    "        reviews.at[i, k] = float(ss[k])"
   ]
  },
  {
   "cell_type": "code",
   "execution_count": 352,
   "metadata": {},
   "outputs": [
    {
     "data": {
      "text/html": [
       "<div>\n",
       "<style scoped>\n",
       "    .dataframe tbody tr th:only-of-type {\n",
       "        vertical-align: middle;\n",
       "    }\n",
       "\n",
       "    .dataframe tbody tr th {\n",
       "        vertical-align: top;\n",
       "    }\n",
       "\n",
       "    .dataframe thead th {\n",
       "        text-align: right;\n",
       "    }\n",
       "</style>\n",
       "<table border=\"1\" class=\"dataframe\">\n",
       "  <thead>\n",
       "    <tr style=\"text-align: right;\">\n",
       "      <th></th>\n",
       "      <th>age_range</th>\n",
       "      <th>eye_color</th>\n",
       "      <th>product_id</th>\n",
       "      <th>rating</th>\n",
       "      <th>review</th>\n",
       "      <th>skin_tone</th>\n",
       "      <th>skin_type</th>\n",
       "      <th>title</th>\n",
       "      <th>user</th>\n",
       "      <th>target</th>\n",
       "      <th>stem</th>\n",
       "      <th>review_nsw</th>\n",
       "      <th>stem_nsw</th>\n",
       "      <th>length</th>\n",
       "      <th>compound</th>\n",
       "      <th>pos</th>\n",
       "      <th>neg</th>\n",
       "      <th>neu</th>\n",
       "    </tr>\n",
       "  </thead>\n",
       "  <tbody>\n",
       "    <tr>\n",
       "      <th>0</th>\n",
       "      <td>NaN</td>\n",
       "      <td>Brown</td>\n",
       "      <td>2268274</td>\n",
       "      <td>5</td>\n",
       "      <td>WOW! I love this foundation, and the packaging...</td>\n",
       "      <td>Olive</td>\n",
       "      <td>Combination</td>\n",
       "      <td>Love this foundation in addition to the soft m...</td>\n",
       "      <td>TyraFox</td>\n",
       "      <td>0</td>\n",
       "      <td>wow I love thi foundation and the packag is ev...</td>\n",
       "      <td>WOW! I love foundation, packaging even better!...</td>\n",
       "      <td>wow I love foundation packag even better iv us...</td>\n",
       "      <td>241</td>\n",
       "      <td>0.9566</td>\n",
       "      <td>0.295</td>\n",
       "      <td>0</td>\n",
       "      <td>0.705</td>\n",
       "    </tr>\n",
       "    <tr>\n",
       "      <th>1</th>\n",
       "      <td>NaN</td>\n",
       "      <td>Brown</td>\n",
       "      <td>2268274</td>\n",
       "      <td>5</td>\n",
       "      <td>I mean do you really have to know that she did...</td>\n",
       "      <td>Deep</td>\n",
       "      <td>Normal</td>\n",
       "      <td>And ANOTHER!</td>\n",
       "      <td>KendraAb</td>\n",
       "      <td>0</td>\n",
       "      <td>I mean do you realli have to know that she did...</td>\n",
       "      <td>I mean really know again. I actually combinati...</td>\n",
       "      <td>I mean realli know again I actual combin skin ...</td>\n",
       "      <td>427</td>\n",
       "      <td>0.9734</td>\n",
       "      <td>0.227</td>\n",
       "      <td>0</td>\n",
       "      <td>0.773</td>\n",
       "    </tr>\n",
       "    <tr>\n",
       "      <th>2</th>\n",
       "      <td>NaN</td>\n",
       "      <td>Brown</td>\n",
       "      <td>2268274</td>\n",
       "      <td>5</td>\n",
       "      <td>So i normally use the matte Fenty Matte Founda...</td>\n",
       "      <td>Deep</td>\n",
       "      <td>Combination</td>\n",
       "      <td>Food For Your Skin</td>\n",
       "      <td>UGBASTIAN89</td>\n",
       "      <td>0</td>\n",
       "      <td>So i normal use the matt fenti matt foundat wh...</td>\n",
       "      <td>So normally use matte Fenty Matte Foundation I...</td>\n",
       "      <td>So normal use matt fenti matt foundat I absolu...</td>\n",
       "      <td>557</td>\n",
       "      <td>0.9611</td>\n",
       "      <td>0.182</td>\n",
       "      <td>0.029</td>\n",
       "      <td>0.789</td>\n",
       "    </tr>\n",
       "    <tr>\n",
       "      <th>3</th>\n",
       "      <td>NaN</td>\n",
       "      <td>Brown</td>\n",
       "      <td>2268274</td>\n",
       "      <td>5</td>\n",
       "      <td>A natural finish and at the same time gives co...</td>\n",
       "      <td>NaN</td>\n",
       "      <td>Oily</td>\n",
       "      <td>Feels airy and fresh with natural coverage</td>\n",
       "      <td>veens</td>\n",
       "      <td>0</td>\n",
       "      <td>A natur finish and at the same time give cover...</td>\n",
       "      <td>A natural finish time gives coverage. It didnt...</td>\n",
       "      <td>A natur finish time give coverage It didnt fee...</td>\n",
       "      <td>288</td>\n",
       "      <td>0.8111</td>\n",
       "      <td>0.195</td>\n",
       "      <td>0.082</td>\n",
       "      <td>0.723</td>\n",
       "    </tr>\n",
       "    <tr>\n",
       "      <th>4</th>\n",
       "      <td>18-24</td>\n",
       "      <td>Brown</td>\n",
       "      <td>2268274</td>\n",
       "      <td>4</td>\n",
       "      <td>Uh, at first I wanted to rate this a tad bit l...</td>\n",
       "      <td>Dark</td>\n",
       "      <td>Combination</td>\n",
       "      <td>Oh man...</td>\n",
       "      <td>KhrisGal</td>\n",
       "      <td>0</td>\n",
       "      <td>uh at first I want to rate thi a tad bit lower...</td>\n",
       "      <td>Uh, first I wanted rate tad bit lower due comb...</td>\n",
       "      <td>uh first I want rate tad bit lower due combo l...</td>\n",
       "      <td>305</td>\n",
       "      <td>0.906</td>\n",
       "      <td>0.213</td>\n",
       "      <td>0.06</td>\n",
       "      <td>0.727</td>\n",
       "    </tr>\n",
       "  </tbody>\n",
       "</table>\n",
       "</div>"
      ],
      "text/plain": [
       "  age_range eye_color  product_id  rating  \\\n",
       "0       NaN     Brown     2268274       5   \n",
       "1       NaN     Brown     2268274       5   \n",
       "2       NaN     Brown     2268274       5   \n",
       "3       NaN     Brown     2268274       5   \n",
       "4     18-24     Brown     2268274       4   \n",
       "\n",
       "                                              review skin_tone    skin_type  \\\n",
       "0  WOW! I love this foundation, and the packaging...     Olive  Combination   \n",
       "1  I mean do you really have to know that she did...      Deep       Normal   \n",
       "2  So i normally use the matte Fenty Matte Founda...      Deep  Combination   \n",
       "3  A natural finish and at the same time gives co...       NaN         Oily   \n",
       "4  Uh, at first I wanted to rate this a tad bit l...      Dark  Combination   \n",
       "\n",
       "                                               title          user  target  \\\n",
       "0  Love this foundation in addition to the soft m...      TyraFox        0   \n",
       "1                                       And ANOTHER!     KendraAb        0   \n",
       "2                                 Food For Your Skin  UGBASTIAN89        0   \n",
       "3         Feels airy and fresh with natural coverage        veens        0   \n",
       "4                                          Oh man...     KhrisGal        0   \n",
       "\n",
       "                                                stem  \\\n",
       "0  wow I love thi foundation and the packag is ev...   \n",
       "1  I mean do you realli have to know that she did...   \n",
       "2  So i normal use the matt fenti matt foundat wh...   \n",
       "3  A natur finish and at the same time give cover...   \n",
       "4  uh at first I want to rate thi a tad bit lower...   \n",
       "\n",
       "                                          review_nsw  \\\n",
       "0  WOW! I love foundation, packaging even better!...   \n",
       "1  I mean really know again. I actually combinati...   \n",
       "2  So normally use matte Fenty Matte Foundation I...   \n",
       "3  A natural finish time gives coverage. It didnt...   \n",
       "4  Uh, first I wanted rate tad bit lower due comb...   \n",
       "\n",
       "                                            stem_nsw  length compound    pos  \\\n",
       "0  wow I love foundation packag even better iv us...     241   0.9566  0.295   \n",
       "1  I mean realli know again I actual combin skin ...     427   0.9734  0.227   \n",
       "2  So normal use matt fenti matt foundat I absolu...     557   0.9611  0.182   \n",
       "3  A natur finish time give coverage It didnt fee...     288   0.8111  0.195   \n",
       "4  uh first I want rate tad bit lower due combo l...     305    0.906  0.213   \n",
       "\n",
       "     neg    neu  \n",
       "0      0  0.705  \n",
       "1      0  0.773  \n",
       "2  0.029  0.789  \n",
       "3  0.082  0.723  \n",
       "4   0.06  0.727  "
      ]
     },
     "execution_count": 352,
     "metadata": {},
     "output_type": "execute_result"
    }
   ],
   "source": [
    "reviews.head()"
   ]
  },
  {
   "cell_type": "code",
   "execution_count": 335,
   "metadata": {},
   "outputs": [],
   "source": [
    "reviews['length'] = reviews['review'].map(lambda x: len(x))"
   ]
  },
  {
   "cell_type": "code",
   "execution_count": 353,
   "metadata": {},
   "outputs": [
    {
     "data": {
      "text/plain": [
       "age_range     object\n",
       "eye_color     object\n",
       "product_id     int64\n",
       "rating         int64\n",
       "review        object\n",
       "skin_tone     object\n",
       "skin_type     object\n",
       "title         object\n",
       "user          object\n",
       "target         int64\n",
       "stem          object\n",
       "review_nsw    object\n",
       "stem_nsw      object\n",
       "length         int64\n",
       "compound      object\n",
       "pos           object\n",
       "neg           object\n",
       "neu           object\n",
       "dtype: object"
      ]
     },
     "execution_count": 353,
     "metadata": {},
     "output_type": "execute_result"
    }
   ],
   "source": [
    "reviews.dtypes"
   ]
  },
  {
   "cell_type": "code",
   "execution_count": 357,
   "metadata": {},
   "outputs": [],
   "source": [
    "for col in ['compound', 'pos', 'neg', 'neu']:\n",
    "    reviews[col] = reviews[col].map(lambda x: float(x))"
   ]
  },
  {
   "cell_type": "code",
   "execution_count": 359,
   "metadata": {},
   "outputs": [
    {
     "data": {
      "text/plain": [
       "(0.383, 0.682]      897\n",
       "(0.682, 0.982]      652\n",
       "(0.0832, 0.383]     108\n",
       "(-0.216, 0.0832]      6\n",
       "(-0.518, -0.216]      2\n",
       "Name: compound, dtype: int64"
      ]
     },
     "execution_count": 359,
     "metadata": {},
     "output_type": "execute_result"
    }
   ],
   "source": [
    "reviews.groupby(by = 'product_id').mean()['compound'].value_counts(bins = 5)"
   ]
  },
  {
   "cell_type": "code",
   "execution_count": 361,
   "metadata": {},
   "outputs": [
    {
     "data": {
      "text/plain": [
       "(0.602, 0.999]      26359\n",
       "(0.206, 0.602]       4725\n",
       "(-0.191, 0.206]      2614\n",
       "(-0.587, -0.191]     1937\n",
       "(-0.987, -0.587]     1343\n",
       "Name: compound, dtype: int64"
      ]
     },
     "execution_count": 361,
     "metadata": {},
     "output_type": "execute_result"
    }
   ],
   "source": [
    "reviews['compound'].value_counts(bins = 5)"
   ]
  },
  {
   "cell_type": "code",
   "execution_count": 375,
   "metadata": {},
   "outputs": [
    {
     "data": {
      "text/plain": [
       "(0.802, 0.997]      0.481807\n",
       "(0.607, 0.802]      0.164994\n",
       "(0.412, 0.607]      0.080928\n",
       "(0.217, 0.412]      0.055834\n",
       "(-0.173, 0.0222]    0.051443\n",
       "(-0.563, -0.368]    0.041405\n",
       "(-0.757, -0.563]    0.032622\n",
       "(0.0222, 0.217]     0.031995\n",
       "(-0.955, -0.757]    0.030740\n",
       "(-0.368, -0.173]    0.028231\n",
       "Name: compound, dtype: float64"
      ]
     },
     "execution_count": 375,
     "metadata": {},
     "output_type": "execute_result"
    }
   ],
   "source": [
    "reviews[reviews['target'] == 1]['compound'].value_counts(bins =10)/len(reviews[reviews['target'] == 1])"
   ]
  },
  {
   "cell_type": "code",
   "execution_count": 376,
   "metadata": {},
   "outputs": [
    {
     "data": {
      "text/plain": [
       "(0.8, 0.999]        0.534140\n",
       "(0.602, 0.8]        0.181523\n",
       "(0.404, 0.602]      0.079273\n",
       "(0.206, 0.404]      0.048129\n",
       "(-0.191, 0.0075]    0.044342\n",
       "(-0.587, -0.389]    0.026142\n",
       "(0.0075, 0.206]     0.025803\n",
       "(-0.389, -0.191]    0.025407\n",
       "(-0.785, -0.587]    0.020885\n",
       "(-0.987, -0.785]    0.014357\n",
       "Name: compound, dtype: float64"
      ]
     },
     "execution_count": 376,
     "metadata": {},
     "output_type": "execute_result"
    }
   ],
   "source": [
    "reviews[reviews['target'] == 0]['compound'].value_counts(bins =10)/len(reviews[reviews['target'] == 0])"
   ]
  },
  {
   "cell_type": "code",
   "execution_count": 388,
   "metadata": {},
   "outputs": [],
   "source": [
    "compound_ratings = pd.DataFrame(reviews.groupby(by = 'product_id').mean()['compound'])"
   ]
  },
  {
   "cell_type": "code",
   "execution_count": 414,
   "metadata": {},
   "outputs": [
    {
     "data": {
      "text/plain": [
       "mistyrayne        52\n",
       "Mochapj           36\n",
       "glowholic         32\n",
       "makeupfreak12     32\n",
       "TheMACIsBack      24\n",
       "Ellen5            21\n",
       "jonieku           21\n",
       "crisymei          20\n",
       "Mallerlyn         20\n",
       "NOneRouge         19\n",
       "Name: user, dtype: int64"
      ]
     },
     "execution_count": 414,
     "metadata": {},
     "output_type": "execute_result"
    }
   ],
   "source": [
    "reviews['user'].value_counts()[1:11]"
   ]
  },
  {
   "cell_type": "markdown",
   "metadata": {},
   "source": [
    "Check to see the demographics of the most review writing users"
   ]
  },
  {
   "cell_type": "markdown",
   "metadata": {},
   "source": [
    "# All the Pieces Together"
   ]
  },
  {
   "cell_type": "code",
   "execution_count": 392,
   "metadata": {},
   "outputs": [],
   "source": [
    "w_ratings = pd.merge(products, ratings, how = 'left', left_on = 'skuId', right_on = 'product_id')"
   ]
  },
  {
   "cell_type": "code",
   "execution_count": 395,
   "metadata": {},
   "outputs": [],
   "source": [
    "w_summ = pd.merge(w_ratings, compound_summaries, how = 'left', left_on = 'skuId', right_on = 'product_id')"
   ]
  },
  {
   "cell_type": "code",
   "execution_count": 396,
   "metadata": {},
   "outputs": [
    {
     "data": {
      "text/plain": [
       "Index(['brand_name', 'category', 'imageAltText', 'isLimitedEdition', 'isNew',\n",
       "       'isOnlineOnly', 'isSephoraExclusive', 'listPrice', 'salePrice', 'skuId',\n",
       "       'skuType', 'valuePrice', 'review_count_x', 'target_x', '1 star',\n",
       "       '2 stars', '3 stars', '4 stars', '5 stars', 'avg_rating',\n",
       "       'product_id_x', 'review_count_y', 'total_ratings', 'target_y',\n",
       "       'compound_score', 'product_id_y'],\n",
       "      dtype='object')"
      ]
     },
     "execution_count": 396,
     "metadata": {},
     "output_type": "execute_result"
    }
   ],
   "source": [
    "w_summ.columns"
   ]
  },
  {
   "cell_type": "code",
   "execution_count": 397,
   "metadata": {},
   "outputs": [],
   "source": [
    "w_summ.drop(columns = ['product_id_x', 'product_id_y', 'target_y'], inplace = True)"
   ]
  },
  {
   "cell_type": "code",
   "execution_count": 399,
   "metadata": {},
   "outputs": [],
   "source": [
    "final_df = pd.merge(w_summ, compound_ratings, how = 'left', left_on = 'skuId', right_on = 'product_id')"
   ]
  },
  {
   "cell_type": "code",
   "execution_count": 403,
   "metadata": {},
   "outputs": [],
   "source": [
    "final_df.drop_duplicates(subset = 'skuId', inplace = True)"
   ]
  },
  {
   "cell_type": "code",
   "execution_count": 409,
   "metadata": {},
   "outputs": [],
   "source": [
    "final_df.drop(columns = 'review_count_x', inplace = True)"
   ]
  },
  {
   "cell_type": "code",
   "execution_count": 410,
   "metadata": {},
   "outputs": [],
   "source": [
    "final_df.to_csv('final_dataset.csv')"
   ]
  }
 ],
 "metadata": {
  "kernelspec": {
   "display_name": "Python 3",
   "language": "python",
   "name": "python3"
  },
  "language_info": {
   "codemirror_mode": {
    "name": "ipython",
    "version": 3
   },
   "file_extension": ".py",
   "mimetype": "text/x-python",
   "name": "python",
   "nbconvert_exporter": "python",
   "pygments_lexer": "ipython3",
   "version": "3.7.3"
  }
 },
 "nbformat": 4,
 "nbformat_minor": 2
}
