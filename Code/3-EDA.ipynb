{
 "cells": [
  {
   "cell_type": "markdown",
   "metadata": {},
   "source": [
    "# 3 - EDA"
   ]
  },
  {
   "cell_type": "markdown",
   "metadata": {},
   "source": [
    "## Contents\n",
    "1. [Products](#Products)\n",
    "2. [Ratings](#Ratings) \n",
    "3. [Summaries](#Summaries)\n",
    "4. [Reviews](#Reviews)\n",
    "5. [Final DataFrame](#All-the-Pieces-Together)"
   ]
  },
  {
   "cell_type": "markdown",
   "metadata": {},
   "source": [
    "Import libraries and load data"
   ]
  },
  {
   "cell_type": "code",
   "execution_count": 169,
   "metadata": {},
   "outputs": [],
   "source": [
    "import pandas as pd\n",
    "import numpy as np\n",
    "\n",
    "import matplotlib.pyplot as plt\n",
    "import seaborn as sns \n",
    "\n",
    "from nltk.stem import WordNetLemmatizer\n",
    "from nltk.stem.porter import PorterStemmer\n",
    "from nltk.tokenize import RegexpTokenizer\n",
    "from nltk.corpus import stopwords\n",
    "from nltk.classify import NaiveBayesClassifier\n",
    "from nltk.corpus import subjectivity\n",
    "from nltk.sentiment import SentimentAnalyzer\n",
    "from nltk.sentiment.util import *\n",
    "from nltk.sentiment.vader import SentimentIntensityAnalyzer\n",
    "\n",
    "from sklearn.feature_extraction.text import CountVectorizer, TfidfVectorizer\n",
    "\n",
    "import regex as re"
   ]
  },
  {
   "cell_type": "code",
   "execution_count": 95,
   "metadata": {},
   "outputs": [],
   "source": [
    "products = pd.read_csv('/Users/myokim/Desktop/general_assembly/Projects/Capstone/datasets_clean/df_products_clean.csv')\n",
    "ratings = pd.read_csv('/Users/myokim/Desktop/general_assembly/Projects/Capstone/datasets_clean/df_ratings_clean.csv')\n",
    "summaries = pd.read_csv('/Users/myokim/Desktop/general_assembly/Projects/Capstone/datasets_clean/df_summaries_clean.csv')\n",
    "reviews = pd.read_csv('/Users/myokim/Desktop/general_assembly/Projects/Capstone/datasets_clean/df_reviews_clean.csv')\n"
   ]
  },
  {
   "cell_type": "markdown",
   "metadata": {},
   "source": [
    "## Products"
   ]
  },
  {
   "cell_type": "code",
   "execution_count": 4,
   "metadata": {},
   "outputs": [],
   "source": [
    "# Create separate dataframes for sale and regular priced products for easier comparison\n",
    "sale_prod = products[products['target'] == 1]\n",
    "reg_prod = products[products['target'] == 0]"
   ]
  },
  {
   "cell_type": "code",
   "execution_count": 97,
   "metadata": {},
   "outputs": [
    {
     "data": {
      "text/html": [
       "<div>\n",
       "<style scoped>\n",
       "    .dataframe tbody tr th:only-of-type {\n",
       "        vertical-align: middle;\n",
       "    }\n",
       "\n",
       "    .dataframe tbody tr th {\n",
       "        vertical-align: top;\n",
       "    }\n",
       "\n",
       "    .dataframe thead th {\n",
       "        text-align: right;\n",
       "    }\n",
       "</style>\n",
       "<table border=\"1\" class=\"dataframe\">\n",
       "  <thead>\n",
       "    <tr style=\"text-align: right;\">\n",
       "      <th></th>\n",
       "      <th>listPrice</th>\n",
       "      <th>salePrice</th>\n",
       "      <th>skuId</th>\n",
       "      <th>review_count</th>\n",
       "      <th>target</th>\n",
       "      <th>sale_pct</th>\n",
       "    </tr>\n",
       "  </thead>\n",
       "  <tbody>\n",
       "    <tr>\n",
       "      <th>count</th>\n",
       "      <td>185.000000</td>\n",
       "      <td>185.000000</td>\n",
       "      <td>1.850000e+02</td>\n",
       "      <td>185.000000</td>\n",
       "      <td>185.0</td>\n",
       "      <td>185.000000</td>\n",
       "    </tr>\n",
       "    <tr>\n",
       "      <th>mean</th>\n",
       "      <td>30.170270</td>\n",
       "      <td>18.009730</td>\n",
       "      <td>1.935692e+06</td>\n",
       "      <td>37.318919</td>\n",
       "      <td>1.0</td>\n",
       "      <td>42.529189</td>\n",
       "    </tr>\n",
       "    <tr>\n",
       "      <th>std</th>\n",
       "      <td>18.926616</td>\n",
       "      <td>14.165534</td>\n",
       "      <td>1.601297e+05</td>\n",
       "      <td>118.952497</td>\n",
       "      <td>0.0</td>\n",
       "      <td>13.077130</td>\n",
       "    </tr>\n",
       "    <tr>\n",
       "      <th>min</th>\n",
       "      <td>6.000000</td>\n",
       "      <td>3.000000</td>\n",
       "      <td>1.359850e+06</td>\n",
       "      <td>1.000000</td>\n",
       "      <td>1.0</td>\n",
       "      <td>13.000000</td>\n",
       "    </tr>\n",
       "    <tr>\n",
       "      <th>25%</th>\n",
       "      <td>20.000000</td>\n",
       "      <td>10.000000</td>\n",
       "      <td>1.805563e+06</td>\n",
       "      <td>1.000000</td>\n",
       "      <td>1.0</td>\n",
       "      <td>30.400000</td>\n",
       "    </tr>\n",
       "    <tr>\n",
       "      <th>50%</th>\n",
       "      <td>27.000000</td>\n",
       "      <td>15.000000</td>\n",
       "      <td>1.935576e+06</td>\n",
       "      <td>5.000000</td>\n",
       "      <td>1.0</td>\n",
       "      <td>44.400000</td>\n",
       "    </tr>\n",
       "    <tr>\n",
       "      <th>75%</th>\n",
       "      <td>38.000000</td>\n",
       "      <td>21.750000</td>\n",
       "      <td>2.071439e+06</td>\n",
       "      <td>23.000000</td>\n",
       "      <td>1.0</td>\n",
       "      <td>50.000000</td>\n",
       "    </tr>\n",
       "    <tr>\n",
       "      <th>max</th>\n",
       "      <td>149.000000</td>\n",
       "      <td>105.000000</td>\n",
       "      <td>2.226785e+06</td>\n",
       "      <td>984.000000</td>\n",
       "      <td>1.0</td>\n",
       "      <td>75.000000</td>\n",
       "    </tr>\n",
       "  </tbody>\n",
       "</table>\n",
       "</div>"
      ],
      "text/plain": [
       "        listPrice   salePrice         skuId  review_count  target    sale_pct\n",
       "count  185.000000  185.000000  1.850000e+02    185.000000   185.0  185.000000\n",
       "mean    30.170270   18.009730  1.935692e+06     37.318919     1.0   42.529189\n",
       "std     18.926616   14.165534  1.601297e+05    118.952497     0.0   13.077130\n",
       "min      6.000000    3.000000  1.359850e+06      1.000000     1.0   13.000000\n",
       "25%     20.000000   10.000000  1.805563e+06      1.000000     1.0   30.400000\n",
       "50%     27.000000   15.000000  1.935576e+06      5.000000     1.0   44.400000\n",
       "75%     38.000000   21.750000  2.071439e+06     23.000000     1.0   50.000000\n",
       "max    149.000000  105.000000  2.226785e+06    984.000000     1.0   75.000000"
      ]
     },
     "execution_count": 97,
     "metadata": {},
     "output_type": "execute_result"
    }
   ],
   "source": [
    "sale_prod.describe()"
   ]
  },
  {
   "cell_type": "code",
   "execution_count": 6,
   "metadata": {},
   "outputs": [
    {
     "data": {
      "text/html": [
       "<div>\n",
       "<style scoped>\n",
       "    .dataframe tbody tr th:only-of-type {\n",
       "        vertical-align: middle;\n",
       "    }\n",
       "\n",
       "    .dataframe tbody tr th {\n",
       "        vertical-align: top;\n",
       "    }\n",
       "\n",
       "    .dataframe thead th {\n",
       "        text-align: right;\n",
       "    }\n",
       "</style>\n",
       "<table border=\"1\" class=\"dataframe\">\n",
       "  <thead>\n",
       "    <tr style=\"text-align: right;\">\n",
       "      <th></th>\n",
       "      <th>listPrice</th>\n",
       "      <th>salePrice</th>\n",
       "      <th>skuId</th>\n",
       "      <th>review_count</th>\n",
       "      <th>target</th>\n",
       "    </tr>\n",
       "  </thead>\n",
       "  <tbody>\n",
       "    <tr>\n",
       "      <th>count</th>\n",
       "      <td>3349.000000</td>\n",
       "      <td>3349.0</td>\n",
       "      <td>3.349000e+03</td>\n",
       "      <td>3349.000000</td>\n",
       "      <td>3349.0</td>\n",
       "    </tr>\n",
       "    <tr>\n",
       "      <th>mean</th>\n",
       "      <td>35.671335</td>\n",
       "      <td>0.0</td>\n",
       "      <td>1.919525e+06</td>\n",
       "      <td>102.031353</td>\n",
       "      <td>0.0</td>\n",
       "    </tr>\n",
       "    <tr>\n",
       "      <th>std</th>\n",
       "      <td>23.486541</td>\n",
       "      <td>0.0</td>\n",
       "      <td>3.466956e+05</td>\n",
       "      <td>289.900479</td>\n",
       "      <td>0.0</td>\n",
       "    </tr>\n",
       "    <tr>\n",
       "      <th>min</th>\n",
       "      <td>2.000000</td>\n",
       "      <td>0.0</td>\n",
       "      <td>4.857900e+04</td>\n",
       "      <td>1.000000</td>\n",
       "      <td>0.0</td>\n",
       "    </tr>\n",
       "    <tr>\n",
       "      <th>25%</th>\n",
       "      <td>24.000000</td>\n",
       "      <td>0.0</td>\n",
       "      <td>1.813229e+06</td>\n",
       "      <td>1.000000</td>\n",
       "      <td>0.0</td>\n",
       "    </tr>\n",
       "    <tr>\n",
       "      <th>50%</th>\n",
       "      <td>30.000000</td>\n",
       "      <td>0.0</td>\n",
       "      <td>2.016699e+06</td>\n",
       "      <td>7.000000</td>\n",
       "      <td>0.0</td>\n",
       "    </tr>\n",
       "    <tr>\n",
       "      <th>75%</th>\n",
       "      <td>42.000000</td>\n",
       "      <td>0.0</td>\n",
       "      <td>2.166403e+06</td>\n",
       "      <td>68.000000</td>\n",
       "      <td>0.0</td>\n",
       "    </tr>\n",
       "    <tr>\n",
       "      <th>max</th>\n",
       "      <td>270.000000</td>\n",
       "      <td>0.0</td>\n",
       "      <td>2.282051e+06</td>\n",
       "      <td>3883.000000</td>\n",
       "      <td>0.0</td>\n",
       "    </tr>\n",
       "  </tbody>\n",
       "</table>\n",
       "</div>"
      ],
      "text/plain": [
       "         listPrice  salePrice         skuId  review_count  target\n",
       "count  3349.000000     3349.0  3.349000e+03   3349.000000  3349.0\n",
       "mean     35.671335        0.0  1.919525e+06    102.031353     0.0\n",
       "std      23.486541        0.0  3.466956e+05    289.900479     0.0\n",
       "min       2.000000        0.0  4.857900e+04      1.000000     0.0\n",
       "25%      24.000000        0.0  1.813229e+06      1.000000     0.0\n",
       "50%      30.000000        0.0  2.016699e+06      7.000000     0.0\n",
       "75%      42.000000        0.0  2.166403e+06     68.000000     0.0\n",
       "max     270.000000        0.0  2.282051e+06   3883.000000     0.0"
      ]
     },
     "execution_count": 6,
     "metadata": {},
     "output_type": "execute_result"
    }
   ],
   "source": [
    "reg_prod.describe()"
   ]
  },
  {
   "cell_type": "markdown",
   "metadata": {},
   "source": [
    "From the makeup products only on Sephora, there are a total of 3,534 products. Of those 3,534 products, 185 are on sale. This makes up only 5% of the total products. The classes are very unbalanced.  \n",
    "  \n",
    "The average prices for sale products were less than those that were regularly priced. However, the median was more similar with median sale prices being 27 dollars and median regular sitting at 30 dollars."
   ]
  },
  {
   "cell_type": "code",
   "execution_count": 7,
   "metadata": {},
   "outputs": [],
   "source": [
    "# Save new dataframe grouped by category \n",
    "spc = pd.DataFrame(sale_prod['category'].value_counts())"
   ]
  },
  {
   "cell_type": "code",
   "execution_count": 8,
   "metadata": {},
   "outputs": [],
   "source": [
    "rpc = reg_prod['category'].value_counts()"
   ]
  },
  {
   "cell_type": "code",
   "execution_count": 9,
   "metadata": {},
   "outputs": [],
   "source": [
    "# Merge dataframes to have the counts of each product category\n",
    "c_count = pd.merge(left = spc, right = rpc, how = 'right', left_on = spc.index, right_on = rpc.index)\n",
    "c_count.fillna(0, inplace = True)"
   ]
  },
  {
   "cell_type": "code",
   "execution_count": 98,
   "metadata": {},
   "outputs": [],
   "source": [
    "c_count['pct_sale'] = np.round(c_count['category_x']/(c_count['category_y']+c_count['category_x']),2)"
   ]
  },
  {
   "cell_type": "code",
   "execution_count": 99,
   "metadata": {},
   "outputs": [
    {
     "data": {
      "text/html": [
       "<div>\n",
       "<style scoped>\n",
       "    .dataframe tbody tr th:only-of-type {\n",
       "        vertical-align: middle;\n",
       "    }\n",
       "\n",
       "    .dataframe tbody tr th {\n",
       "        vertical-align: top;\n",
       "    }\n",
       "\n",
       "    .dataframe thead th {\n",
       "        text-align: right;\n",
       "    }\n",
       "</style>\n",
       "<table border=\"1\" class=\"dataframe\">\n",
       "  <thead>\n",
       "    <tr style=\"text-align: right;\">\n",
       "      <th></th>\n",
       "      <th>key_0</th>\n",
       "      <th>category_x</th>\n",
       "      <th>category_y</th>\n",
       "      <th>pct_sale</th>\n",
       "    </tr>\n",
       "  </thead>\n",
       "  <tbody>\n",
       "    <tr>\n",
       "      <th>15</th>\n",
       "      <td>lip-plumper</td>\n",
       "      <td>4.0</td>\n",
       "      <td>25</td>\n",
       "      <td>0.14</td>\n",
       "    </tr>\n",
       "    <tr>\n",
       "      <th>3</th>\n",
       "      <td>liquid-lipstick</td>\n",
       "      <td>12.0</td>\n",
       "      <td>79</td>\n",
       "      <td>0.13</td>\n",
       "    </tr>\n",
       "    <tr>\n",
       "      <th>7</th>\n",
       "      <td>lip-palettes-gloss-sets</td>\n",
       "      <td>8.0</td>\n",
       "      <td>52</td>\n",
       "      <td>0.13</td>\n",
       "    </tr>\n",
       "    <tr>\n",
       "      <th>13</th>\n",
       "      <td>fake-eyelashes-false-eyelashes</td>\n",
       "      <td>5.0</td>\n",
       "      <td>37</td>\n",
       "      <td>0.12</td>\n",
       "    </tr>\n",
       "    <tr>\n",
       "      <th>11</th>\n",
       "      <td>lip-liner-lip-pencils</td>\n",
       "      <td>6.0</td>\n",
       "      <td>43</td>\n",
       "      <td>0.12</td>\n",
       "    </tr>\n",
       "  </tbody>\n",
       "</table>\n",
       "</div>"
      ],
      "text/plain": [
       "                             key_0  category_x  category_y  pct_sale\n",
       "15                     lip-plumper         4.0          25      0.14\n",
       "3                  liquid-lipstick        12.0          79      0.13\n",
       "7          lip-palettes-gloss-sets         8.0          52      0.13\n",
       "13  fake-eyelashes-false-eyelashes         5.0          37      0.12\n",
       "11           lip-liner-lip-pencils         6.0          43      0.12"
      ]
     },
     "execution_count": 99,
     "metadata": {},
     "output_type": "execute_result"
    }
   ],
   "source": [
    "c_count.sort_values(by = 'pct_sale', ascending = False).head()"
   ]
  },
  {
   "cell_type": "code",
   "execution_count": 102,
   "metadata": {},
   "outputs": [
    {
     "data": {
      "text/html": [
       "<div>\n",
       "<style scoped>\n",
       "    .dataframe tbody tr th:only-of-type {\n",
       "        vertical-align: middle;\n",
       "    }\n",
       "\n",
       "    .dataframe tbody tr th {\n",
       "        vertical-align: top;\n",
       "    }\n",
       "\n",
       "    .dataframe thead th {\n",
       "        text-align: right;\n",
       "    }\n",
       "</style>\n",
       "<table border=\"1\" class=\"dataframe\">\n",
       "  <thead>\n",
       "    <tr style=\"text-align: right;\">\n",
       "      <th></th>\n",
       "      <th>key_0</th>\n",
       "      <th>category_x</th>\n",
       "      <th>category_y</th>\n",
       "      <th>pct_sale</th>\n",
       "    </tr>\n",
       "  </thead>\n",
       "  <tbody>\n",
       "    <tr>\n",
       "      <th>15</th>\n",
       "      <td>lip-plumper</td>\n",
       "      <td>4.0</td>\n",
       "      <td>25</td>\n",
       "      <td>0.14</td>\n",
       "    </tr>\n",
       "    <tr>\n",
       "      <th>3</th>\n",
       "      <td>liquid-lipstick</td>\n",
       "      <td>12.0</td>\n",
       "      <td>79</td>\n",
       "      <td>0.13</td>\n",
       "    </tr>\n",
       "    <tr>\n",
       "      <th>7</th>\n",
       "      <td>lip-palettes-gloss-sets</td>\n",
       "      <td>8.0</td>\n",
       "      <td>52</td>\n",
       "      <td>0.13</td>\n",
       "    </tr>\n",
       "    <tr>\n",
       "      <th>13</th>\n",
       "      <td>fake-eyelashes-false-eyelashes</td>\n",
       "      <td>5.0</td>\n",
       "      <td>37</td>\n",
       "      <td>0.12</td>\n",
       "    </tr>\n",
       "    <tr>\n",
       "      <th>11</th>\n",
       "      <td>lip-liner-lip-pencils</td>\n",
       "      <td>6.0</td>\n",
       "      <td>43</td>\n",
       "      <td>0.12</td>\n",
       "    </tr>\n",
       "  </tbody>\n",
       "</table>\n",
       "</div>"
      ],
      "text/plain": [
       "                             key_0  category_x  category_y  pct_sale\n",
       "15                     lip-plumper         4.0          25      0.14\n",
       "3                  liquid-lipstick        12.0          79      0.13\n",
       "7          lip-palettes-gloss-sets         8.0          52      0.13\n",
       "13  fake-eyelashes-false-eyelashes         5.0          37      0.12\n",
       "11           lip-liner-lip-pencils         6.0          43      0.12"
      ]
     },
     "execution_count": 102,
     "metadata": {},
     "output_type": "execute_result"
    }
   ],
   "source": [
    "# % of products on sale ordered in descending order \n",
    "c_count.sort_values(by = 'pct_sale', ascending = False).head()"
   ]
  },
  {
   "cell_type": "code",
   "execution_count": 103,
   "metadata": {},
   "outputs": [
    {
     "data": {
      "text/html": [
       "<div>\n",
       "<style scoped>\n",
       "    .dataframe tbody tr th:only-of-type {\n",
       "        vertical-align: middle;\n",
       "    }\n",
       "\n",
       "    .dataframe tbody tr th {\n",
       "        vertical-align: top;\n",
       "    }\n",
       "\n",
       "    .dataframe thead th {\n",
       "        text-align: right;\n",
       "    }\n",
       "</style>\n",
       "<table border=\"1\" class=\"dataframe\">\n",
       "  <thead>\n",
       "    <tr style=\"text-align: right;\">\n",
       "      <th></th>\n",
       "      <th>key_0</th>\n",
       "      <th>category_x</th>\n",
       "      <th>category_y</th>\n",
       "      <th>pct_sale</th>\n",
       "    </tr>\n",
       "  </thead>\n",
       "  <tbody>\n",
       "    <tr>\n",
       "      <th>29</th>\n",
       "      <td>bb-cc-cream-face-makeup</td>\n",
       "      <td>0.0</td>\n",
       "      <td>37</td>\n",
       "      <td>0.00</td>\n",
       "    </tr>\n",
       "    <tr>\n",
       "      <th>27</th>\n",
       "      <td>mascara</td>\n",
       "      <td>0.0</td>\n",
       "      <td>202</td>\n",
       "      <td>0.00</td>\n",
       "    </tr>\n",
       "    <tr>\n",
       "      <th>28</th>\n",
       "      <td>tinted-moisturizer</td>\n",
       "      <td>0.0</td>\n",
       "      <td>49</td>\n",
       "      <td>0.00</td>\n",
       "    </tr>\n",
       "    <tr>\n",
       "      <th>26</th>\n",
       "      <td>setting-powder-face-powder</td>\n",
       "      <td>1.0</td>\n",
       "      <td>162</td>\n",
       "      <td>0.01</td>\n",
       "    </tr>\n",
       "    <tr>\n",
       "      <th>20</th>\n",
       "      <td>foundation-makeup</td>\n",
       "      <td>3.0</td>\n",
       "      <td>213</td>\n",
       "      <td>0.01</td>\n",
       "    </tr>\n",
       "  </tbody>\n",
       "</table>\n",
       "</div>"
      ],
      "text/plain": [
       "                         key_0  category_x  category_y  pct_sale\n",
       "29     bb-cc-cream-face-makeup         0.0          37      0.00\n",
       "27                     mascara         0.0         202      0.00\n",
       "28          tinted-moisturizer         0.0          49      0.00\n",
       "26  setting-powder-face-powder         1.0         162      0.01\n",
       "20           foundation-makeup         3.0         213      0.01"
      ]
     },
     "execution_count": 103,
     "metadata": {},
     "output_type": "execute_result"
    }
   ],
   "source": [
    "# % of products on sale ordered in ascending order\n",
    "c_count.sort_values(by = 'pct_sale', ascending = True).head()"
   ]
  },
  {
   "cell_type": "markdown",
   "metadata": {},
   "source": [
    "Unsurprisingly, the most products to go on sale are lipsticks, which also account for the most number of products. It is interesting to note that general lip products consisted of the highest percent of sale products. Products that are used very frequently like moisturizer or mascara did not go on sale at all. This may be due to the fact that these products are constantly sold."
   ]
  },
  {
   "cell_type": "code",
   "execution_count": 14,
   "metadata": {},
   "outputs": [
    {
     "name": "stderr",
     "output_type": "stream",
     "text": [
      "/anaconda3/envs/dsi/lib/python3.7/site-packages/ipykernel_launcher.py:1: SettingWithCopyWarning: \n",
      "A value is trying to be set on a copy of a slice from a DataFrame.\n",
      "Try using .loc[row_indexer,col_indexer] = value instead\n",
      "\n",
      "See the caveats in the documentation: http://pandas.pydata.org/pandas-docs/stable/indexing.html#indexing-view-versus-copy\n",
      "  \"\"\"Entry point for launching an IPython kernel.\n"
     ]
    }
   ],
   "source": [
    "sale_prod['sale_pct'] = np.round(((sale_prod['listPrice'] - sale_prod['salePrice'])/sale_prod['listPrice']),3)*100"
   ]
  },
  {
   "cell_type": "code",
   "execution_count": 15,
   "metadata": {},
   "outputs": [
    {
     "data": {
      "text/html": [
       "<div>\n",
       "<style scoped>\n",
       "    .dataframe tbody tr th:only-of-type {\n",
       "        vertical-align: middle;\n",
       "    }\n",
       "\n",
       "    .dataframe tbody tr th {\n",
       "        vertical-align: top;\n",
       "    }\n",
       "\n",
       "    .dataframe thead th {\n",
       "        text-align: right;\n",
       "    }\n",
       "</style>\n",
       "<table border=\"1\" class=\"dataframe\">\n",
       "  <thead>\n",
       "    <tr style=\"text-align: right;\">\n",
       "      <th></th>\n",
       "      <th>isLimitedEdition</th>\n",
       "      <th>isNew</th>\n",
       "      <th>isOnlineOnly</th>\n",
       "      <th>isSephoraExclusive</th>\n",
       "      <th>listPrice</th>\n",
       "      <th>salePrice</th>\n",
       "      <th>skuId</th>\n",
       "      <th>review_count</th>\n",
       "      <th>target</th>\n",
       "      <th>sale_pct</th>\n",
       "    </tr>\n",
       "    <tr>\n",
       "      <th>category</th>\n",
       "      <th></th>\n",
       "      <th></th>\n",
       "      <th></th>\n",
       "      <th></th>\n",
       "      <th></th>\n",
       "      <th></th>\n",
       "      <th></th>\n",
       "      <th></th>\n",
       "      <th></th>\n",
       "      <th></th>\n",
       "    </tr>\n",
       "  </thead>\n",
       "  <tbody>\n",
       "    <tr>\n",
       "      <th>eyeshadow-primer-eye-primer</th>\n",
       "      <td>0.500000</td>\n",
       "      <td>0.0</td>\n",
       "      <td>0.0</td>\n",
       "      <td>1.00</td>\n",
       "      <td>14.000000</td>\n",
       "      <td>5.000000</td>\n",
       "      <td>1.838969e+06</td>\n",
       "      <td>8.000000</td>\n",
       "      <td>1.0</td>\n",
       "      <td>64.250000</td>\n",
       "    </tr>\n",
       "    <tr>\n",
       "      <th>contour-palette-brush</th>\n",
       "      <td>0.666667</td>\n",
       "      <td>0.0</td>\n",
       "      <td>0.0</td>\n",
       "      <td>1.00</td>\n",
       "      <td>41.333333</td>\n",
       "      <td>20.333333</td>\n",
       "      <td>1.664278e+06</td>\n",
       "      <td>3.666667</td>\n",
       "      <td>1.0</td>\n",
       "      <td>51.266667</td>\n",
       "    </tr>\n",
       "    <tr>\n",
       "      <th>liquid-lipstick</th>\n",
       "      <td>0.333333</td>\n",
       "      <td>0.0</td>\n",
       "      <td>0.0</td>\n",
       "      <td>0.75</td>\n",
       "      <td>21.541667</td>\n",
       "      <td>10.904167</td>\n",
       "      <td>1.957420e+06</td>\n",
       "      <td>85.166667</td>\n",
       "      <td>1.0</td>\n",
       "      <td>50.316667</td>\n",
       "    </tr>\n",
       "    <tr>\n",
       "      <th>bronzer-makeup</th>\n",
       "      <td>0.000000</td>\n",
       "      <td>0.0</td>\n",
       "      <td>0.5</td>\n",
       "      <td>0.50</td>\n",
       "      <td>37.500000</td>\n",
       "      <td>20.000000</td>\n",
       "      <td>1.887702e+06</td>\n",
       "      <td>10.000000</td>\n",
       "      <td>1.0</td>\n",
       "      <td>50.000000</td>\n",
       "    </tr>\n",
       "    <tr>\n",
       "      <th>color-correcting</th>\n",
       "      <td>0.000000</td>\n",
       "      <td>0.0</td>\n",
       "      <td>0.0</td>\n",
       "      <td>1.00</td>\n",
       "      <td>29.750000</td>\n",
       "      <td>14.875000</td>\n",
       "      <td>1.881976e+06</td>\n",
       "      <td>4.500000</td>\n",
       "      <td>1.0</td>\n",
       "      <td>50.000000</td>\n",
       "    </tr>\n",
       "  </tbody>\n",
       "</table>\n",
       "</div>"
      ],
      "text/plain": [
       "                             isLimitedEdition  isNew  isOnlineOnly  \\\n",
       "category                                                             \n",
       "eyeshadow-primer-eye-primer          0.500000    0.0           0.0   \n",
       "contour-palette-brush                0.666667    0.0           0.0   \n",
       "liquid-lipstick                      0.333333    0.0           0.0   \n",
       "bronzer-makeup                       0.000000    0.0           0.5   \n",
       "color-correcting                     0.000000    0.0           0.0   \n",
       "\n",
       "                             isSephoraExclusive  listPrice  salePrice  \\\n",
       "category                                                                \n",
       "eyeshadow-primer-eye-primer                1.00  14.000000   5.000000   \n",
       "contour-palette-brush                      1.00  41.333333  20.333333   \n",
       "liquid-lipstick                            0.75  21.541667  10.904167   \n",
       "bronzer-makeup                             0.50  37.500000  20.000000   \n",
       "color-correcting                           1.00  29.750000  14.875000   \n",
       "\n",
       "                                    skuId  review_count  target   sale_pct  \n",
       "category                                                                    \n",
       "eyeshadow-primer-eye-primer  1.838969e+06      8.000000     1.0  64.250000  \n",
       "contour-palette-brush        1.664278e+06      3.666667     1.0  51.266667  \n",
       "liquid-lipstick              1.957420e+06     85.166667     1.0  50.316667  \n",
       "bronzer-makeup               1.887702e+06     10.000000     1.0  50.000000  \n",
       "color-correcting             1.881976e+06      4.500000     1.0  50.000000  "
      ]
     },
     "execution_count": 15,
     "metadata": {},
     "output_type": "execute_result"
    }
   ],
   "source": [
    "# Sort products by sale % descending order\n",
    "sale_prod.groupby(by = 'category').mean().sort_values('sale_pct', ascending = False).head(5)"
   ]
  },
  {
   "cell_type": "code",
   "execution_count": 16,
   "metadata": {},
   "outputs": [
    {
     "data": {
      "text/html": [
       "<div>\n",
       "<style scoped>\n",
       "    .dataframe tbody tr th:only-of-type {\n",
       "        vertical-align: middle;\n",
       "    }\n",
       "\n",
       "    .dataframe tbody tr th {\n",
       "        vertical-align: top;\n",
       "    }\n",
       "\n",
       "    .dataframe thead th {\n",
       "        text-align: right;\n",
       "    }\n",
       "</style>\n",
       "<table border=\"1\" class=\"dataframe\">\n",
       "  <thead>\n",
       "    <tr style=\"text-align: right;\">\n",
       "      <th></th>\n",
       "      <th>isLimitedEdition</th>\n",
       "      <th>isNew</th>\n",
       "      <th>isOnlineOnly</th>\n",
       "      <th>isSephoraExclusive</th>\n",
       "      <th>listPrice</th>\n",
       "      <th>salePrice</th>\n",
       "      <th>skuId</th>\n",
       "      <th>review_count</th>\n",
       "      <th>target</th>\n",
       "      <th>sale_pct</th>\n",
       "    </tr>\n",
       "    <tr>\n",
       "      <th>category</th>\n",
       "      <th></th>\n",
       "      <th></th>\n",
       "      <th></th>\n",
       "      <th></th>\n",
       "      <th></th>\n",
       "      <th></th>\n",
       "      <th></th>\n",
       "      <th></th>\n",
       "      <th></th>\n",
       "      <th></th>\n",
       "    </tr>\n",
       "  </thead>\n",
       "  <tbody>\n",
       "    <tr>\n",
       "      <th>lip-plumper</th>\n",
       "      <td>0.000</td>\n",
       "      <td>0.0</td>\n",
       "      <td>0.250000</td>\n",
       "      <td>0.750000</td>\n",
       "      <td>21.000000</td>\n",
       "      <td>15.25000</td>\n",
       "      <td>1.912338e+06</td>\n",
       "      <td>5.500000</td>\n",
       "      <td>1.0</td>\n",
       "      <td>27.100000</td>\n",
       "    </tr>\n",
       "    <tr>\n",
       "      <th>lip-balm-treatments-lips-makeup</th>\n",
       "      <td>0.125</td>\n",
       "      <td>0.0</td>\n",
       "      <td>0.375000</td>\n",
       "      <td>0.500000</td>\n",
       "      <td>32.000000</td>\n",
       "      <td>23.16875</td>\n",
       "      <td>1.882576e+06</td>\n",
       "      <td>5.625000</td>\n",
       "      <td>1.0</td>\n",
       "      <td>30.350000</td>\n",
       "    </tr>\n",
       "    <tr>\n",
       "      <th>under-eye-concealer</th>\n",
       "      <td>0.000</td>\n",
       "      <td>0.0</td>\n",
       "      <td>0.000000</td>\n",
       "      <td>0.333333</td>\n",
       "      <td>30.166667</td>\n",
       "      <td>19.75000</td>\n",
       "      <td>1.975177e+06</td>\n",
       "      <td>344.666667</td>\n",
       "      <td>1.0</td>\n",
       "      <td>34.466667</td>\n",
       "    </tr>\n",
       "    <tr>\n",
       "      <th>concealer</th>\n",
       "      <td>0.000</td>\n",
       "      <td>0.0</td>\n",
       "      <td>0.000000</td>\n",
       "      <td>0.400000</td>\n",
       "      <td>31.700000</td>\n",
       "      <td>20.15000</td>\n",
       "      <td>1.887799e+06</td>\n",
       "      <td>222.200000</td>\n",
       "      <td>1.0</td>\n",
       "      <td>36.840000</td>\n",
       "    </tr>\n",
       "    <tr>\n",
       "      <th>foundation-makeup</th>\n",
       "      <td>0.000</td>\n",
       "      <td>0.0</td>\n",
       "      <td>0.333333</td>\n",
       "      <td>0.666667</td>\n",
       "      <td>41.666667</td>\n",
       "      <td>25.50000</td>\n",
       "      <td>1.772903e+06</td>\n",
       "      <td>15.666667</td>\n",
       "      <td>1.0</td>\n",
       "      <td>38.333333</td>\n",
       "    </tr>\n",
       "  </tbody>\n",
       "</table>\n",
       "</div>"
      ],
      "text/plain": [
       "                                 isLimitedEdition  isNew  isOnlineOnly  \\\n",
       "category                                                                 \n",
       "lip-plumper                                 0.000    0.0      0.250000   \n",
       "lip-balm-treatments-lips-makeup             0.125    0.0      0.375000   \n",
       "under-eye-concealer                         0.000    0.0      0.000000   \n",
       "concealer                                   0.000    0.0      0.000000   \n",
       "foundation-makeup                           0.000    0.0      0.333333   \n",
       "\n",
       "                                 isSephoraExclusive  listPrice  salePrice  \\\n",
       "category                                                                    \n",
       "lip-plumper                                0.750000  21.000000   15.25000   \n",
       "lip-balm-treatments-lips-makeup            0.500000  32.000000   23.16875   \n",
       "under-eye-concealer                        0.333333  30.166667   19.75000   \n",
       "concealer                                  0.400000  31.700000   20.15000   \n",
       "foundation-makeup                          0.666667  41.666667   25.50000   \n",
       "\n",
       "                                        skuId  review_count  target   sale_pct  \n",
       "category                                                                        \n",
       "lip-plumper                      1.912338e+06      5.500000     1.0  27.100000  \n",
       "lip-balm-treatments-lips-makeup  1.882576e+06      5.625000     1.0  30.350000  \n",
       "under-eye-concealer              1.975177e+06    344.666667     1.0  34.466667  \n",
       "concealer                        1.887799e+06    222.200000     1.0  36.840000  \n",
       "foundation-makeup                1.772903e+06     15.666667     1.0  38.333333  "
      ]
     },
     "execution_count": 16,
     "metadata": {},
     "output_type": "execute_result"
    }
   ],
   "source": [
    "# Sort products by sale % ascending order\n",
    "sale_prod.groupby(by = 'category').mean().sort_values('sale_pct', ascending = True).head(5)"
   ]
  },
  {
   "cell_type": "code",
   "execution_count": 17,
   "metadata": {},
   "outputs": [
    {
     "data": {
      "image/png": "[encoded data removed]",
      "text/plain": [
       "<Figure size 720x720 with 1 Axes>"
      ]
     },
     "metadata": {
      "needs_background": "light"
     },
     "output_type": "display_data"
    }
   ],
   "source": [
    "# Plot the average sale percent per category for sale items \n",
    "plt.figure(figsize = (10, 10))\n",
    "sns.barplot(data = sale_prod, y = 'category', x = 'sale_pct', ci = None)\n",
    "plt.title('Average Sale Percent per Category for Sale Items')\n",
    "plt.xlabel('Average Sale Percent (%)');"
   ]
  },
  {
   "cell_type": "markdown",
   "metadata": {},
   "source": [
    "Eye primers had the greatest mark down in price followed by contour palettes. It is interesting to note that more than half of these products were also limited edition. It could be that consumers did not feel the need to buy a certain product based on the fact that it was just a limited edition packaging.  \n",
    "\n",
    "Lip products had the smallest percent of markdowns however lip products overall are not as expensive as their other makeup counterparts. Generally, lip products range from the 15-30 dollars mark while other items such a foundation or palettes will exceed 30 dollars."
   ]
  },
  {
   "cell_type": "code",
   "execution_count": 19,
   "metadata": {},
   "outputs": [
    {
     "data": {
      "text/plain": [
       "Text(0.5, 1.0, 'Average Regular Price for Sale Items')"
      ]
     },
     "execution_count": 19,
     "metadata": {},
     "output_type": "execute_result"
    },
    {
     "data": {
      "image/png": "[encoded data removed]",
      "text/plain": [
       "<Figure size 1080x792 with 3 Axes>"
      ]
     },
     "metadata": {
      "needs_background": "light"
     },
     "output_type": "display_data"
    },
    {
     "data": {
      "text/plain": [
       "<Figure size 1080x720 with 0 Axes>"
      ]
     },
     "metadata": {},
     "output_type": "display_data"
    }
   ],
   "source": [
    "# Plot the average regular prices for all items, regular and sale items\n",
    "fig, ax = plt.subplots(nrows = 1, ncols = 3, figsize = (15, 11), sharex = True)\n",
    "plt.subplots_adjust(wspace = 1.2)\n",
    "plt.figure(figsize = (15, 10))\n",
    "sns.barplot(data = products, x = 'listPrice', y = 'category', ci = None, ax = ax[0])\n",
    "\n",
    "ax[0].set_ylabel('Category')\n",
    "ax[0].set_xlabel('Average List Price')\n",
    "ax[0].set_title('Average Regular Price for All Items')\n",
    "\n",
    "sns.barplot(data = reg_prod, x = 'listPrice', y = 'category', ci = None, ax = ax[1])\n",
    "ax[1].set_ylabel('')\n",
    "ax[1].set_xlabel('Average List Price')\n",
    "ax[1].set_title('Average Regular Price for Regular Items')\n",
    "\n",
    "sns.barplot(data = sale_prod, x = 'listPrice', y = 'category', ci = None, ax = ax[2])\n",
    "ax[2].set_ylabel('')\n",
    "ax[2].set_xlabel('Average List Price')\n",
    "ax[2].set_title('Average Regular Price for Sale Items')\n",
    "\n"
   ]
  },
  {
   "cell_type": "markdown",
   "metadata": {},
   "source": [
    "Comparing the average regular prices of sale and regular priced items. Sale lip palettes had higher regular prices than those not on sale. Non sale complexion and eye shadow palettes had higher regular prices than their sale counterparts. "
   ]
  },
  {
   "cell_type": "code",
   "execution_count": 104,
   "metadata": {},
   "outputs": [
    {
     "data": {
      "image/png": "[encoded data removed]",
      "text/plain": [
       "<Figure size 1080x792 with 2 Axes>"
      ]
     },
     "metadata": {
      "needs_background": "light"
     },
     "output_type": "display_data"
    },
    {
     "data": {
      "text/plain": [
       "<Figure size 468x468 with 0 Axes>"
      ]
     },
     "metadata": {},
     "output_type": "display_data"
    }
   ],
   "source": [
    "# Comparing regular price vs sale price for sale items.\n",
    "fig, axes = plt.subplots(nrows = 1, ncols = 2, figsize = (15, 11), sharex = True)\n",
    "plt.subplots_adjust(wspace = .75)\n",
    "plt.figure(figsize = (6.5,6.5))\n",
    "sns.barplot(data = sale_prod, x = 'listPrice', y = 'category', ci = None, ax = axes[1])\n",
    "axes[0].set_title('Sale Price for Sale Items')\n",
    "sns.barplot(data = sale_prod, x = 'salePrice', y = 'category', ci = None, ax = axes[0])\n",
    "axes[1].set_title('Regular Price for Sale Items');"
   ]
  },
  {
   "cell_type": "code",
   "execution_count": 21,
   "metadata": {},
   "outputs": [
    {
     "data": {
      "image/png": "[encoded data removed]",
      "text/plain": [
       "<Figure size 1080x792 with 2 Axes>"
      ]
     },
     "metadata": {
      "needs_background": "light"
     },
     "output_type": "display_data"
    },
    {
     "data": {
      "text/plain": [
       "<Figure size 468x468 with 0 Axes>"
      ]
     },
     "metadata": {},
     "output_type": "display_data"
    }
   ],
   "source": [
    "# Value counts for each category, regular vs sale\n",
    "fig, axes = plt.subplots(nrows = 1, ncols = 2, figsize = (15, 11))\n",
    "plt.subplots_adjust(wspace = .75)\n",
    "plt.figure(figsize = (6.5,6.5))\n",
    "sns.countplot(data = reg_prod, y = 'category', ax = axes[0])\n",
    "axes[0].set_title('Regular Products')\n",
    "sns.countplot(data = sale_prod, y = 'category', ax = axes[1])\n",
    "axes[1].set_title('Sale Products');"
   ]
  },
  {
   "cell_type": "markdown",
   "metadata": {},
   "source": [
    "The products that went on sale the most also had the highest number of products in their categories."
   ]
  },
  {
   "cell_type": "code",
   "execution_count": 22,
   "metadata": {},
   "outputs": [
    {
     "data": {
      "image/png": "[encoded data removed]",
      "text/plain": [
       "<Figure size 1080x792 with 2 Axes>"
      ]
     },
     "metadata": {
      "needs_background": "light"
     },
     "output_type": "display_data"
    },
    {
     "data": {
      "text/plain": [
       "<Figure size 468x468 with 0 Axes>"
      ]
     },
     "metadata": {},
     "output_type": "display_data"
    }
   ],
   "source": [
    "# X-axis on the same scale\n",
    "fig, axes = plt.subplots(nrows = 1, ncols = 2, figsize = (15, 11), sharex = True)\n",
    "plt.subplots_adjust(wspace = .75)\n",
    "plt.figure(figsize = (6.5,6.5))\n",
    "sns.countplot(data = reg_prod, y = 'category', ax = axes[0])\n",
    "axes[0].set_title('Regular Products')\n",
    "sns.countplot(data = sale_prod, y = 'category', ax = axes[1])\n",
    "axes[1].set_title('Sale Products');"
   ]
  },
  {
   "cell_type": "markdown",
   "metadata": {},
   "source": [
    "Using the same axis as the regular priced items gives a better sense of how often these products go on sale. Lipsticks, highlighters and eye shadows go on sale the most."
   ]
  },
  {
   "cell_type": "code",
   "execution_count": 23,
   "metadata": {},
   "outputs": [
    {
     "data": {
      "text/plain": [
       "False    185\n",
       "Name: isNew, dtype: int64"
      ]
     },
     "execution_count": 23,
     "metadata": {},
     "output_type": "execute_result"
    }
   ],
   "source": [
    "# New items don't go on sale\n",
    "sale_prod['isNew'].value_counts()"
   ]
  },
  {
   "cell_type": "code",
   "execution_count": 105,
   "metadata": {},
   "outputs": [
    {
     "data": {
      "text/plain": [
       "SEPHORA COLLECTION         0.281081\n",
       "FENTY BEAUTY by Rihanna    0.081081\n",
       "Black Up                   0.081081\n",
       "Kat Von D                  0.075676\n",
       "MAKE UP FOR EVER           0.059459\n",
       "Name: brand_name, dtype: float64"
      ]
     },
     "execution_count": 105,
     "metadata": {},
     "output_type": "execute_result"
    }
   ],
   "source": [
    "sale_prod['brand_name'].value_counts(normalize= True)[0:5]"
   ]
  },
  {
   "cell_type": "code",
   "execution_count": 107,
   "metadata": {},
   "outputs": [
    {
     "data": {
      "text/plain": [
       "(5.856, 34.6]     0.708108\n",
       "(34.6, 63.2]      0.264865\n",
       "(91.8, 120.4]     0.016216\n",
       "(120.4, 149.0]    0.010811\n",
       "(63.2, 91.8]      0.000000\n",
       "Name: listPrice, dtype: float64"
      ]
     },
     "execution_count": 107,
     "metadata": {},
     "output_type": "execute_result"
    }
   ],
   "source": [
    "sale_prod['listPrice'].value_counts(normalize = True,bins = 5).sort_values(ascending = False)"
   ]
  },
  {
   "cell_type": "code",
   "execution_count": 26,
   "metadata": {},
   "outputs": [
    {
     "data": {
      "text/plain": [
       "(1.731, 35.5]     0.617498\n",
       "(35.5, 69.0]      0.338609\n",
       "(69.0, 102.5]     0.025082\n",
       "(102.5, 136.0]    0.009555\n",
       "(136.0, 169.5]    0.003882\n",
       "(203.0, 236.5]    0.003285\n",
       "(236.5, 270.0]    0.001493\n",
       "(169.5, 203.0]    0.000597\n",
       "Name: listPrice, dtype: float64"
      ]
     },
     "execution_count": 26,
     "metadata": {},
     "output_type": "execute_result"
    }
   ],
   "source": [
    "reg_prod['listPrice'].value_counts(normalize = True, bins = 8).sort_values(ascending = False"
   ]
  },
  {
   "cell_type": "code",
   "execution_count": 27,
   "metadata": {},
   "outputs": [
    {
     "data": {
      "text/plain": [
       "(2.8970000000000002, 23.4]    0.794595\n",
       "(23.4, 43.8]                  0.178378\n",
       "(64.2, 84.6]                  0.016216\n",
       "(84.6, 105.0]                 0.010811\n",
       "(43.8, 64.2]                  0.000000\n",
       "Name: salePrice, dtype: float64"
      ]
     },
     "execution_count": 27,
     "metadata": {},
     "output_type": "execute_result"
    }
   ],
   "source": [
    "sale_prod['salePrice'].value_counts(normalize = True, bins = 5).sort_values(ascending = False)"
   ]
  },
  {
   "cell_type": "markdown",
   "metadata": {},
   "source": [
    "- There were no new products that were put on sale. This makes sense.   \n",
    "- The brand name that went on sale the most was Sephora's in house brand, the Sephora Collection. It would be the easiest to put their in house items on sale most frequently as they are not bound by any contracts. Also, there might be lots of inventory for their in house products.   \n",
    "- Surprisingly, it looks as though price did not contribute much to whether an item goes on sale. The regular prices for sale items mostly fell under 63 dollars. Most non-sale items' regular prices also fell under 69 dollars.   \n",
    "- Almost all items that went on sale had a sale price under 44 dollars."
   ]
  },
  {
   "cell_type": "code",
   "execution_count": 116,
   "metadata": {},
   "outputs": [
    {
     "data": {
      "text/plain": [
       "<matplotlib.axes._subplots.AxesSubplot at 0x1a28591cc0>"
      ]
     },
     "execution_count": 116,
     "metadata": {},
     "output_type": "execute_result"
    },
    {
     "data": {
      "image/png": "[encoded data removed]",
      "text/plain": [
       "<Figure size 504x504 with 2 Axes>"
      ]
     },
     "metadata": {
      "needs_background": "light"
     },
     "output_type": "display_data"
    }
   ],
   "source": [
    "plt.figure(figsize = (7, 7))\n",
    "plt.title('Correlation between Sale Products')\n",
    "\n",
    "mask = np.zeros_like(sale_prod.corr(), dtype=np.bool)\n",
    "mask[np.triu_indices_from(mask)] = True\n",
    "\n",
    "sns.heatmap(sale_prod.corr(), vmin = -1, vmax= 1, cmap = 'coolwarm', annot = True, mask = mask,\n",
    "            cbar_kws = {'shrink':.5})"
   ]
  },
  {
   "cell_type": "markdown",
   "metadata": {},
   "source": [
    "For the sale products, the sale price is most highly correlated with list price."
   ]
  },
  {
   "cell_type": "code",
   "execution_count": 117,
   "metadata": {},
   "outputs": [
    {
     "data": {
      "text/plain": [
       "<matplotlib.axes._subplots.AxesSubplot at 0x1a2919d978>"
      ]
     },
     "execution_count": 117,
     "metadata": {},
     "output_type": "execute_result"
    },
    {
     "data": {
      "image/png": "[encoded data removed]",
      "text/plain": [
       "<Figure size 504x504 with 2 Axes>"
      ]
     },
     "metadata": {
      "needs_background": "light"
     },
     "output_type": "display_data"
    }
   ],
   "source": [
    "plt.figure(figsize = (7, 7))\n",
    "plt.title('Correlation between All Products')\n",
    "\n",
    "mask = np.zeros_like(products.corr(), dtype=np.bool)\n",
    "mask[np.triu_indices_from(mask)] = True\n",
    "\n",
    "sns.heatmap(products.corr(), vmin = -1, vmax= 1, cmap = 'coolwarm', annot = True, mask = mask,\n",
    "            cbar_kws = {'shrink':.5})"
   ]
  },
  {
   "cell_type": "markdown",
   "metadata": {},
   "source": [
    "For all products, the target had the highest correlation with sale price. This makes sense because the sale price will indicate whether or not a product is on sale to begi with. The variables are largely uncorrelated with one another."
   ]
  },
  {
   "cell_type": "markdown",
   "metadata": {},
   "source": [
    "The correlatio plots did not reveal anything new from the data but it is important to note that there is no multicollinearity"
   ]
  },
  {
   "cell_type": "markdown",
   "metadata": {},
   "source": [
    "## Ratings"
   ]
  },
  {
   "cell_type": "code",
   "execution_count": 30,
   "metadata": {},
   "outputs": [
    {
     "data": {
      "text/html": [
       "<div>\n",
       "<style scoped>\n",
       "    .dataframe tbody tr th:only-of-type {\n",
       "        vertical-align: middle;\n",
       "    }\n",
       "\n",
       "    .dataframe tbody tr th {\n",
       "        vertical-align: top;\n",
       "    }\n",
       "\n",
       "    .dataframe thead th {\n",
       "        text-align: right;\n",
       "    }\n",
       "</style>\n",
       "<table border=\"1\" class=\"dataframe\">\n",
       "  <thead>\n",
       "    <tr style=\"text-align: right;\">\n",
       "      <th></th>\n",
       "      <th>1 star</th>\n",
       "      <th>2 stars</th>\n",
       "      <th>3 stars</th>\n",
       "      <th>4 stars</th>\n",
       "      <th>5 stars</th>\n",
       "      <th>avg_rating</th>\n",
       "      <th>product_id</th>\n",
       "      <th>review_count</th>\n",
       "      <th>total_ratings</th>\n",
       "      <th>target</th>\n",
       "    </tr>\n",
       "  </thead>\n",
       "  <tbody>\n",
       "    <tr>\n",
       "      <th>0</th>\n",
       "      <td>0</td>\n",
       "      <td>0</td>\n",
       "      <td>0</td>\n",
       "      <td>5</td>\n",
       "      <td>11</td>\n",
       "      <td>4.7</td>\n",
       "      <td>2268274</td>\n",
       "      <td>16</td>\n",
       "      <td>16</td>\n",
       "      <td>0</td>\n",
       "    </tr>\n",
       "    <tr>\n",
       "      <th>1</th>\n",
       "      <td>28</td>\n",
       "      <td>35</td>\n",
       "      <td>57</td>\n",
       "      <td>212</td>\n",
       "      <td>548</td>\n",
       "      <td>4.4</td>\n",
       "      <td>2257111</td>\n",
       "      <td>880</td>\n",
       "      <td>880</td>\n",
       "      <td>0</td>\n",
       "    </tr>\n",
       "    <tr>\n",
       "      <th>2</th>\n",
       "      <td>1139</td>\n",
       "      <td>1279</td>\n",
       "      <td>1324</td>\n",
       "      <td>2149</td>\n",
       "      <td>8379</td>\n",
       "      <td>4.1</td>\n",
       "      <td>2164671</td>\n",
       "      <td>14270</td>\n",
       "      <td>14270</td>\n",
       "      <td>0</td>\n",
       "    </tr>\n",
       "    <tr>\n",
       "      <th>3</th>\n",
       "      <td>1</td>\n",
       "      <td>10</td>\n",
       "      <td>23</td>\n",
       "      <td>115</td>\n",
       "      <td>214</td>\n",
       "      <td>4.5</td>\n",
       "      <td>2242105</td>\n",
       "      <td>363</td>\n",
       "      <td>363</td>\n",
       "      <td>0</td>\n",
       "    </tr>\n",
       "    <tr>\n",
       "      <th>4</th>\n",
       "      <td>213</td>\n",
       "      <td>258</td>\n",
       "      <td>299</td>\n",
       "      <td>837</td>\n",
       "      <td>3758</td>\n",
       "      <td>4.4</td>\n",
       "      <td>2112167</td>\n",
       "      <td>5365</td>\n",
       "      <td>5365</td>\n",
       "      <td>0</td>\n",
       "    </tr>\n",
       "  </tbody>\n",
       "</table>\n",
       "</div>"
      ],
      "text/plain": [
       "   1 star  2 stars  3 stars  4 stars  5 stars  avg_rating  product_id  \\\n",
       "0       0        0        0        5       11         4.7     2268274   \n",
       "1      28       35       57      212      548         4.4     2257111   \n",
       "2    1139     1279     1324     2149     8379         4.1     2164671   \n",
       "3       1       10       23      115      214         4.5     2242105   \n",
       "4     213      258      299      837     3758         4.4     2112167   \n",
       "\n",
       "   review_count  total_ratings  target  \n",
       "0            16             16       0  \n",
       "1           880            880       0  \n",
       "2         14270          14270       0  \n",
       "3           363            363       0  \n",
       "4          5365           5365       0  "
      ]
     },
     "execution_count": 30,
     "metadata": {},
     "output_type": "execute_result"
    }
   ],
   "source": [
    "ratings.head()"
   ]
  },
  {
   "cell_type": "code",
   "execution_count": 31,
   "metadata": {},
   "outputs": [],
   "source": [
    "# Split the ratings by sale and regular items\n",
    "sale_ratings = ratings[ratings['target'] == 1]\n",
    "reg_ratings = ratings[ratings['target'] == 0]"
   ]
  },
  {
   "cell_type": "code",
   "execution_count": 32,
   "metadata": {},
   "outputs": [
    {
     "data": {
      "text/html": [
       "<div>\n",
       "<style scoped>\n",
       "    .dataframe tbody tr th:only-of-type {\n",
       "        vertical-align: middle;\n",
       "    }\n",
       "\n",
       "    .dataframe tbody tr th {\n",
       "        vertical-align: top;\n",
       "    }\n",
       "\n",
       "    .dataframe thead th {\n",
       "        text-align: right;\n",
       "    }\n",
       "</style>\n",
       "<table border=\"1\" class=\"dataframe\">\n",
       "  <thead>\n",
       "    <tr style=\"text-align: right;\">\n",
       "      <th></th>\n",
       "      <th>1 star</th>\n",
       "      <th>2 stars</th>\n",
       "      <th>3 stars</th>\n",
       "      <th>4 stars</th>\n",
       "      <th>5 stars</th>\n",
       "      <th>avg_rating</th>\n",
       "      <th>product_id</th>\n",
       "      <th>review_count</th>\n",
       "      <th>total_ratings</th>\n",
       "      <th>target</th>\n",
       "    </tr>\n",
       "  </thead>\n",
       "  <tbody>\n",
       "    <tr>\n",
       "      <th>count</th>\n",
       "      <td>109.000000</td>\n",
       "      <td>109.000000</td>\n",
       "      <td>109.000000</td>\n",
       "      <td>109.000000</td>\n",
       "      <td>109.000000</td>\n",
       "      <td>109.000000</td>\n",
       "      <td>1.090000e+02</td>\n",
       "      <td>109.000000</td>\n",
       "      <td>109.000000</td>\n",
       "      <td>109.0</td>\n",
       "    </tr>\n",
       "    <tr>\n",
       "      <th>mean</th>\n",
       "      <td>23.440367</td>\n",
       "      <td>20.862385</td>\n",
       "      <td>28.889908</td>\n",
       "      <td>70.752294</td>\n",
       "      <td>167.761468</td>\n",
       "      <td>3.855963</td>\n",
       "      <td>1.928570e+06</td>\n",
       "      <td>311.706422</td>\n",
       "      <td>311.706422</td>\n",
       "      <td>1.0</td>\n",
       "    </tr>\n",
       "    <tr>\n",
       "      <th>std</th>\n",
       "      <td>48.848108</td>\n",
       "      <td>46.593289</td>\n",
       "      <td>70.305595</td>\n",
       "      <td>186.650404</td>\n",
       "      <td>414.029743</td>\n",
       "      <td>0.534968</td>\n",
       "      <td>1.577955e+05</td>\n",
       "      <td>750.763085</td>\n",
       "      <td>750.763085</td>\n",
       "      <td>0.0</td>\n",
       "    </tr>\n",
       "    <tr>\n",
       "      <th>min</th>\n",
       "      <td>0.000000</td>\n",
       "      <td>0.000000</td>\n",
       "      <td>0.000000</td>\n",
       "      <td>0.000000</td>\n",
       "      <td>1.000000</td>\n",
       "      <td>1.700000</td>\n",
       "      <td>1.501428e+06</td>\n",
       "      <td>5.000000</td>\n",
       "      <td>5.000000</td>\n",
       "      <td>1.0</td>\n",
       "    </tr>\n",
       "    <tr>\n",
       "      <th>25%</th>\n",
       "      <td>3.000000</td>\n",
       "      <td>3.000000</td>\n",
       "      <td>4.000000</td>\n",
       "      <td>6.000000</td>\n",
       "      <td>14.000000</td>\n",
       "      <td>3.600000</td>\n",
       "      <td>1.813930e+06</td>\n",
       "      <td>33.000000</td>\n",
       "      <td>33.000000</td>\n",
       "      <td>1.0</td>\n",
       "    </tr>\n",
       "    <tr>\n",
       "      <th>50%</th>\n",
       "      <td>9.000000</td>\n",
       "      <td>8.000000</td>\n",
       "      <td>8.000000</td>\n",
       "      <td>15.000000</td>\n",
       "      <td>41.000000</td>\n",
       "      <td>3.900000</td>\n",
       "      <td>1.911171e+06</td>\n",
       "      <td>85.000000</td>\n",
       "      <td>85.000000</td>\n",
       "      <td>1.0</td>\n",
       "    </tr>\n",
       "    <tr>\n",
       "      <th>75%</th>\n",
       "      <td>25.000000</td>\n",
       "      <td>16.000000</td>\n",
       "      <td>18.000000</td>\n",
       "      <td>31.000000</td>\n",
       "      <td>100.000000</td>\n",
       "      <td>4.300000</td>\n",
       "      <td>2.060762e+06</td>\n",
       "      <td>180.000000</td>\n",
       "      <td>180.000000</td>\n",
       "      <td>1.0</td>\n",
       "    </tr>\n",
       "    <tr>\n",
       "      <th>max</th>\n",
       "      <td>304.000000</td>\n",
       "      <td>313.000000</td>\n",
       "      <td>481.000000</td>\n",
       "      <td>1175.000000</td>\n",
       "      <td>2646.000000</td>\n",
       "      <td>4.700000</td>\n",
       "      <td>2.226785e+06</td>\n",
       "      <td>4919.000000</td>\n",
       "      <td>4919.000000</td>\n",
       "      <td>1.0</td>\n",
       "    </tr>\n",
       "  </tbody>\n",
       "</table>\n",
       "</div>"
      ],
      "text/plain": [
       "           1 star     2 stars     3 stars      4 stars      5 stars  \\\n",
       "count  109.000000  109.000000  109.000000   109.000000   109.000000   \n",
       "mean    23.440367   20.862385   28.889908    70.752294   167.761468   \n",
       "std     48.848108   46.593289   70.305595   186.650404   414.029743   \n",
       "min      0.000000    0.000000    0.000000     0.000000     1.000000   \n",
       "25%      3.000000    3.000000    4.000000     6.000000    14.000000   \n",
       "50%      9.000000    8.000000    8.000000    15.000000    41.000000   \n",
       "75%     25.000000   16.000000   18.000000    31.000000   100.000000   \n",
       "max    304.000000  313.000000  481.000000  1175.000000  2646.000000   \n",
       "\n",
       "       avg_rating    product_id  review_count  total_ratings  target  \n",
       "count  109.000000  1.090000e+02    109.000000     109.000000   109.0  \n",
       "mean     3.855963  1.928570e+06    311.706422     311.706422     1.0  \n",
       "std      0.534968  1.577955e+05    750.763085     750.763085     0.0  \n",
       "min      1.700000  1.501428e+06      5.000000       5.000000     1.0  \n",
       "25%      3.600000  1.813930e+06     33.000000      33.000000     1.0  \n",
       "50%      3.900000  1.911171e+06     85.000000      85.000000     1.0  \n",
       "75%      4.300000  2.060762e+06    180.000000     180.000000     1.0  \n",
       "max      4.700000  2.226785e+06   4919.000000    4919.000000     1.0  "
      ]
     },
     "execution_count": 32,
     "metadata": {},
     "output_type": "execute_result"
    }
   ],
   "source": [
    "sale_ratings.describe()"
   ]
  },
  {
   "cell_type": "code",
   "execution_count": 33,
   "metadata": {},
   "outputs": [
    {
     "data": {
      "text/html": [
       "<div>\n",
       "<style scoped>\n",
       "    .dataframe tbody tr th:only-of-type {\n",
       "        vertical-align: middle;\n",
       "    }\n",
       "\n",
       "    .dataframe tbody tr th {\n",
       "        vertical-align: top;\n",
       "    }\n",
       "\n",
       "    .dataframe thead th {\n",
       "        text-align: right;\n",
       "    }\n",
       "</style>\n",
       "<table border=\"1\" class=\"dataframe\">\n",
       "  <thead>\n",
       "    <tr style=\"text-align: right;\">\n",
       "      <th></th>\n",
       "      <th>1 star</th>\n",
       "      <th>2 stars</th>\n",
       "      <th>3 stars</th>\n",
       "      <th>4 stars</th>\n",
       "      <th>5 stars</th>\n",
       "      <th>avg_rating</th>\n",
       "      <th>product_id</th>\n",
       "      <th>review_count</th>\n",
       "      <th>total_ratings</th>\n",
       "      <th>target</th>\n",
       "    </tr>\n",
       "  </thead>\n",
       "  <tbody>\n",
       "    <tr>\n",
       "      <th>count</th>\n",
       "      <td>2174.000000</td>\n",
       "      <td>2174.000000</td>\n",
       "      <td>2174.000000</td>\n",
       "      <td>2174.000000</td>\n",
       "      <td>2174.000000</td>\n",
       "      <td>2174.000000</td>\n",
       "      <td>2.174000e+03</td>\n",
       "      <td>2174.000000</td>\n",
       "      <td>2174.000000</td>\n",
       "      <td>2174.0</td>\n",
       "    </tr>\n",
       "    <tr>\n",
       "      <th>mean</th>\n",
       "      <td>44.471941</td>\n",
       "      <td>45.971021</td>\n",
       "      <td>62.406164</td>\n",
       "      <td>152.092456</td>\n",
       "      <td>477.283809</td>\n",
       "      <td>4.149770</td>\n",
       "      <td>1.875873e+06</td>\n",
       "      <td>782.225391</td>\n",
       "      <td>782.225391</td>\n",
       "      <td>0.0</td>\n",
       "    </tr>\n",
       "    <tr>\n",
       "      <th>std</th>\n",
       "      <td>112.386933</td>\n",
       "      <td>106.706644</td>\n",
       "      <td>132.995034</td>\n",
       "      <td>321.259547</td>\n",
       "      <td>1141.141360</td>\n",
       "      <td>0.418649</td>\n",
       "      <td>3.690001e+05</td>\n",
       "      <td>1740.717521</td>\n",
       "      <td>1740.717521</td>\n",
       "      <td>0.0</td>\n",
       "    </tr>\n",
       "    <tr>\n",
       "      <th>min</th>\n",
       "      <td>0.000000</td>\n",
       "      <td>0.000000</td>\n",
       "      <td>0.000000</td>\n",
       "      <td>0.000000</td>\n",
       "      <td>0.000000</td>\n",
       "      <td>1.800000</td>\n",
       "      <td>5.153200e+04</td>\n",
       "      <td>1.000000</td>\n",
       "      <td>1.000000</td>\n",
       "      <td>0.0</td>\n",
       "    </tr>\n",
       "    <tr>\n",
       "      <th>25%</th>\n",
       "      <td>2.000000</td>\n",
       "      <td>3.000000</td>\n",
       "      <td>4.000000</td>\n",
       "      <td>6.000000</td>\n",
       "      <td>23.000000</td>\n",
       "      <td>3.900000</td>\n",
       "      <td>1.727408e+06</td>\n",
       "      <td>40.000000</td>\n",
       "      <td>40.000000</td>\n",
       "      <td>0.0</td>\n",
       "    </tr>\n",
       "    <tr>\n",
       "      <th>50%</th>\n",
       "      <td>10.000000</td>\n",
       "      <td>11.000000</td>\n",
       "      <td>15.000000</td>\n",
       "      <td>30.000000</td>\n",
       "      <td>98.500000</td>\n",
       "      <td>4.200000</td>\n",
       "      <td>1.968981e+06</td>\n",
       "      <td>174.500000</td>\n",
       "      <td>174.500000</td>\n",
       "      <td>0.0</td>\n",
       "    </tr>\n",
       "    <tr>\n",
       "      <th>75%</th>\n",
       "      <td>38.000000</td>\n",
       "      <td>42.750000</td>\n",
       "      <td>63.000000</td>\n",
       "      <td>149.000000</td>\n",
       "      <td>412.750000</td>\n",
       "      <td>4.400000</td>\n",
       "      <td>2.137183e+06</td>\n",
       "      <td>708.250000</td>\n",
       "      <td>708.250000</td>\n",
       "      <td>0.0</td>\n",
       "    </tr>\n",
       "    <tr>\n",
       "      <th>max</th>\n",
       "      <td>1766.000000</td>\n",
       "      <td>1742.000000</td>\n",
       "      <td>1772.000000</td>\n",
       "      <td>2989.000000</td>\n",
       "      <td>15008.000000</td>\n",
       "      <td>5.000000</td>\n",
       "      <td>2.274298e+06</td>\n",
       "      <td>19413.000000</td>\n",
       "      <td>19413.000000</td>\n",
       "      <td>0.0</td>\n",
       "    </tr>\n",
       "  </tbody>\n",
       "</table>\n",
       "</div>"
      ],
      "text/plain": [
       "            1 star      2 stars      3 stars      4 stars       5 stars  \\\n",
       "count  2174.000000  2174.000000  2174.000000  2174.000000   2174.000000   \n",
       "mean     44.471941    45.971021    62.406164   152.092456    477.283809   \n",
       "std     112.386933   106.706644   132.995034   321.259547   1141.141360   \n",
       "min       0.000000     0.000000     0.000000     0.000000      0.000000   \n",
       "25%       2.000000     3.000000     4.000000     6.000000     23.000000   \n",
       "50%      10.000000    11.000000    15.000000    30.000000     98.500000   \n",
       "75%      38.000000    42.750000    63.000000   149.000000    412.750000   \n",
       "max    1766.000000  1742.000000  1772.000000  2989.000000  15008.000000   \n",
       "\n",
       "        avg_rating    product_id  review_count  total_ratings  target  \n",
       "count  2174.000000  2.174000e+03   2174.000000    2174.000000  2174.0  \n",
       "mean      4.149770  1.875873e+06    782.225391     782.225391     0.0  \n",
       "std       0.418649  3.690001e+05   1740.717521    1740.717521     0.0  \n",
       "min       1.800000  5.153200e+04      1.000000       1.000000     0.0  \n",
       "25%       3.900000  1.727408e+06     40.000000      40.000000     0.0  \n",
       "50%       4.200000  1.968981e+06    174.500000     174.500000     0.0  \n",
       "75%       4.400000  2.137183e+06    708.250000     708.250000     0.0  \n",
       "max       5.000000  2.274298e+06  19413.000000   19413.000000     0.0  "
      ]
     },
     "execution_count": 33,
     "metadata": {},
     "output_type": "execute_result"
    }
   ],
   "source": [
    "reg_ratings.describe()"
   ]
  },
  {
   "cell_type": "markdown",
   "metadata": {},
   "source": [
    "From a first glance, the average rating for sale products was not much lower than the average rating from regular priced items. There were much fewer ratings for sale products however. At the 75th percentile, 75% of sale items' review count fell under 180. While for regular priced products at the 50th percentile, the review count was up to 175 reviews. "
   ]
  },
  {
   "cell_type": "code",
   "execution_count": 34,
   "metadata": {},
   "outputs": [
    {
     "data": {
      "text/html": [
       "<div>\n",
       "<style scoped>\n",
       "    .dataframe tbody tr th:only-of-type {\n",
       "        vertical-align: middle;\n",
       "    }\n",
       "\n",
       "    .dataframe tbody tr th {\n",
       "        vertical-align: top;\n",
       "    }\n",
       "\n",
       "    .dataframe thead th {\n",
       "        text-align: right;\n",
       "    }\n",
       "</style>\n",
       "<table border=\"1\" class=\"dataframe\">\n",
       "  <thead>\n",
       "    <tr style=\"text-align: right;\">\n",
       "      <th></th>\n",
       "      <th>0</th>\n",
       "    </tr>\n",
       "  </thead>\n",
       "  <tbody>\n",
       "    <tr>\n",
       "      <th>1 star</th>\n",
       "      <td>0.075200</td>\n",
       "    </tr>\n",
       "    <tr>\n",
       "      <th>2 stars</th>\n",
       "      <td>0.066930</td>\n",
       "    </tr>\n",
       "    <tr>\n",
       "      <th>3 stars</th>\n",
       "      <td>0.092683</td>\n",
       "    </tr>\n",
       "    <tr>\n",
       "      <th>4 stars</th>\n",
       "      <td>0.226984</td>\n",
       "    </tr>\n",
       "    <tr>\n",
       "      <th>5 stars</th>\n",
       "      <td>0.538203</td>\n",
       "    </tr>\n",
       "  </tbody>\n",
       "</table>\n",
       "</div>"
      ],
      "text/plain": [
       "                0\n",
       "1 star   0.075200\n",
       "2 stars  0.066930\n",
       "3 stars  0.092683\n",
       "4 stars  0.226984\n",
       "5 stars  0.538203"
      ]
     },
     "execution_count": 34,
     "metadata": {},
     "output_type": "execute_result"
    }
   ],
   "source": [
    "pd.DataFrame(sale_ratings.sum()[0:5]/sum(sale_ratings.sum()[0:5]))"
   ]
  },
  {
   "cell_type": "code",
   "execution_count": 35,
   "metadata": {},
   "outputs": [
    {
     "data": {
      "text/html": [
       "<div>\n",
       "<style scoped>\n",
       "    .dataframe tbody tr th:only-of-type {\n",
       "        vertical-align: middle;\n",
       "    }\n",
       "\n",
       "    .dataframe tbody tr th {\n",
       "        vertical-align: top;\n",
       "    }\n",
       "\n",
       "    .dataframe thead th {\n",
       "        text-align: right;\n",
       "    }\n",
       "</style>\n",
       "<table border=\"1\" class=\"dataframe\">\n",
       "  <thead>\n",
       "    <tr style=\"text-align: right;\">\n",
       "      <th></th>\n",
       "      <th>0</th>\n",
       "    </tr>\n",
       "  </thead>\n",
       "  <tbody>\n",
       "    <tr>\n",
       "      <th>1 star</th>\n",
       "      <td>0.056853</td>\n",
       "    </tr>\n",
       "    <tr>\n",
       "      <th>2 stars</th>\n",
       "      <td>0.058770</td>\n",
       "    </tr>\n",
       "    <tr>\n",
       "      <th>3 stars</th>\n",
       "      <td>0.079780</td>\n",
       "    </tr>\n",
       "    <tr>\n",
       "      <th>4 stars</th>\n",
       "      <td>0.194436</td>\n",
       "    </tr>\n",
       "    <tr>\n",
       "      <th>5 stars</th>\n",
       "      <td>0.610161</td>\n",
       "    </tr>\n",
       "  </tbody>\n",
       "</table>\n",
       "</div>"
      ],
      "text/plain": [
       "                0\n",
       "1 star   0.056853\n",
       "2 stars  0.058770\n",
       "3 stars  0.079780\n",
       "4 stars  0.194436\n",
       "5 stars  0.610161"
      ]
     },
     "execution_count": 35,
     "metadata": {},
     "output_type": "execute_result"
    }
   ],
   "source": [
    "pd.DataFrame(reg_ratings.sum()[0:5]/sum(reg_ratings.sum()[0:5]))"
   ]
  },
  {
   "cell_type": "markdown",
   "metadata": {},
   "source": [
    "On average, sale products had more products given 1 stars or 2 stars ratings. The regular ratings also had a higher average rate of 5 star ratings"
   ]
  },
  {
   "cell_type": "code",
   "execution_count": 122,
   "metadata": {},
   "outputs": [
    {
     "data": {
      "text/plain": [
       "<matplotlib.axes._subplots.AxesSubplot at 0x1a27821208>"
      ]
     },
     "execution_count": 122,
     "metadata": {},
     "output_type": "execute_result"
    },
    {
     "data": {
      "image/png": "[encoded data removed]",
      "text/plain": [
       "<Figure size 576x576 with 2 Axes>"
      ]
     },
     "metadata": {
      "needs_background": "light"
     },
     "output_type": "display_data"
    }
   ],
   "source": [
    "plt.figure(figsize = (8, 8))\n",
    "plt.title('Correlation between Ratings')\n",
    "\n",
    "mask = np.zeros_like(ratings.corr(), dtype=np.bool)\n",
    "mask[np.triu_indices_from(mask)] = True\n",
    "\n",
    "sns.heatmap(ratings.corr(), vmin = -1, vmax= 1, cmap = 'coolwarm', annot = True, mask = mask,\n",
    "            cbar_kws = {'shrink':.5})\n",
    "\n"
   ]
  },
  {
   "cell_type": "markdown",
   "metadata": {},
   "source": [
    "The ratings were highly correlated with one another. The total average rating had the highest correlation between the target."
   ]
  },
  {
   "cell_type": "markdown",
   "metadata": {},
   "source": [
    "## Summaries"
   ]
  },
  {
   "cell_type": "code",
   "execution_count": 37,
   "metadata": {},
   "outputs": [
    {
     "data": {
      "text/html": [
       "<div>\n",
       "<style scoped>\n",
       "    .dataframe tbody tr th:only-of-type {\n",
       "        vertical-align: middle;\n",
       "    }\n",
       "\n",
       "    .dataframe tbody tr th {\n",
       "        vertical-align: top;\n",
       "    }\n",
       "\n",
       "    .dataframe thead th {\n",
       "        text-align: right;\n",
       "    }\n",
       "</style>\n",
       "<table border=\"1\" class=\"dataframe\">\n",
       "  <thead>\n",
       "    <tr style=\"text-align: right;\">\n",
       "      <th></th>\n",
       "      <th>product_id</th>\n",
       "      <th>a little go a long way</th>\n",
       "      <th>absorbs quickly</th>\n",
       "      <th>affordable</th>\n",
       "      <th>amazing</th>\n",
       "      <th>awesome</th>\n",
       "      <th>awful</th>\n",
       "      <th>beautiful</th>\n",
       "      <th>beautiful color</th>\n",
       "      <th>blend easily</th>\n",
       "      <th>...</th>\n",
       "      <th>very black</th>\n",
       "      <th>very pigmented</th>\n",
       "      <th>vibrant</th>\n",
       "      <th>volumizing</th>\n",
       "      <th>water resistant</th>\n",
       "      <th>waterproof</th>\n",
       "      <th>watery</th>\n",
       "      <th>weightless</th>\n",
       "      <th>wonderful</th>\n",
       "      <th>target</th>\n",
       "    </tr>\n",
       "  </thead>\n",
       "  <tbody>\n",
       "    <tr>\n",
       "      <th>0</th>\n",
       "      <td>51532</td>\n",
       "      <td>0.0</td>\n",
       "      <td>0.0</td>\n",
       "      <td>0.0</td>\n",
       "      <td>2.0</td>\n",
       "      <td>1.0</td>\n",
       "      <td>0.0</td>\n",
       "      <td>1.0</td>\n",
       "      <td>0.0</td>\n",
       "      <td>1.0</td>\n",
       "      <td>...</td>\n",
       "      <td>0.0</td>\n",
       "      <td>0.0</td>\n",
       "      <td>0.0</td>\n",
       "      <td>0.0</td>\n",
       "      <td>0.0</td>\n",
       "      <td>0.0</td>\n",
       "      <td>0.0</td>\n",
       "      <td>0.0</td>\n",
       "      <td>0.0</td>\n",
       "      <td>0</td>\n",
       "    </tr>\n",
       "    <tr>\n",
       "      <th>1</th>\n",
       "      <td>51573</td>\n",
       "      <td>0.0</td>\n",
       "      <td>0.0</td>\n",
       "      <td>2.0</td>\n",
       "      <td>0.0</td>\n",
       "      <td>0.0</td>\n",
       "      <td>0.0</td>\n",
       "      <td>0.0</td>\n",
       "      <td>0.0</td>\n",
       "      <td>0.0</td>\n",
       "      <td>...</td>\n",
       "      <td>0.0</td>\n",
       "      <td>0.0</td>\n",
       "      <td>0.0</td>\n",
       "      <td>0.0</td>\n",
       "      <td>0.0</td>\n",
       "      <td>0.0</td>\n",
       "      <td>0.0</td>\n",
       "      <td>0.0</td>\n",
       "      <td>0.0</td>\n",
       "      <td>0</td>\n",
       "    </tr>\n",
       "    <tr>\n",
       "      <th>2</th>\n",
       "      <td>51904</td>\n",
       "      <td>0.0</td>\n",
       "      <td>0.0</td>\n",
       "      <td>0.0</td>\n",
       "      <td>3.0</td>\n",
       "      <td>0.0</td>\n",
       "      <td>0.0</td>\n",
       "      <td>0.0</td>\n",
       "      <td>0.0</td>\n",
       "      <td>0.0</td>\n",
       "      <td>...</td>\n",
       "      <td>0.0</td>\n",
       "      <td>0.0</td>\n",
       "      <td>0.0</td>\n",
       "      <td>0.0</td>\n",
       "      <td>0.0</td>\n",
       "      <td>0.0</td>\n",
       "      <td>0.0</td>\n",
       "      <td>0.0</td>\n",
       "      <td>0.0</td>\n",
       "      <td>0</td>\n",
       "    </tr>\n",
       "    <tr>\n",
       "      <th>3</th>\n",
       "      <td>52852</td>\n",
       "      <td>0.0</td>\n",
       "      <td>0.0</td>\n",
       "      <td>0.0</td>\n",
       "      <td>3.0</td>\n",
       "      <td>0.0</td>\n",
       "      <td>0.0</td>\n",
       "      <td>0.0</td>\n",
       "      <td>0.0</td>\n",
       "      <td>0.0</td>\n",
       "      <td>...</td>\n",
       "      <td>0.0</td>\n",
       "      <td>0.0</td>\n",
       "      <td>0.0</td>\n",
       "      <td>0.0</td>\n",
       "      <td>0.0</td>\n",
       "      <td>0.0</td>\n",
       "      <td>0.0</td>\n",
       "      <td>0.0</td>\n",
       "      <td>0.0</td>\n",
       "      <td>0</td>\n",
       "    </tr>\n",
       "    <tr>\n",
       "      <th>4</th>\n",
       "      <td>54312</td>\n",
       "      <td>0.0</td>\n",
       "      <td>0.0</td>\n",
       "      <td>0.0</td>\n",
       "      <td>1.0</td>\n",
       "      <td>0.0</td>\n",
       "      <td>0.0</td>\n",
       "      <td>1.0</td>\n",
       "      <td>0.0</td>\n",
       "      <td>0.0</td>\n",
       "      <td>...</td>\n",
       "      <td>0.0</td>\n",
       "      <td>0.0</td>\n",
       "      <td>0.0</td>\n",
       "      <td>0.0</td>\n",
       "      <td>0.0</td>\n",
       "      <td>0.0</td>\n",
       "      <td>0.0</td>\n",
       "      <td>0.0</td>\n",
       "      <td>0.0</td>\n",
       "      <td>0</td>\n",
       "    </tr>\n",
       "  </tbody>\n",
       "</table>\n",
       "<p>5 rows × 203 columns</p>\n",
       "</div>"
      ],
      "text/plain": [
       "   product_id  a little go a long way  absorbs quickly  affordable  amazing  \\\n",
       "0       51532                     0.0              0.0         0.0      2.0   \n",
       "1       51573                     0.0              0.0         2.0      0.0   \n",
       "2       51904                     0.0              0.0         0.0      3.0   \n",
       "3       52852                     0.0              0.0         0.0      3.0   \n",
       "4       54312                     0.0              0.0         0.0      1.0   \n",
       "\n",
       "   awesome  awful  beautiful  beautiful color  blend easily  ...  very black  \\\n",
       "0      1.0    0.0        1.0              0.0           1.0  ...         0.0   \n",
       "1      0.0    0.0        0.0              0.0           0.0  ...         0.0   \n",
       "2      0.0    0.0        0.0              0.0           0.0  ...         0.0   \n",
       "3      0.0    0.0        0.0              0.0           0.0  ...         0.0   \n",
       "4      0.0    0.0        1.0              0.0           0.0  ...         0.0   \n",
       "\n",
       "   very pigmented  vibrant  volumizing  water resistant  waterproof  watery  \\\n",
       "0             0.0      0.0         0.0              0.0         0.0     0.0   \n",
       "1             0.0      0.0         0.0              0.0         0.0     0.0   \n",
       "2             0.0      0.0         0.0              0.0         0.0     0.0   \n",
       "3             0.0      0.0         0.0              0.0         0.0     0.0   \n",
       "4             0.0      0.0         0.0              0.0         0.0     0.0   \n",
       "\n",
       "   weightless  wonderful  target  \n",
       "0         0.0        0.0       0  \n",
       "1         0.0        0.0       0  \n",
       "2         0.0        0.0       0  \n",
       "3         0.0        0.0       0  \n",
       "4         0.0        0.0       0  \n",
       "\n",
       "[5 rows x 203 columns]"
      ]
     },
     "execution_count": 37,
     "metadata": {},
     "output_type": "execute_result"
    }
   ],
   "source": [
    "summaries.head()"
   ]
  },
  {
   "cell_type": "code",
   "execution_count": 39,
   "metadata": {},
   "outputs": [],
   "source": [
    "# Instantiate sentiment analyzer from NLTK library\n",
    "sid = SentimentIntensityAnalyzer()"
   ]
  },
  {
   "cell_type": "code",
   "execution_count": 40,
   "metadata": {},
   "outputs": [],
   "source": [
    "# Get the sentiment of the key word/statements using Sentiment Analyzer\n",
    "key_word_weights = {}\n",
    "for words in summaries.columns:\n",
    "    key_word_weights[words] = {}\n",
    "    ss = sid.polarity_scores(words)\n",
    "    for k in sorted(ss):\n",
    "        key_word_weights[words][k] = ss[k]"
   ]
  },
  {
   "cell_type": "code",
   "execution_count": 41,
   "metadata": {},
   "outputs": [],
   "source": [
    "key_word_sentiment = pd.DataFrame.from_dict(key_word_weights, orient = 'index')"
   ]
  },
  {
   "cell_type": "code",
   "execution_count": 42,
   "metadata": {},
   "outputs": [
    {
     "data": {
      "text/html": [
       "<div>\n",
       "<style scoped>\n",
       "    .dataframe tbody tr th:only-of-type {\n",
       "        vertical-align: middle;\n",
       "    }\n",
       "\n",
       "    .dataframe tbody tr th {\n",
       "        vertical-align: top;\n",
       "    }\n",
       "\n",
       "    .dataframe thead th {\n",
       "        text-align: right;\n",
       "    }\n",
       "</style>\n",
       "<table border=\"1\" class=\"dataframe\">\n",
       "  <thead>\n",
       "    <tr style=\"text-align: right;\">\n",
       "      <th></th>\n",
       "      <th>compound</th>\n",
       "      <th>neg</th>\n",
       "      <th>neu</th>\n",
       "      <th>pos</th>\n",
       "    </tr>\n",
       "  </thead>\n",
       "  <tbody>\n",
       "    <tr>\n",
       "      <th>a little go a long way</th>\n",
       "      <td>0.0000</td>\n",
       "      <td>0.0</td>\n",
       "      <td>1.0</td>\n",
       "      <td>0.0</td>\n",
       "    </tr>\n",
       "    <tr>\n",
       "      <th>absorbs quickly</th>\n",
       "      <td>0.0000</td>\n",
       "      <td>0.0</td>\n",
       "      <td>1.0</td>\n",
       "      <td>0.0</td>\n",
       "    </tr>\n",
       "    <tr>\n",
       "      <th>affordable</th>\n",
       "      <td>0.0000</td>\n",
       "      <td>0.0</td>\n",
       "      <td>1.0</td>\n",
       "      <td>0.0</td>\n",
       "    </tr>\n",
       "    <tr>\n",
       "      <th>amazing</th>\n",
       "      <td>0.5859</td>\n",
       "      <td>0.0</td>\n",
       "      <td>0.0</td>\n",
       "      <td>1.0</td>\n",
       "    </tr>\n",
       "    <tr>\n",
       "      <th>awesome</th>\n",
       "      <td>0.6249</td>\n",
       "      <td>0.0</td>\n",
       "      <td>0.0</td>\n",
       "      <td>1.0</td>\n",
       "    </tr>\n",
       "  </tbody>\n",
       "</table>\n",
       "</div>"
      ],
      "text/plain": [
       "                        compound  neg  neu  pos\n",
       "a little go a long way    0.0000  0.0  1.0  0.0\n",
       "absorbs quickly           0.0000  0.0  1.0  0.0\n",
       "affordable                0.0000  0.0  1.0  0.0\n",
       "amazing                   0.5859  0.0  0.0  1.0\n",
       "awesome                   0.6249  0.0  0.0  1.0"
      ]
     },
     "execution_count": 42,
     "metadata": {},
     "output_type": "execute_result"
    }
   ],
   "source": [
    "key_word_sentiment.head()"
   ]
  },
  {
   "cell_type": "code",
   "execution_count": 128,
   "metadata": {},
   "outputs": [],
   "source": [
    "# Get the total keyword frequency to create column weights\n",
    "summaries['total'] = summaries.drop(columns = ['target', 'product_id']).sum(axis = 1)"
   ]
  },
  {
   "cell_type": "code",
   "execution_count": 129,
   "metadata": {},
   "outputs": [
    {
     "data": {
      "text/plain": [
       "(904, 204)"
      ]
     },
     "execution_count": 129,
     "metadata": {},
     "output_type": "execute_result"
    }
   ],
   "source": [
    "summaries.shape"
   ]
  },
  {
   "cell_type": "code",
   "execution_count": 130,
   "metadata": {},
   "outputs": [
    {
     "data": {
      "text/html": [
       "<div>\n",
       "<style scoped>\n",
       "    .dataframe tbody tr th:only-of-type {\n",
       "        vertical-align: middle;\n",
       "    }\n",
       "\n",
       "    .dataframe tbody tr th {\n",
       "        vertical-align: top;\n",
       "    }\n",
       "\n",
       "    .dataframe thead th {\n",
       "        text-align: right;\n",
       "    }\n",
       "</style>\n",
       "<table border=\"1\" class=\"dataframe\">\n",
       "  <thead>\n",
       "    <tr style=\"text-align: right;\">\n",
       "      <th></th>\n",
       "      <th>product_id</th>\n",
       "      <th>a little go a long way</th>\n",
       "      <th>absorbs quickly</th>\n",
       "      <th>affordable</th>\n",
       "      <th>amazing</th>\n",
       "      <th>awesome</th>\n",
       "      <th>awful</th>\n",
       "      <th>beautiful</th>\n",
       "      <th>beautiful color</th>\n",
       "      <th>blend easily</th>\n",
       "      <th>...</th>\n",
       "      <th>very pigmented</th>\n",
       "      <th>vibrant</th>\n",
       "      <th>volumizing</th>\n",
       "      <th>water resistant</th>\n",
       "      <th>waterproof</th>\n",
       "      <th>watery</th>\n",
       "      <th>weightless</th>\n",
       "      <th>wonderful</th>\n",
       "      <th>target</th>\n",
       "      <th>total</th>\n",
       "    </tr>\n",
       "  </thead>\n",
       "  <tbody>\n",
       "    <tr>\n",
       "      <th>0</th>\n",
       "      <td>51532</td>\n",
       "      <td>0.0</td>\n",
       "      <td>0.0</td>\n",
       "      <td>0.0</td>\n",
       "      <td>2.0</td>\n",
       "      <td>1.0</td>\n",
       "      <td>0.0</td>\n",
       "      <td>1.0</td>\n",
       "      <td>0.0</td>\n",
       "      <td>1.0</td>\n",
       "      <td>...</td>\n",
       "      <td>0.0</td>\n",
       "      <td>0.0</td>\n",
       "      <td>0.0</td>\n",
       "      <td>0.0</td>\n",
       "      <td>0.0</td>\n",
       "      <td>0.0</td>\n",
       "      <td>0.0</td>\n",
       "      <td>0.0</td>\n",
       "      <td>0</td>\n",
       "      <td>723.0</td>\n",
       "    </tr>\n",
       "    <tr>\n",
       "      <th>1</th>\n",
       "      <td>51573</td>\n",
       "      <td>0.0</td>\n",
       "      <td>0.0</td>\n",
       "      <td>2.0</td>\n",
       "      <td>0.0</td>\n",
       "      <td>0.0</td>\n",
       "      <td>0.0</td>\n",
       "      <td>0.0</td>\n",
       "      <td>0.0</td>\n",
       "      <td>0.0</td>\n",
       "      <td>...</td>\n",
       "      <td>0.0</td>\n",
       "      <td>0.0</td>\n",
       "      <td>0.0</td>\n",
       "      <td>0.0</td>\n",
       "      <td>0.0</td>\n",
       "      <td>0.0</td>\n",
       "      <td>0.0</td>\n",
       "      <td>0.0</td>\n",
       "      <td>0</td>\n",
       "      <td>2291.5</td>\n",
       "    </tr>\n",
       "    <tr>\n",
       "      <th>2</th>\n",
       "      <td>51904</td>\n",
       "      <td>0.0</td>\n",
       "      <td>0.0</td>\n",
       "      <td>0.0</td>\n",
       "      <td>3.0</td>\n",
       "      <td>0.0</td>\n",
       "      <td>0.0</td>\n",
       "      <td>0.0</td>\n",
       "      <td>0.0</td>\n",
       "      <td>0.0</td>\n",
       "      <td>...</td>\n",
       "      <td>0.0</td>\n",
       "      <td>0.0</td>\n",
       "      <td>0.0</td>\n",
       "      <td>0.0</td>\n",
       "      <td>0.0</td>\n",
       "      <td>0.0</td>\n",
       "      <td>0.0</td>\n",
       "      <td>0.0</td>\n",
       "      <td>0</td>\n",
       "      <td>857.0</td>\n",
       "    </tr>\n",
       "    <tr>\n",
       "      <th>3</th>\n",
       "      <td>52852</td>\n",
       "      <td>0.0</td>\n",
       "      <td>0.0</td>\n",
       "      <td>0.0</td>\n",
       "      <td>3.0</td>\n",
       "      <td>0.0</td>\n",
       "      <td>0.0</td>\n",
       "      <td>0.0</td>\n",
       "      <td>0.0</td>\n",
       "      <td>0.0</td>\n",
       "      <td>...</td>\n",
       "      <td>0.0</td>\n",
       "      <td>0.0</td>\n",
       "      <td>0.0</td>\n",
       "      <td>0.0</td>\n",
       "      <td>0.0</td>\n",
       "      <td>0.0</td>\n",
       "      <td>0.0</td>\n",
       "      <td>0.0</td>\n",
       "      <td>0</td>\n",
       "      <td>712.0</td>\n",
       "    </tr>\n",
       "    <tr>\n",
       "      <th>4</th>\n",
       "      <td>54312</td>\n",
       "      <td>0.0</td>\n",
       "      <td>0.0</td>\n",
       "      <td>0.0</td>\n",
       "      <td>1.0</td>\n",
       "      <td>0.0</td>\n",
       "      <td>0.0</td>\n",
       "      <td>1.0</td>\n",
       "      <td>0.0</td>\n",
       "      <td>0.0</td>\n",
       "      <td>...</td>\n",
       "      <td>0.0</td>\n",
       "      <td>0.0</td>\n",
       "      <td>0.0</td>\n",
       "      <td>0.0</td>\n",
       "      <td>0.0</td>\n",
       "      <td>0.0</td>\n",
       "      <td>0.0</td>\n",
       "      <td>0.0</td>\n",
       "      <td>0</td>\n",
       "      <td>100.0</td>\n",
       "    </tr>\n",
       "  </tbody>\n",
       "</table>\n",
       "<p>5 rows × 204 columns</p>\n",
       "</div>"
      ],
      "text/plain": [
       "   product_id  a little go a long way  absorbs quickly  affordable  amazing  \\\n",
       "0       51532                     0.0              0.0         0.0      2.0   \n",
       "1       51573                     0.0              0.0         2.0      0.0   \n",
       "2       51904                     0.0              0.0         0.0      3.0   \n",
       "3       52852                     0.0              0.0         0.0      3.0   \n",
       "4       54312                     0.0              0.0         0.0      1.0   \n",
       "\n",
       "   awesome  awful  beautiful  beautiful color  blend easily  ...  \\\n",
       "0      1.0    0.0        1.0              0.0           1.0  ...   \n",
       "1      0.0    0.0        0.0              0.0           0.0  ...   \n",
       "2      0.0    0.0        0.0              0.0           0.0  ...   \n",
       "3      0.0    0.0        0.0              0.0           0.0  ...   \n",
       "4      0.0    0.0        1.0              0.0           0.0  ...   \n",
       "\n",
       "   very pigmented  vibrant  volumizing  water resistant  waterproof  watery  \\\n",
       "0             0.0      0.0         0.0              0.0         0.0     0.0   \n",
       "1             0.0      0.0         0.0              0.0         0.0     0.0   \n",
       "2             0.0      0.0         0.0              0.0         0.0     0.0   \n",
       "3             0.0      0.0         0.0              0.0         0.0     0.0   \n",
       "4             0.0      0.0         0.0              0.0         0.0     0.0   \n",
       "\n",
       "   weightless  wonderful  target   total  \n",
       "0         0.0        0.0       0   723.0  \n",
       "1         0.0        0.0       0  2291.5  \n",
       "2         0.0        0.0       0   857.0  \n",
       "3         0.0        0.0       0   712.0  \n",
       "4         0.0        0.0       0   100.0  \n",
       "\n",
       "[5 rows x 204 columns]"
      ]
     },
     "execution_count": 130,
     "metadata": {},
     "output_type": "execute_result"
    }
   ],
   "source": [
    "summaries.head()"
   ]
  },
  {
   "cell_type": "code",
   "execution_count": 131,
   "metadata": {},
   "outputs": [],
   "source": [
    "# Get the weighted value for each key word \n",
    "summaries_weights = summaries.drop(columns = ['target', 'product_id']).div(summaries['total'], axis = 0)"
   ]
  },
  {
   "cell_type": "code",
   "execution_count": 47,
   "metadata": {},
   "outputs": [],
   "source": [
    "# Add back in the product_id \n",
    "summaries_weights = pd.concat([summaries[['product_id']], summaries_weights], axis = 1)"
   ]
  },
  {
   "cell_type": "code",
   "execution_count": 48,
   "metadata": {},
   "outputs": [],
   "source": [
    "# Get the weighted compound score for the key words\n",
    "summaries_weights['compound_score'] = None\n",
    "for i_1 in range(len(summaries_weights)):\n",
    "    compound = 0\n",
    "    for i_2 in range(len(key_word_sentiment)):\n",
    "        if key_word_sentiment.index[i_2] in summaries_weights.iloc[i_1][1:]:\n",
    "            \n",
    "            # Compound score of word multiplied by each word weight to get total compound score for the product\n",
    "            compound += key_word_sentiment.iloc[i_2]['compound'] * summaries_weights.iloc[i_1][key_word_sentiment.index[i_2]]\n",
    "    summaries_weights.at[i_1, 'compound_score'] = compound"
   ]
  },
  {
   "cell_type": "code",
   "execution_count": 49,
   "metadata": {},
   "outputs": [],
   "source": [
    "# Add back in target after as target might be a key word\n",
    "summaries_weights = pd.concat([summaries[['target']], summaries_weights], axis = 1)"
   ]
  },
  {
   "cell_type": "code",
   "execution_count": 50,
   "metadata": {},
   "outputs": [],
   "source": [
    "# Split the summaries into sale vs regular\n",
    "sale_summaries = summaries_weights[summaries_weights['target'] == 1]\n",
    "reg_summaries = summaries_weights[summaries_weights['target'] == 0]"
   ]
  },
  {
   "cell_type": "code",
   "execution_count": 51,
   "metadata": {},
   "outputs": [
    {
     "data": {
      "text/html": [
       "<div>\n",
       "<style scoped>\n",
       "    .dataframe tbody tr th:only-of-type {\n",
       "        vertical-align: middle;\n",
       "    }\n",
       "\n",
       "    .dataframe tbody tr th {\n",
       "        vertical-align: top;\n",
       "    }\n",
       "\n",
       "    .dataframe thead th {\n",
       "        text-align: right;\n",
       "    }\n",
       "</style>\n",
       "<table border=\"1\" class=\"dataframe\">\n",
       "  <thead>\n",
       "    <tr style=\"text-align: right;\">\n",
       "      <th></th>\n",
       "      <th>target</th>\n",
       "      <th>product_id</th>\n",
       "      <th>a little go a long way</th>\n",
       "      <th>absorbs quickly</th>\n",
       "      <th>affordable</th>\n",
       "      <th>amazing</th>\n",
       "      <th>awesome</th>\n",
       "      <th>awful</th>\n",
       "      <th>beautiful</th>\n",
       "      <th>beautiful color</th>\n",
       "      <th>...</th>\n",
       "      <th>very pigmented</th>\n",
       "      <th>vibrant</th>\n",
       "      <th>volumizing</th>\n",
       "      <th>water resistant</th>\n",
       "      <th>waterproof</th>\n",
       "      <th>watery</th>\n",
       "      <th>weightless</th>\n",
       "      <th>wonderful</th>\n",
       "      <th>total</th>\n",
       "      <th>compound_score</th>\n",
       "    </tr>\n",
       "  </thead>\n",
       "  <tbody>\n",
       "    <tr>\n",
       "      <th>215</th>\n",
       "      <td>1</td>\n",
       "      <td>1501428</td>\n",
       "      <td>0.0</td>\n",
       "      <td>0.0</td>\n",
       "      <td>0.000000</td>\n",
       "      <td>0.0</td>\n",
       "      <td>0.0</td>\n",
       "      <td>0.0</td>\n",
       "      <td>0.000000</td>\n",
       "      <td>0.00232</td>\n",
       "      <td>...</td>\n",
       "      <td>0.0</td>\n",
       "      <td>0.0</td>\n",
       "      <td>0.0</td>\n",
       "      <td>0.0</td>\n",
       "      <td>0.000000</td>\n",
       "      <td>0.00464</td>\n",
       "      <td>0.0</td>\n",
       "      <td>0.0</td>\n",
       "      <td>1.0</td>\n",
       "      <td>0.0148494</td>\n",
       "    </tr>\n",
       "    <tr>\n",
       "      <th>264</th>\n",
       "      <td>1</td>\n",
       "      <td>1582741</td>\n",
       "      <td>0.0</td>\n",
       "      <td>0.0</td>\n",
       "      <td>0.000000</td>\n",
       "      <td>0.0</td>\n",
       "      <td>0.0</td>\n",
       "      <td>0.0</td>\n",
       "      <td>0.000000</td>\n",
       "      <td>0.00000</td>\n",
       "      <td>...</td>\n",
       "      <td>0.0</td>\n",
       "      <td>0.0</td>\n",
       "      <td>0.0</td>\n",
       "      <td>0.0</td>\n",
       "      <td>0.000000</td>\n",
       "      <td>0.00000</td>\n",
       "      <td>0.0</td>\n",
       "      <td>0.0</td>\n",
       "      <td>1.0</td>\n",
       "      <td>0.159426</td>\n",
       "    </tr>\n",
       "    <tr>\n",
       "      <th>297</th>\n",
       "      <td>1</td>\n",
       "      <td>1636737</td>\n",
       "      <td>0.0</td>\n",
       "      <td>0.0</td>\n",
       "      <td>0.003543</td>\n",
       "      <td>0.0</td>\n",
       "      <td>0.0</td>\n",
       "      <td>0.0</td>\n",
       "      <td>0.001771</td>\n",
       "      <td>0.00000</td>\n",
       "      <td>...</td>\n",
       "      <td>0.0</td>\n",
       "      <td>0.0</td>\n",
       "      <td>0.0</td>\n",
       "      <td>0.0</td>\n",
       "      <td>0.000000</td>\n",
       "      <td>0.00000</td>\n",
       "      <td>0.0</td>\n",
       "      <td>0.0</td>\n",
       "      <td>1.0</td>\n",
       "      <td>0.22675</td>\n",
       "    </tr>\n",
       "    <tr>\n",
       "      <th>324</th>\n",
       "      <td>1</td>\n",
       "      <td>1662303</td>\n",
       "      <td>0.0</td>\n",
       "      <td>0.0</td>\n",
       "      <td>0.000000</td>\n",
       "      <td>0.0</td>\n",
       "      <td>0.0</td>\n",
       "      <td>0.0</td>\n",
       "      <td>0.000000</td>\n",
       "      <td>0.00000</td>\n",
       "      <td>...</td>\n",
       "      <td>0.0</td>\n",
       "      <td>0.0</td>\n",
       "      <td>0.0</td>\n",
       "      <td>0.0</td>\n",
       "      <td>0.000000</td>\n",
       "      <td>0.00000</td>\n",
       "      <td>0.0</td>\n",
       "      <td>0.0</td>\n",
       "      <td>1.0</td>\n",
       "      <td>0</td>\n",
       "    </tr>\n",
       "    <tr>\n",
       "      <th>335</th>\n",
       "      <td>1</td>\n",
       "      <td>1670892</td>\n",
       "      <td>0.0</td>\n",
       "      <td>0.0</td>\n",
       "      <td>0.000000</td>\n",
       "      <td>0.0</td>\n",
       "      <td>0.0</td>\n",
       "      <td>0.0</td>\n",
       "      <td>0.000000</td>\n",
       "      <td>0.00000</td>\n",
       "      <td>...</td>\n",
       "      <td>0.0</td>\n",
       "      <td>0.0</td>\n",
       "      <td>0.0</td>\n",
       "      <td>0.0</td>\n",
       "      <td>0.098039</td>\n",
       "      <td>0.00000</td>\n",
       "      <td>0.0</td>\n",
       "      <td>0.0</td>\n",
       "      <td>1.0</td>\n",
       "      <td>0.00863529</td>\n",
       "    </tr>\n",
       "  </tbody>\n",
       "</table>\n",
       "<p>5 rows × 205 columns</p>\n",
       "</div>"
      ],
      "text/plain": [
       "     target  product_id  a little go a long way  absorbs quickly  affordable  \\\n",
       "215       1     1501428                     0.0              0.0    0.000000   \n",
       "264       1     1582741                     0.0              0.0    0.000000   \n",
       "297       1     1636737                     0.0              0.0    0.003543   \n",
       "324       1     1662303                     0.0              0.0    0.000000   \n",
       "335       1     1670892                     0.0              0.0    0.000000   \n",
       "\n",
       "     amazing  awesome  awful  beautiful  beautiful color  ...  very pigmented  \\\n",
       "215      0.0      0.0    0.0   0.000000          0.00232  ...             0.0   \n",
       "264      0.0      0.0    0.0   0.000000          0.00000  ...             0.0   \n",
       "297      0.0      0.0    0.0   0.001771          0.00000  ...             0.0   \n",
       "324      0.0      0.0    0.0   0.000000          0.00000  ...             0.0   \n",
       "335      0.0      0.0    0.0   0.000000          0.00000  ...             0.0   \n",
       "\n",
       "     vibrant  volumizing  water resistant  waterproof   watery  weightless  \\\n",
       "215      0.0         0.0              0.0    0.000000  0.00464         0.0   \n",
       "264      0.0         0.0              0.0    0.000000  0.00000         0.0   \n",
       "297      0.0         0.0              0.0    0.000000  0.00000         0.0   \n",
       "324      0.0         0.0              0.0    0.000000  0.00000         0.0   \n",
       "335      0.0         0.0              0.0    0.098039  0.00000         0.0   \n",
       "\n",
       "     wonderful  total  compound_score  \n",
       "215        0.0    1.0       0.0148494  \n",
       "264        0.0    1.0        0.159426  \n",
       "297        0.0    1.0         0.22675  \n",
       "324        0.0    1.0               0  \n",
       "335        0.0    1.0      0.00863529  \n",
       "\n",
       "[5 rows x 205 columns]"
      ]
     },
     "execution_count": 51,
     "metadata": {},
     "output_type": "execute_result"
    }
   ],
   "source": [
    "sale_summaries.head()"
   ]
  },
  {
   "cell_type": "code",
   "execution_count": 147,
   "metadata": {},
   "outputs": [
    {
     "data": {
      "text/plain": [
       "14261.0"
      ]
     },
     "execution_count": 147,
     "metadata": {},
     "output_type": "execute_result"
    }
   ],
   "source": [
    "# Sum of total key word count\n",
    "sum(summaries[summaries['target'] == 1].drop(columns = ['product_id', 'total']).sum().sort_values(ascending = False))"
   ]
  },
  {
   "cell_type": "code",
   "execution_count": 148,
   "metadata": {},
   "outputs": [
    {
     "data": {
      "text/plain": [
       "full coverage    0.165767\n",
       "lightweight      0.118225\n",
       "nondrying        0.103990\n",
       "creamy           0.088844\n",
       "long wearing     0.082463\n",
       "dtype: float64"
      ]
     },
     "execution_count": 148,
     "metadata": {},
     "output_type": "execute_result"
    }
   ],
   "source": [
    "# % of key words for sale products\n",
    "summaries[summaries['target'] == 1].drop(columns = ['product_id', 'total']).sum().sort_values(ascending = False)[:5]/14261"
   ]
  },
  {
   "cell_type": "code",
   "execution_count": 149,
   "metadata": {},
   "outputs": [
    {
     "data": {
      "text/plain": [
       "880003.0"
      ]
     },
     "execution_count": 149,
     "metadata": {},
     "output_type": "execute_result"
    }
   ],
   "source": [
    "# Sum of total key word count\n",
    "sum(summaries[summaries['target'] == 0].drop(columns = ['product_id', 'total']).sum().sort_values(ascending = False))"
   ]
  },
  {
   "cell_type": "code",
   "execution_count": 150,
   "metadata": {},
   "outputs": [
    {
     "data": {
      "text/plain": [
       "long wearing          0.115468\n",
       "lengthening           0.065950\n",
       "volumizing            0.057891\n",
       "defining              0.055737\n",
       "buildable coverage    0.050088\n",
       "dtype: float64"
      ]
     },
     "execution_count": 150,
     "metadata": {},
     "output_type": "execute_result"
    }
   ],
   "source": [
    "# % of key words for sale products\n",
    "summaries[summaries['target'] == 0].drop(columns = ['product_id', 'total']).sum().sort_values(ascending = False)[:5]/880003"
   ]
  },
  {
   "cell_type": "markdown",
   "metadata": {},
   "source": [
    "Interestingly, for the keywords seen in sale item reviews, the key words were mostly positive words. There were also many similarities in the top key words for the regular and sale priced items."
   ]
  },
  {
   "cell_type": "markdown",
   "metadata": {},
   "source": [
    "Looking at sentiment.."
   ]
  },
  {
   "cell_type": "code",
   "execution_count": 54,
   "metadata": {},
   "outputs": [
    {
     "data": {
      "text/plain": [
       "0.062303584137837695"
      ]
     },
     "execution_count": 54,
     "metadata": {},
     "output_type": "execute_result"
    }
   ],
   "source": [
    "sale_summaries['compound_score'].mean()"
   ]
  },
  {
   "cell_type": "code",
   "execution_count": 55,
   "metadata": {},
   "outputs": [
    {
     "data": {
      "text/plain": [
       "0.06157498137865135"
      ]
     },
     "execution_count": 55,
     "metadata": {},
     "output_type": "execute_result"
    }
   ],
   "source": [
    "reg_summaries['compound_score'].mean()"
   ]
  },
  {
   "cell_type": "markdown",
   "metadata": {},
   "source": [
    "Interestingly, the sentiment compound scores for sale and reg summaries was nearly the same with sale summaries actually being higher by .001"
   ]
  },
  {
   "cell_type": "code",
   "execution_count": 159,
   "metadata": {},
   "outputs": [
    {
     "data": {
      "text/plain": [
       "(0.24, 0.328]                      0.000000\n",
       "(0.328, 0.417]                     0.022727\n",
       "(0.0628, 0.151]                    0.113636\n",
       "(0.151, 0.24]                      0.181818\n",
       "(-0.027200000000000002, 0.0628]    0.681818\n",
       "Name: compound_score, dtype: float64"
      ]
     },
     "execution_count": 159,
     "metadata": {},
     "output_type": "execute_result"
    }
   ],
   "source": [
    "sale_summaries['compound_score'].value_counts(normalize = True, bins = 5).sort_values(ascending = True)"
   ]
  },
  {
   "cell_type": "code",
   "execution_count": 160,
   "metadata": {},
   "outputs": [
    {
     "data": {
      "text/plain": [
       "(0.373, 0.471]       0.006977\n",
       "(0.274, 0.373]       0.016279\n",
       "(0.176, 0.274]       0.076744\n",
       "(0.0778, 0.176]      0.203488\n",
       "(-0.0221, 0.0778]    0.695349\n",
       "Name: compound_score, dtype: float64"
      ]
     },
     "execution_count": 160,
     "metadata": {},
     "output_type": "execute_result"
    }
   ],
   "source": [
    "reg_summaries['compound_score'].value_counts(normalize = True, bins = 5).sort_values(ascending = True)"
   ]
  },
  {
   "cell_type": "markdown",
   "metadata": {},
   "source": [
    "The range for compound scores was nearly identical for sale and regular products. Regular products saw a greater percentage of products with less favorable compound scores"
   ]
  },
  {
   "cell_type": "code",
   "execution_count": 492,
   "metadata": {},
   "outputs": [],
   "source": [
    "compound_summaries = summaries_weights[['compound_score', 'product_id']]"
   ]
  },
  {
   "cell_type": "markdown",
   "metadata": {},
   "source": [
    "## Reviews"
   ]
  },
  {
   "cell_type": "code",
   "execution_count": 163,
   "metadata": {},
   "outputs": [],
   "source": [
    "reviews.drop_duplicates(subset = 'review', inplace = True)"
   ]
  },
  {
   "cell_type": "code",
   "execution_count": 164,
   "metadata": {},
   "outputs": [],
   "source": [
    "reviews.reset_index(drop = True, inplace = True)"
   ]
  },
  {
   "cell_type": "code",
   "execution_count": 165,
   "metadata": {},
   "outputs": [],
   "source": [
    "# Stem reviews \n",
    "p_stem = PorterStemmer()\n",
    "reviews['stem'] = reviews['review'].apply(lambda x: \n",
    "                               re.sub('[^a-zA-Z\\s]', \"\", \n",
    "                                      \" \".join([p_stem.stem(word) for word in str(x).split()])).strip())"
   ]
  },
  {
   "cell_type": "code",
   "execution_count": 171,
   "metadata": {},
   "outputs": [],
   "source": [
    "stopwords = stopwords.words('english')"
   ]
  },
  {
   "cell_type": "code",
   "execution_count": 172,
   "metadata": {},
   "outputs": [],
   "source": [
    "# Remove stop words \n",
    "reviews['review_nsw'] = reviews['review'].apply(lambda x: \n",
    "                                                \" \".join([word for word in str(x).split() if word not in stopwords]))"
   ]
  },
  {
   "cell_type": "code",
   "execution_count": 173,
   "metadata": {},
   "outputs": [],
   "source": [
    "# Stem and remove stop words \n",
    "reviews['stem_nsw'] = reviews['review_nsw'].apply(lambda x: \n",
    "                               re.sub('[^a-zA-Z\\s]', \"\", \n",
    "                                      \" \".join([p_stem.stem(word) for word in str(x).split()])).strip())"
   ]
  },
  {
   "cell_type": "code",
   "execution_count": 174,
   "metadata": {},
   "outputs": [],
   "source": [
    "# Get the compound scores for the review\n",
    "reviews['compound'] = None\n",
    "reviews['pos'] = None\n",
    "reviews['neg'] = None\n",
    "reviews['neu'] = None\n",
    "for i in range(len(reviews['review'])):\n",
    "    ss = sid.polarity_scores(reviews['review'][i])\n",
    "    for k in sorted(ss):\n",
    "        reviews.at[i, k] = float(ss[k])"
   ]
  },
  {
   "cell_type": "markdown",
   "metadata": {},
   "source": [
    "When testing the reviews and compound scores on different variations of the review (stemmed, removed stop words), using the entire review itself gave the most accurate compound score. Because VADER (NLTK's sentiment analysis tool) is able to understand things like caps lock and punctuation and incorporate it into the score, using the entire review gave the most accurate score."
   ]
  },
  {
   "cell_type": "code",
   "execution_count": 175,
   "metadata": {
    "scrolled": false
   },
   "outputs": [
    {
     "data": {
      "text/html": [
       "<div>\n",
       "<style scoped>\n",
       "    .dataframe tbody tr th:only-of-type {\n",
       "        vertical-align: middle;\n",
       "    }\n",
       "\n",
       "    .dataframe tbody tr th {\n",
       "        vertical-align: top;\n",
       "    }\n",
       "\n",
       "    .dataframe thead th {\n",
       "        text-align: right;\n",
       "    }\n",
       "</style>\n",
       "<table border=\"1\" class=\"dataframe\">\n",
       "  <thead>\n",
       "    <tr style=\"text-align: right;\">\n",
       "      <th></th>\n",
       "      <th>age_range</th>\n",
       "      <th>eye_color</th>\n",
       "      <th>product_id</th>\n",
       "      <th>rating</th>\n",
       "      <th>review</th>\n",
       "      <th>skin_tone</th>\n",
       "      <th>skin_type</th>\n",
       "      <th>title</th>\n",
       "      <th>user</th>\n",
       "      <th>target</th>\n",
       "      <th>stem</th>\n",
       "      <th>review_nsw</th>\n",
       "      <th>stem_nsw</th>\n",
       "      <th>compound</th>\n",
       "      <th>pos</th>\n",
       "      <th>neg</th>\n",
       "      <th>neu</th>\n",
       "    </tr>\n",
       "  </thead>\n",
       "  <tbody>\n",
       "    <tr>\n",
       "      <th>0</th>\n",
       "      <td>NaN</td>\n",
       "      <td>Brown</td>\n",
       "      <td>2268274</td>\n",
       "      <td>5</td>\n",
       "      <td>WOW! I love this foundation, and the packaging...</td>\n",
       "      <td>Olive</td>\n",
       "      <td>Combination</td>\n",
       "      <td>Love this foundation in addition to the soft m...</td>\n",
       "      <td>TyraFox</td>\n",
       "      <td>0</td>\n",
       "      <td>wow I love thi foundation and the packag is ev...</td>\n",
       "      <td>WOW! I love foundation, packaging even better!...</td>\n",
       "      <td>wow I love foundation packag even better iv us...</td>\n",
       "      <td>0.9566</td>\n",
       "      <td>0.295</td>\n",
       "      <td>0</td>\n",
       "      <td>0.705</td>\n",
       "    </tr>\n",
       "    <tr>\n",
       "      <th>1</th>\n",
       "      <td>NaN</td>\n",
       "      <td>Brown</td>\n",
       "      <td>2268274</td>\n",
       "      <td>5</td>\n",
       "      <td>I mean do you really have to know that she did...</td>\n",
       "      <td>Deep</td>\n",
       "      <td>Normal</td>\n",
       "      <td>And ANOTHER!</td>\n",
       "      <td>KendraAb</td>\n",
       "      <td>0</td>\n",
       "      <td>I mean do you realli have to know that she did...</td>\n",
       "      <td>I mean really know again. I actually combinati...</td>\n",
       "      <td>I mean realli know again I actual combin skin ...</td>\n",
       "      <td>0.9734</td>\n",
       "      <td>0.227</td>\n",
       "      <td>0</td>\n",
       "      <td>0.773</td>\n",
       "    </tr>\n",
       "    <tr>\n",
       "      <th>2</th>\n",
       "      <td>NaN</td>\n",
       "      <td>Brown</td>\n",
       "      <td>2268274</td>\n",
       "      <td>5</td>\n",
       "      <td>So i normally use the matte Fenty Matte Founda...</td>\n",
       "      <td>Deep</td>\n",
       "      <td>Combination</td>\n",
       "      <td>Food For Your Skin</td>\n",
       "      <td>UGBASTIAN89</td>\n",
       "      <td>0</td>\n",
       "      <td>So i normal use the matt fenti matt foundat wh...</td>\n",
       "      <td>So normally use matte Fenty Matte Foundation I...</td>\n",
       "      <td>So normal use matt fenti matt foundat I absolu...</td>\n",
       "      <td>0.9611</td>\n",
       "      <td>0.182</td>\n",
       "      <td>0.029</td>\n",
       "      <td>0.789</td>\n",
       "    </tr>\n",
       "    <tr>\n",
       "      <th>3</th>\n",
       "      <td>NaN</td>\n",
       "      <td>Brown</td>\n",
       "      <td>2268274</td>\n",
       "      <td>5</td>\n",
       "      <td>A natural finish and at the same time gives co...</td>\n",
       "      <td>NaN</td>\n",
       "      <td>Oily</td>\n",
       "      <td>Feels airy and fresh with natural coverage</td>\n",
       "      <td>veens</td>\n",
       "      <td>0</td>\n",
       "      <td>A natur finish and at the same time give cover...</td>\n",
       "      <td>A natural finish time gives coverage. It didnt...</td>\n",
       "      <td>A natur finish time give coverage It didnt fee...</td>\n",
       "      <td>0.8111</td>\n",
       "      <td>0.195</td>\n",
       "      <td>0.082</td>\n",
       "      <td>0.723</td>\n",
       "    </tr>\n",
       "    <tr>\n",
       "      <th>4</th>\n",
       "      <td>18-24</td>\n",
       "      <td>Brown</td>\n",
       "      <td>2268274</td>\n",
       "      <td>4</td>\n",
       "      <td>Uh, at first I wanted to rate this a tad bit l...</td>\n",
       "      <td>Dark</td>\n",
       "      <td>Combination</td>\n",
       "      <td>Oh man...</td>\n",
       "      <td>KhrisGal</td>\n",
       "      <td>0</td>\n",
       "      <td>uh at first I want to rate thi a tad bit lower...</td>\n",
       "      <td>Uh, first I wanted rate tad bit lower due comb...</td>\n",
       "      <td>uh first I want rate tad bit lower due combo l...</td>\n",
       "      <td>0.906</td>\n",
       "      <td>0.213</td>\n",
       "      <td>0.06</td>\n",
       "      <td>0.727</td>\n",
       "    </tr>\n",
       "  </tbody>\n",
       "</table>\n",
       "</div>"
      ],
      "text/plain": [
       "  age_range eye_color  product_id  rating  \\\n",
       "0       NaN     Brown     2268274       5   \n",
       "1       NaN     Brown     2268274       5   \n",
       "2       NaN     Brown     2268274       5   \n",
       "3       NaN     Brown     2268274       5   \n",
       "4     18-24     Brown     2268274       4   \n",
       "\n",
       "                                              review skin_tone    skin_type  \\\n",
       "0  WOW! I love this foundation, and the packaging...     Olive  Combination   \n",
       "1  I mean do you really have to know that she did...      Deep       Normal   \n",
       "2  So i normally use the matte Fenty Matte Founda...      Deep  Combination   \n",
       "3  A natural finish and at the same time gives co...       NaN         Oily   \n",
       "4  Uh, at first I wanted to rate this a tad bit l...      Dark  Combination   \n",
       "\n",
       "                                               title          user  target  \\\n",
       "0  Love this foundation in addition to the soft m...      TyraFox        0   \n",
       "1                                       And ANOTHER!     KendraAb        0   \n",
       "2                                 Food For Your Skin  UGBASTIAN89        0   \n",
       "3         Feels airy and fresh with natural coverage        veens        0   \n",
       "4                                          Oh man...     KhrisGal        0   \n",
       "\n",
       "                                                stem  \\\n",
       "0  wow I love thi foundation and the packag is ev...   \n",
       "1  I mean do you realli have to know that she did...   \n",
       "2  So i normal use the matt fenti matt foundat wh...   \n",
       "3  A natur finish and at the same time give cover...   \n",
       "4  uh at first I want to rate thi a tad bit lower...   \n",
       "\n",
       "                                          review_nsw  \\\n",
       "0  WOW! I love foundation, packaging even better!...   \n",
       "1  I mean really know again. I actually combinati...   \n",
       "2  So normally use matte Fenty Matte Foundation I...   \n",
       "3  A natural finish time gives coverage. It didnt...   \n",
       "4  Uh, first I wanted rate tad bit lower due comb...   \n",
       "\n",
       "                                            stem_nsw compound    pos    neg  \\\n",
       "0  wow I love foundation packag even better iv us...   0.9566  0.295      0   \n",
       "1  I mean realli know again I actual combin skin ...   0.9734  0.227      0   \n",
       "2  So normal use matt fenti matt foundat I absolu...   0.9611  0.182  0.029   \n",
       "3  A natur finish time give coverage It didnt fee...   0.8111  0.195  0.082   \n",
       "4  uh first I want rate tad bit lower due combo l...    0.906  0.213   0.06   \n",
       "\n",
       "     neu  \n",
       "0  0.705  \n",
       "1  0.773  \n",
       "2  0.789  \n",
       "3  0.723  \n",
       "4  0.727  "
      ]
     },
     "execution_count": 175,
     "metadata": {},
     "output_type": "execute_result"
    }
   ],
   "source": [
    "reviews.head()"
   ]
  },
  {
   "cell_type": "markdown",
   "metadata": {},
   "source": [
    "The positive, negative and neutral scores indicate the percent of each that the sentence encompasses. So for the first review, it is 70% positive and 30% negative. Overall, it is mostly positive with a compound score of 96%. The compound score is calculated by taking the rating from VADER's lexicon ratings. It then scales to score to be from -1 to 1 and sums to get the final compound score. For example, good has a rating of 1.9 in VADER's dictionary."
   ]
  },
  {
   "cell_type": "code",
   "execution_count": 176,
   "metadata": {},
   "outputs": [],
   "source": [
    "reviews['length'] = reviews['review'].map(lambda x: len(x))"
   ]
  },
  {
   "cell_type": "code",
   "execution_count": 177,
   "metadata": {},
   "outputs": [
    {
     "data": {
      "text/plain": [
       "age_range     object\n",
       "eye_color     object\n",
       "product_id     int64\n",
       "rating         int64\n",
       "review        object\n",
       "skin_tone     object\n",
       "skin_type     object\n",
       "title         object\n",
       "user          object\n",
       "target         int64\n",
       "stem          object\n",
       "review_nsw    object\n",
       "stem_nsw      object\n",
       "compound      object\n",
       "pos           object\n",
       "neg           object\n",
       "neu           object\n",
       "length         int64\n",
       "dtype: object"
      ]
     },
     "execution_count": 177,
     "metadata": {},
     "output_type": "execute_result"
    }
   ],
   "source": [
    "# Check the data type \n",
    "reviews.dtypes"
   ]
  },
  {
   "cell_type": "code",
   "execution_count": 178,
   "metadata": {},
   "outputs": [],
   "source": [
    "# Change the sentiment scores to floats\n",
    "for col in ['compound', 'pos', 'neg', 'neu']:\n",
    "    reviews[col] = reviews[col].map(lambda x: float(x))"
   ]
  },
  {
   "cell_type": "code",
   "execution_count": 180,
   "metadata": {},
   "outputs": [
    {
     "data": {
      "text/plain": [
       "(0.383, 0.682]      0.538739\n",
       "(0.682, 0.982]      0.391592\n",
       "(0.0832, 0.383]     0.064865\n",
       "(-0.216, 0.0832]    0.003604\n",
       "(-0.518, -0.216]    0.001201\n",
       "Name: compound, dtype: float64"
      ]
     },
     "execution_count": 180,
     "metadata": {},
     "output_type": "execute_result"
    }
   ],
   "source": [
    "reviews.groupby(by = 'product_id').mean()['compound'].value_counts(normalize = True, bins = 5)"
   ]
  },
  {
   "cell_type": "markdown",
   "metadata": {},
   "source": [
    "Most product reviews were much more positive than they were negative"
   ]
  },
  {
   "cell_type": "code",
   "execution_count": 181,
   "metadata": {},
   "outputs": [
    {
     "data": {
      "text/plain": [
       "(0.602, 0.999]      0.712829\n",
       "(0.206, 0.602]      0.127779\n",
       "(-0.191, 0.206]     0.070691\n",
       "(-0.587, -0.191]    0.052382\n",
       "(-0.987, -0.587]    0.036319\n",
       "Name: compound, dtype: float64"
      ]
     },
     "execution_count": 181,
     "metadata": {},
     "output_type": "execute_result"
    }
   ],
   "source": [
    "reviews['compound'].value_counts(normalize = True, bins = 5)"
   ]
  },
  {
   "cell_type": "markdown",
   "metadata": {},
   "source": [
    "Overall, there were much more positive reviews than negative"
   ]
  },
  {
   "cell_type": "code",
   "execution_count": 184,
   "metadata": {},
   "outputs": [
    {
     "data": {
      "text/plain": [
       "(0.607, 0.997]      0.646801\n",
       "(0.217, 0.607]      0.136763\n",
       "(-0.173, 0.217]     0.083438\n",
       "(-0.563, -0.173]    0.069636\n",
       "(-0.955, -0.563]    0.063363\n",
       "Name: compound, dtype: float64"
      ]
     },
     "execution_count": 184,
     "metadata": {},
     "output_type": "execute_result"
    }
   ],
   "source": [
    "reviews[reviews['target'] == 1]['compound'].value_counts(normalize = True, bins = 5)"
   ]
  },
  {
   "cell_type": "code",
   "execution_count": 185,
   "metadata": {},
   "outputs": [
    {
     "data": {
      "text/plain": [
       "(0.602, 0.999]      0.715662\n",
       "(0.206, 0.602]      0.127402\n",
       "(-0.191, 0.206]     0.070145\n",
       "(-0.587, -0.191]    0.051549\n",
       "(-0.987, -0.587]    0.035242\n",
       "Name: compound, dtype: float64"
      ]
     },
     "execution_count": 185,
     "metadata": {},
     "output_type": "execute_result"
    }
   ],
   "source": [
    "reviews[reviews['target'] == 0]['compound'].value_counts(normalize = True, bins = 5)"
   ]
  },
  {
   "cell_type": "markdown",
   "metadata": {},
   "source": [
    "Sale products had greater percentage of negative compound scores than regular priced products."
   ]
  },
  {
   "cell_type": "code",
   "execution_count": 73,
   "metadata": {},
   "outputs": [],
   "source": [
    "compound_ratings = pd.DataFrame(reviews.groupby(by = 'product_id').mean()['compound'])"
   ]
  },
  {
   "cell_type": "code",
   "execution_count": 88,
   "metadata": {},
   "outputs": [],
   "source": [
    "top_10_users = reviews['user'].value_counts()[1:11].index"
   ]
  },
  {
   "cell_type": "code",
   "execution_count": 89,
   "metadata": {},
   "outputs": [
    {
     "data": {
      "text/plain": [
       "Index(['mistyrayne ', 'Mochapj ', 'glowholic ', 'makeupfreak12 ',\n",
       "       'TheMACIsBack ', 'Ellen5 ', 'jonieku ', 'crisymei ', 'Mallerlyn ',\n",
       "       'NOneRouge '],\n",
       "      dtype='object')"
      ]
     },
     "execution_count": 89,
     "metadata": {},
     "output_type": "execute_result"
    }
   ],
   "source": [
    "top_10_users"
   ]
  },
  {
   "cell_type": "markdown",
   "metadata": {},
   "source": [
    "Check to see the demographics of the most review writing users"
   ]
  },
  {
   "cell_type": "code",
   "execution_count": 94,
   "metadata": {},
   "outputs": [
    {
     "data": {
      "text/html": [
       "<div>\n",
       "<style scoped>\n",
       "    .dataframe tbody tr th:only-of-type {\n",
       "        vertical-align: middle;\n",
       "    }\n",
       "\n",
       "    .dataframe tbody tr th {\n",
       "        vertical-align: top;\n",
       "    }\n",
       "\n",
       "    .dataframe thead th {\n",
       "        text-align: right;\n",
       "    }\n",
       "</style>\n",
       "<table border=\"1\" class=\"dataframe\">\n",
       "  <thead>\n",
       "    <tr style=\"text-align: right;\">\n",
       "      <th></th>\n",
       "      <th>product_id</th>\n",
       "      <th>rating</th>\n",
       "      <th>target</th>\n",
       "      <th>compound</th>\n",
       "      <th>pos</th>\n",
       "      <th>neg</th>\n",
       "      <th>neu</th>\n",
       "      <th>length</th>\n",
       "    </tr>\n",
       "    <tr>\n",
       "      <th>user</th>\n",
       "      <th></th>\n",
       "      <th></th>\n",
       "      <th></th>\n",
       "      <th></th>\n",
       "      <th></th>\n",
       "      <th></th>\n",
       "      <th></th>\n",
       "      <th></th>\n",
       "    </tr>\n",
       "  </thead>\n",
       "  <tbody>\n",
       "    <tr>\n",
       "      <th>Ellen5</th>\n",
       "      <td>2.066659e+06</td>\n",
       "      <td>4.619048</td>\n",
       "      <td>0.000000</td>\n",
       "      <td>0.896986</td>\n",
       "      <td>0.207286</td>\n",
       "      <td>0.024619</td>\n",
       "      <td>0.768048</td>\n",
       "      <td>491.714286</td>\n",
       "    </tr>\n",
       "    <tr>\n",
       "      <th>Mallerlyn</th>\n",
       "      <td>1.792742e+06</td>\n",
       "      <td>4.700000</td>\n",
       "      <td>0.050000</td>\n",
       "      <td>0.861175</td>\n",
       "      <td>0.340400</td>\n",
       "      <td>0.010200</td>\n",
       "      <td>0.649450</td>\n",
       "      <td>150.750000</td>\n",
       "    </tr>\n",
       "    <tr>\n",
       "      <th>Mochapj</th>\n",
       "      <td>2.102204e+06</td>\n",
       "      <td>4.333333</td>\n",
       "      <td>0.000000</td>\n",
       "      <td>0.757022</td>\n",
       "      <td>0.180528</td>\n",
       "      <td>0.023000</td>\n",
       "      <td>0.796389</td>\n",
       "      <td>454.027778</td>\n",
       "    </tr>\n",
       "    <tr>\n",
       "      <th>NOneRouge</th>\n",
       "      <td>1.612719e+06</td>\n",
       "      <td>2.210526</td>\n",
       "      <td>0.000000</td>\n",
       "      <td>0.276605</td>\n",
       "      <td>0.179368</td>\n",
       "      <td>0.060684</td>\n",
       "      <td>0.760000</td>\n",
       "      <td>99.052632</td>\n",
       "    </tr>\n",
       "    <tr>\n",
       "      <th>TheMACIsBack</th>\n",
       "      <td>1.907231e+06</td>\n",
       "      <td>4.791667</td>\n",
       "      <td>0.041667</td>\n",
       "      <td>0.902738</td>\n",
       "      <td>0.242583</td>\n",
       "      <td>0.032417</td>\n",
       "      <td>0.724875</td>\n",
       "      <td>589.875000</td>\n",
       "    </tr>\n",
       "    <tr>\n",
       "      <th>crisymei</th>\n",
       "      <td>1.697232e+06</td>\n",
       "      <td>3.400000</td>\n",
       "      <td>0.000000</td>\n",
       "      <td>0.687500</td>\n",
       "      <td>0.178900</td>\n",
       "      <td>0.047300</td>\n",
       "      <td>0.773750</td>\n",
       "      <td>600.600000</td>\n",
       "    </tr>\n",
       "    <tr>\n",
       "      <th>glowholic</th>\n",
       "      <td>1.936471e+06</td>\n",
       "      <td>4.218750</td>\n",
       "      <td>0.000000</td>\n",
       "      <td>0.736937</td>\n",
       "      <td>0.186969</td>\n",
       "      <td>0.037000</td>\n",
       "      <td>0.775969</td>\n",
       "      <td>489.187500</td>\n",
       "    </tr>\n",
       "    <tr>\n",
       "      <th>jonieku</th>\n",
       "      <td>1.994725e+06</td>\n",
       "      <td>4.333333</td>\n",
       "      <td>0.190476</td>\n",
       "      <td>0.688214</td>\n",
       "      <td>0.210857</td>\n",
       "      <td>0.049857</td>\n",
       "      <td>0.739238</td>\n",
       "      <td>508.523810</td>\n",
       "    </tr>\n",
       "    <tr>\n",
       "      <th>makeupfreak12</th>\n",
       "      <td>2.033092e+06</td>\n",
       "      <td>3.312500</td>\n",
       "      <td>0.000000</td>\n",
       "      <td>0.655100</td>\n",
       "      <td>0.171375</td>\n",
       "      <td>0.023438</td>\n",
       "      <td>0.805219</td>\n",
       "      <td>308.625000</td>\n",
       "    </tr>\n",
       "    <tr>\n",
       "      <th>mistyrayne</th>\n",
       "      <td>1.865321e+06</td>\n",
       "      <td>3.711538</td>\n",
       "      <td>0.019231</td>\n",
       "      <td>0.693812</td>\n",
       "      <td>0.222019</td>\n",
       "      <td>0.037308</td>\n",
       "      <td>0.740731</td>\n",
       "      <td>261.038462</td>\n",
       "    </tr>\n",
       "  </tbody>\n",
       "</table>\n",
       "</div>"
      ],
      "text/plain": [
       "                  product_id    rating    target  compound       pos  \\\n",
       "user                                                                   \n",
       "Ellen5          2.066659e+06  4.619048  0.000000  0.896986  0.207286   \n",
       "Mallerlyn       1.792742e+06  4.700000  0.050000  0.861175  0.340400   \n",
       "Mochapj         2.102204e+06  4.333333  0.000000  0.757022  0.180528   \n",
       "NOneRouge       1.612719e+06  2.210526  0.000000  0.276605  0.179368   \n",
       "TheMACIsBack    1.907231e+06  4.791667  0.041667  0.902738  0.242583   \n",
       "crisymei        1.697232e+06  3.400000  0.000000  0.687500  0.178900   \n",
       "glowholic       1.936471e+06  4.218750  0.000000  0.736937  0.186969   \n",
       "jonieku         1.994725e+06  4.333333  0.190476  0.688214  0.210857   \n",
       "makeupfreak12   2.033092e+06  3.312500  0.000000  0.655100  0.171375   \n",
       "mistyrayne      1.865321e+06  3.711538  0.019231  0.693812  0.222019   \n",
       "\n",
       "                     neg       neu      length  \n",
       "user                                            \n",
       "Ellen5          0.024619  0.768048  491.714286  \n",
       "Mallerlyn       0.010200  0.649450  150.750000  \n",
       "Mochapj         0.023000  0.796389  454.027778  \n",
       "NOneRouge       0.060684  0.760000   99.052632  \n",
       "TheMACIsBack    0.032417  0.724875  589.875000  \n",
       "crisymei        0.047300  0.773750  600.600000  \n",
       "glowholic       0.037000  0.775969  489.187500  \n",
       "jonieku         0.049857  0.739238  508.523810  \n",
       "makeupfreak12   0.023438  0.805219  308.625000  \n",
       "mistyrayne      0.037308  0.740731  261.038462  "
      ]
     },
     "execution_count": 94,
     "metadata": {},
     "output_type": "execute_result"
    }
   ],
   "source": [
    "reviews[reviews['user'].isin(top_10_users)].groupby(by = 'user').mean()"
   ]
  },
  {
   "cell_type": "code",
   "execution_count": 203,
   "metadata": {},
   "outputs": [
    {
     "data": {
      "text/html": [
       "<div>\n",
       "<style scoped>\n",
       "    .dataframe tbody tr th:only-of-type {\n",
       "        vertical-align: middle;\n",
       "    }\n",
       "\n",
       "    .dataframe tbody tr th {\n",
       "        vertical-align: top;\n",
       "    }\n",
       "\n",
       "    .dataframe thead th {\n",
       "        text-align: right;\n",
       "    }\n",
       "</style>\n",
       "<table border=\"1\" class=\"dataframe\">\n",
       "  <thead>\n",
       "    <tr style=\"text-align: right;\">\n",
       "      <th></th>\n",
       "      <th>age_range</th>\n",
       "      <th>eye_color</th>\n",
       "      <th>product_id</th>\n",
       "      <th>rating</th>\n",
       "      <th>review</th>\n",
       "      <th>skin_tone</th>\n",
       "      <th>skin_type</th>\n",
       "      <th>title</th>\n",
       "      <th>user</th>\n",
       "      <th>target</th>\n",
       "      <th>stem</th>\n",
       "      <th>review_nsw</th>\n",
       "      <th>stem_nsw</th>\n",
       "      <th>compound</th>\n",
       "      <th>pos</th>\n",
       "      <th>neg</th>\n",
       "      <th>neu</th>\n",
       "      <th>length</th>\n",
       "    </tr>\n",
       "  </thead>\n",
       "  <tbody>\n",
       "  </tbody>\n",
       "</table>\n",
       "</div>"
      ],
      "text/plain": [
       "Empty DataFrame\n",
       "Columns: [age_range, eye_color, product_id, rating, review, skin_tone, skin_type, title, user, target, stem, review_nsw, stem_nsw, compound, pos, neg, neu, length]\n",
       "Index: []"
      ]
     },
     "execution_count": 203,
     "metadata": {},
     "output_type": "execute_result"
    }
   ],
   "source": [
    "reviews.head(0)"
   ]
  },
  {
   "cell_type": "code",
   "execution_count": 242,
   "metadata": {},
   "outputs": [
    {
     "data": {
      "text/plain": [
       "Text(0.5, 1.0, 'Skin Type')"
      ]
     },
     "execution_count": 242,
     "metadata": {},
     "output_type": "execute_result"
    },
    {
     "data": {
      "image/png": "[encoded data removed]",
      "text/plain": [
       "<Figure size 1080x792 with 4 Axes>"
      ]
     },
     "metadata": {
      "needs_background": "light"
     },
     "output_type": "display_data"
    },
    {
     "data": {
      "text/plain": [
       "<Figure size 468x468 with 0 Axes>"
      ]
     },
     "metadata": {},
     "output_type": "display_data"
    }
   ],
   "source": [
    "fig, axes = plt.subplots(nrows = 2, ncols = 2, figsize = (15, 11))\n",
    "plt.subplots_adjust(wspace = .5)\n",
    "plt.figure(figsize = (6.5,6.5))\n",
    "\n",
    "sns.countplot(data = reviews, x = 'age_range', ax = axes[0,0])\n",
    "axes[0,0].set_title('Age Range')\n",
    "\n",
    "\n",
    "sns.countplot(data = reviews, x = 'eye_color', ax = axes[0,1])\n",
    "axes[0,1].set_title('Eye Color')\n",
    "\n",
    "\n",
    "sns.countplot(data = reviews, x = 'skin_tone', ax = axes[1,0])\n",
    "axes[1,0].set_title('Skin Tone')\n",
    "\n",
    "\n",
    "sns.countplot(data = reviews, x = 'skin_type', ax = axes[1,1])\n",
    "axes[1,1].set_title('Skin Type')\n"
   ]
  },
  {
   "cell_type": "markdown",
   "metadata": {},
   "source": [
    "Most of the users were 25-34, with skin tone that ranges from fair to medium, had brown eyes and combination skin"
   ]
  },
  {
   "cell_type": "markdown",
   "metadata": {},
   "source": [
    "# All the Pieces Together"
   ]
  },
  {
   "cell_type": "code",
   "execution_count": 493,
   "metadata": {},
   "outputs": [],
   "source": [
    "w_ratings = pd.merge(products, ratings, how = 'left', left_on = 'skuId', right_on = 'product_id')"
   ]
  },
  {
   "cell_type": "code",
   "execution_count": 494,
   "metadata": {},
   "outputs": [],
   "source": [
    "w_summ = pd.merge(w_ratings, compound_summaries, how = 'left', left_on = 'skuId', right_on = 'product_id')"
   ]
  },
  {
   "cell_type": "code",
   "execution_count": 495,
   "metadata": {},
   "outputs": [
    {
     "data": {
      "text/plain": [
       "Index(['brand_name', 'category', 'imageAltText', 'isLimitedEdition', 'isNew',\n",
       "       'isOnlineOnly', 'isSephoraExclusive', 'listPrice', 'salePrice', 'skuId',\n",
       "       'skuType', 'valuePrice', 'review_count_x', 'target_x', '1 star',\n",
       "       '2 stars', '3 stars', '4 stars', '5 stars', 'avg_rating',\n",
       "       'product_id_x', 'review_count_y', 'total_ratings', 'target_y',\n",
       "       'compound_score', 'product_id_y'],\n",
       "      dtype='object')"
      ]
     },
     "execution_count": 495,
     "metadata": {},
     "output_type": "execute_result"
    }
   ],
   "source": [
    "w_summ.columns"
   ]
  },
  {
   "cell_type": "code",
   "execution_count": 496,
   "metadata": {},
   "outputs": [],
   "source": [
    "w_summ.drop(columns = ['product_id_x', 'product_id_y', 'target_y'], inplace = True)"
   ]
  },
  {
   "cell_type": "code",
   "execution_count": 497,
   "metadata": {},
   "outputs": [],
   "source": [
    "final_df = pd.merge(w_summ, compound_ratings, how = 'left', left_on = 'skuId', right_on = 'product_id')"
   ]
  },
  {
   "cell_type": "code",
   "execution_count": 498,
   "metadata": {},
   "outputs": [],
   "source": [
    "final_df.drop_duplicates(subset = 'skuId', inplace = True)"
   ]
  },
  {
   "cell_type": "code",
   "execution_count": 499,
   "metadata": {},
   "outputs": [],
   "source": [
    "final_df.drop(columns = 'review_count_x', inplace = True)"
   ]
  },
  {
   "cell_type": "code",
   "execution_count": 500,
   "metadata": {},
   "outputs": [],
   "source": [
    "final_df.to_csv('final_dataset.csv')"
   ]
  },
  {
   "cell_type": "code",
   "execution_count": 502,
   "metadata": {},
   "outputs": [
    {
     "data": {
      "text/plain": [
       "isLimitedEdition      0.132540\n",
       "isNew                -0.057468\n",
       "isOnlineOnly         -0.010396\n",
       "isSephoraExclusive    0.184555\n",
       "listPrice            -0.052381\n",
       "salePrice             0.769436\n",
       "skuId                 0.002788\n",
       "target_x              1.000000\n",
       "1 star               -0.039832\n",
       "2 stars              -0.049086\n",
       "3 stars              -0.052970\n",
       "4 stars              -0.051734\n",
       "5 stars              -0.054387\n",
       "avg_rating           -0.136607\n",
       "review_count_y       -0.054961\n",
       "total_ratings        -0.054961\n",
       "compound             -0.113889\n",
       "Name: target_x, dtype: float64"
      ]
     },
     "execution_count": 502,
     "metadata": {},
     "output_type": "execute_result"
    }
   ],
   "source": [
    "final_df.corr()['target_x']"
   ]
  }
 ],
 "metadata": {
  "kernelspec": {
   "display_name": "Python 3",
   "language": "python",
   "name": "python3"
  },
  "language_info": {
   "codemirror_mode": {
    "name": "ipython",
    "version": 3
   },
   "file_extension": ".py",
   "mimetype": "text/x-python",
   "name": "python",
   "nbconvert_exporter": "python",
   "pygments_lexer": "ipython3",
   "version": "3.7.3"
  }
 },
 "nbformat": 4,
 "nbformat_minor": 2
}
