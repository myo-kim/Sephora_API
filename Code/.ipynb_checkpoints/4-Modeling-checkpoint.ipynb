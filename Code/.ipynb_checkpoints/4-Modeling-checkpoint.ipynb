{
 "cells": [
  {
   "cell_type": "markdown",
   "metadata": {},
   "source": [
    "# 4 - Modeling"
   ]
  },
  {
   "cell_type": "markdown",
   "metadata": {},
   "source": [
    "## Contents\n",
    "1. [Feature Engineering](#Feature-Engineering)\n",
    "2. [Modeling](#Build-Models)\n",
    "    - [Logistic Regression](#Logistic-Regression)\n",
    "        - [No Brand Name](#Remove-Brand-Name)\n",
    "    - [Neural Network](#Neural-Network)\n",
    "    - Random Forest\n",
    "        - [No Tuning](#Random-Forest)\n",
    "        - [Without Brand Name](#Random-Forest-without-Brand-Name-Additional-Metrics)\n",
    "        - [Tuning](#Random-Forest-with-Brand-Name)\n",
    "    - Balanced Classes\n",
    "        - [Logistic Regression](#Logistic-Regression-Balanced-Classes)\n",
    "            - [Using Scaled Data](#Logistic-Regression-with-Scaled-Data)\n",
    "    - Refitting Models\n",
    "        - [Logistic Regression](#Logistic-Regression-Refit-with-ROC-AUC)\n",
    "        - [Scaled Data](#Logistic-Regression-Refit-with-Scaled-Data-scored-for-Accuracy)\n",
    "        - [Unbalanced Class](#Logistic-Regression-without-Balanced-Classes)\n",
    "    - Scored for Precision\n",
    "        - [No Refit](#Logistic-Regression-with-Scaled-Data-scored-for-Precision)\n",
    "        - [Refitting for ROC AUC](#Logistic-Regression-with-Refit-Scaled-Data-scored-for-Precision)\n",
    "3. [Conclusions](#Conclusions)\n",
    "    - [Best Model](#The-best-model-reproduced-below:)"
   ]
  },
  {
   "cell_type": "markdown",
   "metadata": {},
   "source": [
    "Load libraries and dataset"
   ]
  },
  {
   "cell_type": "code",
   "execution_count": 458,
   "metadata": {},
   "outputs": [],
   "source": [
    "from sklearn.feature_extraction.text import CountVectorizer, TfidfVectorizer\n",
    "from sklearn.pipeline import Pipeline\n",
    "from sklearn.model_selection import train_test_split, GridSearchCV\n",
    "from sklearn.linear_model import LogisticRegression\n",
    "from sklearn.tree import DecisionTreeClassifier\n",
    "from sklearn.ensemble import RandomForestClassifier\n",
    "from sklearn.metrics import confusion_matrix\n",
    "from sklearn.preprocessing import OneHotEncoder\n",
    "from sklearn.preprocessing import StandardScaler\n",
    "import sklearn.metrics as metrics"
   ]
  },
  {
   "cell_type": "code",
   "execution_count": 459,
   "metadata": {},
   "outputs": [],
   "source": [
    "from keras.models import Sequential\n",
    "from keras.layers import Dense, Dropout, Activation, Flatten\n",
    "from keras.layers import Conv2D, MaxPooling2D\n",
    "from keras.utils import np_utils"
   ]
  },
  {
   "cell_type": "code",
   "execution_count": 460,
   "metadata": {},
   "outputs": [],
   "source": [
    "import pandas as pd\n",
    "import numpy as np\n",
    "import re\n",
    "import matplotlib.pyplot as plt"
   ]
  },
  {
   "cell_type": "code",
   "execution_count": 608,
   "metadata": {},
   "outputs": [],
   "source": [
    "# Read in final dataset\n",
    "df = pd.read_csv('/Users/myokim/Desktop/general_assembly/Projects/Capstone/datasets_clean/final_dataset.csv')\n",
    "\n",
    "df.drop(columns = ['Unnamed: 0', 'imageAltText', 'salePrice', 'valuePrice', 'skuType'], inplace = True)"
   ]
  },
  {
   "cell_type": "code",
   "execution_count": 483,
   "metadata": {},
   "outputs": [
    {
     "data": {
      "text/html": [
       "<div>\n",
       "<style scoped>\n",
       "    .dataframe tbody tr th:only-of-type {\n",
       "        vertical-align: middle;\n",
       "    }\n",
       "\n",
       "    .dataframe tbody tr th {\n",
       "        vertical-align: top;\n",
       "    }\n",
       "\n",
       "    .dataframe thead th {\n",
       "        text-align: right;\n",
       "    }\n",
       "</style>\n",
       "<table border=\"1\" class=\"dataframe\">\n",
       "  <thead>\n",
       "    <tr style=\"text-align: right;\">\n",
       "      <th></th>\n",
       "      <th>brand_name</th>\n",
       "      <th>category</th>\n",
       "      <th>isLimitedEdition</th>\n",
       "      <th>isNew</th>\n",
       "      <th>isOnlineOnly</th>\n",
       "      <th>isSephoraExclusive</th>\n",
       "      <th>listPrice</th>\n",
       "      <th>skuId</th>\n",
       "      <th>target_x</th>\n",
       "      <th>1 star</th>\n",
       "      <th>2 stars</th>\n",
       "      <th>3 stars</th>\n",
       "      <th>4 stars</th>\n",
       "      <th>5 stars</th>\n",
       "      <th>avg_rating</th>\n",
       "      <th>review_count_y</th>\n",
       "      <th>total_ratings</th>\n",
       "      <th>compound_score</th>\n",
       "      <th>compound</th>\n",
       "    </tr>\n",
       "  </thead>\n",
       "  <tbody>\n",
       "    <tr>\n",
       "      <th>0</th>\n",
       "      <td>FENTY BEAUTY by Rihanna</td>\n",
       "      <td>foundation-makeup</td>\n",
       "      <td>False</td>\n",
       "      <td>True</td>\n",
       "      <td>True</td>\n",
       "      <td>True</td>\n",
       "      <td>35.0</td>\n",
       "      <td>2268274</td>\n",
       "      <td>0</td>\n",
       "      <td>0.0</td>\n",
       "      <td>0.0</td>\n",
       "      <td>0.0</td>\n",
       "      <td>5.0</td>\n",
       "      <td>11.0</td>\n",
       "      <td>4.7</td>\n",
       "      <td>16.0</td>\n",
       "      <td>16.0</td>\n",
       "      <td>NaN</td>\n",
       "      <td>0.860733</td>\n",
       "    </tr>\n",
       "    <tr>\n",
       "      <th>1</th>\n",
       "      <td>PAT McGRATH LABS</td>\n",
       "      <td>foundation-makeup</td>\n",
       "      <td>False</td>\n",
       "      <td>True</td>\n",
       "      <td>False</td>\n",
       "      <td>True</td>\n",
       "      <td>68.0</td>\n",
       "      <td>2257111</td>\n",
       "      <td>0</td>\n",
       "      <td>28.0</td>\n",
       "      <td>35.0</td>\n",
       "      <td>57.0</td>\n",
       "      <td>212.0</td>\n",
       "      <td>548.0</td>\n",
       "      <td>4.4</td>\n",
       "      <td>880.0</td>\n",
       "      <td>880.0</td>\n",
       "      <td>NaN</td>\n",
       "      <td>0.767496</td>\n",
       "    </tr>\n",
       "    <tr>\n",
       "      <th>2</th>\n",
       "      <td>FENTY BEAUTY by Rihanna</td>\n",
       "      <td>foundation-makeup</td>\n",
       "      <td>False</td>\n",
       "      <td>False</td>\n",
       "      <td>False</td>\n",
       "      <td>True</td>\n",
       "      <td>35.0</td>\n",
       "      <td>2164671</td>\n",
       "      <td>0</td>\n",
       "      <td>1139.0</td>\n",
       "      <td>1279.0</td>\n",
       "      <td>1324.0</td>\n",
       "      <td>2149.0</td>\n",
       "      <td>8379.0</td>\n",
       "      <td>4.1</td>\n",
       "      <td>14270.0</td>\n",
       "      <td>14270.0</td>\n",
       "      <td>NaN</td>\n",
       "      <td>0.616840</td>\n",
       "    </tr>\n",
       "    <tr>\n",
       "      <th>3</th>\n",
       "      <td>MILK MAKEUP</td>\n",
       "      <td>foundation-makeup</td>\n",
       "      <td>False</td>\n",
       "      <td>True</td>\n",
       "      <td>False</td>\n",
       "      <td>True</td>\n",
       "      <td>36.0</td>\n",
       "      <td>2242105</td>\n",
       "      <td>0</td>\n",
       "      <td>1.0</td>\n",
       "      <td>10.0</td>\n",
       "      <td>23.0</td>\n",
       "      <td>115.0</td>\n",
       "      <td>214.0</td>\n",
       "      <td>4.5</td>\n",
       "      <td>363.0</td>\n",
       "      <td>363.0</td>\n",
       "      <td>NaN</td>\n",
       "      <td>0.775412</td>\n",
       "    </tr>\n",
       "    <tr>\n",
       "      <th>4</th>\n",
       "      <td>Estée Lauder</td>\n",
       "      <td>foundation-makeup</td>\n",
       "      <td>False</td>\n",
       "      <td>False</td>\n",
       "      <td>False</td>\n",
       "      <td>False</td>\n",
       "      <td>43.0</td>\n",
       "      <td>2112167</td>\n",
       "      <td>0</td>\n",
       "      <td>213.0</td>\n",
       "      <td>258.0</td>\n",
       "      <td>299.0</td>\n",
       "      <td>837.0</td>\n",
       "      <td>3758.0</td>\n",
       "      <td>4.4</td>\n",
       "      <td>5365.0</td>\n",
       "      <td>5365.0</td>\n",
       "      <td>0.012698</td>\n",
       "      <td>0.782008</td>\n",
       "    </tr>\n",
       "  </tbody>\n",
       "</table>\n",
       "</div>"
      ],
      "text/plain": [
       "                brand_name           category  isLimitedEdition  isNew  \\\n",
       "0  FENTY BEAUTY by Rihanna  foundation-makeup             False   True   \n",
       "1         PAT McGRATH LABS  foundation-makeup             False   True   \n",
       "2  FENTY BEAUTY by Rihanna  foundation-makeup             False  False   \n",
       "3              MILK MAKEUP  foundation-makeup             False   True   \n",
       "4             Estée Lauder  foundation-makeup             False  False   \n",
       "\n",
       "   isOnlineOnly  isSephoraExclusive  listPrice    skuId  target_x  1 star  \\\n",
       "0          True                True       35.0  2268274         0     0.0   \n",
       "1         False                True       68.0  2257111         0    28.0   \n",
       "2         False                True       35.0  2164671         0  1139.0   \n",
       "3         False                True       36.0  2242105         0     1.0   \n",
       "4         False               False       43.0  2112167         0   213.0   \n",
       "\n",
       "   2 stars  3 stars  4 stars  5 stars  avg_rating  review_count_y  \\\n",
       "0      0.0      0.0      5.0     11.0         4.7            16.0   \n",
       "1     35.0     57.0    212.0    548.0         4.4           880.0   \n",
       "2   1279.0   1324.0   2149.0   8379.0         4.1         14270.0   \n",
       "3     10.0     23.0    115.0    214.0         4.5           363.0   \n",
       "4    258.0    299.0    837.0   3758.0         4.4          5365.0   \n",
       "\n",
       "   total_ratings  compound_score  compound  \n",
       "0           16.0             NaN  0.860733  \n",
       "1          880.0             NaN  0.767496  \n",
       "2        14270.0             NaN  0.616840  \n",
       "3          363.0             NaN  0.775412  \n",
       "4         5365.0        0.012698  0.782008  "
      ]
     },
     "execution_count": 483,
     "metadata": {},
     "output_type": "execute_result"
    }
   ],
   "source": [
    "df.head()"
   ]
  },
  {
   "cell_type": "code",
   "execution_count": 484,
   "metadata": {},
   "outputs": [
    {
     "data": {
      "text/plain": [
       "brand_name               0\n",
       "category                 0\n",
       "isLimitedEdition         0\n",
       "isNew                    0\n",
       "isOnlineOnly             0\n",
       "isSephoraExclusive       0\n",
       "listPrice                0\n",
       "skuId                    0\n",
       "target_x                 0\n",
       "1 star                 900\n",
       "2 stars                900\n",
       "3 stars                900\n",
       "4 stars                900\n",
       "5 stars                900\n",
       "avg_rating             900\n",
       "review_count_y         900\n",
       "total_ratings          900\n",
       "compound_score        1687\n",
       "compound               925\n",
       "dtype: int64"
      ]
     },
     "execution_count": 484,
     "metadata": {},
     "output_type": "execute_result"
    }
   ],
   "source": [
    "df.isnull().sum()"
   ]
  },
  {
   "cell_type": "markdown",
   "metadata": {},
   "source": [
    "## Feature Engineering"
   ]
  },
  {
   "cell_type": "code",
   "execution_count": 609,
   "metadata": {},
   "outputs": [],
   "source": [
    "# Column to flag if there are null values; these values will be imputed with 0\n",
    "# While neural networks can handle null values and recognize that a 0 can be determined as having been null, \n",
    "# Other classification models cannot \n",
    "df['fill_null'] = df.isnull().any(axis = 1).map(lambda x: 1 if x == True else 0 )"
   ]
  },
  {
   "cell_type": "code",
   "execution_count": 610,
   "metadata": {},
   "outputs": [],
   "source": [
    "# Create dummy features for binary columns\n",
    "df = pd.get_dummies(df, columns = ['isLimitedEdition', 'isNew', 'isOnlineOnly', 'isSephoraExclusive', 'brand_name', 'category'], drop_first = True)\n",
    "\n",
    "df.fillna(0, inplace= True)"
   ]
  },
  {
   "cell_type": "code",
   "execution_count": 487,
   "metadata": {},
   "outputs": [
    {
     "data": {
      "text/plain": [
       "(2590, 183)"
      ]
     },
     "execution_count": 487,
     "metadata": {},
     "output_type": "execute_result"
    }
   ],
   "source": [
    "df.shape"
   ]
  },
  {
   "cell_type": "markdown",
   "metadata": {},
   "source": [
    "## Build Models"
   ]
  },
  {
   "cell_type": "markdown",
   "metadata": {},
   "source": [
    "### Logistic Regression"
   ]
  },
  {
   "cell_type": "code",
   "execution_count": 611,
   "metadata": {},
   "outputs": [],
   "source": [
    "X = df.drop(columns = 'target_x')\n",
    "\n",
    "y = df['target_x']\n",
    "\n",
    "X_train, X_test, y_train, y_test = train_test_split(X, y,stratify = y, random_state = 42)"
   ]
  },
  {
   "cell_type": "code",
   "execution_count": 489,
   "metadata": {},
   "outputs": [
    {
     "data": {
      "text/plain": [
       "0    0.954686\n",
       "1    0.045314\n",
       "Name: target_x, dtype: float64"
      ]
     },
     "execution_count": 489,
     "metadata": {},
     "output_type": "execute_result"
    }
   ],
   "source": [
    "y_train.value_counts(normalize = True)"
   ]
  },
  {
   "cell_type": "code",
   "execution_count": 490,
   "metadata": {},
   "outputs": [
    {
     "data": {
      "text/plain": [
       "0    0.955247\n",
       "1    0.044753\n",
       "Name: target_x, dtype: float64"
      ]
     },
     "execution_count": 490,
     "metadata": {},
     "output_type": "execute_result"
    }
   ],
   "source": [
    "y_test.value_counts(normalize = True)"
   ]
  },
  {
   "cell_type": "markdown",
   "metadata": {},
   "source": [
    "The model below optimizes for precision"
   ]
  },
  {
   "cell_type": "code",
   "execution_count": 491,
   "metadata": {},
   "outputs": [
    {
     "name": "stderr",
     "output_type": "stream",
     "text": [
      "/anaconda3/envs/dsi/lib/python3.7/site-packages/sklearn/metrics/classification.py:1437: UndefinedMetricWarning: Precision is ill-defined and being set to 0.0 due to no predicted samples.\n",
      "  'precision', 'predicted', average, warn_for)\n",
      "/anaconda3/envs/dsi/lib/python3.7/site-packages/sklearn/metrics/classification.py:1437: UndefinedMetricWarning: Precision is ill-defined and being set to 0.0 due to no predicted samples.\n",
      "  'precision', 'predicted', average, warn_for)\n",
      "/anaconda3/envs/dsi/lib/python3.7/site-packages/sklearn/metrics/classification.py:1437: UndefinedMetricWarning: Precision is ill-defined and being set to 0.0 due to no predicted samples.\n",
      "  'precision', 'predicted', average, warn_for)\n",
      "/anaconda3/envs/dsi/lib/python3.7/site-packages/sklearn/metrics/classification.py:1437: UndefinedMetricWarning: Precision is ill-defined and being set to 0.0 due to no predicted samples.\n",
      "  'precision', 'predicted', average, warn_for)\n",
      "/anaconda3/envs/dsi/lib/python3.7/site-packages/sklearn/metrics/classification.py:1437: UndefinedMetricWarning: Precision is ill-defined and being set to 0.0 due to no predicted samples.\n",
      "  'precision', 'predicted', average, warn_for)\n",
      "/anaconda3/envs/dsi/lib/python3.7/site-packages/sklearn/metrics/classification.py:1437: UndefinedMetricWarning: Precision is ill-defined and being set to 0.0 due to no predicted samples.\n",
      "  'precision', 'predicted', average, warn_for)\n",
      "/anaconda3/envs/dsi/lib/python3.7/site-packages/sklearn/metrics/classification.py:1437: UndefinedMetricWarning: Precision is ill-defined and being set to 0.0 due to no predicted samples.\n",
      "  'precision', 'predicted', average, warn_for)\n",
      "/anaconda3/envs/dsi/lib/python3.7/site-packages/sklearn/metrics/classification.py:1437: UndefinedMetricWarning: Precision is ill-defined and being set to 0.0 due to no predicted samples.\n",
      "  'precision', 'predicted', average, warn_for)\n",
      "/anaconda3/envs/dsi/lib/python3.7/site-packages/sklearn/metrics/classification.py:1437: UndefinedMetricWarning: Precision is ill-defined and being set to 0.0 due to no predicted samples.\n",
      "  'precision', 'predicted', average, warn_for)\n",
      "/anaconda3/envs/dsi/lib/python3.7/site-packages/sklearn/metrics/classification.py:1437: UndefinedMetricWarning: Precision is ill-defined and being set to 0.0 due to no predicted samples.\n",
      "  'precision', 'predicted', average, warn_for)\n",
      "/anaconda3/envs/dsi/lib/python3.7/site-packages/sklearn/metrics/classification.py:1437: UndefinedMetricWarning: Precision is ill-defined and being set to 0.0 due to no predicted samples.\n",
      "  'precision', 'predicted', average, warn_for)\n",
      "/anaconda3/envs/dsi/lib/python3.7/site-packages/sklearn/metrics/classification.py:1437: UndefinedMetricWarning: Precision is ill-defined and being set to 0.0 due to no predicted samples.\n",
      "  'precision', 'predicted', average, warn_for)\n",
      "/anaconda3/envs/dsi/lib/python3.7/site-packages/sklearn/metrics/classification.py:1437: UndefinedMetricWarning: Precision is ill-defined and being set to 0.0 due to no predicted samples.\n",
      "  'precision', 'predicted', average, warn_for)\n",
      "/anaconda3/envs/dsi/lib/python3.7/site-packages/sklearn/metrics/classification.py:1437: UndefinedMetricWarning: Precision is ill-defined and being set to 0.0 due to no predicted samples.\n",
      "  'precision', 'predicted', average, warn_for)\n",
      "/anaconda3/envs/dsi/lib/python3.7/site-packages/sklearn/metrics/classification.py:1437: UndefinedMetricWarning: Precision is ill-defined and being set to 0.0 due to no predicted samples.\n",
      "  'precision', 'predicted', average, warn_for)\n",
      "/anaconda3/envs/dsi/lib/python3.7/site-packages/sklearn/metrics/classification.py:1437: UndefinedMetricWarning: Precision is ill-defined and being set to 0.0 due to no predicted samples.\n",
      "  'precision', 'predicted', average, warn_for)\n",
      "/anaconda3/envs/dsi/lib/python3.7/site-packages/sklearn/metrics/classification.py:1437: UndefinedMetricWarning: Precision is ill-defined and being set to 0.0 due to no predicted samples.\n",
      "  'precision', 'predicted', average, warn_for)\n",
      "/anaconda3/envs/dsi/lib/python3.7/site-packages/sklearn/metrics/classification.py:1437: UndefinedMetricWarning: Precision is ill-defined and being set to 0.0 due to no predicted samples.\n",
      "  'precision', 'predicted', average, warn_for)\n",
      "/anaconda3/envs/dsi/lib/python3.7/site-packages/sklearn/metrics/classification.py:1437: UndefinedMetricWarning: Precision is ill-defined and being set to 0.0 due to no predicted samples.\n",
      "  'precision', 'predicted', average, warn_for)\n",
      "/anaconda3/envs/dsi/lib/python3.7/site-packages/sklearn/metrics/classification.py:1437: UndefinedMetricWarning: Precision is ill-defined and being set to 0.0 due to no predicted samples.\n",
      "  'precision', 'predicted', average, warn_for)\n",
      "/anaconda3/envs/dsi/lib/python3.7/site-packages/sklearn/metrics/classification.py:1437: UndefinedMetricWarning: Precision is ill-defined and being set to 0.0 due to no predicted samples.\n",
      "  'precision', 'predicted', average, warn_for)\n",
      "/anaconda3/envs/dsi/lib/python3.7/site-packages/sklearn/metrics/classification.py:1437: UndefinedMetricWarning: Precision is ill-defined and being set to 0.0 due to no predicted samples.\n",
      "  'precision', 'predicted', average, warn_for)\n"
     ]
    },
    {
     "name": "stdout",
     "output_type": "stream",
     "text": [
      "Best training score for gs: 0.4329728801922416\n",
      "Best parameters: {'C': 0.75, 'penalty': 'l1', 'solver': 'liblinear'}\n",
      "Test score: 0.9567901234567902\n"
     ]
    },
    {
     "name": "stderr",
     "output_type": "stream",
     "text": [
      "/anaconda3/envs/dsi/lib/python3.7/site-packages/sklearn/metrics/classification.py:1437: UndefinedMetricWarning: Precision is ill-defined and being set to 0.0 due to no predicted samples.\n",
      "  'precision', 'predicted', average, warn_for)\n",
      "/anaconda3/envs/dsi/lib/python3.7/site-packages/sklearn/metrics/classification.py:1437: UndefinedMetricWarning: Precision is ill-defined and being set to 0.0 due to no predicted samples.\n",
      "  'precision', 'predicted', average, warn_for)\n",
      "/anaconda3/envs/dsi/lib/python3.7/site-packages/sklearn/metrics/classification.py:1437: UndefinedMetricWarning: Precision is ill-defined and being set to 0.0 due to no predicted samples.\n",
      "  'precision', 'predicted', average, warn_for)\n",
      "/anaconda3/envs/dsi/lib/python3.7/site-packages/sklearn/metrics/classification.py:1437: UndefinedMetricWarning: Precision is ill-defined and being set to 0.0 due to no predicted samples.\n",
      "  'precision', 'predicted', average, warn_for)\n",
      "/anaconda3/envs/dsi/lib/python3.7/site-packages/sklearn/metrics/classification.py:1437: UndefinedMetricWarning: Precision is ill-defined and being set to 0.0 due to no predicted samples.\n",
      "  'precision', 'predicted', average, warn_for)\n",
      "/anaconda3/envs/dsi/lib/python3.7/site-packages/sklearn/metrics/classification.py:1437: UndefinedMetricWarning: Precision is ill-defined and being set to 0.0 due to no predicted samples.\n",
      "  'precision', 'predicted', average, warn_for)\n",
      "/anaconda3/envs/dsi/lib/python3.7/site-packages/sklearn/model_selection/_search.py:813: DeprecationWarning: The default of the `iid` parameter will change from True to False in version 0.22 and will be removed in 0.24. This will change numeric results when test-set sizes are unequal.\n",
      "  DeprecationWarning)\n"
     ]
    }
   ],
   "source": [
    "lr = LogisticRegression()\n",
    "gs_lr = GridSearchCV(\n",
    "            estimator = lr, \n",
    "            param_grid = {\n",
    "                 'penalty': ['l1','l2'],\n",
    "                 'C': [.25, .5, .75, 1],\n",
    "                 'solver': ['liblinear']},\n",
    "            cv = 5,\n",
    "            scoring = 'precision')\n",
    "\n",
    "gs_lr.fit(X_train, y_train)\n",
    "print(f'Best training score for gs: {gs_lr.best_score_}')\n",
    "print(f'Best parameters: {gs_lr.best_params_}')\n",
    "lr = gs_lr.best_estimator_\n",
    "print(f'Test score: {lr.score(X_test, y_test)}')"
   ]
  },
  {
   "cell_type": "code",
   "execution_count": 492,
   "metadata": {},
   "outputs": [
    {
     "data": {
      "text/plain": [
       "7"
      ]
     },
     "execution_count": 492,
     "metadata": {},
     "output_type": "execute_result"
    }
   ],
   "source": [
    "# Summing the target predictions\n",
    "sum(lr.predict(X_test))"
   ]
  },
  {
   "cell_type": "code",
   "execution_count": 493,
   "metadata": {},
   "outputs": [
    {
     "data": {
      "text/plain": [
       "9"
      ]
     },
     "execution_count": 493,
     "metadata": {},
     "output_type": "execute_result"
    }
   ],
   "source": [
    "sum(lr.predict(X_train))"
   ]
  },
  {
   "cell_type": "code",
   "execution_count": 494,
   "metadata": {},
   "outputs": [],
   "source": [
    "lr_weights = pd.DataFrame(index = X.columns, data = lr.coef_.ravel())"
   ]
  },
  {
   "cell_type": "code",
   "execution_count": 495,
   "metadata": {},
   "outputs": [
    {
     "data": {
      "text/html": [
       "<div>\n",
       "<style scoped>\n",
       "    .dataframe tbody tr th:only-of-type {\n",
       "        vertical-align: middle;\n",
       "    }\n",
       "\n",
       "    .dataframe tbody tr th {\n",
       "        vertical-align: top;\n",
       "    }\n",
       "\n",
       "    .dataframe thead th {\n",
       "        text-align: right;\n",
       "    }\n",
       "</style>\n",
       "<table border=\"1\" class=\"dataframe\">\n",
       "  <thead>\n",
       "    <tr style=\"text-align: right;\">\n",
       "      <th></th>\n",
       "      <th>0</th>\n",
       "    </tr>\n",
       "  </thead>\n",
       "  <tbody>\n",
       "    <tr>\n",
       "      <th>brand_name_GLAMGLOW</th>\n",
       "      <td>3.437997</td>\n",
       "    </tr>\n",
       "    <tr>\n",
       "      <th>brand_name_Black Up</th>\n",
       "      <td>3.081407</td>\n",
       "    </tr>\n",
       "    <tr>\n",
       "      <th>brand_name_trèStiQue</th>\n",
       "      <td>3.025325</td>\n",
       "    </tr>\n",
       "    <tr>\n",
       "      <th>brand_name_Wander Beauty</th>\n",
       "      <td>2.305167</td>\n",
       "    </tr>\n",
       "    <tr>\n",
       "      <th>brand_name_MILK MAKEUP</th>\n",
       "      <td>1.729338</td>\n",
       "    </tr>\n",
       "  </tbody>\n",
       "</table>\n",
       "</div>"
      ],
      "text/plain": [
       "                                 0\n",
       "brand_name_GLAMGLOW       3.437997\n",
       "brand_name_Black Up       3.081407\n",
       "brand_name_trèStiQue      3.025325\n",
       "brand_name_Wander Beauty  2.305167\n",
       "brand_name_MILK MAKEUP    1.729338"
      ]
     },
     "execution_count": 495,
     "metadata": {},
     "output_type": "execute_result"
    }
   ],
   "source": [
    "lr_weights[lr_weights[0]>0].sort_values(by = 0,ascending = False)[:5]"
   ]
  },
  {
   "cell_type": "markdown",
   "metadata": {},
   "source": [
    "The brand names have the largest weights in the first iteration of the model. Looking on Sephora's website for example, all of the products under the brand 'Black Up' are on sale."
   ]
  },
  {
   "cell_type": "code",
   "execution_count": 496,
   "metadata": {},
   "outputs": [
    {
     "data": {
      "text/html": [
       "<div>\n",
       "<style scoped>\n",
       "    .dataframe tbody tr th:only-of-type {\n",
       "        vertical-align: middle;\n",
       "    }\n",
       "\n",
       "    .dataframe tbody tr th {\n",
       "        vertical-align: top;\n",
       "    }\n",
       "\n",
       "    .dataframe thead th {\n",
       "        text-align: right;\n",
       "    }\n",
       "</style>\n",
       "<table border=\"1\" class=\"dataframe\">\n",
       "  <thead>\n",
       "    <tr style=\"text-align: right;\">\n",
       "      <th></th>\n",
       "      <th>0</th>\n",
       "    </tr>\n",
       "  </thead>\n",
       "  <tbody>\n",
       "    <tr>\n",
       "      <th>category_mascara</th>\n",
       "      <td>-1.805830</td>\n",
       "    </tr>\n",
       "    <tr>\n",
       "      <th>isNew_True</th>\n",
       "      <td>-1.459886</td>\n",
       "    </tr>\n",
       "    <tr>\n",
       "      <th>fill_null</th>\n",
       "      <td>-1.287766</td>\n",
       "    </tr>\n",
       "    <tr>\n",
       "      <th>compound</th>\n",
       "      <td>-1.049997</td>\n",
       "    </tr>\n",
       "    <tr>\n",
       "      <th>brand_name_tarte</th>\n",
       "      <td>-0.605702</td>\n",
       "    </tr>\n",
       "  </tbody>\n",
       "</table>\n",
       "</div>"
      ],
      "text/plain": [
       "                         0\n",
       "category_mascara -1.805830\n",
       "isNew_True       -1.459886\n",
       "fill_null        -1.287766\n",
       "compound         -1.049997\n",
       "brand_name_tarte -0.605702"
      ]
     },
     "execution_count": 496,
     "metadata": {},
     "output_type": "execute_result"
    }
   ],
   "source": [
    "lr_weights[lr_weights[0]<0].sort_values(by = 0,ascending = True)[:5]"
   ]
  },
  {
   "cell_type": "markdown",
   "metadata": {},
   "source": [
    "As mentioned before in the EDA, mascara was a product that was least likely to go on sale. Mascara also had a negative weight in the model"
   ]
  },
  {
   "cell_type": "code",
   "execution_count": 497,
   "metadata": {},
   "outputs": [
    {
     "name": "stdout",
     "output_type": "stream",
     "text": [
      "              precision    recall  f1-score   support\n",
      "\n",
      "           0       0.96      1.00      0.98       619\n",
      "           1       0.57      0.14      0.22        29\n",
      "\n",
      "    accuracy                           0.96       648\n",
      "   macro avg       0.77      0.57      0.60       648\n",
      "weighted avg       0.94      0.96      0.94       648\n",
      "\n"
     ]
    }
   ],
   "source": [
    "print(metrics.classification_report(y_test, lr.predict(X_test)))"
   ]
  },
  {
   "cell_type": "code",
   "execution_count": 498,
   "metadata": {},
   "outputs": [],
   "source": [
    "cm = confusion_matrix(y_test, lr.predict(X_test))\n",
    "\n",
    "cm_df = pd.DataFrame(cm, columns = ['pred full price', 'pred sale'],\n",
    "            index = ['actual full price', 'actual sale'])"
   ]
  },
  {
   "cell_type": "code",
   "execution_count": 499,
   "metadata": {},
   "outputs": [
    {
     "data": {
      "text/html": [
       "<div>\n",
       "<style scoped>\n",
       "    .dataframe tbody tr th:only-of-type {\n",
       "        vertical-align: middle;\n",
       "    }\n",
       "\n",
       "    .dataframe tbody tr th {\n",
       "        vertical-align: top;\n",
       "    }\n",
       "\n",
       "    .dataframe thead th {\n",
       "        text-align: right;\n",
       "    }\n",
       "</style>\n",
       "<table border=\"1\" class=\"dataframe\">\n",
       "  <thead>\n",
       "    <tr style=\"text-align: right;\">\n",
       "      <th></th>\n",
       "      <th>pred full price</th>\n",
       "      <th>pred sale</th>\n",
       "    </tr>\n",
       "  </thead>\n",
       "  <tbody>\n",
       "    <tr>\n",
       "      <th>actual full price</th>\n",
       "      <td>616</td>\n",
       "      <td>3</td>\n",
       "    </tr>\n",
       "    <tr>\n",
       "      <th>actual sale</th>\n",
       "      <td>25</td>\n",
       "      <td>4</td>\n",
       "    </tr>\n",
       "  </tbody>\n",
       "</table>\n",
       "</div>"
      ],
      "text/plain": [
       "                   pred full price  pred sale\n",
       "actual full price              616          3\n",
       "actual sale                     25          4"
      ]
     },
     "execution_count": 499,
     "metadata": {},
     "output_type": "execute_result"
    }
   ],
   "source": [
    "cm_df"
   ]
  },
  {
   "cell_type": "code",
   "execution_count": 500,
   "metadata": {},
   "outputs": [
    {
     "data": {
      "text/plain": [
       "0.9951534733441034"
      ]
     },
     "execution_count": 500,
     "metadata": {},
     "output_type": "execute_result"
    }
   ],
   "source": [
    "# Specificity \n",
    "(cm_df.iloc[0,0])/(cm_df.iloc[0,1]+cm_df.iloc[0,0])"
   ]
  },
  {
   "cell_type": "code",
   "execution_count": 501,
   "metadata": {},
   "outputs": [
    {
     "data": {
      "text/plain": [
       "0.13793103448275862"
      ]
     },
     "execution_count": 501,
     "metadata": {},
     "output_type": "execute_result"
    }
   ],
   "source": [
    "# Sensitivity \n",
    "(cm_df.iloc[1,1]/(cm_df.iloc[1,0]+cm_df.iloc[1,1]))"
   ]
  },
  {
   "cell_type": "code",
   "execution_count": 507,
   "metadata": {},
   "outputs": [
    {
     "data": {
      "text/plain": [
       "0.9076137589487103"
      ]
     },
     "execution_count": 507,
     "metadata": {},
     "output_type": "execute_result"
    }
   ],
   "source": [
    "metrics.roc_auc_score(y_train, [i[1] for i in lr.predict_proba(X_train)])"
   ]
  },
  {
   "cell_type": "code",
   "execution_count": 508,
   "metadata": {},
   "outputs": [
    {
     "data": {
      "text/plain": [
       "0.8964960169349897"
      ]
     },
     "execution_count": 508,
     "metadata": {},
     "output_type": "execute_result"
    }
   ],
   "source": [
    "metrics.roc_auc_score(y_test, [i[1] for i in lr.predict_proba(X_test)])"
   ]
  },
  {
   "cell_type": "markdown",
   "metadata": {},
   "source": [
    "The model did great at optimizing specificity but poorly with sensitivity. As it was optimized for precision, it minimized the amount of false positives, increasing our specificity score. Even though the model was optimized for precision, the ROC AUC score did not perform well."
   ]
  },
  {
   "cell_type": "markdown",
   "metadata": {},
   "source": [
    "### Neural Network"
   ]
  },
  {
   "cell_type": "code",
   "execution_count": 509,
   "metadata": {},
   "outputs": [],
   "source": [
    "ss = StandardScaler()\n",
    "X_train_sc = ss.fit_transform(X_train)\n",
    "X_test_sc = ss.transform(X_test)"
   ]
  },
  {
   "cell_type": "code",
   "execution_count": 510,
   "metadata": {},
   "outputs": [
    {
     "data": {
      "text/plain": [
       "182"
      ]
     },
     "execution_count": 510,
     "metadata": {},
     "output_type": "execute_result"
    }
   ],
   "source": [
    "X_train_sc.shape[1]"
   ]
  },
  {
   "cell_type": "code",
   "execution_count": 511,
   "metadata": {},
   "outputs": [],
   "source": [
    "model = Sequential()\n",
    "\n",
    "model.add(Dense(32, \n",
    "                activation='relu', \n",
    "                input_shape=(X_train_sc.shape[1],)))\n",
    "\n",
    "model.add(Dense(1, activation='sigmoid'))\n",
    "\n",
    "model.compile(loss = 'binary_crossentropy',\n",
    "             optimizer = 'adam',\n",
    "             metrics = ['acc'])"
   ]
  },
  {
   "cell_type": "code",
   "execution_count": 512,
   "metadata": {},
   "outputs": [
    {
     "name": "stdout",
     "output_type": "stream",
     "text": [
      "Train on 1942 samples, validate on 648 samples\n",
      "Epoch 1/8\n",
      "1942/1942 [==============================] - 1s 405us/step - loss: 0.8929 - acc: 0.4552 - val_loss: 0.7263 - val_acc: 0.6512\n",
      "Epoch 2/8\n",
      "1942/1942 [==============================] - 0s 22us/step - loss: 0.5958 - acc: 0.7276 - val_loss: 0.4848 - val_acc: 0.8426\n",
      "Epoch 3/8\n",
      "1942/1942 [==============================] - 0s 24us/step - loss: 0.4105 - acc: 0.8723 - val_loss: 0.3438 - val_acc: 0.9228\n",
      "Epoch 4/8\n",
      "1942/1942 [==============================] - 0s 24us/step - loss: 0.3045 - acc: 0.9305 - val_loss: 0.2620 - val_acc: 0.9398\n",
      "Epoch 5/8\n",
      "1942/1942 [==============================] - 0s 33us/step - loss: 0.2441 - acc: 0.9501 - val_loss: 0.2139 - val_acc: 0.9506\n",
      "Epoch 6/8\n",
      "1942/1942 [==============================] - 0s 24us/step - loss: 0.2055 - acc: 0.9537 - val_loss: 0.1849 - val_acc: 0.9599\n",
      "Epoch 7/8\n",
      "1942/1942 [==============================] - 0s 24us/step - loss: 0.1816 - acc: 0.9562 - val_loss: 0.1662 - val_acc: 0.9599\n",
      "Epoch 8/8\n",
      "1942/1942 [==============================] - 0s 28us/step - loss: 0.1646 - acc: 0.9573 - val_loss: 0.1536 - val_acc: 0.9614\n"
     ]
    },
    {
     "data": {
      "text/plain": [
       "<keras.callbacks.History at 0x1a33846898>"
      ]
     },
     "execution_count": 512,
     "metadata": {},
     "output_type": "execute_result"
    }
   ],
   "source": [
    "model.fit(X_train_sc, y_train, \n",
    "         epochs = 8, \n",
    "         batch_size = 128, \n",
    "         validation_data = (X_test_sc, y_test))"
   ]
  },
  {
   "cell_type": "code",
   "execution_count": 513,
   "metadata": {},
   "outputs": [
    {
     "data": {
      "text/plain": [
       "array([6], dtype=int32)"
      ]
     },
     "execution_count": 513,
     "metadata": {},
     "output_type": "execute_result"
    }
   ],
   "source": [
    "sum(model.predict_classes(X_test_sc))"
   ]
  },
  {
   "cell_type": "code",
   "execution_count": 514,
   "metadata": {},
   "outputs": [
    {
     "data": {
      "text/plain": [
       "array([10], dtype=int32)"
      ]
     },
     "execution_count": 514,
     "metadata": {},
     "output_type": "execute_result"
    }
   ],
   "source": [
    "sum(model.predict_classes(X_train_sc))"
   ]
  },
  {
   "cell_type": "code",
   "execution_count": 517,
   "metadata": {},
   "outputs": [
    {
     "data": {
      "text/plain": [
       "0.5"
      ]
     },
     "execution_count": 517,
     "metadata": {},
     "output_type": "execute_result"
    }
   ],
   "source": [
    "metrics.roc_auc_score(y_train, model.predict_proba(X_train))"
   ]
  },
  {
   "cell_type": "code",
   "execution_count": 518,
   "metadata": {},
   "outputs": [
    {
     "data": {
      "text/plain": [
       "0.5"
      ]
     },
     "execution_count": 518,
     "metadata": {},
     "output_type": "execute_result"
    }
   ],
   "source": [
    "metrics.roc_auc_score(y_test, model.predict_proba(X_test))"
   ]
  },
  {
   "cell_type": "code",
   "execution_count": 585,
   "metadata": {},
   "outputs": [
    {
     "data": {
      "text/html": [
       "<div>\n",
       "<style scoped>\n",
       "    .dataframe tbody tr th:only-of-type {\n",
       "        vertical-align: middle;\n",
       "    }\n",
       "\n",
       "    .dataframe tbody tr th {\n",
       "        vertical-align: top;\n",
       "    }\n",
       "\n",
       "    .dataframe thead th {\n",
       "        text-align: right;\n",
       "    }\n",
       "</style>\n",
       "<table border=\"1\" class=\"dataframe\">\n",
       "  <thead>\n",
       "    <tr style=\"text-align: right;\">\n",
       "      <th></th>\n",
       "      <th>pred full price</th>\n",
       "      <th>pred sale</th>\n",
       "    </tr>\n",
       "  </thead>\n",
       "  <tbody>\n",
       "    <tr>\n",
       "      <th>actual full price</th>\n",
       "      <td>619</td>\n",
       "      <td>0</td>\n",
       "    </tr>\n",
       "    <tr>\n",
       "      <th>actual sale</th>\n",
       "      <td>29</td>\n",
       "      <td>0</td>\n",
       "    </tr>\n",
       "  </tbody>\n",
       "</table>\n",
       "</div>"
      ],
      "text/plain": [
       "                   pred full price  pred sale\n",
       "actual full price              619          0\n",
       "actual sale                     29          0"
      ]
     },
     "execution_count": 585,
     "metadata": {},
     "output_type": "execute_result"
    }
   ],
   "source": [
    "cm = confusion_matrix(y_test, model.predict(X_test))\n",
    "\n",
    "cm_df = pd.DataFrame(cm, columns = ['pred full price', 'pred sale'],\n",
    "            index = ['actual full price', 'actual sale'])\n",
    "\n",
    "cm_df"
   ]
  },
  {
   "cell_type": "code",
   "execution_count": 586,
   "metadata": {},
   "outputs": [
    {
     "data": {
      "text/plain": [
       "1.0"
      ]
     },
     "execution_count": 586,
     "metadata": {},
     "output_type": "execute_result"
    }
   ],
   "source": [
    "# Specificity \n",
    "(cm_df.iloc[0,0])/(cm_df.iloc[0,1]+cm_df.iloc[0,0])"
   ]
  },
  {
   "cell_type": "code",
   "execution_count": 587,
   "metadata": {},
   "outputs": [
    {
     "data": {
      "text/plain": [
       "0.0"
      ]
     },
     "execution_count": 587,
     "metadata": {},
     "output_type": "execute_result"
    }
   ],
   "source": [
    "# Sensitivity \n",
    "(cm_df.iloc[1,1]/(cm_df.iloc[1,0]+cm_df.iloc[1,1]))"
   ]
  },
  {
   "cell_type": "markdown",
   "metadata": {},
   "source": [
    "While the accuracy of the training and testing model are very high, the ROC AUC score is very close to the baseline of .5. This model is not very precise."
   ]
  },
  {
   "cell_type": "markdown",
   "metadata": {},
   "source": [
    "### Remove Brand Name "
   ]
  },
  {
   "cell_type": "code",
   "execution_count": 519,
   "metadata": {},
   "outputs": [],
   "source": [
    "# Read in final dataset\n",
    "df_2 = pd.read_csv('/Users/myokim/Desktop/general_assembly/Projects/Capstone/datasets_clean/final_dataset.csv')"
   ]
  },
  {
   "cell_type": "code",
   "execution_count": 520,
   "metadata": {},
   "outputs": [],
   "source": [
    "df_2.drop(columns = ['Unnamed: 0', 'imageAltText', 'salePrice', 'valuePrice', 'brand_name', 'skuType'], inplace = True)\n",
    "\n",
    "df_2['fill_null'] = df.isnull().any(axis = 1).map(lambda x: 1 if x == True else 0)\n",
    "\n",
    "# Create dummy features for binary columns\n",
    "df_2 = pd.get_dummies(df_2, columns = ['isLimitedEdition', 'isNew', 'isOnlineOnly', 'isSephoraExclusive', 'category'], drop_first = True)\n",
    "\n",
    "\n",
    "\n",
    "df_2.fillna(0, inplace= True)\n",
    "\n",
    "X = df_2.drop(columns = 'target_x')\n",
    "\n",
    "y = df_2['target_x']\n",
    "\n",
    "X_train, X_test, y_train, y_test = train_test_split(X, y,stratify = y)"
   ]
  },
  {
   "cell_type": "code",
   "execution_count": 521,
   "metadata": {},
   "outputs": [
    {
     "name": "stdout",
     "output_type": "stream",
     "text": [
      "Best training score for gs: 0.9546858908341915\n",
      "Best parameters: {'C': 0.25, 'penalty': 'l2', 'solver': 'liblinear'}\n",
      "Test score: 0.9552469135802469\n"
     ]
    }
   ],
   "source": [
    "lr_2 = LogisticRegression()\n",
    "gs_lr_2 = GridSearchCV(estimator = lr_2, \n",
    "             param_grid = {\n",
    "                 'penalty': ['l1','l2'],\n",
    "                 'C': [.25, .5, .75, 1],\n",
    "                 'solver': ['liblinear']},\n",
    "                    cv = 5)\n",
    "\n",
    "gs_lr_2.fit(X_train, y_train)\n",
    "print(f'Best training score for gs: {gs_lr_2.best_score_}')\n",
    "print(f'Best parameters: {gs_lr_2.best_params_}')\n",
    "lr_2 = gs_lr_2.best_estimator_\n",
    "print(f'Test score: {lr_2.score(X_test, y_test)}')"
   ]
  },
  {
   "cell_type": "code",
   "execution_count": 522,
   "metadata": {},
   "outputs": [],
   "source": [
    "lr_weights_2 = pd.DataFrame(index = X.columns, data = lr_2.coef_.ravel())"
   ]
  },
  {
   "cell_type": "code",
   "execution_count": 523,
   "metadata": {},
   "outputs": [
    {
     "data": {
      "text/plain": [
       "-0.0004748543492114041"
      ]
     },
     "execution_count": 523,
     "metadata": {},
     "output_type": "execute_result"
    }
   ],
   "source": [
    "np.percentile(lr_weights_2, .99)"
   ]
  },
  {
   "cell_type": "code",
   "execution_count": 524,
   "metadata": {},
   "outputs": [
    {
     "data": {
      "text/html": [
       "<div>\n",
       "<style scoped>\n",
       "    .dataframe tbody tr th:only-of-type {\n",
       "        vertical-align: middle;\n",
       "    }\n",
       "\n",
       "    .dataframe tbody tr th {\n",
       "        vertical-align: top;\n",
       "    }\n",
       "\n",
       "    .dataframe thead th {\n",
       "        text-align: right;\n",
       "    }\n",
       "</style>\n",
       "<table border=\"1\" class=\"dataframe\">\n",
       "  <thead>\n",
       "    <tr style=\"text-align: right;\">\n",
       "      <th></th>\n",
       "      <th>0</th>\n",
       "    </tr>\n",
       "  </thead>\n",
       "  <tbody>\n",
       "    <tr>\n",
       "      <th>isSephoraExclusive_True</th>\n",
       "      <td>0.0</td>\n",
       "    </tr>\n",
       "  </tbody>\n",
       "</table>\n",
       "</div>"
      ],
      "text/plain": [
       "                           0\n",
       "isSephoraExclusive_True  0.0"
      ]
     },
     "execution_count": 524,
     "metadata": {},
     "output_type": "execute_result"
    }
   ],
   "source": [
    "lr_weights_2[lr_weights_2[0]>0.0000009].round(5)"
   ]
  },
  {
   "cell_type": "code",
   "execution_count": 525,
   "metadata": {},
   "outputs": [
    {
     "data": {
      "text/html": [
       "<div>\n",
       "<style scoped>\n",
       "    .dataframe tbody tr th:only-of-type {\n",
       "        vertical-align: middle;\n",
       "    }\n",
       "\n",
       "    .dataframe tbody tr th {\n",
       "        vertical-align: top;\n",
       "    }\n",
       "\n",
       "    .dataframe thead th {\n",
       "        text-align: right;\n",
       "    }\n",
       "</style>\n",
       "<table border=\"1\" class=\"dataframe\">\n",
       "  <thead>\n",
       "    <tr style=\"text-align: right;\">\n",
       "      <th></th>\n",
       "      <th>0</th>\n",
       "    </tr>\n",
       "  </thead>\n",
       "  <tbody>\n",
       "    <tr>\n",
       "      <th>5 stars</th>\n",
       "      <td>-0.00031</td>\n",
       "    </tr>\n",
       "    <tr>\n",
       "      <th>review_count_y</th>\n",
       "      <td>-0.00047</td>\n",
       "    </tr>\n",
       "    <tr>\n",
       "      <th>total_ratings</th>\n",
       "      <td>-0.00047</td>\n",
       "    </tr>\n",
       "  </tbody>\n",
       "</table>\n",
       "</div>"
      ],
      "text/plain": [
       "                      0\n",
       "5 stars        -0.00031\n",
       "review_count_y -0.00047\n",
       "total_ratings  -0.00047"
      ]
     },
     "execution_count": 525,
     "metadata": {},
     "output_type": "execute_result"
    }
   ],
   "source": [
    "lr_weights_2[lr_weights_2[0]<-0.0003].round(5)"
   ]
  },
  {
   "cell_type": "markdown",
   "metadata": {},
   "source": [
    "While this model has a very high accuracy score, it does so well because it does not predict any products that are on sale."
   ]
  },
  {
   "cell_type": "markdown",
   "metadata": {},
   "source": [
    "### Random Forest"
   ]
  },
  {
   "cell_type": "markdown",
   "metadata": {},
   "source": [
    "Because the classes are so unbalanced, try out random forest"
   ]
  },
  {
   "cell_type": "code",
   "execution_count": 528,
   "metadata": {},
   "outputs": [],
   "source": [
    "# Read in final dataset\n",
    "df = pd.read_csv('/Users/myokim/Desktop/general_assembly/Projects/Capstone/datasets_clean/final_dataset.csv')\n",
    "\n",
    "df.drop(columns = ['Unnamed: 0', 'imageAltText', 'salePrice', 'valuePrice', 'skuType'], inplace = True)\n",
    "\n",
    "df['fill_null'] = df.isnull().any(axis = 1).map(lambda x: 1 if x == True else 0)\n",
    "\n",
    "# Create dummy features for binary columns\n",
    "df = pd.get_dummies(df, columns = ['isLimitedEdition', 'isNew', 'isOnlineOnly', 'isSephoraExclusive', 'brand_name', 'category'], drop_first = True)\n",
    "\n",
    "\n",
    "\n",
    "df.fillna(0, inplace= True)\n",
    "\n",
    "X = df.drop(columns = 'target_x')\n",
    "\n",
    "y = df['target_x']\n",
    "\n",
    "X_train, X_test, y_train, y_test = train_test_split(X, y,stratify = y, random_state = 42)"
   ]
  },
  {
   "cell_type": "code",
   "execution_count": 529,
   "metadata": {},
   "outputs": [
    {
     "name": "stdout",
     "output_type": "stream",
     "text": [
      "Best training score for gs: 0.9546858908341915\n",
      "Best parameters: {'class_weight': 'balanced', 'max_depth': None, 'max_features': 'auto', 'min_samples_split': 2, 'n_estimators': 50}\n",
      "Test score: 0.9567901234567902\n"
     ]
    }
   ],
   "source": [
    "rf = RandomForestClassifier()\n",
    "\n",
    "gs_rf = GridSearchCV(\n",
    "            estimator = rf, \n",
    "            param_grid = {\n",
    "                'n_estimators': [10,50,100],\n",
    "                'max_depth': [None, 2],\n",
    "                'min_samples_split': [2, 5, 8],\n",
    "                'class_weight':['balanced'],\n",
    "                'max_features': ['auto', 'log2', None]\n",
    "            },\n",
    "            cv = 3)\n",
    "\n",
    "gs_rf.fit(X_train, y_train)\n",
    "print(f'Best training score for gs: {gs_rf.best_score_}')\n",
    "print(f'Best parameters: {gs_rf.best_params_}')\n",
    "rf = gs_lr.best_estimator_\n",
    "print(f'Test score: {rf.score(X_test, y_test)}')"
   ]
  },
  {
   "cell_type": "code",
   "execution_count": 530,
   "metadata": {},
   "outputs": [
    {
     "data": {
      "text/plain": [
       "7"
      ]
     },
     "execution_count": 530,
     "metadata": {},
     "output_type": "execute_result"
    }
   ],
   "source": [
    "sum(rf.predict(X_test))"
   ]
  },
  {
   "cell_type": "code",
   "execution_count": 531,
   "metadata": {},
   "outputs": [
    {
     "data": {
      "text/plain": [
       "9"
      ]
     },
     "execution_count": 531,
     "metadata": {},
     "output_type": "execute_result"
    }
   ],
   "source": [
    "sum(rf.predict(X_train))"
   ]
  },
  {
   "cell_type": "code",
   "execution_count": 533,
   "metadata": {},
   "outputs": [
    {
     "data": {
      "text/plain": [
       "0.8964960169349897"
      ]
     },
     "execution_count": 533,
     "metadata": {},
     "output_type": "execute_result"
    }
   ],
   "source": [
    "metrics.roc_auc_score(y_test, [i[1] for i in rf.predict_proba(X_test)])"
   ]
  },
  {
   "cell_type": "markdown",
   "metadata": {},
   "source": [
    "This model is actually able to predict products that go on sale but still does not perform as well on the ROC AUC metric."
   ]
  },
  {
   "cell_type": "markdown",
   "metadata": {},
   "source": [
    "### Random Forest without Brand Name Additional Metrics"
   ]
  },
  {
   "cell_type": "code",
   "execution_count": 612,
   "metadata": {},
   "outputs": [],
   "source": [
    "# Read in final dataset\n",
    "df_2 = pd.read_csv('/Users/myokim/Desktop/general_assembly/Projects/Capstone/datasets_clean/final_dataset.csv')"
   ]
  },
  {
   "cell_type": "code",
   "execution_count": 613,
   "metadata": {},
   "outputs": [],
   "source": [
    "df_2.drop(columns = ['Unnamed: 0', 'imageAltText', 'salePrice', 'valuePrice', 'brand_name', 'skuType'], inplace = True)\n",
    "\n",
    "df_2['fill_null'] = df.isnull().any(axis = 1).map(lambda x: 1 if x == True else 0)\n",
    "\n",
    "# Create dummy features for binary columns\n",
    "df_2 = pd.get_dummies(df_2, columns = ['isLimitedEdition', 'isNew', 'isOnlineOnly', 'isSephoraExclusive', 'category'], drop_first = True)\n",
    "\n",
    "\n",
    "\n",
    "df_2.fillna(0, inplace= True)\n",
    "\n",
    "X = df_2.drop(columns = 'target_x')\n",
    "\n",
    "y = df_2['target_x']\n",
    "\n",
    "X_train, X_test, y_train, y_test = train_test_split(X, y,stratify = y)"
   ]
  },
  {
   "cell_type": "code",
   "execution_count": 616,
   "metadata": {},
   "outputs": [
    {
     "name": "stdout",
     "output_type": "stream",
     "text": [
      "Best training score for gs: 0.9572605561277034\n",
      "Best parameters: {'class_weight': 'balanced', 'max_depth': None, 'min_samples_split': 5, 'n_estimators': 10}\n",
      "Test score: 0.9521604938271605\n"
     ]
    }
   ],
   "source": [
    "rf_2 = RandomForestClassifier()\n",
    "\n",
    "gs_rf_2 = GridSearchCV(\n",
    "            estimator = rf_2, \n",
    "            param_grid = {\n",
    "                'n_estimators': [10,50,100],\n",
    "                'max_depth': [None, 2],\n",
    "                'min_samples_split': [2, 5, 8],\n",
    "                'class_weight':['balanced'],\n",
    "            },\n",
    "            scoring = 'accuracy',\n",
    "            refit = 'roc_auc',\n",
    "            cv = 2)\n",
    "\n",
    "gs_rf_2.fit(X_train, y_train)\n",
    "print(f'Best training score for gs: {gs_rf_2.best_score_}')\n",
    "print(f'Best parameters: {gs_rf_2.best_params_}')\n",
    "rf_2 = gs_rf_2.best_estimator_\n",
    "print(f'Test score: {rf_2.score(X_test, y_test)}')"
   ]
  },
  {
   "cell_type": "code",
   "execution_count": 617,
   "metadata": {},
   "outputs": [
    {
     "data": {
      "text/plain": [
       "6"
      ]
     },
     "execution_count": 617,
     "metadata": {},
     "output_type": "execute_result"
    }
   ],
   "source": [
    "sum(rf_2.predict(X_test))"
   ]
  },
  {
   "cell_type": "code",
   "execution_count": 618,
   "metadata": {},
   "outputs": [
    {
     "data": {
      "text/plain": [
       "77"
      ]
     },
     "execution_count": 618,
     "metadata": {},
     "output_type": "execute_result"
    }
   ],
   "source": [
    "sum(rf_2.predict(X_train))"
   ]
  },
  {
   "cell_type": "code",
   "execution_count": 619,
   "metadata": {},
   "outputs": [
    {
     "data": {
      "text/plain": [
       "0.7540805526154531"
      ]
     },
     "execution_count": 619,
     "metadata": {},
     "output_type": "execute_result"
    }
   ],
   "source": [
    "metrics.roc_auc_score(y_test, [i[1] for i in rf_2.predict_proba(X_test)])"
   ]
  },
  {
   "cell_type": "markdown",
   "metadata": {},
   "source": [
    "Did not do well on the ROC AUC score without brand name"
   ]
  },
  {
   "cell_type": "markdown",
   "metadata": {},
   "source": [
    "### Random Forest with Brand Name"
   ]
  },
  {
   "cell_type": "code",
   "execution_count": 623,
   "metadata": {},
   "outputs": [],
   "source": [
    "# Read in final dataset\n",
    "df = pd.read_csv('/Users/myokim/Desktop/general_assembly/Projects/Capstone/datasets_clean/final_dataset.csv')"
   ]
  },
  {
   "cell_type": "code",
   "execution_count": 624,
   "metadata": {},
   "outputs": [],
   "source": [
    "df.drop(columns = ['Unnamed: 0', 'imageAltText', 'salePrice', 'valuePrice', 'skuType'], inplace = True)\n",
    "\n",
    "df['fill_null'] = df.isnull().any(axis = 1).map(lambda x: 1 if x == True else 0)\n",
    "\n",
    "# Create dummy features for binary columns\n",
    "df = pd.get_dummies(df, columns = ['isLimitedEdition', 'isNew', 'isOnlineOnly', 'brand_name','isSephoraExclusive', 'category'], drop_first = True)\n",
    "\n",
    "\n",
    "\n",
    "df.fillna(0, inplace= True)\n",
    "\n",
    "X = df.drop(columns = 'target_x')\n",
    "\n",
    "y = df['target_x']\n",
    "\n",
    "X_train, X_test, y_train, y_test = train_test_split(X, y,stratify = y)"
   ]
  },
  {
   "cell_type": "code",
   "execution_count": 625,
   "metadata": {},
   "outputs": [
    {
     "name": "stdout",
     "output_type": "stream",
     "text": [
      "Best training score for gs: 0.956745623069001\n",
      "Best parameters: {'class_weight': 'balanced', 'max_depth': None, 'min_samples_split': 8, 'n_estimators': 50}\n",
      "Test score: 0.9598765432098766\n"
     ]
    }
   ],
   "source": [
    "rf_3 = RandomForestClassifier()\n",
    "\n",
    "gs_rf_3 = GridSearchCV(\n",
    "            estimator = rf_3, \n",
    "            param_grid = {\n",
    "                'n_estimators': [10,50,100],\n",
    "                'max_depth': [None, 2],\n",
    "                'min_samples_split': [2, 5, 8],\n",
    "                'class_weight':['balanced'],\n",
    "            },\n",
    "            scoring = 'accuracy',\n",
    "            refit = 'roc_auc',\n",
    "            cv = 2)\n",
    "\n",
    "gs_rf_3.fit(X_train, y_train)\n",
    "print(f'Best training score for gs: {gs_rf_3.best_score_}')\n",
    "print(f'Best parameters: {gs_rf_3.best_params_}')\n",
    "rf_3 = gs_rf_3.best_estimator_\n",
    "print(f'Test score: {rf_3.score(X_test, y_test)}')"
   ]
  },
  {
   "cell_type": "code",
   "execution_count": 628,
   "metadata": {},
   "outputs": [
    {
     "data": {
      "text/plain": [
       "9"
      ]
     },
     "execution_count": 628,
     "metadata": {},
     "output_type": "execute_result"
    }
   ],
   "source": [
    "sum(rf_3.predict(X_test))"
   ]
  },
  {
   "cell_type": "code",
   "execution_count": 629,
   "metadata": {},
   "outputs": [
    {
     "data": {
      "text/plain": [
       "95"
      ]
     },
     "execution_count": 629,
     "metadata": {},
     "output_type": "execute_result"
    }
   ],
   "source": [
    "sum(rf_3.predict(X_train))"
   ]
  },
  {
   "cell_type": "code",
   "execution_count": 626,
   "metadata": {},
   "outputs": [
    {
     "data": {
      "text/plain": [
       "0.8848810651217202"
      ]
     },
     "execution_count": 626,
     "metadata": {},
     "output_type": "execute_result"
    }
   ],
   "source": [
    "metrics.roc_auc_score(y_test, [i[1] for i in rf_3.predict_proba(X_test)])"
   ]
  },
  {
   "cell_type": "markdown",
   "metadata": {},
   "source": [
    "Additional tuning allowed for a higher ROC AUC score"
   ]
  },
  {
   "cell_type": "markdown",
   "metadata": {},
   "source": [
    "### Logistic Regression Balanced Classes"
   ]
  },
  {
   "cell_type": "markdown",
   "metadata": {},
   "source": [
    "Because the classes are so unbalanced, it is worth seeing how adding the class weight parameter will affect the models scores."
   ]
  },
  {
   "cell_type": "code",
   "execution_count": 534,
   "metadata": {},
   "outputs": [],
   "source": [
    "# Read in final dataset\n",
    "df = pd.read_csv('/Users/myokim/Desktop/general_assembly/Projects/Capstone/datasets_clean/final_dataset.csv')\n",
    "\n",
    "df.drop(columns = ['Unnamed: 0', 'imageAltText', 'salePrice', 'valuePrice', 'skuType'], inplace = True)\n",
    "\n",
    "# Create dummy features for binary columns\n",
    "df['fill_null'] = df.isnull().any(axis = 1).map(lambda x: 1 if x == True else 0)\n",
    "\n",
    "df = pd.get_dummies(df, columns = ['isLimitedEdition', 'isNew', 'isOnlineOnly', 'isSephoraExclusive', 'brand_name', 'category'], drop_first = True)\n",
    "\n",
    "df.fillna(0, inplace= True)\n",
    "\n",
    "X = df.drop(columns = 'target_x')\n",
    "\n",
    "y = df['target_x']\n",
    "\n",
    "X_train, X_test, y_train, y_test = train_test_split(X, y,stratify = y, random_state = 42)"
   ]
  },
  {
   "cell_type": "code",
   "execution_count": 535,
   "metadata": {},
   "outputs": [
    {
     "name": "stderr",
     "output_type": "stream",
     "text": [
      "/anaconda3/envs/dsi/lib/python3.7/site-packages/sklearn/svm/base.py:929: ConvergenceWarning: Liblinear failed to converge, increase the number of iterations.\n",
      "  \"the number of iterations.\", ConvergenceWarning)\n",
      "/anaconda3/envs/dsi/lib/python3.7/site-packages/sklearn/svm/base.py:929: ConvergenceWarning: Liblinear failed to converge, increase the number of iterations.\n",
      "  \"the number of iterations.\", ConvergenceWarning)\n",
      "/anaconda3/envs/dsi/lib/python3.7/site-packages/sklearn/svm/base.py:929: ConvergenceWarning: Liblinear failed to converge, increase the number of iterations.\n",
      "  \"the number of iterations.\", ConvergenceWarning)\n"
     ]
    },
    {
     "name": "stdout",
     "output_type": "stream",
     "text": [
      "Best training score for gs: 0.8650875386199794\n",
      "Best parameters: {'C': 1, 'class_weight': 'balanced', 'max_iter': 5000, 'penalty': 'l1', 'solver': 'liblinear'}\n",
      "Test score: 0.8811728395061729\n"
     ]
    }
   ],
   "source": [
    "lr_3 = LogisticRegression()\n",
    "gs_lr_3 = GridSearchCV(\n",
    "            estimator = lr_3, \n",
    "            param_grid = {\n",
    "                 'penalty': ['l1','l2'],\n",
    "                 'C': [.75, 1],\n",
    "                 'solver': ['liblinear'],\n",
    "                 'class_weight': ['balanced'],\n",
    "                'max_iter' : [5000]},\n",
    "            cv = 5,\n",
    "            scoring = 'accuracy')\n",
    "\n",
    "gs_lr_3.fit(X_train, y_train)\n",
    "print(f'Best training score for gs: {gs_lr_3.best_score_}')\n",
    "print(f'Best parameters: {gs_lr_3.best_params_}')\n",
    "lr_3 = gs_lr_3.best_estimator_\n",
    "print(f'Test score: {lr_3.score(X_test, y_test)}')"
   ]
  },
  {
   "cell_type": "code",
   "execution_count": 536,
   "metadata": {},
   "outputs": [
    {
     "data": {
      "text/plain": [
       "0.9128739345997438"
      ]
     },
     "execution_count": 536,
     "metadata": {},
     "output_type": "execute_result"
    }
   ],
   "source": [
    "metrics.roc_auc_score(y_test, [i[1] for i in lr_3.predict_proba(X_test)])"
   ]
  },
  {
   "cell_type": "code",
   "execution_count": 537,
   "metadata": {},
   "outputs": [
    {
     "name": "stdout",
     "output_type": "stream",
     "text": [
      "Count of predicted sale test set: 98\n",
      "Count of predicted sale train set: 321\n",
      "Count of actual sales test set: 29\n"
     ]
    }
   ],
   "source": [
    "print(f'Count of predicted sale test set: {sum(lr_3.predict(X_test))}')\n",
    "\n",
    "print(f'Count of predicted sale train set: {sum(lr_3.predict(X_train))}')\n",
    "\n",
    "print(f'Count of actual sales test set: {sum(y_test)}')"
   ]
  },
  {
   "cell_type": "code",
   "execution_count": 538,
   "metadata": {},
   "outputs": [
    {
     "data": {
      "text/html": [
       "<div>\n",
       "<style scoped>\n",
       "    .dataframe tbody tr th:only-of-type {\n",
       "        vertical-align: middle;\n",
       "    }\n",
       "\n",
       "    .dataframe tbody tr th {\n",
       "        vertical-align: top;\n",
       "    }\n",
       "\n",
       "    .dataframe thead th {\n",
       "        text-align: right;\n",
       "    }\n",
       "</style>\n",
       "<table border=\"1\" class=\"dataframe\">\n",
       "  <thead>\n",
       "    <tr style=\"text-align: right;\">\n",
       "      <th></th>\n",
       "      <th>pred full price</th>\n",
       "      <th>pred sale</th>\n",
       "    </tr>\n",
       "  </thead>\n",
       "  <tbody>\n",
       "    <tr>\n",
       "      <th>actual full price</th>\n",
       "      <td>546</td>\n",
       "      <td>73</td>\n",
       "    </tr>\n",
       "    <tr>\n",
       "      <th>actual sale</th>\n",
       "      <td>4</td>\n",
       "      <td>25</td>\n",
       "    </tr>\n",
       "  </tbody>\n",
       "</table>\n",
       "</div>"
      ],
      "text/plain": [
       "                   pred full price  pred sale\n",
       "actual full price              546         73\n",
       "actual sale                      4         25"
      ]
     },
     "execution_count": 538,
     "metadata": {},
     "output_type": "execute_result"
    }
   ],
   "source": [
    "cm = confusion_matrix(y_test, lr_3.predict(X_test))\n",
    "\n",
    "cm_df = pd.DataFrame(cm, columns = ['pred full price', 'pred sale'],\n",
    "            index = ['actual full price', 'actual sale'])\n",
    "\n",
    "cm_df"
   ]
  },
  {
   "cell_type": "code",
   "execution_count": 539,
   "metadata": {},
   "outputs": [
    {
     "data": {
      "text/plain": [
       "0.8820678513731826"
      ]
     },
     "execution_count": 539,
     "metadata": {},
     "output_type": "execute_result"
    }
   ],
   "source": [
    "# Specificity \n",
    "(cm_df.iloc[0,0])/(cm_df.iloc[0,1]+cm_df.iloc[0,0])"
   ]
  },
  {
   "cell_type": "code",
   "execution_count": 540,
   "metadata": {},
   "outputs": [
    {
     "data": {
      "text/plain": [
       "0.8620689655172413"
      ]
     },
     "execution_count": 540,
     "metadata": {},
     "output_type": "execute_result"
    }
   ],
   "source": [
    "# Sensitivity \n",
    "(cm_df.iloc[1,1]/(cm_df.iloc[1,0]+cm_df.iloc[1,1]))"
   ]
  },
  {
   "cell_type": "markdown",
   "metadata": {},
   "source": [
    "This model performed much better on the ROC AUC metric but did much worse on accuracy. The accuracy falls below the baseline however the specificty and sensitivity were much more balanced with this model."
   ]
  },
  {
   "cell_type": "markdown",
   "metadata": {},
   "source": [
    "### Logistic Regression with Scaled Data"
   ]
  },
  {
   "cell_type": "code",
   "execution_count": 541,
   "metadata": {},
   "outputs": [],
   "source": [
    "# Read in final dataset\n",
    "df = pd.read_csv('/Users/myokim/Desktop/general_assembly/Projects/Capstone/datasets_clean/final_dataset.csv')\n",
    "\n",
    "df.drop(columns = ['Unnamed: 0', 'imageAltText', 'salePrice', 'valuePrice', 'skuType'], inplace = True)\n",
    "\n",
    "df['fill_null'] = df.isnull().any(axis = 1).map(lambda x: 1 if x == True else 0)\n",
    "\n",
    "# Create dummy features for binary columns\n",
    "df = pd.get_dummies(df, columns = ['isLimitedEdition', 'isNew', 'isOnlineOnly', 'isSephoraExclusive', 'brand_name', 'category'], drop_first = True)\n",
    "\n",
    "\n",
    "\n",
    "df.fillna(0, inplace= True)\n",
    "\n",
    "X = df.drop(columns = 'target_x')\n",
    "\n",
    "y = df['target_x']\n",
    "\n",
    "X_train, X_test, y_train, y_test = train_test_split(X, y,stratify = y, random_state = 42)\n",
    "\n",
    "ss = StandardScaler()\n",
    "X_train_sc = ss.fit_transform(X_train)\n",
    "X_test_sc = ss.transform(X_test)"
   ]
  },
  {
   "cell_type": "code",
   "execution_count": 542,
   "metadata": {},
   "outputs": [
    {
     "name": "stdout",
     "output_type": "stream",
     "text": [
      "Best training score for gs: 0.8650875386199794\n",
      "Best parameters: {'C': 1, 'class_weight': 'balanced', 'max_iter': 5000, 'penalty': 'l1', 'solver': 'saga'}\n",
      "Test score: 0.8719135802469136\n"
     ]
    }
   ],
   "source": [
    "lr_4 = LogisticRegression()\n",
    "gs_lr_4 = GridSearchCV(\n",
    "            estimator = lr_4, \n",
    "            param_grid = {\n",
    "                 'penalty': ['l1','l2'],\n",
    "                 'C': [.75, 1],\n",
    "                 'solver': ['liblinear', 'saga'],\n",
    "                 'class_weight': ['balanced'],\n",
    "                'max_iter' : [5000]},\n",
    "            cv = 5,\n",
    "            scoring = 'accuracy')\n",
    "\n",
    "gs_lr_4.fit(X_train_sc, y_train)\n",
    "print(f'Best training score for gs: {gs_lr_4.best_score_}')\n",
    "print(f'Best parameters: {gs_lr_4.best_params_}')\n",
    "lr_4 = gs_lr_4.best_estimator_\n",
    "print(f'Test score: {lr_4.score(X_test_sc, y_test)}')"
   ]
  },
  {
   "cell_type": "code",
   "execution_count": 543,
   "metadata": {},
   "outputs": [
    {
     "data": {
      "text/plain": [
       "0.9121497409615064"
      ]
     },
     "execution_count": 543,
     "metadata": {},
     "output_type": "execute_result"
    }
   ],
   "source": [
    "metrics.roc_auc_score(y_test, [i[1] for i in lr_4.predict_proba(X_test_sc)])"
   ]
  },
  {
   "cell_type": "code",
   "execution_count": 544,
   "metadata": {},
   "outputs": [
    {
     "name": "stdout",
     "output_type": "stream",
     "text": [
      "Count of predicted sale test set: 106\n",
      "Count of predicted sale train set: 335\n",
      "Count of actual sales test set: 29\n"
     ]
    }
   ],
   "source": [
    "print(f'Count of predicted sale test set: {sum(lr_4.predict(X_test_sc))}')\n",
    "\n",
    "print(f'Count of predicted sale train set: {sum(lr_4.predict(X_train_sc))}')\n",
    "\n",
    "print(f'Count of actual sales test set: {sum(y_test)}')"
   ]
  },
  {
   "cell_type": "code",
   "execution_count": 545,
   "metadata": {},
   "outputs": [
    {
     "data": {
      "text/html": [
       "<div>\n",
       "<style scoped>\n",
       "    .dataframe tbody tr th:only-of-type {\n",
       "        vertical-align: middle;\n",
       "    }\n",
       "\n",
       "    .dataframe tbody tr th {\n",
       "        vertical-align: top;\n",
       "    }\n",
       "\n",
       "    .dataframe thead th {\n",
       "        text-align: right;\n",
       "    }\n",
       "</style>\n",
       "<table border=\"1\" class=\"dataframe\">\n",
       "  <thead>\n",
       "    <tr style=\"text-align: right;\">\n",
       "      <th></th>\n",
       "      <th>pred full price</th>\n",
       "      <th>pred sale</th>\n",
       "    </tr>\n",
       "  </thead>\n",
       "  <tbody>\n",
       "    <tr>\n",
       "      <th>actual full price</th>\n",
       "      <td>539</td>\n",
       "      <td>80</td>\n",
       "    </tr>\n",
       "    <tr>\n",
       "      <th>actual sale</th>\n",
       "      <td>3</td>\n",
       "      <td>26</td>\n",
       "    </tr>\n",
       "  </tbody>\n",
       "</table>\n",
       "</div>"
      ],
      "text/plain": [
       "                   pred full price  pred sale\n",
       "actual full price              539         80\n",
       "actual sale                      3         26"
      ]
     },
     "execution_count": 545,
     "metadata": {},
     "output_type": "execute_result"
    }
   ],
   "source": [
    "cm = confusion_matrix(y_test, lr_4.predict(X_test_sc))\n",
    "\n",
    "cm_df = pd.DataFrame(cm, columns = ['pred full price', 'pred sale'],\n",
    "            index = ['actual full price', 'actual sale'])\n",
    "\n",
    "cm_df"
   ]
  },
  {
   "cell_type": "code",
   "execution_count": 546,
   "metadata": {},
   "outputs": [
    {
     "data": {
      "text/plain": [
       "0.8707592891760905"
      ]
     },
     "execution_count": 546,
     "metadata": {},
     "output_type": "execute_result"
    }
   ],
   "source": [
    "# Specificity \n",
    "(cm_df.iloc[0,0])/(cm_df.iloc[0,1]+cm_df.iloc[0,0])"
   ]
  },
  {
   "cell_type": "code",
   "execution_count": 547,
   "metadata": {},
   "outputs": [
    {
     "data": {
      "text/plain": [
       "0.896551724137931"
      ]
     },
     "execution_count": 547,
     "metadata": {},
     "output_type": "execute_result"
    }
   ],
   "source": [
    "# Sensitivity \n",
    "(cm_df.iloc[1,1]/(cm_df.iloc[1,0]+cm_df.iloc[1,1]))"
   ]
  },
  {
   "cell_type": "markdown",
   "metadata": {},
   "source": [
    "### Logistic Regression Refit with ROC AUC"
   ]
  },
  {
   "cell_type": "code",
   "execution_count": 548,
   "metadata": {},
   "outputs": [
    {
     "name": "stderr",
     "output_type": "stream",
     "text": [
      "/anaconda3/envs/dsi/lib/python3.7/site-packages/sklearn/linear_model/sag.py:337: ConvergenceWarning: The max_iter was reached which means the coef_ did not converge\n",
      "  \"the coef_ did not converge\", ConvergenceWarning)\n",
      "/anaconda3/envs/dsi/lib/python3.7/site-packages/sklearn/linear_model/sag.py:337: ConvergenceWarning: The max_iter was reached which means the coef_ did not converge\n",
      "  \"the coef_ did not converge\", ConvergenceWarning)\n",
      "/anaconda3/envs/dsi/lib/python3.7/site-packages/sklearn/linear_model/sag.py:337: ConvergenceWarning: The max_iter was reached which means the coef_ did not converge\n",
      "  \"the coef_ did not converge\", ConvergenceWarning)\n",
      "/anaconda3/envs/dsi/lib/python3.7/site-packages/sklearn/linear_model/sag.py:337: ConvergenceWarning: The max_iter was reached which means the coef_ did not converge\n",
      "  \"the coef_ did not converge\", ConvergenceWarning)\n"
     ]
    },
    {
     "name": "stdout",
     "output_type": "stream",
     "text": [
      "Best training score for gs: 0.9546858908341915\n",
      "Best parameters: {'C': 0.75, 'class_weight': 'balanced', 'max_iter': 4500, 'penalty': 'l2', 'solver': 'saga'}\n",
      "Test score: 0.24228395061728394\n"
     ]
    }
   ],
   "source": [
    "lr_5 = LogisticRegression()\n",
    "gs_lr_5 = GridSearchCV(\n",
    "            estimator = lr_5, \n",
    "            param_grid = {\n",
    "                 'penalty': ['l1','l2'],\n",
    "                 'C': [.75, 1],\n",
    "                 'solver': ['saga'],\n",
    "                 'class_weight': ['balanced'],\n",
    "                'max_iter' : [4500]},\n",
    "            cv = 2,\n",
    "            scoring = 'accuracy',\n",
    "            refit = 'roc_auc')\n",
    "\n",
    "gs_lr_5.fit(X_train, y_train)\n",
    "print(f'Best training score for gs: {gs_lr_5.best_score_}')\n",
    "print(f'Best parameters: {gs_lr_5.best_params_}')\n",
    "lr_5 = gs_lr_5.best_estimator_\n",
    "print(f'Test score: {lr_5.score(X_test, y_test)}')"
   ]
  },
  {
   "cell_type": "code",
   "execution_count": 549,
   "metadata": {},
   "outputs": [
    {
     "data": {
      "text/plain": [
       "0.4506712717954432"
      ]
     },
     "execution_count": 549,
     "metadata": {},
     "output_type": "execute_result"
    }
   ],
   "source": [
    "metrics.roc_auc_score(y_test, [i[1] for i in lr_5.predict_proba(X_test)])"
   ]
  },
  {
   "cell_type": "code",
   "execution_count": 550,
   "metadata": {},
   "outputs": [
    {
     "name": "stdout",
     "output_type": "stream",
     "text": [
      "Count of predicted sale test set: 514\n",
      "Count of predicted sale train set: 1539\n",
      "Count of actual sales test set: 29\n"
     ]
    }
   ],
   "source": [
    "print(f'Count of predicted sale test set: {sum(lr_5.predict(X_test))}')\n",
    "\n",
    "print(f'Count of predicted sale train set: {sum(lr_5.predict(X_train))}')\n",
    "\n",
    "print(f'Count of actual sales test set: {sum(y_test)}')"
   ]
  },
  {
   "cell_type": "code",
   "execution_count": 589,
   "metadata": {},
   "outputs": [
    {
     "data": {
      "text/html": [
       "<div>\n",
       "<style scoped>\n",
       "    .dataframe tbody tr th:only-of-type {\n",
       "        vertical-align: middle;\n",
       "    }\n",
       "\n",
       "    .dataframe tbody tr th {\n",
       "        vertical-align: top;\n",
       "    }\n",
       "\n",
       "    .dataframe thead th {\n",
       "        text-align: right;\n",
       "    }\n",
       "</style>\n",
       "<table border=\"1\" class=\"dataframe\">\n",
       "  <thead>\n",
       "    <tr style=\"text-align: right;\">\n",
       "      <th></th>\n",
       "      <th>pred full price</th>\n",
       "      <th>pred sale</th>\n",
       "    </tr>\n",
       "  </thead>\n",
       "  <tbody>\n",
       "    <tr>\n",
       "      <th>actual full price</th>\n",
       "      <td>127</td>\n",
       "      <td>492</td>\n",
       "    </tr>\n",
       "    <tr>\n",
       "      <th>actual sale</th>\n",
       "      <td>3</td>\n",
       "      <td>26</td>\n",
       "    </tr>\n",
       "  </tbody>\n",
       "</table>\n",
       "</div>"
      ],
      "text/plain": [
       "                   pred full price  pred sale\n",
       "actual full price              127        492\n",
       "actual sale                      3         26"
      ]
     },
     "execution_count": 589,
     "metadata": {},
     "output_type": "execute_result"
    }
   ],
   "source": [
    "cm = confusion_matrix(y_test, lr_5.predict(X_test_sc))\n",
    "\n",
    "cm_df = pd.DataFrame(cm, columns = ['pred full price', 'pred sale'],\n",
    "            index = ['actual full price', 'actual sale'])\n",
    "\n",
    "cm_df"
   ]
  },
  {
   "cell_type": "code",
   "execution_count": 590,
   "metadata": {},
   "outputs": [
    {
     "data": {
      "text/plain": [
       "0.20516962843295639"
      ]
     },
     "execution_count": 590,
     "metadata": {},
     "output_type": "execute_result"
    }
   ],
   "source": [
    "# Specificity \n",
    "(cm_df.iloc[0,0])/(cm_df.iloc[0,1]+cm_df.iloc[0,0])"
   ]
  },
  {
   "cell_type": "code",
   "execution_count": 591,
   "metadata": {},
   "outputs": [
    {
     "data": {
      "text/plain": [
       "0.896551724137931"
      ]
     },
     "execution_count": 591,
     "metadata": {},
     "output_type": "execute_result"
    }
   ],
   "source": [
    "# Sensitivity \n",
    "(cm_df.iloc[1,1]/(cm_df.iloc[1,0]+cm_df.iloc[1,1]))"
   ]
  },
  {
   "cell_type": "markdown",
   "metadata": {},
   "source": [
    "Refitting with the ROC AUC did very poorly on the testing data, this model did not use scaled data"
   ]
  },
  {
   "cell_type": "markdown",
   "metadata": {},
   "source": [
    "### Logistic Regression Refit with Scaled Data scored for Accuracy"
   ]
  },
  {
   "cell_type": "code",
   "execution_count": 552,
   "metadata": {},
   "outputs": [
    {
     "name": "stdout",
     "output_type": "stream",
     "text": [
      "Best training score for gs: 0.8769309989701339\n",
      "Best parameters: {'C': 0.75, 'class_weight': 'balanced', 'max_iter': 5000, 'penalty': 'l2', 'solver': 'saga'}\n",
      "Test score: 0.8688271604938271\n"
     ]
    }
   ],
   "source": [
    "lr_6 = LogisticRegression()\n",
    "gs_lr_6 = GridSearchCV(\n",
    "            estimator = lr_6, \n",
    "            param_grid = {\n",
    "                 'penalty': ['l2'],\n",
    "                 'C': [.75],\n",
    "                 'solver': ['saga'],\n",
    "                 'class_weight': ['balanced'],\n",
    "                'max_iter' : [5000]},\n",
    "            cv = 2,\n",
    "            scoring = 'accuracy',\n",
    "            refit = 'roc_auc')\n",
    "\n",
    "gs_lr_6.fit(X_train_sc, y_train)\n",
    "print(f'Best training score for gs: {gs_lr_6.best_score_}')\n",
    "print(f'Best parameters: {gs_lr_6.best_params_}')\n",
    "lr_6 = gs_lr_6.best_estimator_\n",
    "print(f'Test score: {lr_6.score(X_test_sc, y_test)}')"
   ]
  },
  {
   "cell_type": "code",
   "execution_count": 567,
   "metadata": {},
   "outputs": [
    {
     "data": {
      "text/plain": [
       "0.9080274079438472"
      ]
     },
     "execution_count": 567,
     "metadata": {},
     "output_type": "execute_result"
    }
   ],
   "source": [
    "metrics.roc_auc_score(y_test, [i[1] for i in lr_6.predict_proba(X_test_sc)])"
   ]
  },
  {
   "cell_type": "code",
   "execution_count": 554,
   "metadata": {},
   "outputs": [
    {
     "name": "stdout",
     "output_type": "stream",
     "text": [
      "Count of predicted sale test set: 108\n",
      "Count of predicted sale train set: 335\n",
      "Count of actual sales test set: 29\n"
     ]
    }
   ],
   "source": [
    "print(f'Count of predicted sale test set: {sum(lr_6.predict(X_test_sc))}')\n",
    "\n",
    "print(f'Count of predicted sale train set: {sum(lr_6.predict(X_train_sc))}')\n",
    "\n",
    "print(f'Count of actual sales test set: {sum(y_test)}')"
   ]
  },
  {
   "cell_type": "code",
   "execution_count": 592,
   "metadata": {},
   "outputs": [
    {
     "data": {
      "text/html": [
       "<div>\n",
       "<style scoped>\n",
       "    .dataframe tbody tr th:only-of-type {\n",
       "        vertical-align: middle;\n",
       "    }\n",
       "\n",
       "    .dataframe tbody tr th {\n",
       "        vertical-align: top;\n",
       "    }\n",
       "\n",
       "    .dataframe thead th {\n",
       "        text-align: right;\n",
       "    }\n",
       "</style>\n",
       "<table border=\"1\" class=\"dataframe\">\n",
       "  <thead>\n",
       "    <tr style=\"text-align: right;\">\n",
       "      <th></th>\n",
       "      <th>pred full price</th>\n",
       "      <th>pred sale</th>\n",
       "    </tr>\n",
       "  </thead>\n",
       "  <tbody>\n",
       "    <tr>\n",
       "      <th>actual full price</th>\n",
       "      <td>537</td>\n",
       "      <td>82</td>\n",
       "    </tr>\n",
       "    <tr>\n",
       "      <th>actual sale</th>\n",
       "      <td>3</td>\n",
       "      <td>26</td>\n",
       "    </tr>\n",
       "  </tbody>\n",
       "</table>\n",
       "</div>"
      ],
      "text/plain": [
       "                   pred full price  pred sale\n",
       "actual full price              537         82\n",
       "actual sale                      3         26"
      ]
     },
     "execution_count": 592,
     "metadata": {},
     "output_type": "execute_result"
    }
   ],
   "source": [
    "cm = confusion_matrix(y_test, lr_6.predict(X_test_sc))\n",
    "\n",
    "cm_df = pd.DataFrame(cm, columns = ['pred full price', 'pred sale'],\n",
    "            index = ['actual full price', 'actual sale'])\n",
    "\n",
    "cm_df"
   ]
  },
  {
   "cell_type": "code",
   "execution_count": 593,
   "metadata": {},
   "outputs": [
    {
     "data": {
      "text/plain": [
       "0.8675282714054927"
      ]
     },
     "execution_count": 593,
     "metadata": {},
     "output_type": "execute_result"
    }
   ],
   "source": [
    "# Specificity \n",
    "(cm_df.iloc[0,0])/(cm_df.iloc[0,1]+cm_df.iloc[0,0])"
   ]
  },
  {
   "cell_type": "code",
   "execution_count": 594,
   "metadata": {},
   "outputs": [
    {
     "data": {
      "text/plain": [
       "0.896551724137931"
      ]
     },
     "execution_count": 594,
     "metadata": {},
     "output_type": "execute_result"
    }
   ],
   "source": [
    "# Sensitivity \n",
    "(cm_df.iloc[1,1]/(cm_df.iloc[1,0]+cm_df.iloc[1,1]))"
   ]
  },
  {
   "cell_type": "markdown",
   "metadata": {},
   "source": [
    "Using scaled data was much better with the ROC AUC metric"
   ]
  },
  {
   "cell_type": "markdown",
   "metadata": {},
   "source": [
    "### Logistic Regression without Balanced Classes"
   ]
  },
  {
   "cell_type": "code",
   "execution_count": 556,
   "metadata": {},
   "outputs": [
    {
     "name": "stdout",
     "output_type": "stream",
     "text": [
      "Best training score for gs: 0.9531410916580845\n",
      "Best parameters: {'C': 0.75, 'class_weight': None, 'max_iter': 5000, 'penalty': 'l1', 'solver': 'saga'}\n",
      "Test score: 0.9567901234567902\n"
     ]
    }
   ],
   "source": [
    "lr_7 = LogisticRegression()\n",
    "gs_lr_7 = GridSearchCV(\n",
    "            estimator = lr_7, \n",
    "            param_grid = {\n",
    "                 'penalty': ['l1'],\n",
    "                 'C': [.75],\n",
    "                 'solver': ['saga'],\n",
    "                 'class_weight': [None],\n",
    "                'max_iter' : [5000]},\n",
    "            cv = 2,\n",
    "            scoring = 'accuracy',\n",
    "            refit = 'roc_auc')\n",
    "\n",
    "gs_lr_7.fit(X_train_sc, y_train)\n",
    "print(f'Best training score for gs: {gs_lr_7.best_score_}')\n",
    "print(f'Best parameters: {gs_lr_7.best_params_}')\n",
    "lr_7 = gs_lr_7.best_estimator_\n",
    "print(f'Test score: {lr_7.score(X_test_sc, y_test)}')"
   ]
  },
  {
   "cell_type": "code",
   "execution_count": 568,
   "metadata": {},
   "outputs": [
    {
     "data": {
      "text/plain": [
       "0.9200044565762353"
      ]
     },
     "execution_count": 568,
     "metadata": {},
     "output_type": "execute_result"
    }
   ],
   "source": [
    "metrics.roc_auc_score(y_test, [i[1] for i in lr_7.predict_proba(X_test_sc)])"
   ]
  },
  {
   "cell_type": "code",
   "execution_count": 558,
   "metadata": {},
   "outputs": [
    {
     "name": "stdout",
     "output_type": "stream",
     "text": [
      "Count of predicted sale test set: 11\n",
      "Count of predicted sale train set: 28\n",
      "Count of actual sales test set: 29\n"
     ]
    }
   ],
   "source": [
    "print(f'Count of predicted sale test set: {sum(lr_7.predict(X_test_sc))}')\n",
    "\n",
    "print(f'Count of predicted sale train set: {sum(lr_7.predict(X_train_sc))}')\n",
    "\n",
    "print(f'Count of actual sales test set: {sum(y_test)}')"
   ]
  },
  {
   "cell_type": "code",
   "execution_count": 559,
   "metadata": {},
   "outputs": [
    {
     "data": {
      "text/html": [
       "<div>\n",
       "<style scoped>\n",
       "    .dataframe tbody tr th:only-of-type {\n",
       "        vertical-align: middle;\n",
       "    }\n",
       "\n",
       "    .dataframe tbody tr th {\n",
       "        vertical-align: top;\n",
       "    }\n",
       "\n",
       "    .dataframe thead th {\n",
       "        text-align: right;\n",
       "    }\n",
       "</style>\n",
       "<table border=\"1\" class=\"dataframe\">\n",
       "  <thead>\n",
       "    <tr style=\"text-align: right;\">\n",
       "      <th></th>\n",
       "      <th>pred full price</th>\n",
       "      <th>pred sale</th>\n",
       "    </tr>\n",
       "  </thead>\n",
       "  <tbody>\n",
       "    <tr>\n",
       "      <th>actual full price</th>\n",
       "      <td>614</td>\n",
       "      <td>5</td>\n",
       "    </tr>\n",
       "    <tr>\n",
       "      <th>actual sale</th>\n",
       "      <td>23</td>\n",
       "      <td>6</td>\n",
       "    </tr>\n",
       "  </tbody>\n",
       "</table>\n",
       "</div>"
      ],
      "text/plain": [
       "                   pred full price  pred sale\n",
       "actual full price              614          5\n",
       "actual sale                     23          6"
      ]
     },
     "execution_count": 559,
     "metadata": {},
     "output_type": "execute_result"
    }
   ],
   "source": [
    "cm = confusion_matrix(y_test, lr_7.predict(X_test_sc))\n",
    "\n",
    "cm_df = pd.DataFrame(cm, columns = ['pred full price', 'pred sale'],\n",
    "            index = ['actual full price', 'actual sale'])\n",
    "\n",
    "cm_df"
   ]
  },
  {
   "cell_type": "code",
   "execution_count": 560,
   "metadata": {},
   "outputs": [
    {
     "data": {
      "text/plain": [
       "0.9919224555735057"
      ]
     },
     "execution_count": 560,
     "metadata": {},
     "output_type": "execute_result"
    }
   ],
   "source": [
    "# Specificity \n",
    "(cm_df.iloc[0,0])/(cm_df.iloc[0,1]+cm_df.iloc[0,0])"
   ]
  },
  {
   "cell_type": "code",
   "execution_count": 561,
   "metadata": {},
   "outputs": [
    {
     "data": {
      "text/plain": [
       "0.20689655172413793"
      ]
     },
     "execution_count": 561,
     "metadata": {},
     "output_type": "execute_result"
    }
   ],
   "source": [
    "# Sensitivity \n",
    "(cm_df.iloc[1,1]/(cm_df.iloc[1,0]+cm_df.iloc[1,1]))"
   ]
  },
  {
   "cell_type": "markdown",
   "metadata": {},
   "source": [
    "Without using balanced classes, it did not accurately predict sale items. The specificity score was much better than the sensitivity"
   ]
  },
  {
   "cell_type": "markdown",
   "metadata": {},
   "source": [
    "### Logistic Regression with Scaled Data scored for Precision"
   ]
  },
  {
   "cell_type": "code",
   "execution_count": 562,
   "metadata": {},
   "outputs": [
    {
     "name": "stdout",
     "output_type": "stream",
     "text": [
      "Best training score for gs: 0.1969313063063063\n",
      "Best parameters: {'C': 1, 'class_weight': 'balanced', 'max_iter': 5000, 'penalty': 'l1', 'solver': 'saga'}\n",
      "Test score: 0.8719135802469136\n"
     ]
    }
   ],
   "source": [
    "lr_8 = LogisticRegression()\n",
    "gs_lr_8 = GridSearchCV(\n",
    "            estimator = lr_8, \n",
    "            param_grid = {\n",
    "                 'penalty': ['l1', 'l2'],\n",
    "                 'C': [.75, 1],\n",
    "                 'solver': ['saga'],\n",
    "                 'class_weight': ['balanced'],\n",
    "                'max_iter' : [5000]},\n",
    "            cv = 2,\n",
    "            scoring = 'precision')\n",
    "\n",
    "gs_lr_8.fit(X_train_sc, y_train)\n",
    "print(f'Best training score for gs: {gs_lr_8.best_score_}')\n",
    "print(f'Best parameters: {gs_lr_8.best_params_}')\n",
    "lr_8 = gs_lr_8.best_estimator_\n",
    "print(f'Test score: {lr_8.score(X_test_sc, y_test)}')"
   ]
  },
  {
   "cell_type": "code",
   "execution_count": 569,
   "metadata": {},
   "outputs": [
    {
     "data": {
      "text/plain": [
       "0.9121497409615064"
      ]
     },
     "execution_count": 569,
     "metadata": {},
     "output_type": "execute_result"
    }
   ],
   "source": [
    "metrics.roc_auc_score(y_test, [i[1] for i in lr_8.predict_proba(X_test_sc)])"
   ]
  },
  {
   "cell_type": "code",
   "execution_count": 564,
   "metadata": {},
   "outputs": [
    {
     "name": "stdout",
     "output_type": "stream",
     "text": [
      "Count of predicted sale test set: 106\n",
      "Count of predicted sale train set: 335\n",
      "Count of actual sales test set: 29\n"
     ]
    }
   ],
   "source": [
    "print(f'Count of predicted sale test set: {sum(lr_8.predict(X_test_sc))}')\n",
    "\n",
    "print(f'Count of predicted sale train set: {sum(lr_8.predict(X_train_sc))}')\n",
    "\n",
    "print(f'Count of actual sales test set: {sum(y_test)}')"
   ]
  },
  {
   "cell_type": "code",
   "execution_count": 597,
   "metadata": {},
   "outputs": [
    {
     "data": {
      "text/html": [
       "<div>\n",
       "<style scoped>\n",
       "    .dataframe tbody tr th:only-of-type {\n",
       "        vertical-align: middle;\n",
       "    }\n",
       "\n",
       "    .dataframe tbody tr th {\n",
       "        vertical-align: top;\n",
       "    }\n",
       "\n",
       "    .dataframe thead th {\n",
       "        text-align: right;\n",
       "    }\n",
       "</style>\n",
       "<table border=\"1\" class=\"dataframe\">\n",
       "  <thead>\n",
       "    <tr style=\"text-align: right;\">\n",
       "      <th></th>\n",
       "      <th>pred full price</th>\n",
       "      <th>pred sale</th>\n",
       "    </tr>\n",
       "  </thead>\n",
       "  <tbody>\n",
       "    <tr>\n",
       "      <th>actual full price</th>\n",
       "      <td>539</td>\n",
       "      <td>80</td>\n",
       "    </tr>\n",
       "    <tr>\n",
       "      <th>actual sale</th>\n",
       "      <td>3</td>\n",
       "      <td>26</td>\n",
       "    </tr>\n",
       "  </tbody>\n",
       "</table>\n",
       "</div>"
      ],
      "text/plain": [
       "                   pred full price  pred sale\n",
       "actual full price              539         80\n",
       "actual sale                      3         26"
      ]
     },
     "execution_count": 597,
     "metadata": {},
     "output_type": "execute_result"
    }
   ],
   "source": [
    "cm = confusion_matrix(y_test, lr_8.predict(X_test_sc))\n",
    "\n",
    "cm_df = pd.DataFrame(cm, columns = ['pred full price', 'pred sale'],\n",
    "            index = ['actual full price', 'actual sale'])\n",
    "\n",
    "cm_df"
   ]
  },
  {
   "cell_type": "code",
   "execution_count": 598,
   "metadata": {},
   "outputs": [
    {
     "data": {
      "text/plain": [
       "0.8707592891760905"
      ]
     },
     "execution_count": 598,
     "metadata": {},
     "output_type": "execute_result"
    }
   ],
   "source": [
    "# Specificity \n",
    "(cm_df.iloc[0,0])/(cm_df.iloc[0,1]+cm_df.iloc[0,0])"
   ]
  },
  {
   "cell_type": "code",
   "execution_count": 599,
   "metadata": {},
   "outputs": [
    {
     "data": {
      "text/plain": [
       "0.896551724137931"
      ]
     },
     "execution_count": 599,
     "metadata": {},
     "output_type": "execute_result"
    }
   ],
   "source": [
    "# Sensitivity \n",
    "(cm_df.iloc[1,1]/(cm_df.iloc[1,0]+cm_df.iloc[1,1]))"
   ]
  },
  {
   "cell_type": "markdown",
   "metadata": {},
   "source": [
    "### Logistic Regression with Refit Scaled Data scored for Precision"
   ]
  },
  {
   "cell_type": "code",
   "execution_count": 570,
   "metadata": {},
   "outputs": [
    {
     "name": "stdout",
     "output_type": "stream",
     "text": [
      "Best training score for gs: 0.1969313063063063\n",
      "Best parameters: {'C': 1, 'class_weight': 'balanced', 'max_iter': 5000, 'penalty': 'l1', 'solver': 'saga'}\n",
      "Test score: 0.8719135802469136\n"
     ]
    }
   ],
   "source": [
    "lr_9 = LogisticRegression()\n",
    "gs_lr_9 = GridSearchCV(\n",
    "            estimator = lr_9, \n",
    "            param_grid = {\n",
    "                 'penalty': ['l1', 'l2'],\n",
    "                 'C': [.75, 1],\n",
    "                 'solver': ['saga'],\n",
    "                 'class_weight': ['balanced'],\n",
    "                'max_iter' : [5000]},\n",
    "            cv = 2,\n",
    "            scoring = 'precision',\n",
    "            refit = 'roc_auc')\n",
    "\n",
    "gs_lr_9.fit(X_train_sc, y_train)\n",
    "print(f'Best training score for gs: {gs_lr_9.best_score_}')\n",
    "print(f'Best parameters: {gs_lr_9.best_params_}')\n",
    "lr_9 = gs_lr_9.best_estimator_\n",
    "print(f'Test score: {lr_9.score(X_test_sc, y_test)}')"
   ]
  },
  {
   "cell_type": "code",
   "execution_count": 571,
   "metadata": {},
   "outputs": [
    {
     "data": {
      "text/plain": [
       "0.9121497409615064"
      ]
     },
     "execution_count": 571,
     "metadata": {},
     "output_type": "execute_result"
    }
   ],
   "source": [
    "metrics.roc_auc_score(y_test, [i[1] for i in lr_9.predict_proba(X_test_sc)])"
   ]
  },
  {
   "cell_type": "code",
   "execution_count": 572,
   "metadata": {},
   "outputs": [
    {
     "name": "stdout",
     "output_type": "stream",
     "text": [
      "Count of predicted sale test set: 106\n",
      "Count of predicted sale train set: 335\n",
      "Count of actual sales test set: 29\n"
     ]
    }
   ],
   "source": [
    "print(f'Count of predicted sale test set: {sum(lr_9.predict(X_test_sc))}')\n",
    "\n",
    "print(f'Count of predicted sale train set: {sum(lr_9.predict(X_train_sc))}')\n",
    "\n",
    "print(f'Count of actual sales test set: {sum(y_test)}')"
   ]
  },
  {
   "cell_type": "code",
   "execution_count": 577,
   "metadata": {},
   "outputs": [
    {
     "data": {
      "text/html": [
       "<div>\n",
       "<style scoped>\n",
       "    .dataframe tbody tr th:only-of-type {\n",
       "        vertical-align: middle;\n",
       "    }\n",
       "\n",
       "    .dataframe tbody tr th {\n",
       "        vertical-align: top;\n",
       "    }\n",
       "\n",
       "    .dataframe thead th {\n",
       "        text-align: right;\n",
       "    }\n",
       "</style>\n",
       "<table border=\"1\" class=\"dataframe\">\n",
       "  <thead>\n",
       "    <tr style=\"text-align: right;\">\n",
       "      <th></th>\n",
       "      <th>pred full price</th>\n",
       "      <th>pred sale</th>\n",
       "    </tr>\n",
       "  </thead>\n",
       "  <tbody>\n",
       "    <tr>\n",
       "      <th>actual full price</th>\n",
       "      <td>539</td>\n",
       "      <td>80</td>\n",
       "    </tr>\n",
       "    <tr>\n",
       "      <th>actual sale</th>\n",
       "      <td>3</td>\n",
       "      <td>26</td>\n",
       "    </tr>\n",
       "  </tbody>\n",
       "</table>\n",
       "</div>"
      ],
      "text/plain": [
       "                   pred full price  pred sale\n",
       "actual full price              539         80\n",
       "actual sale                      3         26"
      ]
     },
     "execution_count": 577,
     "metadata": {},
     "output_type": "execute_result"
    }
   ],
   "source": [
    "cm = confusion_matrix(y_test, lr_9.predict(X_test_sc))\n",
    "\n",
    "cm_df = pd.DataFrame(cm, columns = ['pred full price', 'pred sale'],\n",
    "            index = ['actual full price', 'actual sale'])\n",
    "\n",
    "cm_df"
   ]
  },
  {
   "cell_type": "markdown",
   "metadata": {},
   "source": [
    "### Logistic Regression Unbalanced Class with Scaled Data scored for Precision"
   ]
  },
  {
   "cell_type": "code",
   "execution_count": 579,
   "metadata": {},
   "outputs": [
    {
     "name": "stdout",
     "output_type": "stream",
     "text": [
      "Best training score for gs: 0.4866666666666667\n",
      "Best parameters: {'C': 1, 'class_weight': None, 'max_iter': 5000, 'penalty': 'l2', 'solver': 'saga'}\n",
      "Test score: 0.9552469135802469\n"
     ]
    }
   ],
   "source": [
    "lr_10 = LogisticRegression()\n",
    "gs_lr_10 = GridSearchCV(\n",
    "            estimator = lr_10, \n",
    "            param_grid = {\n",
    "                 'penalty': ['l1', 'l2'],\n",
    "                 'C': [.75, 1],\n",
    "                 'solver': ['saga'],\n",
    "                 'class_weight': [None],\n",
    "                'max_iter' : [5000]},\n",
    "            cv = 2,\n",
    "            scoring = 'precision',\n",
    "            refit = 'roc_auc')\n",
    "\n",
    "gs_lr_10.fit(X_train_sc, y_train)\n",
    "print(f'Best training score for gs: {gs_lr_10.best_score_}')\n",
    "print(f'Best parameters: {gs_lr_10.best_params_}')\n",
    "lr_10 = gs_lr_10.best_estimator_\n",
    "print(f'Test score: {lr_10.score(X_test_sc, y_test)}')"
   ]
  },
  {
   "cell_type": "code",
   "execution_count": 580,
   "metadata": {},
   "outputs": [
    {
     "data": {
      "text/plain": [
       "0.9139880786585706"
      ]
     },
     "execution_count": 580,
     "metadata": {},
     "output_type": "execute_result"
    }
   ],
   "source": [
    "metrics.roc_auc_score(y_test, [i[1] for i in lr_10.predict_proba(X_test_sc)])"
   ]
  },
  {
   "cell_type": "code",
   "execution_count": 581,
   "metadata": {},
   "outputs": [
    {
     "name": "stdout",
     "output_type": "stream",
     "text": [
      "Count of predicted sale test set: 14\n",
      "Count of predicted sale train set: 35\n",
      "Count of actual sales test set: 29\n"
     ]
    }
   ],
   "source": [
    "print(f'Count of predicted sale test set: {sum(lr_10.predict(X_test_sc))}')\n",
    "\n",
    "print(f'Count of predicted sale train set: {sum(lr_10.predict(X_train_sc))}')\n",
    "\n",
    "print(f'Count of actual sales test set: {sum(y_test)}')"
   ]
  },
  {
   "cell_type": "code",
   "execution_count": 600,
   "metadata": {},
   "outputs": [
    {
     "data": {
      "text/html": [
       "<div>\n",
       "<style scoped>\n",
       "    .dataframe tbody tr th:only-of-type {\n",
       "        vertical-align: middle;\n",
       "    }\n",
       "\n",
       "    .dataframe tbody tr th {\n",
       "        vertical-align: top;\n",
       "    }\n",
       "\n",
       "    .dataframe thead th {\n",
       "        text-align: right;\n",
       "    }\n",
       "</style>\n",
       "<table border=\"1\" class=\"dataframe\">\n",
       "  <thead>\n",
       "    <tr style=\"text-align: right;\">\n",
       "      <th></th>\n",
       "      <th>pred full price</th>\n",
       "      <th>pred sale</th>\n",
       "    </tr>\n",
       "  </thead>\n",
       "  <tbody>\n",
       "    <tr>\n",
       "      <th>actual full price</th>\n",
       "      <td>612</td>\n",
       "      <td>7</td>\n",
       "    </tr>\n",
       "    <tr>\n",
       "      <th>actual sale</th>\n",
       "      <td>22</td>\n",
       "      <td>7</td>\n",
       "    </tr>\n",
       "  </tbody>\n",
       "</table>\n",
       "</div>"
      ],
      "text/plain": [
       "                   pred full price  pred sale\n",
       "actual full price              612          7\n",
       "actual sale                     22          7"
      ]
     },
     "execution_count": 600,
     "metadata": {},
     "output_type": "execute_result"
    }
   ],
   "source": [
    "cm = confusion_matrix(y_test, lr_10.predict(X_test_sc))\n",
    "\n",
    "cm_df = pd.DataFrame(cm, columns = ['pred full price', 'pred sale'],\n",
    "            index = ['actual full price', 'actual sale'])\n",
    "\n",
    "cm_df"
   ]
  },
  {
   "cell_type": "code",
   "execution_count": 601,
   "metadata": {},
   "outputs": [
    {
     "data": {
      "text/plain": [
       "0.9886914378029079"
      ]
     },
     "execution_count": 601,
     "metadata": {},
     "output_type": "execute_result"
    }
   ],
   "source": [
    "# Specificity \n",
    "(cm_df.iloc[0,0])/(cm_df.iloc[0,1]+cm_df.iloc[0,0])"
   ]
  },
  {
   "cell_type": "code",
   "execution_count": 602,
   "metadata": {},
   "outputs": [
    {
     "data": {
      "text/plain": [
       "0.2413793103448276"
      ]
     },
     "execution_count": 602,
     "metadata": {},
     "output_type": "execute_result"
    }
   ],
   "source": [
    "# Sensitivity \n",
    "(cm_df.iloc[1,1]/(cm_df.iloc[1,0]+cm_df.iloc[1,1]))"
   ]
  },
  {
   "cell_type": "markdown",
   "metadata": {},
   "source": [
    "## Conclusions"
   ]
  },
  {
   "cell_type": "markdown",
   "metadata": {},
   "source": [
    "The model performed best using scaled data and incorporating balanced classes. While not incorporating balanced classes allowed for a much higher accuracy score, the model also did so well because it was not predicting any items going on sale. Brand name was removed as a feature in later models to see if other factors could be utilized to predict whether an item will go on sale. However, brand name as a feature greatly impacted accuracy in models.\n",
    "\n",
    "There were many limitations with this model.This model only works at this current time frame as the data is only a snapshot of when the data was collected and does not include previous items that have gone on sale. Another limitation is that the compound scores for the reviews are not representative of the entire reviews. The reviews collected only go back 6 pages (if there are 6 pages of reviews to scrape) which is a total of 30 reviews. The sample size is quite small but given the time restrictions, I was unable to scrape all of the reviews available on the website. \n",
    "\n",
    "In an ideal scenario, all reviews would be scraped and as well as all products. Having the full picture for the reviews has the potential to have more answers than just the small sameple of 30. While having the keywords offset some of the impact of only using the small samples for reviews, it does not in any way make up for the lack of the full review set.\n",
    "\n",
    "The best model to use in order to classify sale vs. regular priced products would be a model that is able to balance the specificity and sensitivity trade off (meaning a good ROC AUC score) as well as having a high accuracy score. The model in this instance is one that utilized scoring as accuracy, with scaled data, had a balanced class and did not refit with the ROC AUC score as the refitting metric. The training score was 86% while and testing score was 87.9%. The ROC AUC score was .88."
   ]
  },
  {
   "cell_type": "markdown",
   "metadata": {},
   "source": [
    "#### The best model reproduced below:"
   ]
  },
  {
   "cell_type": "code",
   "execution_count": 556,
   "metadata": {},
   "outputs": [
    {
     "name": "stdout",
     "output_type": "stream",
     "text": [
      "Best training score for gs: 0.9531410916580845\n",
      "Best parameters: {'C': 0.75, 'class_weight': None, 'max_iter': 5000, 'penalty': 'l1', 'solver': 'saga'}\n",
      "Test score: 0.9567901234567902\n"
     ]
    }
   ],
   "source": [
    "lr_7 = LogisticRegression()\n",
    "gs_lr_7 = GridSearchCV(\n",
    "            estimator = lr_7, \n",
    "            param_grid = {\n",
    "                 'penalty': ['l1'],\n",
    "                 'C': [.75],\n",
    "                 'solver': ['saga'],\n",
    "                 'class_weight': [None],\n",
    "                'max_iter' : [5000]},\n",
    "            cv = 2,\n",
    "            scoring = 'accuracy',\n",
    "            refit = 'roc_auc')\n",
    "\n",
    "gs_lr_7.fit(X_train_sc, y_train)\n",
    "print(f'Best training score for gs: {gs_lr_7.best_score_}')\n",
    "print(f'Best parameters: {gs_lr_7.best_params_}')\n",
    "lr_7 = gs_lr_7.best_estimator_\n",
    "print(f'Test score: {lr_7.score(X_test_sc, y_test)}')"
   ]
  },
  {
   "cell_type": "code",
   "execution_count": 568,
   "metadata": {},
   "outputs": [
    {
     "data": {
      "text/plain": [
       "0.9200044565762353"
      ]
     },
     "execution_count": 568,
     "metadata": {},
     "output_type": "execute_result"
    }
   ],
   "source": [
    "metrics.roc_auc_score(y_test, [i[1] for i in lr_7.predict_proba(X_test_sc)])"
   ]
  },
  {
   "cell_type": "code",
   "execution_count": 558,
   "metadata": {},
   "outputs": [
    {
     "name": "stdout",
     "output_type": "stream",
     "text": [
      "Count of predicted sale test set: 11\n",
      "Count of predicted sale train set: 28\n",
      "Count of actual sales test set: 29\n"
     ]
    }
   ],
   "source": [
    "print(f'Count of predicted sale test set: {sum(lr_7.predict(X_test_sc))}')\n",
    "\n",
    "print(f'Count of predicted sale train set: {sum(lr_7.predict(X_train_sc))}')\n",
    "\n",
    "print(f'Count of actual sales test set: {sum(y_test)}')"
   ]
  },
  {
   "cell_type": "code",
   "execution_count": 559,
   "metadata": {},
   "outputs": [
    {
     "data": {
      "text/html": [
       "<div>\n",
       "<style scoped>\n",
       "    .dataframe tbody tr th:only-of-type {\n",
       "        vertical-align: middle;\n",
       "    }\n",
       "\n",
       "    .dataframe tbody tr th {\n",
       "        vertical-align: top;\n",
       "    }\n",
       "\n",
       "    .dataframe thead th {\n",
       "        text-align: right;\n",
       "    }\n",
       "</style>\n",
       "<table border=\"1\" class=\"dataframe\">\n",
       "  <thead>\n",
       "    <tr style=\"text-align: right;\">\n",
       "      <th></th>\n",
       "      <th>pred full price</th>\n",
       "      <th>pred sale</th>\n",
       "    </tr>\n",
       "  </thead>\n",
       "  <tbody>\n",
       "    <tr>\n",
       "      <th>actual full price</th>\n",
       "      <td>614</td>\n",
       "      <td>5</td>\n",
       "    </tr>\n",
       "    <tr>\n",
       "      <th>actual sale</th>\n",
       "      <td>23</td>\n",
       "      <td>6</td>\n",
       "    </tr>\n",
       "  </tbody>\n",
       "</table>\n",
       "</div>"
      ],
      "text/plain": [
       "                   pred full price  pred sale\n",
       "actual full price              614          5\n",
       "actual sale                     23          6"
      ]
     },
     "execution_count": 559,
     "metadata": {},
     "output_type": "execute_result"
    }
   ],
   "source": [
    "cm = confusion_matrix(y_test, lr_7.predict(X_test_sc))\n",
    "\n",
    "cm_df = pd.DataFrame(cm, columns = ['pred full price', 'pred sale'],\n",
    "            index = ['actual full price', 'actual sale'])\n",
    "\n",
    "cm_df"
   ]
  },
  {
   "cell_type": "code",
   "execution_count": 560,
   "metadata": {},
   "outputs": [
    {
     "data": {
      "text/plain": [
       "0.9919224555735057"
      ]
     },
     "execution_count": 560,
     "metadata": {},
     "output_type": "execute_result"
    }
   ],
   "source": [
    "# Specificity \n",
    "(cm_df.iloc[0,0])/(cm_df.iloc[0,1]+cm_df.iloc[0,0])"
   ]
  },
  {
   "cell_type": "code",
   "execution_count": 561,
   "metadata": {},
   "outputs": [
    {
     "data": {
      "text/plain": [
       "0.20689655172413793"
      ]
     },
     "execution_count": 561,
     "metadata": {},
     "output_type": "execute_result"
    }
   ],
   "source": [
    "# Sensitivity \n",
    "(cm_df.iloc[1,1]/(cm_df.iloc[1,0]+cm_df.iloc[1,1]))"
   ]
  },
  {
   "cell_type": "markdown",
   "metadata": {},
   "source": [
    "Without using balanced classes, it did not accurately predict sale items. The specificity score was much better than the sensitivity"
   ]
  },
  {
   "cell_type": "code",
   "execution_count": 583,
   "metadata": {},
   "outputs": [],
   "source": [
    "pred_proba = [i[1] for i in lr_7.predict_proba(X_test_sc)]\n",
    "\n",
    "pred_df = pd.DataFrame({'true_values': y_test,\n",
    "                        'pred_probs':pred_proba})"
   ]
  },
  {
   "cell_type": "code",
   "execution_count": 584,
   "metadata": {},
   "outputs": [
    {
     "data": {
      "image/png": "[encoded data removed]",
      "text/plain": [
       "<Figure size 720x504 with 1 Axes>"
      ]
     },
     "metadata": {
      "needs_background": "light"
     },
     "output_type": "display_data"
    }
   ],
   "source": [
    "# Create figure.\n",
    "plt.figure(figsize = (10,7))\n",
    "\n",
    "# Create threshold values. (Dashed red line in image.)\n",
    "thresholds = np.linspace(0, 1, 200)\n",
    "\n",
    "# Define function to calculate sensitivity. (True positive rate.)\n",
    "def TPR(df, true_col, pred_prob_col, threshold):\n",
    "    true_positive = df[(df[true_col] == 1) & (df[pred_prob_col] >= threshold)].shape[0]\n",
    "    false_negative = df[(df[true_col] == 1) & (df[pred_prob_col] < threshold)].shape[0]\n",
    "    return true_positive / (true_positive + false_negative)\n",
    "    \n",
    "# Define function to calculate 1 - specificity. (False positive rate.)\n",
    "def FPR(df, true_col, pred_prob_col, threshold):\n",
    "    true_negative = df[(df[true_col] == 0) & (df[pred_prob_col] <= threshold)].shape[0]\n",
    "    false_positive = df[(df[true_col] == 0) & (df[pred_prob_col] > threshold)].shape[0]\n",
    "    return 1 - (true_negative / (true_negative + false_positive))\n",
    "    \n",
    "# Calculate sensitivity & 1-specificity for each threshold between 0 and 1.\n",
    "tpr_values = [TPR(pred_df, 'true_values', 'pred_probs', prob) for prob in thresholds]\n",
    "fpr_values = [FPR(pred_df, 'true_values', 'pred_probs', prob) for prob in thresholds]\n",
    "\n",
    "# Plot ROC curve.\n",
    "plt.plot(fpr_values, # False Positive Rate on X-axis\n",
    "         tpr_values, # True Positive Rate on Y-axis\n",
    "         label='ROC Curve')\n",
    "\n",
    "# Plot baseline. (Perfect overlap between the two populations.)\n",
    "plt.plot(np.linspace(0, 1, 200),\n",
    "         np.linspace(0, 1, 200),\n",
    "         label='baseline',\n",
    "         linestyle='--')\n",
    "\n",
    "# Label axes.\n",
    "plt.title(f'ROC Curve with AUC = {round(metrics.roc_auc_score(pred_df[\"true_values\"], pred_df[\"pred_probs\"]),3)}', fontsize=22)\n",
    "plt.ylabel('Sensitivity', fontsize=18)\n",
    "plt.xlabel('1 - Specificity', fontsize=18)\n",
    "\n",
    "# Create legend.\n",
    "plt.legend(fontsize=16);"
   ]
  }
 ],
 "metadata": {
  "kernelspec": {
   "display_name": "Python 3",
   "language": "python",
   "name": "python3"
  },
  "language_info": {
   "codemirror_mode": {
    "name": "ipython",
    "version": 3
   },
   "file_extension": ".py",
   "mimetype": "text/x-python",
   "name": "python",
   "nbconvert_exporter": "python",
   "pygments_lexer": "ipython3",
   "version": "3.7.3"
  }
 },
 "nbformat": 4,
 "nbformat_minor": 2
}
