{
 "cells": [
  {
   "cell_type": "markdown",
   "metadata": {},
   "source": [
    "# Data Cleaning"
   ]
  },
  {
   "cell_type": "markdown",
   "metadata": {},
   "source": [
    "## Contents\n",
    "1. [Products](#Products-DataFrame)\n",
    "2. [Reviews](#Reviews-DataFrame)\n",
    "3. [Summaries](#Summaries-DataFrame)\n",
    "4. [Aggregate Ratings](#Aggregate-Ratings-DataFrame)"
   ]
  },
  {
   "cell_type": "markdown",
   "metadata": {},
   "source": [
    "Load libraries and read in data"
   ]
  },
  {
   "cell_type": "code",
   "execution_count": 4,
   "metadata": {},
   "outputs": [],
   "source": [
    "import pandas as pd\n",
    "import numpy as np\n",
    "\n",
    "import matplotlib.pyplot as plt\n",
    "import seaborn as sns \n",
    "\n",
    "from nltk.stem import WordNetLemmatizer\n",
    "from nltk.stem.porter import PorterStemmer\n",
    "from nltk.tokenize import RegexpTokenizer\n",
    "from nltk.corpus import stopwords\n",
    "import regex as re"
   ]
  },
  {
   "cell_type": "code",
   "execution_count": 90,
   "metadata": {},
   "outputs": [],
   "source": [
    "pd.set_option('display.max_columns', None)"
   ]
  },
  {
   "cell_type": "code",
   "execution_count": 5,
   "metadata": {},
   "outputs": [],
   "source": [
    "df_products = pd.read_csv('datasets/df_review_pages_incl.csv')\n",
    "df_reviews = pd.read_csv('datasets/reviews_data_final.csv')\n",
    "df_ratings = pd.read_csv('datasets/agg_rating_data.csv')\n",
    "df_summaries = pd.read_csv('datasets/summaries_final.csv')"
   ]
  },
  {
   "cell_type": "code",
   "execution_count": 240,
   "metadata": {},
   "outputs": [],
   "source": [
    "df_products.drop(columns = 'Unnamed: 0', inplace = True)\n",
    "df_reviews.drop(columns = 'Unnamed: 0', inplace = True)\n",
    "df_ratings.drop(columns = 'Unnamed: 0', inplace = True)\n",
    "df_summaries.drop(columns = 'Unnamed: 0', inplace = True)"
   ]
  },
  {
   "cell_type": "markdown",
   "metadata": {},
   "source": [
    "Snapshot of data sets"
   ]
  },
  {
   "cell_type": "code",
   "execution_count": 91,
   "metadata": {},
   "outputs": [
    {
     "data": {
      "text/html": [
       "<div>\n",
       "<style scoped>\n",
       "    .dataframe tbody tr th:only-of-type {\n",
       "        vertical-align: middle;\n",
       "    }\n",
       "\n",
       "    .dataframe tbody tr th {\n",
       "        vertical-align: top;\n",
       "    }\n",
       "\n",
       "    .dataframe thead th {\n",
       "        text-align: right;\n",
       "    }\n",
       "</style>\n",
       "<table border=\"1\" class=\"dataframe\">\n",
       "  <thead>\n",
       "    <tr style=\"text-align: right;\">\n",
       "      <th></th>\n",
       "      <th>biExclusiveLevel</th>\n",
       "      <th>brand_name</th>\n",
       "      <th>category</th>\n",
       "      <th>imageAltText</th>\n",
       "      <th>isAppExclusive</th>\n",
       "      <th>isBI</th>\n",
       "      <th>isBest</th>\n",
       "      <th>isFirstAccess</th>\n",
       "      <th>isLimitedEdition</th>\n",
       "      <th>isLimitedTimeOffer</th>\n",
       "      <th>isNatural</th>\n",
       "      <th>isNew</th>\n",
       "      <th>isOnlineOnly</th>\n",
       "      <th>isOrganic</th>\n",
       "      <th>isSephoraExclusive</th>\n",
       "      <th>listPrice</th>\n",
       "      <th>salePrice</th>\n",
       "      <th>skuId</th>\n",
       "      <th>skuType</th>\n",
       "      <th>valuePrice</th>\n",
       "      <th>review_count</th>\n",
       "    </tr>\n",
       "  </thead>\n",
       "  <tbody>\n",
       "    <tr>\n",
       "      <th>0</th>\n",
       "      <td>none</td>\n",
       "      <td>FENTY BEAUTY by Rihanna</td>\n",
       "      <td>/shop/foundation-makeup</td>\n",
       "      <td>FENTY BEAUTY by Rihanna - Pro Filt'r Hydrating...</td>\n",
       "      <td>False</td>\n",
       "      <td>False</td>\n",
       "      <td>False</td>\n",
       "      <td>False</td>\n",
       "      <td>False</td>\n",
       "      <td>False</td>\n",
       "      <td>False</td>\n",
       "      <td>True</td>\n",
       "      <td>True</td>\n",
       "      <td>False</td>\n",
       "      <td>True</td>\n",
       "      <td>$35.00</td>\n",
       "      <td>NaN</td>\n",
       "      <td>2268274</td>\n",
       "      <td>Standard</td>\n",
       "      <td>NaN</td>\n",
       "      <td>4</td>\n",
       "    </tr>\n",
       "    <tr>\n",
       "      <th>1</th>\n",
       "      <td>none</td>\n",
       "      <td>PAT McGRATH LABS</td>\n",
       "      <td>/shop/foundation-makeup</td>\n",
       "      <td>PAT McGRATH LABS - Skin Fetish: Sublime Perfec...</td>\n",
       "      <td>False</td>\n",
       "      <td>False</td>\n",
       "      <td>False</td>\n",
       "      <td>False</td>\n",
       "      <td>False</td>\n",
       "      <td>False</td>\n",
       "      <td>False</td>\n",
       "      <td>True</td>\n",
       "      <td>False</td>\n",
       "      <td>False</td>\n",
       "      <td>True</td>\n",
       "      <td>$68.00</td>\n",
       "      <td>NaN</td>\n",
       "      <td>2257111</td>\n",
       "      <td>Standard</td>\n",
       "      <td>NaN</td>\n",
       "      <td>174</td>\n",
       "    </tr>\n",
       "    <tr>\n",
       "      <th>2</th>\n",
       "      <td>none</td>\n",
       "      <td>FENTY BEAUTY by Rihanna</td>\n",
       "      <td>/shop/foundation-makeup</td>\n",
       "      <td>FENTY BEAUTY by Rihanna - Pro Filt'r Soft Matt...</td>\n",
       "      <td>False</td>\n",
       "      <td>False</td>\n",
       "      <td>False</td>\n",
       "      <td>False</td>\n",
       "      <td>False</td>\n",
       "      <td>False</td>\n",
       "      <td>False</td>\n",
       "      <td>False</td>\n",
       "      <td>False</td>\n",
       "      <td>False</td>\n",
       "      <td>True</td>\n",
       "      <td>$35.00</td>\n",
       "      <td>NaN</td>\n",
       "      <td>2164671</td>\n",
       "      <td>Standard</td>\n",
       "      <td>NaN</td>\n",
       "      <td>2849</td>\n",
       "    </tr>\n",
       "    <tr>\n",
       "      <th>3</th>\n",
       "      <td>none</td>\n",
       "      <td>MILK MAKEUP</td>\n",
       "      <td>/shop/foundation-makeup</td>\n",
       "      <td>MILK MAKEUP - Flex Foundation Stick</td>\n",
       "      <td>False</td>\n",
       "      <td>False</td>\n",
       "      <td>False</td>\n",
       "      <td>False</td>\n",
       "      <td>False</td>\n",
       "      <td>False</td>\n",
       "      <td>False</td>\n",
       "      <td>True</td>\n",
       "      <td>False</td>\n",
       "      <td>False</td>\n",
       "      <td>True</td>\n",
       "      <td>$36.00</td>\n",
       "      <td>NaN</td>\n",
       "      <td>2242105</td>\n",
       "      <td>Standard</td>\n",
       "      <td>NaN</td>\n",
       "      <td>71</td>\n",
       "    </tr>\n",
       "    <tr>\n",
       "      <th>4</th>\n",
       "      <td>none</td>\n",
       "      <td>Estée Lauder</td>\n",
       "      <td>/shop/foundation-makeup</td>\n",
       "      <td>Estée Lauder - Double Wear Stay-in-Place Found...</td>\n",
       "      <td>False</td>\n",
       "      <td>False</td>\n",
       "      <td>False</td>\n",
       "      <td>False</td>\n",
       "      <td>False</td>\n",
       "      <td>False</td>\n",
       "      <td>False</td>\n",
       "      <td>False</td>\n",
       "      <td>False</td>\n",
       "      <td>False</td>\n",
       "      <td>False</td>\n",
       "      <td>$43.00</td>\n",
       "      <td>NaN</td>\n",
       "      <td>2112167</td>\n",
       "      <td>Standard</td>\n",
       "      <td>NaN</td>\n",
       "      <td>1072</td>\n",
       "    </tr>\n",
       "  </tbody>\n",
       "</table>\n",
       "</div>"
      ],
      "text/plain": [
       "  biExclusiveLevel               brand_name                 category  \\\n",
       "0             none  FENTY BEAUTY by Rihanna  /shop/foundation-makeup   \n",
       "1             none         PAT McGRATH LABS  /shop/foundation-makeup   \n",
       "2             none  FENTY BEAUTY by Rihanna  /shop/foundation-makeup   \n",
       "3             none              MILK MAKEUP  /shop/foundation-makeup   \n",
       "4             none             Estée Lauder  /shop/foundation-makeup   \n",
       "\n",
       "                                        imageAltText  isAppExclusive   isBI  \\\n",
       "0  FENTY BEAUTY by Rihanna - Pro Filt'r Hydrating...           False  False   \n",
       "1  PAT McGRATH LABS - Skin Fetish: Sublime Perfec...           False  False   \n",
       "2  FENTY BEAUTY by Rihanna - Pro Filt'r Soft Matt...           False  False   \n",
       "3                MILK MAKEUP - Flex Foundation Stick           False  False   \n",
       "4  Estée Lauder - Double Wear Stay-in-Place Found...           False  False   \n",
       "\n",
       "   isBest  isFirstAccess  isLimitedEdition  isLimitedTimeOffer  isNatural  \\\n",
       "0   False          False             False               False      False   \n",
       "1   False          False             False               False      False   \n",
       "2   False          False             False               False      False   \n",
       "3   False          False             False               False      False   \n",
       "4   False          False             False               False      False   \n",
       "\n",
       "   isNew  isOnlineOnly  isOrganic  isSephoraExclusive listPrice salePrice  \\\n",
       "0   True          True      False                True    $35.00       NaN   \n",
       "1   True         False      False                True    $68.00       NaN   \n",
       "2  False         False      False                True    $35.00       NaN   \n",
       "3   True         False      False                True    $36.00       NaN   \n",
       "4  False         False      False               False    $43.00       NaN   \n",
       "\n",
       "     skuId   skuType valuePrice review_count  \n",
       "0  2268274  Standard        NaN            4  \n",
       "1  2257111  Standard        NaN          174  \n",
       "2  2164671  Standard        NaN         2849  \n",
       "3  2242105  Standard        NaN           71  \n",
       "4  2112167  Standard        NaN         1072  "
      ]
     },
     "execution_count": 91,
     "metadata": {},
     "output_type": "execute_result"
    }
   ],
   "source": [
    "df_products.head()"
   ]
  },
  {
   "cell_type": "code",
   "execution_count": 211,
   "metadata": {},
   "outputs": [
    {
     "data": {
      "text/html": [
       "<div>\n",
       "<style scoped>\n",
       "    .dataframe tbody tr th:only-of-type {\n",
       "        vertical-align: middle;\n",
       "    }\n",
       "\n",
       "    .dataframe tbody tr th {\n",
       "        vertical-align: top;\n",
       "    }\n",
       "\n",
       "    .dataframe thead th {\n",
       "        text-align: right;\n",
       "    }\n",
       "</style>\n",
       "<table border=\"1\" class=\"dataframe\">\n",
       "  <thead>\n",
       "    <tr style=\"text-align: right;\">\n",
       "      <th></th>\n",
       "      <th>age_range</th>\n",
       "      <th>eye_color</th>\n",
       "      <th>product_id</th>\n",
       "      <th>rating</th>\n",
       "      <th>review</th>\n",
       "      <th>skin_tone</th>\n",
       "      <th>skin_type</th>\n",
       "      <th>title</th>\n",
       "      <th>user</th>\n",
       "    </tr>\n",
       "  </thead>\n",
       "  <tbody>\n",
       "    <tr>\n",
       "      <th>0</th>\n",
       "      <td>NaN</td>\n",
       "      <td>Brown</td>\n",
       "      <td>2268274</td>\n",
       "      <td>5</td>\n",
       "      <td>WOW! I love this foundation, and the packaging...</td>\n",
       "      <td>Olive</td>\n",
       "      <td>Combination</td>\n",
       "      <td>Love this foundation in addition to the soft m...</td>\n",
       "      <td>TyraFox</td>\n",
       "    </tr>\n",
       "    <tr>\n",
       "      <th>1</th>\n",
       "      <td>NaN</td>\n",
       "      <td>Brown</td>\n",
       "      <td>2268274</td>\n",
       "      <td>5</td>\n",
       "      <td>I mean do you really have to know that she did...</td>\n",
       "      <td>Deep</td>\n",
       "      <td>Normal</td>\n",
       "      <td>And ANOTHER!</td>\n",
       "      <td>KendraAb</td>\n",
       "    </tr>\n",
       "    <tr>\n",
       "      <th>2</th>\n",
       "      <td>NaN</td>\n",
       "      <td>Brown</td>\n",
       "      <td>2268274</td>\n",
       "      <td>5</td>\n",
       "      <td>So i normally use the matte Fenty Matte Founda...</td>\n",
       "      <td>Deep</td>\n",
       "      <td>Combination</td>\n",
       "      <td>Food For Your Skin</td>\n",
       "      <td>UGBASTIAN89</td>\n",
       "    </tr>\n",
       "    <tr>\n",
       "      <th>3</th>\n",
       "      <td>NaN</td>\n",
       "      <td>Brown</td>\n",
       "      <td>2268274</td>\n",
       "      <td>5</td>\n",
       "      <td>A natural finish and at the same time gives co...</td>\n",
       "      <td>NaN</td>\n",
       "      <td>Oily</td>\n",
       "      <td>Feels airy and fresh with natural coverage</td>\n",
       "      <td>veens</td>\n",
       "    </tr>\n",
       "    <tr>\n",
       "      <th>4</th>\n",
       "      <td>18-24</td>\n",
       "      <td>Brown</td>\n",
       "      <td>2268274</td>\n",
       "      <td>4</td>\n",
       "      <td>Uh, at first I wanted to rate this a tad bit l...</td>\n",
       "      <td>Dark</td>\n",
       "      <td>Combination</td>\n",
       "      <td>Oh man...</td>\n",
       "      <td>KhrisGal</td>\n",
       "    </tr>\n",
       "  </tbody>\n",
       "</table>\n",
       "</div>"
      ],
      "text/plain": [
       "  age_range eye_color  product_id  rating  \\\n",
       "0       NaN     Brown     2268274       5   \n",
       "1       NaN     Brown     2268274       5   \n",
       "2       NaN     Brown     2268274       5   \n",
       "3       NaN     Brown     2268274       5   \n",
       "4     18-24     Brown     2268274       4   \n",
       "\n",
       "                                              review skin_tone    skin_type  \\\n",
       "0  WOW! I love this foundation, and the packaging...     Olive  Combination   \n",
       "1  I mean do you really have to know that she did...      Deep       Normal   \n",
       "2  So i normally use the matte Fenty Matte Founda...      Deep  Combination   \n",
       "3  A natural finish and at the same time gives co...       NaN         Oily   \n",
       "4  Uh, at first I wanted to rate this a tad bit l...      Dark  Combination   \n",
       "\n",
       "                                               title          user  \n",
       "0  Love this foundation in addition to the soft m...      TyraFox   \n",
       "1                                       And ANOTHER!     KendraAb   \n",
       "2                                 Food For Your Skin  UGBASTIAN89   \n",
       "3         Feels airy and fresh with natural coverage        veens   \n",
       "4                                          Oh man...     KhrisGal   "
      ]
     },
     "execution_count": 211,
     "metadata": {},
     "output_type": "execute_result"
    }
   ],
   "source": [
    "df_reviews.head()"
   ]
  },
  {
   "cell_type": "code",
   "execution_count": 8,
   "metadata": {},
   "outputs": [
    {
     "data": {
      "text/html": [
       "<div>\n",
       "<style scoped>\n",
       "    .dataframe tbody tr th:only-of-type {\n",
       "        vertical-align: middle;\n",
       "    }\n",
       "\n",
       "    .dataframe tbody tr th {\n",
       "        vertical-align: top;\n",
       "    }\n",
       "\n",
       "    .dataframe thead th {\n",
       "        text-align: right;\n",
       "    }\n",
       "</style>\n",
       "<table border=\"1\" class=\"dataframe\">\n",
       "  <thead>\n",
       "    <tr style=\"text-align: right;\">\n",
       "      <th></th>\n",
       "      <th>1 star</th>\n",
       "      <th>2 stars</th>\n",
       "      <th>3 stars</th>\n",
       "      <th>4 stars</th>\n",
       "      <th>5 stars</th>\n",
       "      <th>avg_rating</th>\n",
       "      <th>product_id</th>\n",
       "      <th>review_count</th>\n",
       "    </tr>\n",
       "  </thead>\n",
       "  <tbody>\n",
       "    <tr>\n",
       "      <th>0</th>\n",
       "      <td>0</td>\n",
       "      <td>0</td>\n",
       "      <td>0</td>\n",
       "      <td>5</td>\n",
       "      <td>10</td>\n",
       "      <td>4.7</td>\n",
       "      <td>2268274</td>\n",
       "      <td>15 reviews</td>\n",
       "    </tr>\n",
       "    <tr>\n",
       "      <th>1</th>\n",
       "      <td>28</td>\n",
       "      <td>34</td>\n",
       "      <td>53</td>\n",
       "      <td>210</td>\n",
       "      <td>535</td>\n",
       "      <td>4.4</td>\n",
       "      <td>2257111</td>\n",
       "      <td>860 reviews</td>\n",
       "    </tr>\n",
       "    <tr>\n",
       "      <th>2</th>\n",
       "      <td>1,139</td>\n",
       "      <td>1,279</td>\n",
       "      <td>1,324</td>\n",
       "      <td>2,145</td>\n",
       "      <td>8,373</td>\n",
       "      <td>4.1</td>\n",
       "      <td>2164671</td>\n",
       "      <td>14,260 reviews</td>\n",
       "    </tr>\n",
       "    <tr>\n",
       "      <th>3</th>\n",
       "      <td>0</td>\n",
       "      <td>9</td>\n",
       "      <td>21</td>\n",
       "      <td>106</td>\n",
       "      <td>207</td>\n",
       "      <td>4.5</td>\n",
       "      <td>2242105</td>\n",
       "      <td>343 reviews</td>\n",
       "    </tr>\n",
       "    <tr>\n",
       "      <th>4</th>\n",
       "      <td>213</td>\n",
       "      <td>257</td>\n",
       "      <td>299</td>\n",
       "      <td>836</td>\n",
       "      <td>3,758</td>\n",
       "      <td>4.4</td>\n",
       "      <td>2112167</td>\n",
       "      <td>5,363 reviews</td>\n",
       "    </tr>\n",
       "  </tbody>\n",
       "</table>\n",
       "</div>"
      ],
      "text/plain": [
       "  1 star 2 stars 3 stars 4 stars 5 stars  avg_rating  product_id  \\\n",
       "0      0       0       0       5      10         4.7     2268274   \n",
       "1     28      34      53     210     535         4.4     2257111   \n",
       "2  1,139   1,279   1,324   2,145   8,373         4.1     2164671   \n",
       "3      0       9      21     106     207         4.5     2242105   \n",
       "4    213     257     299     836   3,758         4.4     2112167   \n",
       "\n",
       "     review_count  \n",
       "0      15 reviews  \n",
       "1     860 reviews  \n",
       "2  14,260 reviews  \n",
       "3     343 reviews  \n",
       "4   5,363 reviews  "
      ]
     },
     "execution_count": 8,
     "metadata": {},
     "output_type": "execute_result"
    }
   ],
   "source": [
    "df_ratings.head()"
   ]
  },
  {
   "cell_type": "code",
   "execution_count": 212,
   "metadata": {},
   "outputs": [
    {
     "data": {
      "text/html": [
       "<div>\n",
       "<style scoped>\n",
       "    .dataframe tbody tr th:only-of-type {\n",
       "        vertical-align: middle;\n",
       "    }\n",
       "\n",
       "    .dataframe tbody tr th {\n",
       "        vertical-align: top;\n",
       "    }\n",
       "\n",
       "    .dataframe thead th {\n",
       "        text-align: right;\n",
       "    }\n",
       "</style>\n",
       "<table border=\"1\" class=\"dataframe\">\n",
       "  <thead>\n",
       "    <tr style=\"text-align: right;\">\n",
       "      <th></th>\n",
       "      <th>key_word</th>\n",
       "      <th>key_word_count</th>\n",
       "      <th>product_id</th>\n",
       "    </tr>\n",
       "  </thead>\n",
       "  <tbody>\n",
       "    <tr>\n",
       "      <th>0</th>\n",
       "      <td>long wearing</td>\n",
       "      <td>(1,165)</td>\n",
       "      <td>2112167</td>\n",
       "    </tr>\n",
       "    <tr>\n",
       "      <th>1</th>\n",
       "      <td>buildable coverage</td>\n",
       "      <td>(905)</td>\n",
       "      <td>2112167</td>\n",
       "    </tr>\n",
       "    <tr>\n",
       "      <th>2</th>\n",
       "      <td>oil-free</td>\n",
       "      <td>(608)</td>\n",
       "      <td>2112167</td>\n",
       "    </tr>\n",
       "    <tr>\n",
       "      <th>3</th>\n",
       "      <td>full coverage</td>\n",
       "      <td>(77)</td>\n",
       "      <td>2112167</td>\n",
       "    </tr>\n",
       "    <tr>\n",
       "      <th>4</th>\n",
       "      <td>cakey</td>\n",
       "      <td>(26)</td>\n",
       "      <td>2112167</td>\n",
       "    </tr>\n",
       "  </tbody>\n",
       "</table>\n",
       "</div>"
      ],
      "text/plain": [
       "             key_word key_word_count  product_id\n",
       "0        long wearing        (1,165)     2112167\n",
       "1  buildable coverage          (905)     2112167\n",
       "2            oil-free          (608)     2112167\n",
       "3       full coverage           (77)     2112167\n",
       "4               cakey           (26)     2112167"
      ]
     },
     "execution_count": 212,
     "metadata": {},
     "output_type": "execute_result"
    }
   ],
   "source": [
    "df_summaries.head()"
   ]
  },
  {
   "cell_type": "markdown",
   "metadata": {},
   "source": [
    "## Products DataFrame"
   ]
  },
  {
   "cell_type": "code",
   "execution_count": 96,
   "metadata": {},
   "outputs": [],
   "source": [
    "# Take the highest list price \n",
    "# Different prices for list price denote sizes. We want full size prices\n",
    "df_products['listPrice'] = df_products['listPrice'].map(lambda x: float(x.split()[-1][1:]))"
   ]
  },
  {
   "cell_type": "code",
   "execution_count": 115,
   "metadata": {},
   "outputs": [],
   "source": [
    "# If there is a value for sale price it denotes that the item is in fact on sale\n",
    "# Create a target column. 0 if not on sale, 1 for on sale\n",
    "df_products['target'] = df_products['salePrice'].fillna(0).map(lambda x: 0 if x == 0 else 1)"
   ]
  },
  {
   "cell_type": "code",
   "execution_count": 121,
   "metadata": {},
   "outputs": [],
   "source": [
    "# Take the higher value for sales prices \n",
    "# Convert NaNs to zeroes\n",
    "# Zeroes indicate item is not on sale \n",
    "df_products['salePrice'] = df_products['salePrice'].fillna(0).map(lambda x: 0 if x == 0 else float(x.split()[-1][1:]))"
   ]
  },
  {
   "cell_type": "code",
   "execution_count": 122,
   "metadata": {},
   "outputs": [
    {
     "data": {
      "text/plain": [
       "biExclusiveLevel         0\n",
       "brand_name               0\n",
       "category                 0\n",
       "imageAltText             0\n",
       "isAppExclusive           0\n",
       "isBI                     0\n",
       "isBest                   0\n",
       "isFirstAccess            0\n",
       "isLimitedEdition         0\n",
       "isLimitedTimeOffer       0\n",
       "isNatural                0\n",
       "isNew                    0\n",
       "isOnlineOnly             0\n",
       "isOrganic                0\n",
       "isSephoraExclusive       0\n",
       "listPrice                0\n",
       "salePrice                0\n",
       "skuId                    0\n",
       "skuType                  0\n",
       "valuePrice            3313\n",
       "review_count             0\n",
       "target                   0\n",
       "dtype: int64"
      ]
     },
     "execution_count": 122,
     "metadata": {},
     "output_type": "execute_result"
    }
   ],
   "source": [
    "# Check for nulls\n",
    "df_products.isnull().sum()"
   ]
  },
  {
   "cell_type": "code",
   "execution_count": 132,
   "metadata": {},
   "outputs": [],
   "source": [
    "# Input 1 for the review count if it is an empty list. From the data scraping, if there are no reviews\n",
    "# an empty list was returned. \n",
    "df_products['review_count'] = df_products['review_count'].map(lambda x: 1 if x == '[]' else x)"
   ]
  },
  {
   "cell_type": "code",
   "execution_count": 125,
   "metadata": {},
   "outputs": [],
   "source": [
    "# Clean category column \n",
    "df_products['category'] = df_products['category'].map(lambda x: x.split('/')[-1])"
   ]
  },
  {
   "cell_type": "markdown",
   "metadata": {},
   "source": [
    "Below, we are checking to see the values in each column"
   ]
  },
  {
   "cell_type": "code",
   "execution_count": 136,
   "metadata": {},
   "outputs": [
    {
     "data": {
      "text/plain": [
       "none    3534\n",
       "Name: biExclusiveLevel, dtype: int64"
      ]
     },
     "execution_count": 136,
     "metadata": {},
     "output_type": "execute_result"
    }
   ],
   "source": [
    "df_products['biExclusiveLevel'].value_counts()"
   ]
  },
  {
   "cell_type": "code",
   "execution_count": 138,
   "metadata": {},
   "outputs": [
    {
     "data": {
      "text/plain": [
       "False    3534\n",
       "Name: isAppExclusive, dtype: int64"
      ]
     },
     "execution_count": 138,
     "metadata": {},
     "output_type": "execute_result"
    }
   ],
   "source": [
    "df_products['isAppExclusive'].value_counts()"
   ]
  },
  {
   "cell_type": "code",
   "execution_count": 139,
   "metadata": {},
   "outputs": [
    {
     "data": {
      "text/plain": [
       "False    3534\n",
       "Name: isBI, dtype: int64"
      ]
     },
     "execution_count": 139,
     "metadata": {},
     "output_type": "execute_result"
    }
   ],
   "source": [
    "df_products['isBI'].value_counts()"
   ]
  },
  {
   "cell_type": "code",
   "execution_count": 140,
   "metadata": {},
   "outputs": [
    {
     "data": {
      "text/plain": [
       "False    3534\n",
       "Name: isBest, dtype: int64"
      ]
     },
     "execution_count": 140,
     "metadata": {},
     "output_type": "execute_result"
    }
   ],
   "source": [
    "df_products['isBest'].value_counts()"
   ]
  },
  {
   "cell_type": "code",
   "execution_count": 141,
   "metadata": {},
   "outputs": [
    {
     "data": {
      "text/plain": [
       "False    3534\n",
       "Name: isFirstAccess, dtype: int64"
      ]
     },
     "execution_count": 141,
     "metadata": {},
     "output_type": "execute_result"
    }
   ],
   "source": [
    "df_products['isFirstAccess'].value_counts()"
   ]
  },
  {
   "cell_type": "code",
   "execution_count": 142,
   "metadata": {},
   "outputs": [
    {
     "data": {
      "text/plain": [
       "False    2992\n",
       "True      542\n",
       "Name: isLimitedEdition, dtype: int64"
      ]
     },
     "execution_count": 142,
     "metadata": {},
     "output_type": "execute_result"
    }
   ],
   "source": [
    "df_products['isLimitedEdition'].value_counts()"
   ]
  },
  {
   "cell_type": "code",
   "execution_count": 143,
   "metadata": {},
   "outputs": [
    {
     "data": {
      "text/plain": [
       "False    3529\n",
       "True        5\n",
       "Name: isLimitedTimeOffer, dtype: int64"
      ]
     },
     "execution_count": 143,
     "metadata": {},
     "output_type": "execute_result"
    }
   ],
   "source": [
    "df_products['isLimitedTimeOffer'].value_counts()"
   ]
  },
  {
   "cell_type": "code",
   "execution_count": 144,
   "metadata": {},
   "outputs": [
    {
     "data": {
      "text/plain": [
       "False    3534\n",
       "Name: isNatural, dtype: int64"
      ]
     },
     "execution_count": 144,
     "metadata": {},
     "output_type": "execute_result"
    }
   ],
   "source": [
    "df_products['isNatural'].value_counts()"
   ]
  },
  {
   "cell_type": "code",
   "execution_count": 145,
   "metadata": {},
   "outputs": [
    {
     "data": {
      "text/plain": [
       "False    3534\n",
       "Name: isOrganic, dtype: int64"
      ]
     },
     "execution_count": 145,
     "metadata": {},
     "output_type": "execute_result"
    }
   ],
   "source": [
    "df_products['isOrganic'].value_counts()"
   ]
  },
  {
   "cell_type": "code",
   "execution_count": 146,
   "metadata": {},
   "outputs": [
    {
     "data": {
      "text/plain": [
       "False    3096\n",
       "True      438\n",
       "Name: isOnlineOnly, dtype: int64"
      ]
     },
     "execution_count": 146,
     "metadata": {},
     "output_type": "execute_result"
    }
   ],
   "source": [
    "df_products['isOnlineOnly'].value_counts()"
   ]
  },
  {
   "cell_type": "markdown",
   "metadata": {},
   "source": [
    "From the columns above, we want to drop all columns that only had 'False' values."
   ]
  },
  {
   "cell_type": "code",
   "execution_count": 148,
   "metadata": {},
   "outputs": [],
   "source": [
    "df_products.drop(columns = ['isOrganic', 'isNatural', 'isLimitedTimeOffer', 'isFirstAccess', \n",
    "                            'isBest', 'isBI', 'isAppExclusive', 'biExclusiveLevel'], inplace = True)"
   ]
  },
  {
   "cell_type": "code",
   "execution_count": 354,
   "metadata": {},
   "outputs": [],
   "source": [
    "# Save as CSV\n",
    "df_products.to_csv('df_products_clean.csv', index = False)"
   ]
  },
  {
   "cell_type": "markdown",
   "metadata": {},
   "source": [
    "## Reviews DataFrame"
   ]
  },
  {
   "cell_type": "code",
   "execution_count": 223,
   "metadata": {},
   "outputs": [
    {
     "data": {
      "text/plain": [
       "age_range     0.843069\n",
       "eye_color     0.055909\n",
       "product_id    0.000000\n",
       "rating        0.000000\n",
       "review        0.000000\n",
       "skin_tone     0.174619\n",
       "skin_type     0.050141\n",
       "title         0.292831\n",
       "user          0.000000\n",
       "dtype: float64"
      ]
     },
     "execution_count": 223,
     "metadata": {},
     "output_type": "execute_result"
    }
   ],
   "source": [
    "# % of variables that are null\n",
    "df_reviews.isnull().sum() / 62244"
   ]
  },
  {
   "cell_type": "markdown",
   "metadata": {},
   "source": [
    "Although having age_range would be a good feature, because of the high percentage of nulls it is not a viable feature to have. It would be extremely hard to make educated guesses about age with the given data set and therefore not recommended to impute variables for the null age_ranges"
   ]
  },
  {
   "cell_type": "markdown",
   "metadata": {},
   "source": [
    "Create the target variable in the reviews dataframe"
   ]
  },
  {
   "cell_type": "code",
   "execution_count": 255,
   "metadata": {},
   "outputs": [],
   "source": [
    "df_reviews['target'] = df_reviews['product_id'].isin(sale_prod['skuId'])"
   ]
  },
  {
   "cell_type": "code",
   "execution_count": 258,
   "metadata": {},
   "outputs": [],
   "source": [
    "df_reviews['target'] = df_reviews['target'].map(lambda x: 1 if x == True else 0)"
   ]
  },
  {
   "cell_type": "code",
   "execution_count": 263,
   "metadata": {},
   "outputs": [
    {
     "data": {
      "text/plain": [
       "0    0.951642\n",
       "1    0.048358\n",
       "Name: target, dtype: float64"
      ]
     },
     "execution_count": 263,
     "metadata": {},
     "output_type": "execute_result"
    }
   ],
   "source": [
    "df_reviews['target'].value_counts()/len(df_reviews['target'])"
   ]
  },
  {
   "cell_type": "markdown",
   "metadata": {},
   "source": [
    "Close to the same distribution of target variables in the review and total product dataset"
   ]
  },
  {
   "cell_type": "code",
   "execution_count": 6,
   "metadata": {},
   "outputs": [
    {
     "data": {
      "text/plain": [
       "Combination    0.540775\n",
       "Dry            0.187070\n",
       "Normal         0.153059\n",
       "Oily           0.119096\n",
       "Name: skin_type, dtype: float64"
      ]
     },
     "execution_count": 6,
     "metadata": {},
     "output_type": "execute_result"
    }
   ],
   "source": [
    "df_reviews['skin_type'].value_counts(normalize = True)"
   ]
  },
  {
   "cell_type": "code",
   "execution_count": 270,
   "metadata": {},
   "outputs": [],
   "source": [
    "# Impute Combination for null values in skin type\n",
    "df_reviews['skin_type'].fillna(value = 'Combination', inplace = True)"
   ]
  },
  {
   "cell_type": "code",
   "execution_count": 273,
   "metadata": {},
   "outputs": [
    {
     "data": {
      "text/plain": [
       "Brown    0.475387\n",
       "Blue     0.186974\n",
       "Green    0.139130\n",
       "Hazel    0.134937\n",
       "Gray     0.007663\n",
       "Name: eye_color, dtype: float64"
      ]
     },
     "execution_count": 273,
     "metadata": {},
     "output_type": "execute_result"
    }
   ],
   "source": [
    "# Greater number of people with brown eyes in general \n",
    "# Will impute brown for eye color \n",
    "df_reviews['eye_color'].value_counts(normalize = True)"
   ]
  },
  {
   "cell_type": "code",
   "execution_count": 274,
   "metadata": {},
   "outputs": [],
   "source": [
    "df_reviews['eye_color'].fillna(value = 'Brown', inplace = True)"
   ]
  },
  {
   "cell_type": "code",
   "execution_count": 276,
   "metadata": {},
   "outputs": [
    {
     "data": {
      "text/plain": [
       "Light     0.280782\n",
       "Fair      0.215603\n",
       "Medium    0.204630\n",
       "Olive     0.071782\n",
       "Deep      0.032806\n",
       "Dark      0.019777\n",
       "Name: skin_tone, dtype: float64"
      ]
     },
     "execution_count": 276,
     "metadata": {},
     "output_type": "execute_result"
    }
   ],
   "source": [
    "df_reviews['skin_tone'].value_counts(normalize = True)"
   ]
  },
  {
   "cell_type": "markdown",
   "metadata": {},
   "source": [
    "When creating the dummy variables, will just have 0 for null values and a column to flag that zeroes were imputed for null values."
   ]
  },
  {
   "cell_type": "code",
   "execution_count": 355,
   "metadata": {},
   "outputs": [],
   "source": [
    "# Save as CSV\n",
    "df_reviews.to_csv('df_reviews_clean.csv', index = False)"
   ]
  },
  {
   "cell_type": "markdown",
   "metadata": {},
   "source": [
    "## Summaries DataFrame"
   ]
  },
  {
   "cell_type": "code",
   "execution_count": 279,
   "metadata": {},
   "outputs": [],
   "source": [
    "# Transform word count as an integer\n",
    "df_summaries['key_word_count'] = df_summaries['key_word_count'].map(lambda x: int(x[1:-1].replace(',', '')))"
   ]
  },
  {
   "cell_type": "code",
   "execution_count": 302,
   "metadata": {},
   "outputs": [],
   "source": [
    "# Lemmatize words instead of Stemming. Stemming removes too much context in this case\n",
    "# Remove punctuation and hashtags \n",
    "lemmatizer = WordNetLemmatizer()\n",
    "df_summaries['key_word'] = df_summaries['key_word'].apply(lambda x: \n",
    "                               re.sub('[^a-zA-Z\\s]', \"\", \n",
    "                                      \" \".join([lemmatizer.lemmatize(word) for word in str(x).split()])).strip())\n"
   ]
  },
  {
   "cell_type": "code",
   "execution_count": 303,
   "metadata": {},
   "outputs": [],
   "source": [
    "# transposing rows to columns to have key words as features\n",
    "# Similar to count vectorizing \n",
    "df_sum_pivot = df_summaries.pivot_table(index = 'product_id', columns = 'key_word', values = 'key_word_count')"
   ]
  },
  {
   "cell_type": "code",
   "execution_count": 304,
   "metadata": {},
   "outputs": [],
   "source": [
    "# Fill nulls with 0 \n",
    "df_sum_pivot.fillna(0, inplace = True)"
   ]
  },
  {
   "cell_type": "code",
   "execution_count": 311,
   "metadata": {},
   "outputs": [
    {
     "data": {
      "text/plain": [
       "56.0"
      ]
     },
     "execution_count": 311,
     "metadata": {},
     "output_type": "execute_result"
    }
   ],
   "source": [
    "# Not necessary to keep all key words, especially those that only appear once \n",
    "# Using percentiles, decide keywords to keep above that threshold \n",
    "np.percentile(df_sum_pivot.sum(axis = 0).sort_values(ascending = False), 95)"
   ]
  },
  {
   "cell_type": "code",
   "execution_count": 321,
   "metadata": {},
   "outputs": [],
   "source": [
    "# Using 95th percentile, keeping only features that appear more than 56 times throughout \n",
    "# Create a list of key words to drop \n",
    "words = []\n",
    "for i, key in enumerate(df_sum_pivot.columns):\n",
    "    if i not in np.where(df_sum_pivot.sum(axis = 0) > 56)[0]:\n",
    "        words.append(key)"
   ]
  },
  {
   "cell_type": "code",
   "execution_count": 325,
   "metadata": {},
   "outputs": [],
   "source": [
    "# Drop words that do not meet that 95% threshold \n",
    "df_sum_pivot.drop(columns = words, inplace = True)"
   ]
  },
  {
   "cell_type": "code",
   "execution_count": 326,
   "metadata": {},
   "outputs": [
    {
     "data": {
      "text/plain": [
       "Int64Index([  51532,   51573,   51904,   52852,   54312,   55780,   71571,\n",
       "             108779,  108829,  135558,\n",
       "            ...\n",
       "            2229870, 2230274, 2234730, 2241719, 2241883, 2244002, 2246726,\n",
       "            2247922, 2252096, 2258473],\n",
       "           dtype='int64', name='product_id', length=904)"
      ]
     },
     "execution_count": 326,
     "metadata": {},
     "output_type": "execute_result"
    }
   ],
   "source": [
    "df_sum_pivot.index"
   ]
  },
  {
   "cell_type": "code",
   "execution_count": 327,
   "metadata": {},
   "outputs": [],
   "source": [
    "# Create target column\n",
    "df_sum_pivot['target'] = df_sum_pivot.index.isin(sale_prod['skuId'])"
   ]
  },
  {
   "cell_type": "code",
   "execution_count": 329,
   "metadata": {},
   "outputs": [
    {
     "data": {
      "text/plain": [
       "False    860\n",
       "True      44\n",
       "Name: target, dtype: int64"
      ]
     },
     "execution_count": 329,
     "metadata": {},
     "output_type": "execute_result"
    }
   ],
   "source": [
    "df_sum_pivot['target'].value_counts()"
   ]
  },
  {
   "cell_type": "code",
   "execution_count": 330,
   "metadata": {},
   "outputs": [],
   "source": [
    "# Binarize target column\n",
    "df_sum_pivot['target'] = df_sum_pivot['target'].map(lambda x: 1 if x == True else 0)"
   ]
  },
  {
   "cell_type": "code",
   "execution_count": 360,
   "metadata": {},
   "outputs": [],
   "source": [
    "# Save as CSV\n",
    "df_sum_pivot.to_csv('df_summaries_clean.csv', index = True)"
   ]
  },
  {
   "cell_type": "markdown",
   "metadata": {},
   "source": [
    "## Aggregate Ratings DataFrame"
   ]
  },
  {
   "cell_type": "code",
   "execution_count": 331,
   "metadata": {},
   "outputs": [
    {
     "data": {
      "text/html": [
       "<div>\n",
       "<style scoped>\n",
       "    .dataframe tbody tr th:only-of-type {\n",
       "        vertical-align: middle;\n",
       "    }\n",
       "\n",
       "    .dataframe tbody tr th {\n",
       "        vertical-align: top;\n",
       "    }\n",
       "\n",
       "    .dataframe thead th {\n",
       "        text-align: right;\n",
       "    }\n",
       "</style>\n",
       "<table border=\"1\" class=\"dataframe\">\n",
       "  <thead>\n",
       "    <tr style=\"text-align: right;\">\n",
       "      <th></th>\n",
       "      <th>1 star</th>\n",
       "      <th>2 stars</th>\n",
       "      <th>3 stars</th>\n",
       "      <th>4 stars</th>\n",
       "      <th>5 stars</th>\n",
       "      <th>avg_rating</th>\n",
       "      <th>product_id</th>\n",
       "      <th>review_count</th>\n",
       "    </tr>\n",
       "  </thead>\n",
       "  <tbody>\n",
       "    <tr>\n",
       "      <th>0</th>\n",
       "      <td>0</td>\n",
       "      <td>0</td>\n",
       "      <td>0</td>\n",
       "      <td>5</td>\n",
       "      <td>11</td>\n",
       "      <td>4.7</td>\n",
       "      <td>2268274</td>\n",
       "      <td>16 reviews</td>\n",
       "    </tr>\n",
       "    <tr>\n",
       "      <th>1</th>\n",
       "      <td>28</td>\n",
       "      <td>35</td>\n",
       "      <td>57</td>\n",
       "      <td>212</td>\n",
       "      <td>548</td>\n",
       "      <td>4.4</td>\n",
       "      <td>2257111</td>\n",
       "      <td>880 reviews</td>\n",
       "    </tr>\n",
       "    <tr>\n",
       "      <th>2</th>\n",
       "      <td>1,139</td>\n",
       "      <td>1,279</td>\n",
       "      <td>1,324</td>\n",
       "      <td>2,149</td>\n",
       "      <td>8,379</td>\n",
       "      <td>4.1</td>\n",
       "      <td>2164671</td>\n",
       "      <td>14,270 reviews</td>\n",
       "    </tr>\n",
       "    <tr>\n",
       "      <th>3</th>\n",
       "      <td>1</td>\n",
       "      <td>10</td>\n",
       "      <td>23</td>\n",
       "      <td>115</td>\n",
       "      <td>214</td>\n",
       "      <td>4.5</td>\n",
       "      <td>2242105</td>\n",
       "      <td>363 reviews</td>\n",
       "    </tr>\n",
       "    <tr>\n",
       "      <th>4</th>\n",
       "      <td>213</td>\n",
       "      <td>258</td>\n",
       "      <td>299</td>\n",
       "      <td>837</td>\n",
       "      <td>3,758</td>\n",
       "      <td>4.4</td>\n",
       "      <td>2112167</td>\n",
       "      <td>5,365 reviews</td>\n",
       "    </tr>\n",
       "  </tbody>\n",
       "</table>\n",
       "</div>"
      ],
      "text/plain": [
       "  1 star 2 stars 3 stars 4 stars 5 stars  avg_rating  product_id  \\\n",
       "0      0       0       0       5      11         4.7     2268274   \n",
       "1     28      35      57     212     548         4.4     2257111   \n",
       "2  1,139   1,279   1,324   2,149   8,379         4.1     2164671   \n",
       "3      1      10      23     115     214         4.5     2242105   \n",
       "4    213     258     299     837   3,758         4.4     2112167   \n",
       "\n",
       "     review_count  \n",
       "0      16 reviews  \n",
       "1     880 reviews  \n",
       "2  14,270 reviews  \n",
       "3     363 reviews  \n",
       "4   5,365 reviews  "
      ]
     },
     "execution_count": 331,
     "metadata": {},
     "output_type": "execute_result"
    }
   ],
   "source": [
    "df_ratings.head()"
   ]
  },
  {
   "cell_type": "code",
   "execution_count": 335,
   "metadata": {},
   "outputs": [
    {
     "data": {
      "text/plain": [
       "1 star           object\n",
       "2 stars          object\n",
       "3 stars          object\n",
       "4 stars          object\n",
       "5 stars          object\n",
       "avg_rating      float64\n",
       "product_id        int64\n",
       "review_count      int64\n",
       "dtype: object"
      ]
     },
     "execution_count": 335,
     "metadata": {},
     "output_type": "execute_result"
    }
   ],
   "source": [
    "# Check data types \n",
    "df_ratings.dtypes"
   ]
  },
  {
   "cell_type": "code",
   "execution_count": 332,
   "metadata": {},
   "outputs": [
    {
     "data": {
      "text/plain": [
       "(2283, 8)"
      ]
     },
     "execution_count": 332,
     "metadata": {},
     "output_type": "execute_result"
    }
   ],
   "source": [
    "df_ratings.shape"
   ]
  },
  {
   "cell_type": "code",
   "execution_count": 334,
   "metadata": {},
   "outputs": [],
   "source": [
    "# Change review_count to integer \n",
    "df_ratings['review_count'] = df_ratings['review_count'].map(lambda x: int(x.split()[0].replace(',', \"\")))"
   ]
  },
  {
   "cell_type": "code",
   "execution_count": 341,
   "metadata": {},
   "outputs": [],
   "source": [
    "# Change values to integer for all columns\n",
    "for col in ['1 star', '2 stars', '3 stars', '4 stars', '5 stars']:\n",
    "    df_ratings[col] = df_ratings[col].map(lambda x: int(x.replace(',',\"\")))"
   ]
  },
  {
   "cell_type": "code",
   "execution_count": 343,
   "metadata": {},
   "outputs": [
    {
     "data": {
      "text/plain": [
       "1 star            int64\n",
       "2 stars           int64\n",
       "3 stars           int64\n",
       "4 stars           int64\n",
       "5 stars           int64\n",
       "avg_rating      float64\n",
       "product_id        int64\n",
       "review_count      int64\n",
       "dtype: object"
      ]
     },
     "execution_count": 343,
     "metadata": {},
     "output_type": "execute_result"
    }
   ],
   "source": [
    "df_ratings.dtypes"
   ]
  },
  {
   "cell_type": "code",
   "execution_count": 344,
   "metadata": {},
   "outputs": [
    {
     "data": {
      "text/html": [
       "<div>\n",
       "<style scoped>\n",
       "    .dataframe tbody tr th:only-of-type {\n",
       "        vertical-align: middle;\n",
       "    }\n",
       "\n",
       "    .dataframe tbody tr th {\n",
       "        vertical-align: top;\n",
       "    }\n",
       "\n",
       "    .dataframe thead th {\n",
       "        text-align: right;\n",
       "    }\n",
       "</style>\n",
       "<table border=\"1\" class=\"dataframe\">\n",
       "  <thead>\n",
       "    <tr style=\"text-align: right;\">\n",
       "      <th></th>\n",
       "      <th>1 star</th>\n",
       "      <th>2 stars</th>\n",
       "      <th>3 stars</th>\n",
       "      <th>4 stars</th>\n",
       "      <th>5 stars</th>\n",
       "      <th>avg_rating</th>\n",
       "      <th>product_id</th>\n",
       "      <th>review_count</th>\n",
       "    </tr>\n",
       "  </thead>\n",
       "  <tbody>\n",
       "    <tr>\n",
       "      <th>count</th>\n",
       "      <td>2283.000000</td>\n",
       "      <td>2283.000000</td>\n",
       "      <td>2283.000000</td>\n",
       "      <td>2283.000000</td>\n",
       "      <td>2283.000000</td>\n",
       "      <td>2283.000000</td>\n",
       "      <td>2.283000e+03</td>\n",
       "      <td>2283.000000</td>\n",
       "    </tr>\n",
       "    <tr>\n",
       "      <th>mean</th>\n",
       "      <td>43.467806</td>\n",
       "      <td>44.772230</td>\n",
       "      <td>60.805957</td>\n",
       "      <td>148.208936</td>\n",
       "      <td>462.505913</td>\n",
       "      <td>4.135742</td>\n",
       "      <td>1.878389e+06</td>\n",
       "      <td>759.760841</td>\n",
       "    </tr>\n",
       "    <tr>\n",
       "      <th>std</th>\n",
       "      <td>110.274918</td>\n",
       "      <td>104.756187</td>\n",
       "      <td>130.873414</td>\n",
       "      <td>316.587582</td>\n",
       "      <td>1119.139899</td>\n",
       "      <td>0.429379</td>\n",
       "      <td>3.618868e+05</td>\n",
       "      <td>1709.417988</td>\n",
       "    </tr>\n",
       "    <tr>\n",
       "      <th>min</th>\n",
       "      <td>0.000000</td>\n",
       "      <td>0.000000</td>\n",
       "      <td>0.000000</td>\n",
       "      <td>0.000000</td>\n",
       "      <td>0.000000</td>\n",
       "      <td>1.700000</td>\n",
       "      <td>5.153200e+04</td>\n",
       "      <td>1.000000</td>\n",
       "    </tr>\n",
       "    <tr>\n",
       "      <th>25%</th>\n",
       "      <td>2.000000</td>\n",
       "      <td>3.000000</td>\n",
       "      <td>4.000000</td>\n",
       "      <td>6.000000</td>\n",
       "      <td>23.000000</td>\n",
       "      <td>3.900000</td>\n",
       "      <td>1.745038e+06</td>\n",
       "      <td>39.500000</td>\n",
       "    </tr>\n",
       "    <tr>\n",
       "      <th>50%</th>\n",
       "      <td>10.000000</td>\n",
       "      <td>11.000000</td>\n",
       "      <td>15.000000</td>\n",
       "      <td>28.000000</td>\n",
       "      <td>93.000000</td>\n",
       "      <td>4.200000</td>\n",
       "      <td>1.967371e+06</td>\n",
       "      <td>162.000000</td>\n",
       "    </tr>\n",
       "    <tr>\n",
       "      <th>75%</th>\n",
       "      <td>38.000000</td>\n",
       "      <td>41.000000</td>\n",
       "      <td>60.000000</td>\n",
       "      <td>144.000000</td>\n",
       "      <td>392.000000</td>\n",
       "      <td>4.400000</td>\n",
       "      <td>2.134216e+06</td>\n",
       "      <td>695.000000</td>\n",
       "    </tr>\n",
       "    <tr>\n",
       "      <th>max</th>\n",
       "      <td>1766.000000</td>\n",
       "      <td>1742.000000</td>\n",
       "      <td>1772.000000</td>\n",
       "      <td>2989.000000</td>\n",
       "      <td>15008.000000</td>\n",
       "      <td>5.000000</td>\n",
       "      <td>2.274298e+06</td>\n",
       "      <td>19413.000000</td>\n",
       "    </tr>\n",
       "  </tbody>\n",
       "</table>\n",
       "</div>"
      ],
      "text/plain": [
       "            1 star      2 stars      3 stars      4 stars       5 stars  \\\n",
       "count  2283.000000  2283.000000  2283.000000  2283.000000   2283.000000   \n",
       "mean     43.467806    44.772230    60.805957   148.208936    462.505913   \n",
       "std     110.274918   104.756187   130.873414   316.587582   1119.139899   \n",
       "min       0.000000     0.000000     0.000000     0.000000      0.000000   \n",
       "25%       2.000000     3.000000     4.000000     6.000000     23.000000   \n",
       "50%      10.000000    11.000000    15.000000    28.000000     93.000000   \n",
       "75%      38.000000    41.000000    60.000000   144.000000    392.000000   \n",
       "max    1766.000000  1742.000000  1772.000000  2989.000000  15008.000000   \n",
       "\n",
       "        avg_rating    product_id  review_count  \n",
       "count  2283.000000  2.283000e+03   2283.000000  \n",
       "mean      4.135742  1.878389e+06    759.760841  \n",
       "std       0.429379  3.618868e+05   1709.417988  \n",
       "min       1.700000  5.153200e+04      1.000000  \n",
       "25%       3.900000  1.745038e+06     39.500000  \n",
       "50%       4.200000  1.967371e+06    162.000000  \n",
       "75%       4.400000  2.134216e+06    695.000000  \n",
       "max       5.000000  2.274298e+06  19413.000000  "
      ]
     },
     "execution_count": 344,
     "metadata": {},
     "output_type": "execute_result"
    }
   ],
   "source": [
    "df_ratings.describe()"
   ]
  },
  {
   "cell_type": "code",
   "execution_count": 346,
   "metadata": {},
   "outputs": [],
   "source": [
    "# Create total ratings column\n",
    "df_ratings['total_ratings'] = df_ratings['1 star'] + df_ratings['2 stars'] + df_ratings['3 stars'] + df_ratings['4 stars'] + df_ratings['5 stars']\n"
   ]
  },
  {
   "cell_type": "code",
   "execution_count": 347,
   "metadata": {},
   "outputs": [],
   "source": [
    "df_ratings['target'] = df_ratings['product_id'].isin(sale_prod['skuId'])"
   ]
  },
  {
   "cell_type": "code",
   "execution_count": 348,
   "metadata": {},
   "outputs": [],
   "source": [
    "df_ratings['target'] = df_ratings['target'].map(lambda x: 1 if x == True else 0)"
   ]
  },
  {
   "cell_type": "code",
   "execution_count": 349,
   "metadata": {},
   "outputs": [
    {
     "data": {
      "text/plain": [
       "0    2174\n",
       "1     109\n",
       "Name: target, dtype: int64"
      ]
     },
     "execution_count": 349,
     "metadata": {},
     "output_type": "execute_result"
    }
   ],
   "source": [
    "df_ratings['target'].value_counts()"
   ]
  },
  {
   "cell_type": "code",
   "execution_count": 358,
   "metadata": {},
   "outputs": [],
   "source": [
    "# Save as CSV\n",
    "df_ratings.to_csv('df_ratings_clean.csv', index = False)"
   ]
  }
 ],
 "metadata": {
  "kernelspec": {
   "display_name": "Python 3",
   "language": "python",
   "name": "python3"
  },
  "language_info": {
   "codemirror_mode": {
    "name": "ipython",
    "version": 3
   },
   "file_extension": ".py",
   "mimetype": "text/x-python",
   "name": "python",
   "nbconvert_exporter": "python",
   "pygments_lexer": "ipython3",
   "version": "3.7.3"
  }
 },
 "nbformat": 4,
 "nbformat_minor": 2
}
