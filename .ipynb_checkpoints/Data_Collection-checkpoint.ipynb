{
 "cells": [
  {
   "cell_type": "markdown",
   "metadata": {},
   "source": [
    "# Capstone: Scraping Sephora Reviews"
   ]
  },
  {
   "cell_type": "markdown",
   "metadata": {},
   "source": [
    "### Problem Statement"
   ]
  },
  {
   "cell_type": "markdown",
   "metadata": {},
   "source": [
    "How should sephora group its customer base by its reviews? How do negative reviews impact whether or not an itme goes on sale"
   ]
  },
  {
   "cell_type": "markdown",
   "metadata": {},
   "source": [
    "#### Collect Data"
   ]
  },
  {
   "cell_type": "code",
   "execution_count": 242,
   "metadata": {},
   "outputs": [],
   "source": [
    "import pandas as pd\n",
    "import requests\n",
    "from bs4 import BeautifulSoup\n",
    "import re\n",
    "from time import sleep\n",
    "import json"
   ]
  },
  {
   "cell_type": "code",
   "execution_count": 243,
   "metadata": {},
   "outputs": [
    {
     "data": {
      "text/plain": [
       "200"
      ]
     },
     "execution_count": 243,
     "metadata": {},
     "output_type": "execute_result"
    }
   ],
   "source": [
    "url = 'https://www.sephora.com/shop/makeup-cosmetics'\n",
    "res = requests.get(url)\n",
    "res.status_code"
   ]
  },
  {
   "cell_type": "code",
   "execution_count": 244,
   "metadata": {},
   "outputs": [],
   "source": [
    "res.content\n",
    "soup = BeautifulSoup(res.content, 'lxml')"
   ]
  },
  {
   "cell_type": "markdown",
   "metadata": {},
   "source": [
    "### Get top level category"
   ]
  },
  {
   "cell_type": "code",
   "execution_count": 245,
   "metadata": {},
   "outputs": [],
   "source": [
    "categories = soup.find('nav',{'class':\"css-1ofufz3\"})"
   ]
  },
  {
   "cell_type": "code",
   "execution_count": 246,
   "metadata": {},
   "outputs": [],
   "source": [
    "top_level_category = categories.find_all('a', {'data-at':'top_level_category'})"
   ]
  },
  {
   "cell_type": "code",
   "execution_count": 247,
   "metadata": {},
   "outputs": [
    {
     "data": {
      "text/plain": [
       "'/best-selling-makeup'"
      ]
     },
     "execution_count": 247,
     "metadata": {},
     "output_type": "execute_result"
    }
   ],
   "source": [
    "top_level_category[0]['href']"
   ]
  },
  {
   "cell_type": "code",
   "execution_count": 249,
   "metadata": {
    "scrolled": false
   },
   "outputs": [],
   "source": [
    "# Grab the links to each of the top level categories on the makeup-cosmetics page \n",
    "top_level_hrefs = []\n",
    "for row in top_level_category:\n",
    "    top_level_hrefs.append(row['href'])"
   ]
  },
  {
   "cell_type": "code",
   "execution_count": 251,
   "metadata": {},
   "outputs": [
    {
     "data": {
      "text/plain": [
       "['/shop/face-makeup',\n",
       " '/shop/eye-makeup',\n",
       " '/shop/lips-makeup',\n",
       " '/shop/cheek-makeup']"
      ]
     },
     "execution_count": 251,
     "metadata": {},
     "output_type": "execute_result"
    }
   ],
   "source": [
    "# Specifically looking for just makeup products\n",
    "top_level_hrefs[6:10]"
   ]
  },
  {
   "cell_type": "markdown",
   "metadata": {},
   "source": [
    "### Get each subcategory"
   ]
  },
  {
   "cell_type": "code",
   "execution_count": 254,
   "metadata": {},
   "outputs": [],
   "source": [
    "def get_nth_hrefs(top_level_hrefs):\n",
    "    nth_level_hrefs = []\n",
    "    for link in top_level_hrefs:\n",
    "        url = 'https://www.sephora.com' + link\n",
    "        res = requests.get(url)\n",
    "        res.content\n",
    "        soup = BeautifulSoup(res.content, 'lxml')\n",
    "        nth_level = soup.find_all('a',{'data-at':'nth_level'})\n",
    "        for nth_link in nth_level:\n",
    "            nth_level_hrefs.append(nth_link['href'])\n",
    "        sleep(2)\n",
    "    return nth_level_hrefs   "
   ]
  },
  {
   "cell_type": "markdown",
   "metadata": {},
   "source": [
    "Focus specifically on just makeup products so return only makeup products subcategories"
   ]
  },
  {
   "cell_type": "code",
   "execution_count": 255,
   "metadata": {},
   "outputs": [],
   "source": [
    "makeup_nth_hrefs = get_nth_hrefs(top_level_hrefs[6:10])"
   ]
  },
  {
   "cell_type": "code",
   "execution_count": 679,
   "metadata": {},
   "outputs": [
    {
     "data": {
      "text/plain": [
       "30"
      ]
     },
     "execution_count": 679,
     "metadata": {},
     "output_type": "execute_result"
    }
   ],
   "source": [
    "# Number of subcategories\n",
    "len(makeup_nth_hrefs)"
   ]
  },
  {
   "cell_type": "markdown",
   "metadata": {},
   "source": [
    "### Get Product Data"
   ]
  },
  {
   "cell_type": "code",
   "execution_count": null,
   "metadata": {},
   "outputs": [],
   "source": [
    "# Link format to see full list of products\n",
    "# Must include ?pageSize=300 to view all items on a page\n",
    "https://www.sephora.com/shop/foundation-makeup?pageSize=300"
   ]
  },
  {
   "cell_type": "code",
   "execution_count": 434,
   "metadata": {},
   "outputs": [],
   "source": [
    "def get_data(hrefs):\n",
    "    datas = []\n",
    "    for href in hrefs:\n",
    "        url = 'https://www.sephora.com' + href + '?pageSize=300'\n",
    "        res = requests.get(url)\n",
    "        res.content\n",
    "        soup = BeautifulSoup(res.content, 'lxml')\n",
    "        prod_dicts = json.loads(soup.find_all('script', {'id':'linkJSON'})[0].text)[2][\"props\"][\"products\"]\n",
    "        for dic in prod_dicts:\n",
    "            d = {}\n",
    "            d['category'] = href\n",
    "            d['brand_name'] = dic['brandName']\n",
    "            test = dic['currentSku']\n",
    "            for k,v in test.items():\n",
    "                d[k] = v\n",
    "            datas.append(d)\n",
    "        print(f'{href} done')\n",
    "        sleep(3)\n",
    "    return datas        "
   ]
  },
  {
   "cell_type": "code",
   "execution_count": 435,
   "metadata": {},
   "outputs": [
    {
     "name": "stdout",
     "output_type": "stream",
     "text": [
      "/shop/foundation-makeup done\n",
      "/shop/bb-cc-cream-face-makeup done\n",
      "/shop/tinted-moisturizer done\n",
      "/shop/concealer done\n",
      "/shop/makeup-primer-face-primer done\n",
      "/shop/setting-powder-face-powder done\n",
      "/shop/luminizer-luminous-makeup done\n",
      "/shop/contour-palette-brush done\n",
      "/shop/color-correcting done\n",
      "/shop/complexion-sets done\n",
      "/shop/eyeshadow-palettes done\n",
      "/shop/mascara done\n",
      "/shop/eyeliner done\n",
      "/shop/eyebrow-makeup-pencils done\n",
      "/shop/eyeshadow done\n",
      "/shop/eyeshadow-primer-eye-primer done\n",
      "/shop/under-eye-concealer done\n",
      "/shop/fake-eyelashes-false-eyelashes done\n",
      "/shop/eye-sets done\n",
      "/shop/lipstick done\n",
      "/shop/lip-gloss done\n",
      "/shop/liquid-lipstick done\n",
      "/shop/lip-balm-treatments-lips-makeup done\n",
      "/shop/lip-stain done\n",
      "/shop/lip-plumper done\n",
      "/shop/lip-liner-lip-pencils done\n",
      "/shop/lip-palettes-gloss-sets done\n",
      "/shop/blush done\n",
      "/shop/bronzer-makeup done\n",
      "/shop/cheek-palettes done\n"
     ]
    }
   ],
   "source": [
    "full_product_data = get_data(makeup_nth_hrefs)"
   ]
  },
  {
   "cell_type": "code",
   "execution_count": 436,
   "metadata": {},
   "outputs": [],
   "source": [
    "df_products = pd.DataFrame(full_product_data)"
   ]
  },
  {
   "cell_type": "code",
   "execution_count": 438,
   "metadata": {},
   "outputs": [],
   "source": [
    "df_products.to_csv('df_products_final_1.csv')"
   ]
  },
  {
   "cell_type": "markdown",
   "metadata": {},
   "source": [
    "### Get Page Number for Reviews"
   ]
  },
  {
   "cell_type": "markdown",
   "metadata": {},
   "source": [
    "We need to extract the total number of pages for reviews in order to scrape each page for the reviews. "
   ]
  },
  {
   "cell_type": "code",
   "execution_count": 445,
   "metadata": {},
   "outputs": [],
   "source": [
    "def get_page_nums(product_id):\n",
    "    \n",
    "    # Create soup \n",
    "    url = (f'http://reviews.sephora.com/8723abredes/{product_id}/reviews.htm?format=embedded&page=1')\n",
    "    res = requests.get(url)\n",
    "    res.content\n",
    "    soup = BeautifulSoup(res.content, 'lxml')\n",
    "    \n",
    "    # Finding the maximum page number \n",
    "    soup.find_all('span', {'class':'BVRRPageLink BVRRPageNumber BVRRSelectedPageNumber'})\n",
    "    pages = soup.find_all('div', {'class':'BVRRPager BVRRPageBasedPager'})\n",
    "    length = len(str(pages).split('target=\"__TARGETFRAME__\" title=\"'))\n",
    "    \n",
    "    # Return max page number \n",
    "    page_num = str(pages).split('target=\"__TARGETFRAME__\" title=\"')[length-2].split('\"')[0]\n",
    "    return page_num"
   ]
  },
  {
   "cell_type": "code",
   "execution_count": 450,
   "metadata": {},
   "outputs": [
    {
     "data": {
      "text/plain": [
       "'242'"
      ]
     },
     "execution_count": 450,
     "metadata": {},
     "output_type": "execute_result"
    }
   ],
   "source": [
    "# Test\n",
    "get_page_nums(df_products['skuId'][10])"
   ]
  },
  {
   "cell_type": "code",
   "execution_count": 453,
   "metadata": {},
   "outputs": [
    {
     "name": "stderr",
     "output_type": "stream",
     "text": [
      "/anaconda3/envs/dsi/lib/python3.7/site-packages/ipykernel_launcher.py:5: SettingWithCopyWarning: \n",
      "A value is trying to be set on a copy of a slice from a DataFrame\n",
      "\n",
      "See the caveats in the documentation: http://pandas.pydata.org/pandas-docs/stable/indexing.html#indexing-view-versus-copy\n",
      "  \"\"\"\n"
     ]
    },
    {
     "name": "stdout",
     "output_type": "stream",
     "text": [
      "300 pages retrieved out of 3534\n",
      "600 pages retrieved out of 3534\n",
      "900 pages retrieved out of 3534\n",
      "1200 pages retrieved out of 3534\n",
      "1500 pages retrieved out of 3534\n",
      "1800 pages retrieved out of 3534\n",
      "2100 pages retrieved out of 3534\n",
      "2400 pages retrieved out of 3534\n",
      "2700 pages retrieved out of 3534\n",
      "3000 pages retrieved out of 3534\n",
      "3300 pages retrieved out of 3534\n"
     ]
    }
   ],
   "source": [
    "# Extract total number of review pages for product \n",
    "count = 0 \n",
    "df_products['review_count'] = None\n",
    "for i, p in enumerate(df_products['skuId']):\n",
    "    df_products['review_count'][i] = get_page_nums(p)\n",
    "    count += 1\n",
    "    if count % 300 == 0:\n",
    "        print(f'{count} pages retrieved out of {len(df_products[\"skuId\"])}')\n",
    "    sleep(1)"
   ]
  },
  {
   "cell_type": "code",
   "execution_count": 456,
   "metadata": {},
   "outputs": [],
   "source": [
    "df_products.to_csv('df_review_pages_incl.csv')"
   ]
  },
  {
   "cell_type": "code",
   "execution_count": 457,
   "metadata": {},
   "outputs": [],
   "source": [
    "# Function returns empty list of no max page number (for reviews with only 1 page or no reviews yet)\n",
    "# Input 1 for those cases\n",
    "df_products['review_count'] = df_products['review_count'].map(lambda x: 1 if x == '[]' else x)"
   ]
  },
  {
   "cell_type": "code",
   "execution_count": 460,
   "metadata": {},
   "outputs": [],
   "source": [
    "# input the product dataframe with all product_ids and count of pages \n",
    "def get_reviews(product_ids, pages):\n",
    "    reviews = []\n",
    "    for i, product_id in enumerate(product_ids):\n",
    "        pages_1 = pages[i]\n",
    "        \n",
    "        for page in list(range(int(pages_1))):\n",
    "            if page <= 5:\n",
    "                url = (f'http://reviews.sephora.com/8723abredes/{product_id}/reviews.htm?format=embedded&page={page}')\n",
    "                res = requests.get(url)\n",
    "                res.content\n",
    "                soup = BeautifulSoup(res.content, 'lxml')\n",
    "                base_data_reviews = soup.find_all('span', {'itemprop': 'review'})\n",
    "\n",
    "                \n",
    "                \n",
    "                for review in base_data_reviews:\n",
    "                    f_review = \"\"\n",
    "                    for row in review.find_all('span', {'class': 'BVRRReviewText'}):\n",
    "                        f_review += row.text\n",
    "                    info = {}\n",
    "                    info['product_id'] = product_id\n",
    "                    info['review'] = f_review\n",
    "                    \n",
    "                    if review.find('span', {'class':'BVRRValue BVRRContextDataValue BVRRContextDataValueeyeColor'}) is not None:\n",
    "                        info['eye_color'] = review.find('span', {'class':'BVRRValue BVRRContextDataValue BVRRContextDataValueeyeColor'}).text\n",
    "                    else:\n",
    "                        info['eye_color'] = None\n",
    "                    \n",
    "                    if review.find('span', {'class':'BVRRValue BVRRContextDataValue BVRRContextDataValueskinTone'}) is not None:\n",
    "                        info['skin_tone'] = review.find('span', {'class':'BVRRValue BVRRContextDataValue BVRRContextDataValueskinTone'}).text\n",
    "                    else:\n",
    "                        info['skin_tone'] = None\n",
    "                    \n",
    "                    if review.find('span', {'class':'BVRRValue BVRRContextDataValue BVRRContextDataValueskinType'}) is not None:\n",
    "                        info['skin_type'] = review.find('span', {'class':'BVRRValue BVRRContextDataValue BVRRContextDataValueskinType'}).text\n",
    "                    else:\n",
    "                        info['skin_type'] = None\n",
    "                        \n",
    "                    if review.find('span', {'class':'BVRRValue BVRRContextDataValue BVRRContextDataValueage'}) is not None:\n",
    "                        info['age_range'] = review.find('span', {'class':'BVRRValue BVRRContextDataValue BVRRContextDataValueage'}).text\n",
    "                    else:\n",
    "                        info['age_range'] = None\n",
    "                        \n",
    "                    if review.find('span', {'class': 'BVRRNumber BVRRRatingNumber'}) is not None:\n",
    "                        info['rating'] = review.find('span', {'class': 'BVRRNumber BVRRRatingNumber'}).text\n",
    "                    else:\n",
    "                        info['rating'] = None\n",
    "                    \n",
    "                    if review.find('span', {'class': 'BVRRValue BVRRReviewTitle'}) is not None:\n",
    "                        info['title'] = review.find('span', {'class': 'BVRRValue BVRRReviewTitle'}).text\n",
    "                    else:\n",
    "                        info['title'] = None\n",
    "                        \n",
    "                    info['user'] = review.find('span', {'class': 'BVRRNickname'}).text\n",
    "                    reviews.append(info)\n",
    "                sleep(1)            \n",
    "    return reviews"
   ]
  },
  {
   "cell_type": "code",
   "execution_count": 462,
   "metadata": {},
   "outputs": [],
   "source": [
    "reviews_data = get_reviews(df_products['skuId'], df_products['review_count'])"
   ]
  },
  {
   "cell_type": "code",
   "execution_count": 463,
   "metadata": {},
   "outputs": [],
   "source": [
    "reviews_df_1 = pd.DataFrame(reviews_data)"
   ]
  },
  {
   "cell_type": "code",
   "execution_count": 468,
   "metadata": {},
   "outputs": [],
   "source": [
    "reviews_df_1.to_csv('reviews_data_final.csv')"
   ]
  },
  {
   "cell_type": "markdown",
   "metadata": {},
   "source": [
    "For each product, there is a max of 30 reviews. There are 6 reviews on each page. "
   ]
  },
  {
   "cell_type": "markdown",
   "metadata": {},
   "source": [
    "### Get Summaries for Products"
   ]
  },
  {
   "cell_type": "markdown",
   "metadata": {},
   "source": [
    "Each product also includes keywords that are used most in the reviews. This will be a good feature to include in the model"
   ]
  },
  {
   "cell_type": "code",
   "execution_count": 476,
   "metadata": {},
   "outputs": [],
   "source": [
    "summaries = []\n",
    "count = 0 \n",
    "for product_id in df_products['skuId']:\n",
    "    url = (f'http://reviews.sephora.com/8723abredes/{product_id}/reviews.htm?format=embedded&page=1')\n",
    "    res = requests.get(url)\n",
    "    res.content\n",
    "    soup = BeautifulSoup(res.content, 'lxml')\n",
    "    quick_take = soup.find_all('td', {'id': 'BVRRQuickTakeProTagsID'})\n",
    "    count +=1\n",
    "    try:\n",
    "        quick_list = quick_take[0].find_all('a')\n",
    "        quick_count = quick_take[0].find_all('span')\n",
    "\n",
    "        for i, row in enumerate(quick_list[:-1]):\n",
    "            summary = {}\n",
    "            summary['key_word'] = quick_list[i].text\n",
    "            summary['key_word_count'] = quick_count[i].text\n",
    "            summary['product_id'] = product_id\n",
    "            summaries.append(summary)\n",
    "    except:\n",
    "        pass\n",
    "    if count % 300 == 0:\n",
    "        print(f'{count} out of {len(df_products[\"skuId\"])}')\n",
    "    sleep(1)"
   ]
  },
  {
   "cell_type": "code",
   "execution_count": 17,
   "metadata": {},
   "outputs": [],
   "source": [
    "summaries_df = pd.DataFrame(summaries)"
   ]
  },
  {
   "cell_type": "code",
   "execution_count": 19,
   "metadata": {},
   "outputs": [],
   "source": [
    "summaries_df.to_csv('summaries_final.csv')"
   ]
  },
  {
   "cell_type": "markdown",
   "metadata": {},
   "source": [
    "### Get aggregate ratings"
   ]
  },
  {
   "cell_type": "markdown",
   "metadata": {},
   "source": [
    "Each product also has aggregate ratings laid out as well. There is a count for the number of 1-5 star ratings. Not everyone writes a review so this rating is also useful to have as a feature."
   ]
  },
  {
   "cell_type": "code",
   "execution_count": 475,
   "metadata": {},
   "outputs": [],
   "source": [
    "agg_rating = []\n",
    "count_track = 0\n",
    "for p in df_products['skuId']:\n",
    "    aggs = {}\n",
    "    url = (f'http://reviews.sephora.com/8723abredes/{p}/reviews.htm?format=embedded&page=1')\n",
    "    res = requests.get(url)\n",
    "    res.content\n",
    "    soup = BeautifulSoup(res.content, 'lxml')\n",
    "    rating = soup.find_all('div', {'class': 'BVRRRatingSummaryColumn'})\n",
    "    count_track +=1\n",
    "    try:\n",
    "        avg = rating[0].find('span', {'itemprop':'ratingValue'}).text\n",
    "        count = rating[0].find('span', {'class':'BVRRCount BVRRNonZeroCount'}).text\n",
    "\n",
    "        ind_star = rating[0].find('div', {'class':'BVRRHistogramContent'}).find_all('span')\n",
    "\n",
    "        aggs[ind_star[1].text] = ind_star[2].text\n",
    "        aggs[ind_star[4].text] = ind_star[5].text\n",
    "        aggs[ind_star[7].text] = ind_star[8].text\n",
    "        aggs[ind_star[10].text] = ind_star[11].text\n",
    "        aggs[ind_star[13].text] = ind_star[14].text\n",
    "        aggs['avg_rating'] = avg\n",
    "        aggs['review_count'] = count\n",
    "        aggs['product_id'] = p\n",
    "        agg_rating.append(aggs)\n",
    "    except:\n",
    "        pass\n",
    "    if count_track % 300 == 0:\n",
    "        print(f'{count_track} out of {len(df_products[\"skuId\"])}')\n",
    "    \n",
    "    sleep(1)"
   ]
  },
  {
   "cell_type": "code",
   "execution_count": 224,
   "metadata": {},
   "outputs": [],
   "source": [
    "agg_rating_df = pd.DataFrame(agg_rating)"
   ]
  },
  {
   "cell_type": "code",
   "execution_count": 226,
   "metadata": {},
   "outputs": [],
   "source": [
    "agg_rating_df.to_csv('agg_rating.csv')"
   ]
  },
  {
   "cell_type": "markdown",
   "metadata": {},
   "source": [
    "In total, there are 4 datasets. The product information dataset, the reviews dataset, the summary (review keywords) data set and aggregate ratings dataset."
   ]
  }
 ],
 "metadata": {
  "kernelspec": {
   "display_name": "Python 3",
   "language": "python",
   "name": "python3"
  },
  "language_info": {
   "codemirror_mode": {
    "name": "ipython",
    "version": 3
   },
   "file_extension": ".py",
   "mimetype": "text/x-python",
   "name": "python",
   "nbconvert_exporter": "python",
   "pygments_lexer": "ipython3",
   "version": "3.7.3"
  }
 },
 "nbformat": 4,
 "nbformat_minor": 2
}
