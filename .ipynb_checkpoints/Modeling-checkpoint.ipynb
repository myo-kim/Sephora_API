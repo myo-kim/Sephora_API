{
 "cells": [
  {
   "cell_type": "markdown",
   "metadata": {},
   "source": [
    "# Modeling"
   ]
  },
  {
   "cell_type": "code",
   "execution_count": 1,
   "metadata": {},
   "outputs": [],
   "source": [
    "from sklearn.feature_extraction.text import CountVectorizer, TfidfVectorizer\n",
    "from sklearn.pipeline import Pipeline\n",
    "from sklearn.model_selection import train_test_split, GridSearchCV\n",
    "from sklearn.linear_model import LogisticRegression\n",
    "from sklearn.naive_bayes import MultinomialNB\n",
    "from sklearn.tree import DecisionTreeClassifier\n",
    "from sklearn.ensemble import BaggingClassifier, AdaBoostClassifier\n",
    "from sklearn.metrics import confusion_matrix"
   ]
  },
  {
   "cell_type": "code",
   "execution_count": 2,
   "metadata": {},
   "outputs": [],
   "source": [
    "import pandas as pd\n",
    "import numpy as np\n",
    "import re"
   ]
  },
  {
   "cell_type": "code",
   "execution_count": 3,
   "metadata": {},
   "outputs": [],
   "source": [
    "# Read in final dataset\n",
    "df = pd.read_csv('final_dataset.csv')"
   ]
  },
  {
   "cell_type": "code",
   "execution_count": 5,
   "metadata": {},
   "outputs": [
    {
     "data": {
      "text/html": [
       "<div>\n",
       "<style scoped>\n",
       "    .dataframe tbody tr th:only-of-type {\n",
       "        vertical-align: middle;\n",
       "    }\n",
       "\n",
       "    .dataframe tbody tr th {\n",
       "        vertical-align: top;\n",
       "    }\n",
       "\n",
       "    .dataframe thead th {\n",
       "        text-align: right;\n",
       "    }\n",
       "</style>\n",
       "<table border=\"1\" class=\"dataframe\">\n",
       "  <thead>\n",
       "    <tr style=\"text-align: right;\">\n",
       "      <th></th>\n",
       "      <th>Unnamed: 0</th>\n",
       "      <th>brand_name</th>\n",
       "      <th>category</th>\n",
       "      <th>imageAltText</th>\n",
       "      <th>isLimitedEdition</th>\n",
       "      <th>isNew</th>\n",
       "      <th>isOnlineOnly</th>\n",
       "      <th>isSephoraExclusive</th>\n",
       "      <th>listPrice</th>\n",
       "      <th>salePrice</th>\n",
       "      <th>...</th>\n",
       "      <th>1 star</th>\n",
       "      <th>2 stars</th>\n",
       "      <th>3 stars</th>\n",
       "      <th>4 stars</th>\n",
       "      <th>5 stars</th>\n",
       "      <th>avg_rating</th>\n",
       "      <th>review_count_y</th>\n",
       "      <th>total_ratings</th>\n",
       "      <th>compound_score</th>\n",
       "      <th>compound</th>\n",
       "    </tr>\n",
       "  </thead>\n",
       "  <tbody>\n",
       "    <tr>\n",
       "      <th>0</th>\n",
       "      <td>0</td>\n",
       "      <td>FENTY BEAUTY by Rihanna</td>\n",
       "      <td>foundation-makeup</td>\n",
       "      <td>FENTY BEAUTY by Rihanna - Pro Filt'r Hydrating...</td>\n",
       "      <td>False</td>\n",
       "      <td>True</td>\n",
       "      <td>True</td>\n",
       "      <td>True</td>\n",
       "      <td>35.0</td>\n",
       "      <td>0.0</td>\n",
       "      <td>...</td>\n",
       "      <td>0.0</td>\n",
       "      <td>0.0</td>\n",
       "      <td>0.0</td>\n",
       "      <td>5.0</td>\n",
       "      <td>11.0</td>\n",
       "      <td>4.7</td>\n",
       "      <td>16.0</td>\n",
       "      <td>16.0</td>\n",
       "      <td>NaN</td>\n",
       "      <td>0.860733</td>\n",
       "    </tr>\n",
       "    <tr>\n",
       "      <th>1</th>\n",
       "      <td>1</td>\n",
       "      <td>PAT McGRATH LABS</td>\n",
       "      <td>foundation-makeup</td>\n",
       "      <td>PAT McGRATH LABS - Skin Fetish: Sublime Perfec...</td>\n",
       "      <td>False</td>\n",
       "      <td>True</td>\n",
       "      <td>False</td>\n",
       "      <td>True</td>\n",
       "      <td>68.0</td>\n",
       "      <td>0.0</td>\n",
       "      <td>...</td>\n",
       "      <td>28.0</td>\n",
       "      <td>35.0</td>\n",
       "      <td>57.0</td>\n",
       "      <td>212.0</td>\n",
       "      <td>548.0</td>\n",
       "      <td>4.4</td>\n",
       "      <td>880.0</td>\n",
       "      <td>880.0</td>\n",
       "      <td>NaN</td>\n",
       "      <td>0.767496</td>\n",
       "    </tr>\n",
       "    <tr>\n",
       "      <th>2</th>\n",
       "      <td>2</td>\n",
       "      <td>FENTY BEAUTY by Rihanna</td>\n",
       "      <td>foundation-makeup</td>\n",
       "      <td>FENTY BEAUTY by Rihanna - Pro Filt'r Soft Matt...</td>\n",
       "      <td>False</td>\n",
       "      <td>False</td>\n",
       "      <td>False</td>\n",
       "      <td>True</td>\n",
       "      <td>35.0</td>\n",
       "      <td>0.0</td>\n",
       "      <td>...</td>\n",
       "      <td>1139.0</td>\n",
       "      <td>1279.0</td>\n",
       "      <td>1324.0</td>\n",
       "      <td>2149.0</td>\n",
       "      <td>8379.0</td>\n",
       "      <td>4.1</td>\n",
       "      <td>14270.0</td>\n",
       "      <td>14270.0</td>\n",
       "      <td>NaN</td>\n",
       "      <td>0.616840</td>\n",
       "    </tr>\n",
       "    <tr>\n",
       "      <th>3</th>\n",
       "      <td>3</td>\n",
       "      <td>MILK MAKEUP</td>\n",
       "      <td>foundation-makeup</td>\n",
       "      <td>MILK MAKEUP - Flex Foundation Stick</td>\n",
       "      <td>False</td>\n",
       "      <td>True</td>\n",
       "      <td>False</td>\n",
       "      <td>True</td>\n",
       "      <td>36.0</td>\n",
       "      <td>0.0</td>\n",
       "      <td>...</td>\n",
       "      <td>1.0</td>\n",
       "      <td>10.0</td>\n",
       "      <td>23.0</td>\n",
       "      <td>115.0</td>\n",
       "      <td>214.0</td>\n",
       "      <td>4.5</td>\n",
       "      <td>363.0</td>\n",
       "      <td>363.0</td>\n",
       "      <td>NaN</td>\n",
       "      <td>0.775412</td>\n",
       "    </tr>\n",
       "    <tr>\n",
       "      <th>4</th>\n",
       "      <td>4</td>\n",
       "      <td>Estée Lauder</td>\n",
       "      <td>foundation-makeup</td>\n",
       "      <td>Estée Lauder - Double Wear Stay-in-Place Found...</td>\n",
       "      <td>False</td>\n",
       "      <td>False</td>\n",
       "      <td>False</td>\n",
       "      <td>False</td>\n",
       "      <td>43.0</td>\n",
       "      <td>0.0</td>\n",
       "      <td>...</td>\n",
       "      <td>213.0</td>\n",
       "      <td>258.0</td>\n",
       "      <td>299.0</td>\n",
       "      <td>837.0</td>\n",
       "      <td>3758.0</td>\n",
       "      <td>4.4</td>\n",
       "      <td>5365.0</td>\n",
       "      <td>5365.0</td>\n",
       "      <td>37.3442</td>\n",
       "      <td>0.782008</td>\n",
       "    </tr>\n",
       "  </tbody>\n",
       "</table>\n",
       "<p>5 rows × 24 columns</p>\n",
       "</div>"
      ],
      "text/plain": [
       "   Unnamed: 0               brand_name           category  \\\n",
       "0           0  FENTY BEAUTY by Rihanna  foundation-makeup   \n",
       "1           1         PAT McGRATH LABS  foundation-makeup   \n",
       "2           2  FENTY BEAUTY by Rihanna  foundation-makeup   \n",
       "3           3              MILK MAKEUP  foundation-makeup   \n",
       "4           4             Estée Lauder  foundation-makeup   \n",
       "\n",
       "                                        imageAltText  isLimitedEdition  isNew  \\\n",
       "0  FENTY BEAUTY by Rihanna - Pro Filt'r Hydrating...             False   True   \n",
       "1  PAT McGRATH LABS - Skin Fetish: Sublime Perfec...             False   True   \n",
       "2  FENTY BEAUTY by Rihanna - Pro Filt'r Soft Matt...             False  False   \n",
       "3                MILK MAKEUP - Flex Foundation Stick             False   True   \n",
       "4  Estée Lauder - Double Wear Stay-in-Place Found...             False  False   \n",
       "\n",
       "   isOnlineOnly  isSephoraExclusive  listPrice  salePrice  ...  1 star  \\\n",
       "0          True                True       35.0        0.0  ...     0.0   \n",
       "1         False                True       68.0        0.0  ...    28.0   \n",
       "2         False                True       35.0        0.0  ...  1139.0   \n",
       "3         False                True       36.0        0.0  ...     1.0   \n",
       "4         False               False       43.0        0.0  ...   213.0   \n",
       "\n",
       "  2 stars 3 stars  4 stars  5 stars  avg_rating  review_count_y  \\\n",
       "0     0.0     0.0      5.0     11.0         4.7            16.0   \n",
       "1    35.0    57.0    212.0    548.0         4.4           880.0   \n",
       "2  1279.0  1324.0   2149.0   8379.0         4.1         14270.0   \n",
       "3    10.0    23.0    115.0    214.0         4.5           363.0   \n",
       "4   258.0   299.0    837.0   3758.0         4.4          5365.0   \n",
       "\n",
       "   total_ratings  compound_score  compound  \n",
       "0           16.0             NaN  0.860733  \n",
       "1          880.0             NaN  0.767496  \n",
       "2        14270.0             NaN  0.616840  \n",
       "3          363.0             NaN  0.775412  \n",
       "4         5365.0         37.3442  0.782008  \n",
       "\n",
       "[5 rows x 24 columns]"
      ]
     },
     "execution_count": 5,
     "metadata": {},
     "output_type": "execute_result"
    }
   ],
   "source": [
    "df.head()"
   ]
  },
  {
   "cell_type": "code",
   "execution_count": 6,
   "metadata": {},
   "outputs": [
    {
     "data": {
      "text/plain": [
       "Index(['Unnamed: 0', 'brand_name', 'category', 'imageAltText',\n",
       "       'isLimitedEdition', 'isNew', 'isOnlineOnly', 'isSephoraExclusive',\n",
       "       'listPrice', 'salePrice', 'skuId', 'skuType', 'valuePrice', 'target_x',\n",
       "       '1 star', '2 stars', '3 stars', '4 stars', '5 stars', 'avg_rating',\n",
       "       'review_count_y', 'total_ratings', 'compound_score', 'compound'],\n",
       "      dtype='object')"
      ]
     },
     "execution_count": 6,
     "metadata": {},
     "output_type": "execute_result"
    }
   ],
   "source": [
    "df.columns"
   ]
  },
  {
   "cell_type": "code",
   "execution_count": 7,
   "metadata": {},
   "outputs": [],
   "source": [
    "df.drop(columns = 'Unnamed: 0', inplace = True)"
   ]
  },
  {
   "cell_type": "markdown",
   "metadata": {},
   "source": [
    "## Feature Engineering"
   ]
  },
  {
   "cell_type": "code",
   "execution_count": 9,
   "metadata": {},
   "outputs": [],
   "source": [
    "df = pd.get_dummies(df, columns = ['isLimitedEdition', 'isNew', 'isOnlineOnly', 'isSephoraExclusive'], drop_first = True)"
   ]
  },
  {
   "cell_type": "code",
   "execution_count": 10,
   "metadata": {},
   "outputs": [
    {
     "data": {
      "text/plain": [
       "Index(['brand_name', 'category', 'imageAltText', 'listPrice', 'salePrice',\n",
       "       'skuId', 'skuType', 'valuePrice', 'target_x', '1 star', '2 stars',\n",
       "       '3 stars', '4 stars', '5 stars', 'avg_rating', 'review_count_y',\n",
       "       'total_ratings', 'compound_score', 'compound', 'isLimitedEdition_True',\n",
       "       'isNew_True', 'isOnlineOnly_True', 'isSephoraExclusive_True'],\n",
       "      dtype='object')"
      ]
     },
     "execution_count": 10,
     "metadata": {},
     "output_type": "execute_result"
    }
   ],
   "source": [
    "df.columns"
   ]
  },
  {
   "cell_type": "code",
   "execution_count": null,
   "metadata": {},
   "outputs": [],
   "source": []
  }
 ],
 "metadata": {
  "kernelspec": {
   "display_name": "Python 3",
   "language": "python",
   "name": "python3"
  },
  "language_info": {
   "codemirror_mode": {
    "name": "ipython",
    "version": 3
   },
   "file_extension": ".py",
   "mimetype": "text/x-python",
   "name": "python",
   "nbconvert_exporter": "python",
   "pygments_lexer": "ipython3",
   "version": "3.7.3"
  }
 },
 "nbformat": 4,
 "nbformat_minor": 2
}
