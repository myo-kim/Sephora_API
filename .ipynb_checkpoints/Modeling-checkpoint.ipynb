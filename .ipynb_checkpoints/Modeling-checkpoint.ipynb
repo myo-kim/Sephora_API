{
 "cells": [
  {
   "cell_type": "markdown",
   "metadata": {},
   "source": [
    "# Modeling"
   ]
  },
  {
   "cell_type": "code",
   "execution_count": 155,
   "metadata": {},
   "outputs": [],
   "source": [
    "from sklearn.preprocessing import OneHotEncoder\n",
    "from sklearn.preprocessing import StandardScaler"
   ]
  },
  {
   "cell_type": "code",
   "execution_count": 1,
   "metadata": {},
   "outputs": [],
   "source": [
    "from sklearn.feature_extraction.text import CountVectorizer, TfidfVectorizer\n",
    "from sklearn.pipeline import Pipeline\n",
    "from sklearn.model_selection import train_test_split, GridSearchCV\n",
    "from sklearn.linear_model import LogisticRegression\n",
    "from sklearn.naive_bayes import MultinomialNB\n",
    "from sklearn.tree import DecisionTreeClassifier\n",
    "from sklearn.ensemble import BaggingClassifier, AdaBoostClassifier\n",
    "from sklearn.metrics import confusion_matrix"
   ]
  },
  {
   "cell_type": "code",
   "execution_count": 152,
   "metadata": {},
   "outputs": [
    {
     "name": "stderr",
     "output_type": "stream",
     "text": [
      "Using TensorFlow backend.\n"
     ]
    }
   ],
   "source": [
    "from keras.models import Sequential\n",
    "from keras.layers import Dense, Dropout, Activation, Flatten\n",
    "from keras.layers import Conv2D, MaxPooling2D\n",
    "from keras.utils import np_utils"
   ]
  },
  {
   "cell_type": "code",
   "execution_count": 2,
   "metadata": {},
   "outputs": [],
   "source": [
    "import pandas as pd\n",
    "import numpy as np\n",
    "import re"
   ]
  },
  {
   "cell_type": "code",
   "execution_count": 165,
   "metadata": {},
   "outputs": [],
   "source": [
    "# Read in final dataset\n",
    "df = pd.read_csv('final_dataset.csv')"
   ]
  },
  {
   "cell_type": "code",
   "execution_count": 166,
   "metadata": {},
   "outputs": [
    {
     "data": {
      "text/plain": [
       "Index(['Unnamed: 0', 'brand_name', 'category', 'imageAltText',\n",
       "       'isLimitedEdition', 'isNew', 'isOnlineOnly', 'isSephoraExclusive',\n",
       "       'listPrice', 'salePrice', 'skuId', 'skuType', 'valuePrice', 'target_x',\n",
       "       '1 star', '2 stars', '3 stars', '4 stars', '5 stars', 'avg_rating',\n",
       "       'review_count_y', 'total_ratings', 'compound_score', 'compound'],\n",
       "      dtype='object')"
      ]
     },
     "execution_count": 166,
     "metadata": {},
     "output_type": "execute_result"
    }
   ],
   "source": [
    "df.columns"
   ]
  },
  {
   "cell_type": "code",
   "execution_count": 167,
   "metadata": {},
   "outputs": [],
   "source": [
    "df.drop(columns = ['Unnamed: 0', 'imageAltText', 'salePrice', 'valuePrice'], inplace = True)"
   ]
  },
  {
   "cell_type": "code",
   "execution_count": 34,
   "metadata": {},
   "outputs": [
    {
     "data": {
      "text/html": [
       "<div>\n",
       "<style scoped>\n",
       "    .dataframe tbody tr th:only-of-type {\n",
       "        vertical-align: middle;\n",
       "    }\n",
       "\n",
       "    .dataframe tbody tr th {\n",
       "        vertical-align: top;\n",
       "    }\n",
       "\n",
       "    .dataframe thead th {\n",
       "        text-align: right;\n",
       "    }\n",
       "</style>\n",
       "<table border=\"1\" class=\"dataframe\">\n",
       "  <thead>\n",
       "    <tr style=\"text-align: right;\">\n",
       "      <th></th>\n",
       "      <th>brand_name</th>\n",
       "      <th>category</th>\n",
       "      <th>isLimitedEdition</th>\n",
       "      <th>isNew</th>\n",
       "      <th>isOnlineOnly</th>\n",
       "      <th>isSephoraExclusive</th>\n",
       "      <th>listPrice</th>\n",
       "      <th>skuId</th>\n",
       "      <th>skuType</th>\n",
       "      <th>target_x</th>\n",
       "      <th>1 star</th>\n",
       "      <th>2 stars</th>\n",
       "      <th>3 stars</th>\n",
       "      <th>4 stars</th>\n",
       "      <th>5 stars</th>\n",
       "      <th>avg_rating</th>\n",
       "      <th>review_count_y</th>\n",
       "      <th>total_ratings</th>\n",
       "      <th>compound_score</th>\n",
       "      <th>compound</th>\n",
       "    </tr>\n",
       "  </thead>\n",
       "  <tbody>\n",
       "    <tr>\n",
       "      <th>0</th>\n",
       "      <td>FENTY BEAUTY by Rihanna</td>\n",
       "      <td>foundation-makeup</td>\n",
       "      <td>False</td>\n",
       "      <td>True</td>\n",
       "      <td>True</td>\n",
       "      <td>True</td>\n",
       "      <td>35.0</td>\n",
       "      <td>2268274</td>\n",
       "      <td>Standard</td>\n",
       "      <td>0</td>\n",
       "      <td>0.0</td>\n",
       "      <td>0.0</td>\n",
       "      <td>0.0</td>\n",
       "      <td>5.0</td>\n",
       "      <td>11.0</td>\n",
       "      <td>4.7</td>\n",
       "      <td>16.0</td>\n",
       "      <td>16.0</td>\n",
       "      <td>NaN</td>\n",
       "      <td>0.860733</td>\n",
       "    </tr>\n",
       "    <tr>\n",
       "      <th>1</th>\n",
       "      <td>PAT McGRATH LABS</td>\n",
       "      <td>foundation-makeup</td>\n",
       "      <td>False</td>\n",
       "      <td>True</td>\n",
       "      <td>False</td>\n",
       "      <td>True</td>\n",
       "      <td>68.0</td>\n",
       "      <td>2257111</td>\n",
       "      <td>Standard</td>\n",
       "      <td>0</td>\n",
       "      <td>28.0</td>\n",
       "      <td>35.0</td>\n",
       "      <td>57.0</td>\n",
       "      <td>212.0</td>\n",
       "      <td>548.0</td>\n",
       "      <td>4.4</td>\n",
       "      <td>880.0</td>\n",
       "      <td>880.0</td>\n",
       "      <td>NaN</td>\n",
       "      <td>0.767496</td>\n",
       "    </tr>\n",
       "    <tr>\n",
       "      <th>2</th>\n",
       "      <td>FENTY BEAUTY by Rihanna</td>\n",
       "      <td>foundation-makeup</td>\n",
       "      <td>False</td>\n",
       "      <td>False</td>\n",
       "      <td>False</td>\n",
       "      <td>True</td>\n",
       "      <td>35.0</td>\n",
       "      <td>2164671</td>\n",
       "      <td>Standard</td>\n",
       "      <td>0</td>\n",
       "      <td>1139.0</td>\n",
       "      <td>1279.0</td>\n",
       "      <td>1324.0</td>\n",
       "      <td>2149.0</td>\n",
       "      <td>8379.0</td>\n",
       "      <td>4.1</td>\n",
       "      <td>14270.0</td>\n",
       "      <td>14270.0</td>\n",
       "      <td>NaN</td>\n",
       "      <td>0.616840</td>\n",
       "    </tr>\n",
       "    <tr>\n",
       "      <th>3</th>\n",
       "      <td>MILK MAKEUP</td>\n",
       "      <td>foundation-makeup</td>\n",
       "      <td>False</td>\n",
       "      <td>True</td>\n",
       "      <td>False</td>\n",
       "      <td>True</td>\n",
       "      <td>36.0</td>\n",
       "      <td>2242105</td>\n",
       "      <td>Standard</td>\n",
       "      <td>0</td>\n",
       "      <td>1.0</td>\n",
       "      <td>10.0</td>\n",
       "      <td>23.0</td>\n",
       "      <td>115.0</td>\n",
       "      <td>214.0</td>\n",
       "      <td>4.5</td>\n",
       "      <td>363.0</td>\n",
       "      <td>363.0</td>\n",
       "      <td>NaN</td>\n",
       "      <td>0.775412</td>\n",
       "    </tr>\n",
       "    <tr>\n",
       "      <th>4</th>\n",
       "      <td>Estée Lauder</td>\n",
       "      <td>foundation-makeup</td>\n",
       "      <td>False</td>\n",
       "      <td>False</td>\n",
       "      <td>False</td>\n",
       "      <td>False</td>\n",
       "      <td>43.0</td>\n",
       "      <td>2112167</td>\n",
       "      <td>Standard</td>\n",
       "      <td>0</td>\n",
       "      <td>213.0</td>\n",
       "      <td>258.0</td>\n",
       "      <td>299.0</td>\n",
       "      <td>837.0</td>\n",
       "      <td>3758.0</td>\n",
       "      <td>4.4</td>\n",
       "      <td>5365.0</td>\n",
       "      <td>5365.0</td>\n",
       "      <td>0.012698</td>\n",
       "      <td>0.782008</td>\n",
       "    </tr>\n",
       "  </tbody>\n",
       "</table>\n",
       "</div>"
      ],
      "text/plain": [
       "                brand_name           category  isLimitedEdition  isNew  \\\n",
       "0  FENTY BEAUTY by Rihanna  foundation-makeup             False   True   \n",
       "1         PAT McGRATH LABS  foundation-makeup             False   True   \n",
       "2  FENTY BEAUTY by Rihanna  foundation-makeup             False  False   \n",
       "3              MILK MAKEUP  foundation-makeup             False   True   \n",
       "4             Estée Lauder  foundation-makeup             False  False   \n",
       "\n",
       "   isOnlineOnly  isSephoraExclusive  listPrice    skuId   skuType  target_x  \\\n",
       "0          True                True       35.0  2268274  Standard         0   \n",
       "1         False                True       68.0  2257111  Standard         0   \n",
       "2         False                True       35.0  2164671  Standard         0   \n",
       "3         False                True       36.0  2242105  Standard         0   \n",
       "4         False               False       43.0  2112167  Standard         0   \n",
       "\n",
       "   1 star  2 stars  3 stars  4 stars  5 stars  avg_rating  review_count_y  \\\n",
       "0     0.0      0.0      0.0      5.0     11.0         4.7            16.0   \n",
       "1    28.0     35.0     57.0    212.0    548.0         4.4           880.0   \n",
       "2  1139.0   1279.0   1324.0   2149.0   8379.0         4.1         14270.0   \n",
       "3     1.0     10.0     23.0    115.0    214.0         4.5           363.0   \n",
       "4   213.0    258.0    299.0    837.0   3758.0         4.4          5365.0   \n",
       "\n",
       "   total_ratings  compound_score  compound  \n",
       "0           16.0             NaN  0.860733  \n",
       "1          880.0             NaN  0.767496  \n",
       "2        14270.0             NaN  0.616840  \n",
       "3          363.0             NaN  0.775412  \n",
       "4         5365.0        0.012698  0.782008  "
      ]
     },
     "execution_count": 34,
     "metadata": {},
     "output_type": "execute_result"
    }
   ],
   "source": [
    "df.head()"
   ]
  },
  {
   "cell_type": "code",
   "execution_count": 83,
   "metadata": {},
   "outputs": [
    {
     "data": {
      "text/plain": [
       "brand_name               0\n",
       "category                 0\n",
       "isLimitedEdition         0\n",
       "isNew                    0\n",
       "isOnlineOnly             0\n",
       "isSephoraExclusive       0\n",
       "listPrice                0\n",
       "skuId                    0\n",
       "skuType                  0\n",
       "target_x                 0\n",
       "1 star                 900\n",
       "2 stars                900\n",
       "3 stars                900\n",
       "4 stars                900\n",
       "5 stars                900\n",
       "avg_rating             900\n",
       "review_count_y         900\n",
       "total_ratings          900\n",
       "compound_score        1687\n",
       "compound               925\n",
       "dtype: int64"
      ]
     },
     "execution_count": 83,
     "metadata": {},
     "output_type": "execute_result"
    }
   ],
   "source": [
    "df.isnull().sum()"
   ]
  },
  {
   "cell_type": "markdown",
   "metadata": {},
   "source": [
    "## Feature Engineering"
   ]
  },
  {
   "cell_type": "code",
   "execution_count": 168,
   "metadata": {},
   "outputs": [],
   "source": [
    "# Create dummy features for binary columns\n",
    "df = pd.get_dummies(df, columns = ['isLimitedEdition', 'isNew', 'isOnlineOnly', 'isSephoraExclusive', 'brand_name', 'category'], drop_first = True)\n",
    "\n"
   ]
  },
  {
   "cell_type": "code",
   "execution_count": 132,
   "metadata": {},
   "outputs": [],
   "source": [
    "# Create array values for non binary categorical columns\n",
    "def create_array(column):\n",
    "    enc = OneHotEncoder(handle_unknown = 'error', drop = 'first')\n",
    "    encode = enc.fit_transform(df[[column]]).toarray()\n",
    "    encode_df = pd.DataFrame(index = df['skuId'], data = encode)\n",
    "    encode_df[column] = encode_df.apply(lambda x: tuple(x), axis =1).apply(np.array)\n",
    "    encode_df = encode_df[[column]]\n",
    "    return encode_df"
   ]
  },
  {
   "cell_type": "code",
   "execution_count": 134,
   "metadata": {},
   "outputs": [],
   "source": [
    "category = create_array('category')\n",
    "\n",
    "brand_name = create_array('brand_name')\n",
    "\n",
    "df = pd.merge(left = df, right = category, how = 'inner', left_on = 'skuId', right_index = True)\n",
    "\n",
    "df = pd.merge(left = df, right = brand_name, how = 'inner', left_on = 'skuId', right_index = True)\n",
    "\n",
    "df_dummies = df.drop(columns = ['brand_name_x', 'category_x', 'skuType'])\n",
    "\n",
    "df_dummies.fillna(0, inplace = True)"
   ]
  },
  {
   "cell_type": "code",
   "execution_count": 148,
   "metadata": {},
   "outputs": [],
   "source": [
    "# df_dummies.drop(columns = 'skuType', inplace = True)"
   ]
  },
  {
   "cell_type": "code",
   "execution_count": 170,
   "metadata": {},
   "outputs": [],
   "source": [
    "df.drop(columns = 'skuType', inplace = True)"
   ]
  },
  {
   "cell_type": "code",
   "execution_count": 177,
   "metadata": {},
   "outputs": [],
   "source": [
    "df.fillna(0, inplace= True)"
   ]
  },
  {
   "cell_type": "markdown",
   "metadata": {},
   "source": [
    "## Build Model"
   ]
  },
  {
   "cell_type": "markdown",
   "metadata": {},
   "source": [
    "### Logistic Regression"
   ]
  },
  {
   "cell_type": "code",
   "execution_count": 178,
   "metadata": {},
   "outputs": [],
   "source": [
    "X = df.drop(columns = 'target_x')"
   ]
  },
  {
   "cell_type": "code",
   "execution_count": 179,
   "metadata": {},
   "outputs": [],
   "source": [
    "y = df_dummies['target_x']"
   ]
  },
  {
   "cell_type": "code",
   "execution_count": 180,
   "metadata": {},
   "outputs": [],
   "source": [
    "X_train, X_test, y_train, y_test = train_test_split(X, y,stratify = y)"
   ]
  },
  {
   "cell_type": "code",
   "execution_count": 208,
   "metadata": {},
   "outputs": [
    {
     "name": "stdout",
     "output_type": "stream",
     "text": [
      "Best training score for gs: 0.9577754891864058\n",
      "Best parameters: {'C': 0.75, 'penalty': 'l1', 'solver': 'liblinear'}\n",
      "Test score: 0.9567901234567902\n"
     ]
    }
   ],
   "source": [
    "lr = LogisticRegression()\n",
    "gs_lr = GridSearchCV(estimator = lr, \n",
    "             param_grid = {\n",
    "                 'penalty': ['l1','l2'],\n",
    "                 'C': [.25, .5, .75, 1],\n",
    "                 'solver': ['liblinear']},\n",
    "                    cv = 5)\n",
    "\n",
    "gs_lr.fit(X_train, y_train)\n",
    "print(f'Best training score for gs: {gs_lr.best_score_}')\n",
    "print(f'Best parameters: {gs_lr.best_params_}')\n",
    "lr = gs_lr.best_estimator_\n",
    "print(f'Test score: {lr.score(X_test, y_test)}')"
   ]
  },
  {
   "cell_type": "markdown",
   "metadata": {},
   "source": [
    "### Neural Network"
   ]
  },
  {
   "cell_type": "code",
   "execution_count": 216,
   "metadata": {},
   "outputs": [],
   "source": [
    "ss = StandardScaler()\n",
    "X_train_sc = ss.fit_transform(X_train)\n",
    "X_test_sc = ss.transform(X_test)"
   ]
  },
  {
   "cell_type": "code",
   "execution_count": 219,
   "metadata": {},
   "outputs": [
    {
     "data": {
      "text/plain": [
       "181"
      ]
     },
     "execution_count": 219,
     "metadata": {},
     "output_type": "execute_result"
    }
   ],
   "source": [
    "X_train_sc.shape[1]"
   ]
  },
  {
   "cell_type": "code",
   "execution_count": 230,
   "metadata": {},
   "outputs": [],
   "source": [
    "model = Sequential()\n",
    "\n",
    "model.add(Dense(32, \n",
    "                activation='relu', \n",
    "                input_shape=(X_train_sc.shape[1],)))\n",
    "\n",
    "model.add(Dense(1, activation='sigmoid'))\n",
    "\n",
    "model.compile(loss = 'binary_crossentropy',\n",
    "             optimizer = 'adam',\n",
    "             metrics = ['acc'])"
   ]
  },
  {
   "cell_type": "code",
   "execution_count": 232,
   "metadata": {},
   "outputs": [
    {
     "name": "stdout",
     "output_type": "stream",
     "text": [
      "Train on 1942 samples, validate on 648 samples\n",
      "Epoch 1/10\n",
      "1942/1942 [==============================] - 0s 40us/step - loss: 0.1655 - acc: 0.9588 - val_loss: 0.1641 - val_acc: 0.9568\n",
      "Epoch 2/10\n",
      "1942/1942 [==============================] - 0s 25us/step - loss: 0.1453 - acc: 0.9598 - val_loss: 0.1532 - val_acc: 0.9568\n",
      "Epoch 3/10\n",
      "1942/1942 [==============================] - 0s 26us/step - loss: 0.1332 - acc: 0.9604 - val_loss: 0.1464 - val_acc: 0.9568\n",
      "Epoch 4/10\n",
      "1942/1942 [==============================] - 0s 30us/step - loss: 0.1248 - acc: 0.9604 - val_loss: 0.1425 - val_acc: 0.9568\n",
      "Epoch 5/10\n",
      "1942/1942 [==============================] - 0s 22us/step - loss: 0.1182 - acc: 0.9609 - val_loss: 0.1405 - val_acc: 0.9568\n",
      "Epoch 6/10\n",
      "1942/1942 [==============================] - 0s 23us/step - loss: 0.1131 - acc: 0.9604 - val_loss: 0.1393 - val_acc: 0.9568\n",
      "Epoch 7/10\n",
      "1942/1942 [==============================] - 0s 28us/step - loss: 0.1086 - acc: 0.9604 - val_loss: 0.1388 - val_acc: 0.9568\n",
      "Epoch 8/10\n",
      "1942/1942 [==============================] - 0s 30us/step - loss: 0.1050 - acc: 0.9614 - val_loss: 0.1384 - val_acc: 0.9568\n",
      "Epoch 9/10\n",
      "1942/1942 [==============================] - 0s 34us/step - loss: 0.1019 - acc: 0.9619 - val_loss: 0.1382 - val_acc: 0.9568\n",
      "Epoch 10/10\n",
      "1942/1942 [==============================] - 0s 31us/step - loss: 0.0994 - acc: 0.9619 - val_loss: 0.1365 - val_acc: 0.9568\n"
     ]
    },
    {
     "data": {
      "text/plain": [
       "<keras.callbacks.History at 0x1a33aeba58>"
      ]
     },
     "execution_count": 232,
     "metadata": {},
     "output_type": "execute_result"
    }
   ],
   "source": [
    "model.fit(X_train_sc, y_train, \n",
    "         epochs = 10, \n",
    "         batch_size = 128, \n",
    "         validation_data = (X_test_sc, y_test))"
   ]
  }
 ],
 "metadata": {
  "kernelspec": {
   "display_name": "Python 3",
   "language": "python",
   "name": "python3"
  },
  "language_info": {
   "codemirror_mode": {
    "name": "ipython",
    "version": 3
   },
   "file_extension": ".py",
   "mimetype": "text/x-python",
   "name": "python",
   "nbconvert_exporter": "python",
   "pygments_lexer": "ipython3",
   "version": "3.7.3"
  }
 },
 "nbformat": 4,
 "nbformat_minor": 2
}
