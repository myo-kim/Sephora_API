{
 "cells": [
  {
   "cell_type": "markdown",
   "metadata": {},
   "source": [
    "# Capstone: Scraping Sephora Reviews"
   ]
  },
  {
   "cell_type": "markdown",
   "metadata": {},
   "source": [
    "### Problem Statement"
   ]
  },
  {
   "cell_type": "markdown",
   "metadata": {},
   "source": [
    "How should sephora group its customer base by its reviews? How do negative reviews impact whether or not an itme goes on sale"
   ]
  },
  {
   "cell_type": "markdown",
   "metadata": {},
   "source": [
    "#### Collect Data"
   ]
  },
  {
   "cell_type": "code",
   "execution_count": 1,
   "metadata": {},
   "outputs": [],
   "source": [
    "import pandas as pd\n",
    "import requests\n",
    "from bs4 import BeautifulSoup\n",
    "import re\n",
    "from time import sleep"
   ]
  },
  {
   "cell_type": "code",
   "execution_count": 3,
   "metadata": {},
   "outputs": [
    {
     "data": {
      "text/plain": [
       "200"
      ]
     },
     "execution_count": 3,
     "metadata": {},
     "output_type": "execute_result"
    }
   ],
   "source": [
    "url = 'https://www.sephora.com/shop/makeup-cosmetics'\n",
    "res = requests.get(url)\n",
    "res.status_code"
   ]
  },
  {
   "cell_type": "code",
   "execution_count": 4,
   "metadata": {},
   "outputs": [],
   "source": [
    "res.content\n",
    "soup = BeautifulSoup(res.content, 'lxml')"
   ]
  },
  {
   "cell_type": "markdown",
   "metadata": {},
   "source": [
    "### Get top level category"
   ]
  },
  {
   "cell_type": "code",
   "execution_count": 5,
   "metadata": {},
   "outputs": [],
   "source": [
    "categories = soup.find('nav',{'class':\"css-1ofufz3\"})"
   ]
  },
  {
   "cell_type": "code",
   "execution_count": 6,
   "metadata": {},
   "outputs": [],
   "source": [
    "top_level_category = categories.find_all('a', {'data-at':'top_level_category'})"
   ]
  },
  {
   "cell_type": "code",
   "execution_count": 7,
   "metadata": {},
   "outputs": [
    {
     "data": {
      "text/plain": [
       "'/best-selling-makeup'"
      ]
     },
     "execution_count": 7,
     "metadata": {},
     "output_type": "execute_result"
    }
   ],
   "source": [
    "top_level_category[0]['href']"
   ]
  },
  {
   "cell_type": "code",
   "execution_count": 8,
   "metadata": {
    "scrolled": false
   },
   "outputs": [],
   "source": [
    "# Grab the links to each of the top level categories on the makeup-cosmetics page \n",
    "top_level_hrefs = []\n",
    "for row in top_level_category:\n",
    "    top_level_hrefs.append(row['href'])"
   ]
  },
  {
   "cell_type": "code",
   "execution_count": 641,
   "metadata": {},
   "outputs": [
    {
     "data": {
      "text/plain": [
       "['/best-selling-makeup',\n",
       " '/new-makeup',\n",
       " '/shop/makeup-kits-makeup-sets',\n",
       " '/shop/mini-makeup',\n",
       " '/shop/makeup-palettes']"
      ]
     },
     "execution_count": 641,
     "metadata": {},
     "output_type": "execute_result"
    }
   ],
   "source": [
    "top_level_hrefs[:5]"
   ]
  },
  {
   "cell_type": "code",
   "execution_count": 676,
   "metadata": {},
   "outputs": [
    {
     "data": {
      "text/plain": [
       "['/shop/face-makeup',\n",
       " '/shop/eye-makeup',\n",
       " '/shop/lips-makeup',\n",
       " '/shop/cheek-makeup']"
      ]
     },
     "execution_count": 676,
     "metadata": {},
     "output_type": "execute_result"
    }
   ],
   "source": [
    "# Specifically looking for just makeup products\n",
    "top_level_hrefs[6:10]"
   ]
  },
  {
   "cell_type": "markdown",
   "metadata": {},
   "source": [
    "### Get each subcategory"
   ]
  },
  {
   "cell_type": "code",
   "execution_count": 637,
   "metadata": {},
   "outputs": [],
   "source": [
    "def get_nth_hrefs(top_level_hrefs):\n",
    "    nth_level_hrefs = []\n",
    "    for link in top_level_hrefs:\n",
    "        url = 'https://www.sephora.com' + link\n",
    "        res = requests.get(url)\n",
    "        res.content\n",
    "        soup = BeautifulSoup(res.content, 'lxml')\n",
    "        nth_level = soup.find_all('a',{'data-at':'nth_level'})\n",
    "        for nth_link in nth_level:\n",
    "            nth_level_hrefs.append(nth_link['href'])\n",
    "    return nth_level_hrefs   "
   ]
  },
  {
   "cell_type": "code",
   "execution_count": 638,
   "metadata": {},
   "outputs": [],
   "source": [
    "nth_hrefs = get_nth_hrefs(top_level_hrefs)"
   ]
  },
  {
   "cell_type": "code",
   "execution_count": 640,
   "metadata": {},
   "outputs": [
    {
     "data": {
      "text/plain": [
       "['/shop/foundation-makeup',\n",
       " '/shop/bb-cc-cream-face-makeup',\n",
       " '/shop/tinted-moisturizer',\n",
       " '/shop/concealer',\n",
       " '/shop/makeup-primer-face-primer']"
      ]
     },
     "execution_count": 640,
     "metadata": {},
     "output_type": "execute_result"
    }
   ],
   "source": [
    "nth_hrefs[:5]"
   ]
  },
  {
   "cell_type": "code",
   "execution_count": 677,
   "metadata": {},
   "outputs": [],
   "source": [
    "makeup_nth_hrefs = get_nth_hrefs(top_level_hrefs[6:10])"
   ]
  },
  {
   "cell_type": "code",
   "execution_count": 679,
   "metadata": {},
   "outputs": [
    {
     "data": {
      "text/plain": [
       "30"
      ]
     },
     "execution_count": 679,
     "metadata": {},
     "output_type": "execute_result"
    }
   ],
   "source": [
    "len(makeup_nth_hrefs)"
   ]
  },
  {
   "cell_type": "markdown",
   "metadata": {},
   "source": [
    "### Get each product link"
   ]
  },
  {
   "cell_type": "code",
   "execution_count": 409,
   "metadata": {},
   "outputs": [],
   "source": [
    "url = 'https://www.sephora.com/shop/foundation-makeup'\n",
    "res = requests.get(url)\n",
    "res.content\n",
    "soup = BeautifulSoup(res.content, 'lxml')"
   ]
  },
  {
   "cell_type": "code",
   "execution_count": 412,
   "metadata": {
    "scrolled": false
   },
   "outputs": [],
   "source": [
    "product_grid = soup.find_all('script', {'type':\"application/ld+json\"})"
   ]
  },
  {
   "cell_type": "code",
   "execution_count": 18,
   "metadata": {},
   "outputs": [
    {
     "data": {
      "text/plain": [
       "'name\":\"Pro Filt\\'r Hydrating Longwear Foundation\",\"category\":\"Foundation\",\"@context\":\"http://schema.org\",\"brand\":\"FENTY BEAUTY by Rihanna\",\"url\":\"https://www.sephora.com/product/pro-filt-r-hydrating-longwear-foundation-P448702\"},{\"offers\":{\"seller\":{\"@type\":\"Organization\",\"name\":\"Sephora\"},\"priceCurrency\":\"USD\",\"@type\":\"Offer\",\"price\":\"68.00\",\"availability\":\"http://schema.org/InStock\",\"sku\":\"2257111\"},\"image\":\"https://www.sephora.com/productimages/sku/s2257111-main-grid.jpg'"
      ]
     },
     "execution_count": 18,
     "metadata": {},
     "output_type": "execute_result"
    }
   ],
   "source": [
    "product_grid[1].text.split('Product')[1][3:-11]"
   ]
  },
  {
   "cell_type": "code",
   "execution_count": 20,
   "metadata": {},
   "outputs": [],
   "source": [
    "ex_list = product_grid[1].text.split('Product')[-1].split(',')"
   ]
  },
  {
   "cell_type": "code",
   "execution_count": 21,
   "metadata": {},
   "outputs": [
    {
     "data": {
      "text/plain": [
       "['\"',\n",
       " '\"name\":\"Stay-Matte Sheer Pressed Powder\"',\n",
       " '\"category\":\"Foundation\"',\n",
       " '\"@context\":\"http://schema.org\"',\n",
       " '\"brand\":\"CLINIQUE\"',\n",
       " '\"url\":\"https://www.sephora.com/product/stay-matte-sheer-pressed-powder-P122748\"}]']"
      ]
     },
     "execution_count": 21,
     "metadata": {},
     "output_type": "execute_result"
    }
   ],
   "source": [
    "ex_list"
   ]
  },
  {
   "cell_type": "code",
   "execution_count": 22,
   "metadata": {},
   "outputs": [
    {
     "data": {
      "text/plain": [
       "['\"url\":\"https://www.sephora.com/product/stay-matte-sheer-pressed-powder-P122748\"}]']"
      ]
     },
     "execution_count": 22,
     "metadata": {},
     "output_type": "execute_result"
    }
   ],
   "source": [
    "[i for i in ex_list if 'url' in i]"
   ]
  },
  {
   "cell_type": "code",
   "execution_count": 23,
   "metadata": {
    "scrolled": false
   },
   "outputs": [],
   "source": [
    "example = product_grid[1].text.split(\"Product\")[1]"
   ]
  },
  {
   "cell_type": "code",
   "execution_count": 24,
   "metadata": {},
   "outputs": [
    {
     "data": {
      "text/plain": [
       "'https://www.sephora.com/product/pro-filt-r-hydrating-longwear-foundation-P448702'"
      ]
     },
     "execution_count": 24,
     "metadata": {},
     "output_type": "execute_result"
    }
   ],
   "source": [
    "example.split(',')[1:-1][4].split(\":\", 1)[1][1:-2]"
   ]
  },
  {
   "cell_type": "code",
   "execution_count": 504,
   "metadata": {},
   "outputs": [],
   "source": [
    "product_data = []\n",
    "for row in product_grid[1].text.split('\"priceCurrency\":\"USD\"'):\n",
    "    product_data.append(row.split(','))\n"
   ]
  },
  {
   "cell_type": "code",
   "execution_count": 605,
   "metadata": {},
   "outputs": [],
   "source": [
    "product_data[2].remove('\"name\":\"Sephora\"}')"
   ]
  },
  {
   "cell_type": "code",
   "execution_count": 614,
   "metadata": {},
   "outputs": [
    {
     "data": {
      "text/plain": [
       "['',\n",
       " '\"lowPrice\":\"42.00\"',\n",
       " '\"@type\":\"AggregateOffer\"',\n",
       " '\"highPrice\":\"64.00\"}',\n",
       " '\"image\":\"https://www.sephora.com/productimages/sku/s2079168-main-grid.jpg\"',\n",
       " '\"@type\":\"Product\"',\n",
       " '\"name\":\"Luminous Silk Foundation\"',\n",
       " '\"category\":\"Foundation\"',\n",
       " '\"@context\":\"http://schema.org\"',\n",
       " '\"brand\":\"Giorgio Armani Beauty\"',\n",
       " '\"url\":\"https://www.sephora.com/product/luminous-silk-foundation-P393401\"}',\n",
       " '{\"offers\":{']"
      ]
     },
     "execution_count": 614,
     "metadata": {},
     "output_type": "execute_result"
    }
   ],
   "source": [
    "product_data[6]"
   ]
  },
  {
   "cell_type": "code",
   "execution_count": 506,
   "metadata": {},
   "outputs": [],
   "source": [
    "product_url = []\n",
    "for product in product_data[1:]:\n",
    "    for row in product:\n",
    "        if 'url' in row:\n",
    "            product_url.append(re.sub('[\"]', \"\", row.split(':',1)[1][1:-2]))"
   ]
  },
  {
   "cell_type": "code",
   "execution_count": 507,
   "metadata": {},
   "outputs": [
    {
     "data": {
      "text/plain": [
       "['https://www.sephora.com/product/pro-filt-r-hydrating-longwear-foundation-P448702',\n",
       " 'https://www.sephora.com/product/skin-fetish-sublime-perfection-foundation-P447519',\n",
       " 'https://www.sephora.com/product/pro-filtr-soft-matte-longwear-foundation-P87985432',\n",
       " 'https://www.sephora.com/product/flex-foundation-stick-P448151',\n",
       " 'https://www.sephora.com/product/double-wear-stay-in-place-makeup-P378284']"
      ]
     },
     "execution_count": 507,
     "metadata": {},
     "output_type": "execute_result"
    }
   ],
   "source": [
    "product_url[:5]"
   ]
  },
  {
   "cell_type": "code",
   "execution_count": 508,
   "metadata": {},
   "outputs": [],
   "source": [
    "def get_product_url(url):\n",
    "    url = url\n",
    "    res = requests.get(url)\n",
    "    res.content\n",
    "    soup = BeautifulSoup(res.content, 'lxml')\n",
    "    product_grid = soup.find_all('script', {'type':\"application/ld+json\"})\n",
    "    \n",
    "    product_data = []\n",
    "    for row in product_grid[1].text.split('\"priceCurrency\":\"USD\"'):\n",
    "        product_data.append(row.split(','))\n",
    "            \n",
    "    product_url = []\n",
    "    for product in product_data[1:]:\n",
    "        for row in product:\n",
    "            if 'url' in row:\n",
    "                product_url.append(re.sub('[\"]', \"\", row.split(':',1)[1][1:-2]))\n",
    "    return product_url"
   ]
  },
  {
   "cell_type": "code",
   "execution_count": 834,
   "metadata": {},
   "outputs": [],
   "source": [
    "# Returns product id given the individual product url\n",
    "def product_id(url_list):\n",
    "    product_ids = []\n",
    "    count = 0\n",
    "    for i, url in enumerate(url_list):\n",
    "        url = url\n",
    "        res = requests.get(url)\n",
    "        res.content\n",
    "        soup = BeautifulSoup(res.content, 'lxml')\n",
    "        div = soup.find('div', {'class':'css-1owflha'})\n",
    "        try:\n",
    "            product_ids.append(div.contents[1].text.split('ITEM')[-1].strip())\n",
    "            count += 1\n",
    "        except:\n",
    "            pass\n",
    "        if count % 10 == 0:\n",
    "            print(f\"Product_id {count} retrieved\")\n",
    "    return product_ids"
   ]
  },
  {
   "cell_type": "code",
   "execution_count": 835,
   "metadata": {},
   "outputs": [],
   "source": [
    "# Takes in each sub level category as url\n",
    "def make_product_df(url):\n",
    "    product_df_data = []\n",
    "    url = url\n",
    "    res = requests.get(url)\n",
    "    res.content\n",
    "    soup = BeautifulSoup(res.content, 'lxml')\n",
    "    product_grid = soup.find_all('script', {'type':\"application/ld+json\"})\n",
    "    \n",
    "    # Split data on priceCurrency \n",
    "    product_data = []\n",
    "    for row in product_grid[1].text.split('\"priceCurrency\":\"USD\"'):\n",
    "        product_data.append(row.split(','))\n",
    "    \n",
    "    # Remove name:Sephora to return product name \n",
    "    for product in product_data:\n",
    "        if '\"name\":\"Sephora\"}' in product:\n",
    "            product.remove('\"name\":\"Sephora\"}')\n",
    "     \n",
    "    # Product information \n",
    "    for product in product_data[1:]:\n",
    "        products = {}    \n",
    "        for row in product:\n",
    "            if 'url' in row:\n",
    "                products['url'] = re.sub('[\"]', \"\", row.split(':',1)[1][1:-2])\n",
    "                \n",
    "            if '\"price\"' in row:\n",
    "                products['price'] = re.sub('[\"}]', \"\", row.split(\":\", 1)[1])\n",
    "                \n",
    "            if '\"lowPrice\"' in row:\n",
    "                products['sale_price'] = re.sub('[\"}]', \"\", row.split(\":\", 1)[1])\n",
    "                \n",
    "            if '\"highPrice\"' in row:\n",
    "                products['price'] = re.sub('[\"}]', \"\", row.split(\":\", 1)[1])\n",
    "\n",
    "            if 'category' in row:\n",
    "                products['category'] = re.sub('[\"}]', \"\", row.split(\":\", 1)[1])\n",
    "                \n",
    "            if 'brand' in row:\n",
    "                products['brand'] = re.sub('[\"}]', \"\", row.split(\":\", 1)[1])\n",
    "            \n",
    "            if '\"name\"' in row:\n",
    "                products['name'] = re.sub('[\"}]', \"\", row.split(\":\", 1)[1]) \n",
    "                \n",
    "        product_df_data.append(products)\n",
    "   \n",
    "    product_df = pd.DataFrame(product_df_data)\n",
    "    \n",
    "    # Returns product_id from individual product url \n",
    "    try: \n",
    "        product_df['product_id'] = product_id(product_df['url'])\n",
    "    except:\n",
    "        pass\n",
    "    return product_df"
   ]
  },
  {
   "cell_type": "code",
   "execution_count": 683,
   "metadata": {},
   "outputs": [],
   "source": [
    "# Pop in nth_level_hrefs \n",
    "def make_final_product_df(url_list):\n",
    "    for short_url in url_list:\n",
    "        long_url = 'https://www.sephora.com'+ short_url\n",
    "        make_product_df(long_url)"
   ]
  },
  {
   "cell_type": "code",
   "execution_count": 838,
   "metadata": {},
   "outputs": [],
   "source": [
    "# make_final_product_df(nth_hrefs)"
   ]
  },
  {
   "cell_type": "code",
   "execution_count": 646,
   "metadata": {},
   "outputs": [
    {
     "data": {
      "text/plain": [
       "['/shop/foundation-makeup',\n",
       " '/shop/bb-cc-cream-face-makeup',\n",
       " '/shop/tinted-moisturizer']"
      ]
     },
     "execution_count": 646,
     "metadata": {},
     "output_type": "execute_result"
    }
   ],
   "source": [
    "nth_hrefs[:3]"
   ]
  },
  {
   "cell_type": "code",
   "execution_count": 665,
   "metadata": {},
   "outputs": [
    {
     "data": {
      "text/plain": [
       "246"
      ]
     },
     "execution_count": 665,
     "metadata": {},
     "output_type": "execute_result"
    }
   ],
   "source": [
    "len(nth_hrefs)"
   ]
  },
  {
   "cell_type": "code",
   "execution_count": 837,
   "metadata": {},
   "outputs": [
    {
     "data": {
      "text/plain": [
       "'/shop/foundation-makeup'"
      ]
     },
     "execution_count": 837,
     "metadata": {},
     "output_type": "execute_result"
    }
   ],
   "source": [
    "makeup_nth_hrefs[0]"
   ]
  },
  {
   "cell_type": "code",
   "execution_count": 841,
   "metadata": {},
   "outputs": [
    {
     "ename": "ConnectionError",
     "evalue": "HTTPSConnectionPool(host='www.sephora', port=443): Max retries exceeded with url: /com/shop/bb-cc-cream-face-makeup (Caused by NewConnectionError('<urllib3.connection.VerifiedHTTPSConnection object at 0x1a33e7cd30>: Failed to establish a new connection: [Errno 8] nodename nor servname provided, or not known'))",
     "output_type": "error",
     "traceback": [
      "\u001b[0;31m---------------------------------------------------------------------------\u001b[0m",
      "\u001b[0;31mgaierror\u001b[0m                                  Traceback (most recent call last)",
      "\u001b[0;32m/anaconda3/envs/dsi/lib/python3.7/site-packages/urllib3/connection.py\u001b[0m in \u001b[0;36m_new_conn\u001b[0;34m(self)\u001b[0m\n\u001b[1;32m    158\u001b[0m             conn = connection.create_connection(\n\u001b[0;32m--> 159\u001b[0;31m                 (self._dns_host, self.port), self.timeout, **extra_kw)\n\u001b[0m\u001b[1;32m    160\u001b[0m \u001b[0;34m\u001b[0m\u001b[0m\n",
      "\u001b[0;32m/anaconda3/envs/dsi/lib/python3.7/site-packages/urllib3/util/connection.py\u001b[0m in \u001b[0;36mcreate_connection\u001b[0;34m(address, timeout, source_address, socket_options)\u001b[0m\n\u001b[1;32m     56\u001b[0m \u001b[0;34m\u001b[0m\u001b[0m\n\u001b[0;32m---> 57\u001b[0;31m     \u001b[0;32mfor\u001b[0m \u001b[0mres\u001b[0m \u001b[0;32min\u001b[0m \u001b[0msocket\u001b[0m\u001b[0;34m.\u001b[0m\u001b[0mgetaddrinfo\u001b[0m\u001b[0;34m(\u001b[0m\u001b[0mhost\u001b[0m\u001b[0;34m,\u001b[0m \u001b[0mport\u001b[0m\u001b[0;34m,\u001b[0m \u001b[0mfamily\u001b[0m\u001b[0;34m,\u001b[0m \u001b[0msocket\u001b[0m\u001b[0;34m.\u001b[0m\u001b[0mSOCK_STREAM\u001b[0m\u001b[0;34m)\u001b[0m\u001b[0;34m:\u001b[0m\u001b[0;34m\u001b[0m\u001b[0;34m\u001b[0m\u001b[0m\n\u001b[0m\u001b[1;32m     58\u001b[0m         \u001b[0maf\u001b[0m\u001b[0;34m,\u001b[0m \u001b[0msocktype\u001b[0m\u001b[0;34m,\u001b[0m \u001b[0mproto\u001b[0m\u001b[0;34m,\u001b[0m \u001b[0mcanonname\u001b[0m\u001b[0;34m,\u001b[0m \u001b[0msa\u001b[0m \u001b[0;34m=\u001b[0m \u001b[0mres\u001b[0m\u001b[0;34m\u001b[0m\u001b[0;34m\u001b[0m\u001b[0m\n",
      "\u001b[0;32m/anaconda3/envs/dsi/lib/python3.7/socket.py\u001b[0m in \u001b[0;36mgetaddrinfo\u001b[0;34m(host, port, family, type, proto, flags)\u001b[0m\n\u001b[1;32m    747\u001b[0m     \u001b[0maddrlist\u001b[0m \u001b[0;34m=\u001b[0m \u001b[0;34m[\u001b[0m\u001b[0;34m]\u001b[0m\u001b[0;34m\u001b[0m\u001b[0;34m\u001b[0m\u001b[0m\n\u001b[0;32m--> 748\u001b[0;31m     \u001b[0;32mfor\u001b[0m \u001b[0mres\u001b[0m \u001b[0;32min\u001b[0m \u001b[0m_socket\u001b[0m\u001b[0;34m.\u001b[0m\u001b[0mgetaddrinfo\u001b[0m\u001b[0;34m(\u001b[0m\u001b[0mhost\u001b[0m\u001b[0;34m,\u001b[0m \u001b[0mport\u001b[0m\u001b[0;34m,\u001b[0m \u001b[0mfamily\u001b[0m\u001b[0;34m,\u001b[0m \u001b[0mtype\u001b[0m\u001b[0;34m,\u001b[0m \u001b[0mproto\u001b[0m\u001b[0;34m,\u001b[0m \u001b[0mflags\u001b[0m\u001b[0;34m)\u001b[0m\u001b[0;34m:\u001b[0m\u001b[0;34m\u001b[0m\u001b[0;34m\u001b[0m\u001b[0m\n\u001b[0m\u001b[1;32m    749\u001b[0m         \u001b[0maf\u001b[0m\u001b[0;34m,\u001b[0m \u001b[0msocktype\u001b[0m\u001b[0;34m,\u001b[0m \u001b[0mproto\u001b[0m\u001b[0;34m,\u001b[0m \u001b[0mcanonname\u001b[0m\u001b[0;34m,\u001b[0m \u001b[0msa\u001b[0m \u001b[0;34m=\u001b[0m \u001b[0mres\u001b[0m\u001b[0;34m\u001b[0m\u001b[0;34m\u001b[0m\u001b[0m\n",
      "\u001b[0;31mgaierror\u001b[0m: [Errno 8] nodename nor servname provided, or not known",
      "\nDuring handling of the above exception, another exception occurred:\n",
      "\u001b[0;31mNewConnectionError\u001b[0m                        Traceback (most recent call last)",
      "\u001b[0;32m/anaconda3/envs/dsi/lib/python3.7/site-packages/urllib3/connectionpool.py\u001b[0m in \u001b[0;36murlopen\u001b[0;34m(self, method, url, body, headers, retries, redirect, assert_same_host, timeout, pool_timeout, release_conn, chunked, body_pos, **response_kw)\u001b[0m\n\u001b[1;32m    599\u001b[0m                                                   \u001b[0mbody\u001b[0m\u001b[0;34m=\u001b[0m\u001b[0mbody\u001b[0m\u001b[0;34m,\u001b[0m \u001b[0mheaders\u001b[0m\u001b[0;34m=\u001b[0m\u001b[0mheaders\u001b[0m\u001b[0;34m,\u001b[0m\u001b[0;34m\u001b[0m\u001b[0;34m\u001b[0m\u001b[0m\n\u001b[0;32m--> 600\u001b[0;31m                                                   chunked=chunked)\n\u001b[0m\u001b[1;32m    601\u001b[0m \u001b[0;34m\u001b[0m\u001b[0m\n",
      "\u001b[0;32m/anaconda3/envs/dsi/lib/python3.7/site-packages/urllib3/connectionpool.py\u001b[0m in \u001b[0;36m_make_request\u001b[0;34m(self, conn, method, url, timeout, chunked, **httplib_request_kw)\u001b[0m\n\u001b[1;32m    342\u001b[0m         \u001b[0;32mtry\u001b[0m\u001b[0;34m:\u001b[0m\u001b[0;34m\u001b[0m\u001b[0;34m\u001b[0m\u001b[0m\n\u001b[0;32m--> 343\u001b[0;31m             \u001b[0mself\u001b[0m\u001b[0;34m.\u001b[0m\u001b[0m_validate_conn\u001b[0m\u001b[0;34m(\u001b[0m\u001b[0mconn\u001b[0m\u001b[0;34m)\u001b[0m\u001b[0;34m\u001b[0m\u001b[0;34m\u001b[0m\u001b[0m\n\u001b[0m\u001b[1;32m    344\u001b[0m         \u001b[0;32mexcept\u001b[0m \u001b[0;34m(\u001b[0m\u001b[0mSocketTimeout\u001b[0m\u001b[0;34m,\u001b[0m \u001b[0mBaseSSLError\u001b[0m\u001b[0;34m)\u001b[0m \u001b[0;32mas\u001b[0m \u001b[0me\u001b[0m\u001b[0;34m:\u001b[0m\u001b[0;34m\u001b[0m\u001b[0;34m\u001b[0m\u001b[0m\n",
      "\u001b[0;32m/anaconda3/envs/dsi/lib/python3.7/site-packages/urllib3/connectionpool.py\u001b[0m in \u001b[0;36m_validate_conn\u001b[0;34m(self, conn)\u001b[0m\n\u001b[1;32m    838\u001b[0m         \u001b[0;32mif\u001b[0m \u001b[0;32mnot\u001b[0m \u001b[0mgetattr\u001b[0m\u001b[0;34m(\u001b[0m\u001b[0mconn\u001b[0m\u001b[0;34m,\u001b[0m \u001b[0;34m'sock'\u001b[0m\u001b[0;34m,\u001b[0m \u001b[0;32mNone\u001b[0m\u001b[0;34m)\u001b[0m\u001b[0;34m:\u001b[0m  \u001b[0;31m# AppEngine might not have  `.sock`\u001b[0m\u001b[0;34m\u001b[0m\u001b[0;34m\u001b[0m\u001b[0m\n\u001b[0;32m--> 839\u001b[0;31m             \u001b[0mconn\u001b[0m\u001b[0;34m.\u001b[0m\u001b[0mconnect\u001b[0m\u001b[0;34m(\u001b[0m\u001b[0;34m)\u001b[0m\u001b[0;34m\u001b[0m\u001b[0;34m\u001b[0m\u001b[0m\n\u001b[0m\u001b[1;32m    840\u001b[0m \u001b[0;34m\u001b[0m\u001b[0m\n",
      "\u001b[0;32m/anaconda3/envs/dsi/lib/python3.7/site-packages/urllib3/connection.py\u001b[0m in \u001b[0;36mconnect\u001b[0;34m(self)\u001b[0m\n\u001b[1;32m    300\u001b[0m         \u001b[0;31m# Add certificate verification\u001b[0m\u001b[0;34m\u001b[0m\u001b[0;34m\u001b[0m\u001b[0;34m\u001b[0m\u001b[0m\n\u001b[0;32m--> 301\u001b[0;31m         \u001b[0mconn\u001b[0m \u001b[0;34m=\u001b[0m \u001b[0mself\u001b[0m\u001b[0;34m.\u001b[0m\u001b[0m_new_conn\u001b[0m\u001b[0;34m(\u001b[0m\u001b[0;34m)\u001b[0m\u001b[0;34m\u001b[0m\u001b[0;34m\u001b[0m\u001b[0m\n\u001b[0m\u001b[1;32m    302\u001b[0m         \u001b[0mhostname\u001b[0m \u001b[0;34m=\u001b[0m \u001b[0mself\u001b[0m\u001b[0;34m.\u001b[0m\u001b[0mhost\u001b[0m\u001b[0;34m\u001b[0m\u001b[0;34m\u001b[0m\u001b[0m\n",
      "\u001b[0;32m/anaconda3/envs/dsi/lib/python3.7/site-packages/urllib3/connection.py\u001b[0m in \u001b[0;36m_new_conn\u001b[0;34m(self)\u001b[0m\n\u001b[1;32m    167\u001b[0m             raise NewConnectionError(\n\u001b[0;32m--> 168\u001b[0;31m                 self, \"Failed to establish a new connection: %s\" % e)\n\u001b[0m\u001b[1;32m    169\u001b[0m \u001b[0;34m\u001b[0m\u001b[0m\n",
      "\u001b[0;31mNewConnectionError\u001b[0m: <urllib3.connection.VerifiedHTTPSConnection object at 0x1a33e7cd30>: Failed to establish a new connection: [Errno 8] nodename nor servname provided, or not known",
      "\nDuring handling of the above exception, another exception occurred:\n",
      "\u001b[0;31mMaxRetryError\u001b[0m                             Traceback (most recent call last)",
      "\u001b[0;32m/anaconda3/envs/dsi/lib/python3.7/site-packages/requests/adapters.py\u001b[0m in \u001b[0;36msend\u001b[0;34m(self, request, stream, timeout, verify, cert, proxies)\u001b[0m\n\u001b[1;32m    448\u001b[0m                     \u001b[0mretries\u001b[0m\u001b[0;34m=\u001b[0m\u001b[0mself\u001b[0m\u001b[0;34m.\u001b[0m\u001b[0mmax_retries\u001b[0m\u001b[0;34m,\u001b[0m\u001b[0;34m\u001b[0m\u001b[0;34m\u001b[0m\u001b[0m\n\u001b[0;32m--> 449\u001b[0;31m                     \u001b[0mtimeout\u001b[0m\u001b[0;34m=\u001b[0m\u001b[0mtimeout\u001b[0m\u001b[0;34m\u001b[0m\u001b[0;34m\u001b[0m\u001b[0m\n\u001b[0m\u001b[1;32m    450\u001b[0m                 )\n",
      "\u001b[0;32m/anaconda3/envs/dsi/lib/python3.7/site-packages/urllib3/connectionpool.py\u001b[0m in \u001b[0;36murlopen\u001b[0;34m(self, method, url, body, headers, retries, redirect, assert_same_host, timeout, pool_timeout, release_conn, chunked, body_pos, **response_kw)\u001b[0m\n\u001b[1;32m    637\u001b[0m             retries = retries.increment(method, url, error=e, _pool=self,\n\u001b[0;32m--> 638\u001b[0;31m                                         _stacktrace=sys.exc_info()[2])\n\u001b[0m\u001b[1;32m    639\u001b[0m             \u001b[0mretries\u001b[0m\u001b[0;34m.\u001b[0m\u001b[0msleep\u001b[0m\u001b[0;34m(\u001b[0m\u001b[0;34m)\u001b[0m\u001b[0;34m\u001b[0m\u001b[0;34m\u001b[0m\u001b[0m\n",
      "\u001b[0;32m/anaconda3/envs/dsi/lib/python3.7/site-packages/urllib3/util/retry.py\u001b[0m in \u001b[0;36mincrement\u001b[0;34m(self, method, url, response, error, _pool, _stacktrace)\u001b[0m\n\u001b[1;32m    398\u001b[0m         \u001b[0;32mif\u001b[0m \u001b[0mnew_retry\u001b[0m\u001b[0;34m.\u001b[0m\u001b[0mis_exhausted\u001b[0m\u001b[0;34m(\u001b[0m\u001b[0;34m)\u001b[0m\u001b[0;34m:\u001b[0m\u001b[0;34m\u001b[0m\u001b[0;34m\u001b[0m\u001b[0m\n\u001b[0;32m--> 399\u001b[0;31m             \u001b[0;32mraise\u001b[0m \u001b[0mMaxRetryError\u001b[0m\u001b[0;34m(\u001b[0m\u001b[0m_pool\u001b[0m\u001b[0;34m,\u001b[0m \u001b[0murl\u001b[0m\u001b[0;34m,\u001b[0m \u001b[0merror\u001b[0m \u001b[0;32mor\u001b[0m \u001b[0mResponseError\u001b[0m\u001b[0;34m(\u001b[0m\u001b[0mcause\u001b[0m\u001b[0;34m)\u001b[0m\u001b[0;34m)\u001b[0m\u001b[0;34m\u001b[0m\u001b[0;34m\u001b[0m\u001b[0m\n\u001b[0m\u001b[1;32m    400\u001b[0m \u001b[0;34m\u001b[0m\u001b[0m\n",
      "\u001b[0;31mMaxRetryError\u001b[0m: HTTPSConnectionPool(host='www.sephora', port=443): Max retries exceeded with url: /com/shop/bb-cc-cream-face-makeup (Caused by NewConnectionError('<urllib3.connection.VerifiedHTTPSConnection object at 0x1a33e7cd30>: Failed to establish a new connection: [Errno 8] nodename nor servname provided, or not known'))",
      "\nDuring handling of the above exception, another exception occurred:\n",
      "\u001b[0;31mConnectionError\u001b[0m                           Traceback (most recent call last)",
      "\u001b[0;32m<ipython-input-841-49bccf98c52b>\u001b[0m in \u001b[0;36m<module>\u001b[0;34m\u001b[0m\n\u001b[1;32m      1\u001b[0m \u001b[0mproduct_df_data\u001b[0m \u001b[0;34m=\u001b[0m \u001b[0;34m[\u001b[0m\u001b[0;34m]\u001b[0m\u001b[0;34m\u001b[0m\u001b[0;34m\u001b[0m\u001b[0m\n\u001b[1;32m      2\u001b[0m \u001b[0murl\u001b[0m \u001b[0;34m=\u001b[0m \u001b[0;34m'https://www.sephora/com/shop/bb-cc-cream-face-makeup'\u001b[0m\u001b[0;34m\u001b[0m\u001b[0;34m\u001b[0m\u001b[0m\n\u001b[0;32m----> 3\u001b[0;31m \u001b[0mres\u001b[0m \u001b[0;34m=\u001b[0m \u001b[0mrequests\u001b[0m\u001b[0;34m.\u001b[0m\u001b[0mget\u001b[0m\u001b[0;34m(\u001b[0m\u001b[0murl\u001b[0m\u001b[0;34m)\u001b[0m\u001b[0;34m\u001b[0m\u001b[0;34m\u001b[0m\u001b[0m\n\u001b[0m\u001b[1;32m      4\u001b[0m \u001b[0mres\u001b[0m\u001b[0;34m.\u001b[0m\u001b[0mcontent\u001b[0m\u001b[0;34m\u001b[0m\u001b[0;34m\u001b[0m\u001b[0m\n\u001b[1;32m      5\u001b[0m \u001b[0msoup\u001b[0m \u001b[0;34m=\u001b[0m \u001b[0mBeautifulSoup\u001b[0m\u001b[0;34m(\u001b[0m\u001b[0mres\u001b[0m\u001b[0;34m.\u001b[0m\u001b[0mcontent\u001b[0m\u001b[0;34m,\u001b[0m \u001b[0;34m'lxml'\u001b[0m\u001b[0;34m)\u001b[0m\u001b[0;34m\u001b[0m\u001b[0;34m\u001b[0m\u001b[0m\n",
      "\u001b[0;32m/anaconda3/envs/dsi/lib/python3.7/site-packages/requests/api.py\u001b[0m in \u001b[0;36mget\u001b[0;34m(url, params, **kwargs)\u001b[0m\n\u001b[1;32m     73\u001b[0m \u001b[0;34m\u001b[0m\u001b[0m\n\u001b[1;32m     74\u001b[0m     \u001b[0mkwargs\u001b[0m\u001b[0;34m.\u001b[0m\u001b[0msetdefault\u001b[0m\u001b[0;34m(\u001b[0m\u001b[0;34m'allow_redirects'\u001b[0m\u001b[0;34m,\u001b[0m \u001b[0;32mTrue\u001b[0m\u001b[0;34m)\u001b[0m\u001b[0;34m\u001b[0m\u001b[0;34m\u001b[0m\u001b[0m\n\u001b[0;32m---> 75\u001b[0;31m     \u001b[0;32mreturn\u001b[0m \u001b[0mrequest\u001b[0m\u001b[0;34m(\u001b[0m\u001b[0;34m'get'\u001b[0m\u001b[0;34m,\u001b[0m \u001b[0murl\u001b[0m\u001b[0;34m,\u001b[0m \u001b[0mparams\u001b[0m\u001b[0;34m=\u001b[0m\u001b[0mparams\u001b[0m\u001b[0;34m,\u001b[0m \u001b[0;34m**\u001b[0m\u001b[0mkwargs\u001b[0m\u001b[0;34m)\u001b[0m\u001b[0;34m\u001b[0m\u001b[0;34m\u001b[0m\u001b[0m\n\u001b[0m\u001b[1;32m     76\u001b[0m \u001b[0;34m\u001b[0m\u001b[0m\n\u001b[1;32m     77\u001b[0m \u001b[0;34m\u001b[0m\u001b[0m\n",
      "\u001b[0;32m/anaconda3/envs/dsi/lib/python3.7/site-packages/requests/api.py\u001b[0m in \u001b[0;36mrequest\u001b[0;34m(method, url, **kwargs)\u001b[0m\n\u001b[1;32m     58\u001b[0m     \u001b[0;31m# cases, and look like a memory leak in others.\u001b[0m\u001b[0;34m\u001b[0m\u001b[0;34m\u001b[0m\u001b[0;34m\u001b[0m\u001b[0m\n\u001b[1;32m     59\u001b[0m     \u001b[0;32mwith\u001b[0m \u001b[0msessions\u001b[0m\u001b[0;34m.\u001b[0m\u001b[0mSession\u001b[0m\u001b[0;34m(\u001b[0m\u001b[0;34m)\u001b[0m \u001b[0;32mas\u001b[0m \u001b[0msession\u001b[0m\u001b[0;34m:\u001b[0m\u001b[0;34m\u001b[0m\u001b[0;34m\u001b[0m\u001b[0m\n\u001b[0;32m---> 60\u001b[0;31m         \u001b[0;32mreturn\u001b[0m \u001b[0msession\u001b[0m\u001b[0;34m.\u001b[0m\u001b[0mrequest\u001b[0m\u001b[0;34m(\u001b[0m\u001b[0mmethod\u001b[0m\u001b[0;34m=\u001b[0m\u001b[0mmethod\u001b[0m\u001b[0;34m,\u001b[0m \u001b[0murl\u001b[0m\u001b[0;34m=\u001b[0m\u001b[0murl\u001b[0m\u001b[0;34m,\u001b[0m \u001b[0;34m**\u001b[0m\u001b[0mkwargs\u001b[0m\u001b[0;34m)\u001b[0m\u001b[0;34m\u001b[0m\u001b[0;34m\u001b[0m\u001b[0m\n\u001b[0m\u001b[1;32m     61\u001b[0m \u001b[0;34m\u001b[0m\u001b[0m\n\u001b[1;32m     62\u001b[0m \u001b[0;34m\u001b[0m\u001b[0m\n",
      "\u001b[0;32m/anaconda3/envs/dsi/lib/python3.7/site-packages/requests/sessions.py\u001b[0m in \u001b[0;36mrequest\u001b[0;34m(self, method, url, params, data, headers, cookies, files, auth, timeout, allow_redirects, proxies, hooks, stream, verify, cert, json)\u001b[0m\n\u001b[1;32m    531\u001b[0m         }\n\u001b[1;32m    532\u001b[0m         \u001b[0msend_kwargs\u001b[0m\u001b[0;34m.\u001b[0m\u001b[0mupdate\u001b[0m\u001b[0;34m(\u001b[0m\u001b[0msettings\u001b[0m\u001b[0;34m)\u001b[0m\u001b[0;34m\u001b[0m\u001b[0;34m\u001b[0m\u001b[0m\n\u001b[0;32m--> 533\u001b[0;31m         \u001b[0mresp\u001b[0m \u001b[0;34m=\u001b[0m \u001b[0mself\u001b[0m\u001b[0;34m.\u001b[0m\u001b[0msend\u001b[0m\u001b[0;34m(\u001b[0m\u001b[0mprep\u001b[0m\u001b[0;34m,\u001b[0m \u001b[0;34m**\u001b[0m\u001b[0msend_kwargs\u001b[0m\u001b[0;34m)\u001b[0m\u001b[0;34m\u001b[0m\u001b[0;34m\u001b[0m\u001b[0m\n\u001b[0m\u001b[1;32m    534\u001b[0m \u001b[0;34m\u001b[0m\u001b[0m\n\u001b[1;32m    535\u001b[0m         \u001b[0;32mreturn\u001b[0m \u001b[0mresp\u001b[0m\u001b[0;34m\u001b[0m\u001b[0;34m\u001b[0m\u001b[0m\n",
      "\u001b[0;32m/anaconda3/envs/dsi/lib/python3.7/site-packages/requests/sessions.py\u001b[0m in \u001b[0;36msend\u001b[0;34m(self, request, **kwargs)\u001b[0m\n\u001b[1;32m    644\u001b[0m \u001b[0;34m\u001b[0m\u001b[0m\n\u001b[1;32m    645\u001b[0m         \u001b[0;31m# Send the request\u001b[0m\u001b[0;34m\u001b[0m\u001b[0;34m\u001b[0m\u001b[0;34m\u001b[0m\u001b[0m\n\u001b[0;32m--> 646\u001b[0;31m         \u001b[0mr\u001b[0m \u001b[0;34m=\u001b[0m \u001b[0madapter\u001b[0m\u001b[0;34m.\u001b[0m\u001b[0msend\u001b[0m\u001b[0;34m(\u001b[0m\u001b[0mrequest\u001b[0m\u001b[0;34m,\u001b[0m \u001b[0;34m**\u001b[0m\u001b[0mkwargs\u001b[0m\u001b[0;34m)\u001b[0m\u001b[0;34m\u001b[0m\u001b[0;34m\u001b[0m\u001b[0m\n\u001b[0m\u001b[1;32m    647\u001b[0m \u001b[0;34m\u001b[0m\u001b[0m\n\u001b[1;32m    648\u001b[0m         \u001b[0;31m# Total elapsed time of the request (approximately)\u001b[0m\u001b[0;34m\u001b[0m\u001b[0;34m\u001b[0m\u001b[0;34m\u001b[0m\u001b[0m\n",
      "\u001b[0;32m/anaconda3/envs/dsi/lib/python3.7/site-packages/requests/adapters.py\u001b[0m in \u001b[0;36msend\u001b[0;34m(self, request, stream, timeout, verify, cert, proxies)\u001b[0m\n\u001b[1;32m    514\u001b[0m                 \u001b[0;32mraise\u001b[0m \u001b[0mSSLError\u001b[0m\u001b[0;34m(\u001b[0m\u001b[0me\u001b[0m\u001b[0;34m,\u001b[0m \u001b[0mrequest\u001b[0m\u001b[0;34m=\u001b[0m\u001b[0mrequest\u001b[0m\u001b[0;34m)\u001b[0m\u001b[0;34m\u001b[0m\u001b[0;34m\u001b[0m\u001b[0m\n\u001b[1;32m    515\u001b[0m \u001b[0;34m\u001b[0m\u001b[0m\n\u001b[0;32m--> 516\u001b[0;31m             \u001b[0;32mraise\u001b[0m \u001b[0mConnectionError\u001b[0m\u001b[0;34m(\u001b[0m\u001b[0me\u001b[0m\u001b[0;34m,\u001b[0m \u001b[0mrequest\u001b[0m\u001b[0;34m=\u001b[0m\u001b[0mrequest\u001b[0m\u001b[0;34m)\u001b[0m\u001b[0;34m\u001b[0m\u001b[0;34m\u001b[0m\u001b[0m\n\u001b[0m\u001b[1;32m    517\u001b[0m \u001b[0;34m\u001b[0m\u001b[0m\n\u001b[1;32m    518\u001b[0m         \u001b[0;32mexcept\u001b[0m \u001b[0mClosedPoolError\u001b[0m \u001b[0;32mas\u001b[0m \u001b[0me\u001b[0m\u001b[0;34m:\u001b[0m\u001b[0;34m\u001b[0m\u001b[0;34m\u001b[0m\u001b[0m\n",
      "\u001b[0;31mConnectionError\u001b[0m: HTTPSConnectionPool(host='www.sephora', port=443): Max retries exceeded with url: /com/shop/bb-cc-cream-face-makeup (Caused by NewConnectionError('<urllib3.connection.VerifiedHTTPSConnection object at 0x1a33e7cd30>: Failed to establish a new connection: [Errno 8] nodename nor servname provided, or not known'))"
     ]
    }
   ],
   "source": [
    "product_df_data = []\n",
    "url = 'https://www.sephora/com/shop/bb-cc-cream-face-makeup'\n",
    "res = requests.get(url)\n",
    "res.content\n",
    "soup = BeautifulSoup(res.content, 'lxml')\n",
    "product_grid = soup.find_all('script', {'type':\"application/ld+json\"})"
   ]
  },
  {
   "cell_type": "code",
   "execution_count": 829,
   "metadata": {},
   "outputs": [
    {
     "ename": "KeyError",
     "evalue": "'url_1'",
     "output_type": "error",
     "traceback": [
      "\u001b[0;31m---------------------------------------------------------------------------\u001b[0m",
      "\u001b[0;31mKeyError\u001b[0m                                  Traceback (most recent call last)",
      "\u001b[0;32m/anaconda3/envs/dsi/lib/python3.7/site-packages/pandas/core/indexes/base.py\u001b[0m in \u001b[0;36mget_loc\u001b[0;34m(self, key, method, tolerance)\u001b[0m\n\u001b[1;32m   2656\u001b[0m             \u001b[0;32mtry\u001b[0m\u001b[0;34m:\u001b[0m\u001b[0;34m\u001b[0m\u001b[0;34m\u001b[0m\u001b[0m\n\u001b[0;32m-> 2657\u001b[0;31m                 \u001b[0;32mreturn\u001b[0m \u001b[0mself\u001b[0m\u001b[0;34m.\u001b[0m\u001b[0m_engine\u001b[0m\u001b[0;34m.\u001b[0m\u001b[0mget_loc\u001b[0m\u001b[0;34m(\u001b[0m\u001b[0mkey\u001b[0m\u001b[0;34m)\u001b[0m\u001b[0;34m\u001b[0m\u001b[0;34m\u001b[0m\u001b[0m\n\u001b[0m\u001b[1;32m   2658\u001b[0m             \u001b[0;32mexcept\u001b[0m \u001b[0mKeyError\u001b[0m\u001b[0;34m:\u001b[0m\u001b[0;34m\u001b[0m\u001b[0;34m\u001b[0m\u001b[0m\n",
      "\u001b[0;32mpandas/_libs/index.pyx\u001b[0m in \u001b[0;36mpandas._libs.index.IndexEngine.get_loc\u001b[0;34m()\u001b[0m\n",
      "\u001b[0;32mpandas/_libs/index.pyx\u001b[0m in \u001b[0;36mpandas._libs.index.IndexEngine.get_loc\u001b[0;34m()\u001b[0m\n",
      "\u001b[0;32mpandas/_libs/hashtable_class_helper.pxi\u001b[0m in \u001b[0;36mpandas._libs.hashtable.PyObjectHashTable.get_item\u001b[0;34m()\u001b[0m\n",
      "\u001b[0;32mpandas/_libs/hashtable_class_helper.pxi\u001b[0m in \u001b[0;36mpandas._libs.hashtable.PyObjectHashTable.get_item\u001b[0;34m()\u001b[0m\n",
      "\u001b[0;31mKeyError\u001b[0m: 'url_1'",
      "\nDuring handling of the above exception, another exception occurred:\n",
      "\u001b[0;31mKeyError\u001b[0m                                  Traceback (most recent call last)",
      "\u001b[0;32m<ipython-input-829-73c9bb31dbc6>\u001b[0m in \u001b[0;36m<module>\u001b[0;34m\u001b[0m\n\u001b[1;32m      2\u001b[0m \u001b[0;32mfor\u001b[0m \u001b[0mlink\u001b[0m \u001b[0;32min\u001b[0m \u001b[0mmakeup_nth_hrefs\u001b[0m\u001b[0;34m:\u001b[0m\u001b[0;34m\u001b[0m\u001b[0;34m\u001b[0m\u001b[0m\n\u001b[1;32m      3\u001b[0m     \u001b[0murl\u001b[0m \u001b[0;34m=\u001b[0m \u001b[0;34m'https://www.sephora.com'\u001b[0m \u001b[0;34m+\u001b[0m \u001b[0mlink\u001b[0m\u001b[0;34m\u001b[0m\u001b[0;34m\u001b[0m\u001b[0m\n\u001b[0;32m----> 4\u001b[0;31m     \u001b[0mdf\u001b[0m \u001b[0;34m=\u001b[0m \u001b[0mmake_product_df\u001b[0m\u001b[0;34m(\u001b[0m\u001b[0murl\u001b[0m\u001b[0;34m)\u001b[0m\u001b[0;34m\u001b[0m\u001b[0;34m\u001b[0m\u001b[0m\n\u001b[0m\u001b[1;32m      5\u001b[0m     \u001b[0mdfs\u001b[0m\u001b[0;34m.\u001b[0m\u001b[0mappend\u001b[0m\u001b[0;34m(\u001b[0m\u001b[0mdf\u001b[0m\u001b[0;34m)\u001b[0m\u001b[0;34m\u001b[0m\u001b[0;34m\u001b[0m\u001b[0m\n",
      "\u001b[0;32m<ipython-input-828-ff85762769d8>\u001b[0m in \u001b[0;36mmake_product_df\u001b[0;34m(url)\u001b[0m\n\u001b[1;32m     49\u001b[0m     \u001b[0;31m# Returns product_id from individual product url\u001b[0m\u001b[0;34m\u001b[0m\u001b[0;34m\u001b[0m\u001b[0;34m\u001b[0m\u001b[0m\n\u001b[1;32m     50\u001b[0m \u001b[0;34m\u001b[0m\u001b[0m\n\u001b[0;32m---> 51\u001b[0;31m     \u001b[0mproduct_df\u001b[0m\u001b[0;34m[\u001b[0m\u001b[0;34m'product_id'\u001b[0m\u001b[0;34m]\u001b[0m \u001b[0;34m=\u001b[0m \u001b[0mproduct_id\u001b[0m\u001b[0;34m(\u001b[0m\u001b[0mproduct_df\u001b[0m\u001b[0;34m[\u001b[0m\u001b[0;34m'url_1'\u001b[0m\u001b[0;34m]\u001b[0m\u001b[0;34m)\u001b[0m\u001b[0;34m\u001b[0m\u001b[0;34m\u001b[0m\u001b[0m\n\u001b[0m\u001b[1;32m     52\u001b[0m \u001b[0;34m\u001b[0m\u001b[0m\n\u001b[1;32m     53\u001b[0m     \u001b[0;32mreturn\u001b[0m \u001b[0mproduct_df\u001b[0m\u001b[0;34m\u001b[0m\u001b[0;34m\u001b[0m\u001b[0m\n",
      "\u001b[0;32m/anaconda3/envs/dsi/lib/python3.7/site-packages/pandas/core/frame.py\u001b[0m in \u001b[0;36m__getitem__\u001b[0;34m(self, key)\u001b[0m\n\u001b[1;32m   2925\u001b[0m             \u001b[0;32mif\u001b[0m \u001b[0mself\u001b[0m\u001b[0;34m.\u001b[0m\u001b[0mcolumns\u001b[0m\u001b[0;34m.\u001b[0m\u001b[0mnlevels\u001b[0m \u001b[0;34m>\u001b[0m \u001b[0;36m1\u001b[0m\u001b[0;34m:\u001b[0m\u001b[0;34m\u001b[0m\u001b[0;34m\u001b[0m\u001b[0m\n\u001b[1;32m   2926\u001b[0m                 \u001b[0;32mreturn\u001b[0m \u001b[0mself\u001b[0m\u001b[0;34m.\u001b[0m\u001b[0m_getitem_multilevel\u001b[0m\u001b[0;34m(\u001b[0m\u001b[0mkey\u001b[0m\u001b[0;34m)\u001b[0m\u001b[0;34m\u001b[0m\u001b[0;34m\u001b[0m\u001b[0m\n\u001b[0;32m-> 2927\u001b[0;31m             \u001b[0mindexer\u001b[0m \u001b[0;34m=\u001b[0m \u001b[0mself\u001b[0m\u001b[0;34m.\u001b[0m\u001b[0mcolumns\u001b[0m\u001b[0;34m.\u001b[0m\u001b[0mget_loc\u001b[0m\u001b[0;34m(\u001b[0m\u001b[0mkey\u001b[0m\u001b[0;34m)\u001b[0m\u001b[0;34m\u001b[0m\u001b[0;34m\u001b[0m\u001b[0m\n\u001b[0m\u001b[1;32m   2928\u001b[0m             \u001b[0;32mif\u001b[0m \u001b[0mis_integer\u001b[0m\u001b[0;34m(\u001b[0m\u001b[0mindexer\u001b[0m\u001b[0;34m)\u001b[0m\u001b[0;34m:\u001b[0m\u001b[0;34m\u001b[0m\u001b[0;34m\u001b[0m\u001b[0m\n\u001b[1;32m   2929\u001b[0m                 \u001b[0mindexer\u001b[0m \u001b[0;34m=\u001b[0m \u001b[0;34m[\u001b[0m\u001b[0mindexer\u001b[0m\u001b[0;34m]\u001b[0m\u001b[0;34m\u001b[0m\u001b[0;34m\u001b[0m\u001b[0m\n",
      "\u001b[0;32m/anaconda3/envs/dsi/lib/python3.7/site-packages/pandas/core/indexes/base.py\u001b[0m in \u001b[0;36mget_loc\u001b[0;34m(self, key, method, tolerance)\u001b[0m\n\u001b[1;32m   2657\u001b[0m                 \u001b[0;32mreturn\u001b[0m \u001b[0mself\u001b[0m\u001b[0;34m.\u001b[0m\u001b[0m_engine\u001b[0m\u001b[0;34m.\u001b[0m\u001b[0mget_loc\u001b[0m\u001b[0;34m(\u001b[0m\u001b[0mkey\u001b[0m\u001b[0;34m)\u001b[0m\u001b[0;34m\u001b[0m\u001b[0;34m\u001b[0m\u001b[0m\n\u001b[1;32m   2658\u001b[0m             \u001b[0;32mexcept\u001b[0m \u001b[0mKeyError\u001b[0m\u001b[0;34m:\u001b[0m\u001b[0;34m\u001b[0m\u001b[0;34m\u001b[0m\u001b[0m\n\u001b[0;32m-> 2659\u001b[0;31m                 \u001b[0;32mreturn\u001b[0m \u001b[0mself\u001b[0m\u001b[0;34m.\u001b[0m\u001b[0m_engine\u001b[0m\u001b[0;34m.\u001b[0m\u001b[0mget_loc\u001b[0m\u001b[0;34m(\u001b[0m\u001b[0mself\u001b[0m\u001b[0;34m.\u001b[0m\u001b[0m_maybe_cast_indexer\u001b[0m\u001b[0;34m(\u001b[0m\u001b[0mkey\u001b[0m\u001b[0;34m)\u001b[0m\u001b[0;34m)\u001b[0m\u001b[0;34m\u001b[0m\u001b[0;34m\u001b[0m\u001b[0m\n\u001b[0m\u001b[1;32m   2660\u001b[0m         \u001b[0mindexer\u001b[0m \u001b[0;34m=\u001b[0m \u001b[0mself\u001b[0m\u001b[0;34m.\u001b[0m\u001b[0mget_indexer\u001b[0m\u001b[0;34m(\u001b[0m\u001b[0;34m[\u001b[0m\u001b[0mkey\u001b[0m\u001b[0;34m]\u001b[0m\u001b[0;34m,\u001b[0m \u001b[0mmethod\u001b[0m\u001b[0;34m=\u001b[0m\u001b[0mmethod\u001b[0m\u001b[0;34m,\u001b[0m \u001b[0mtolerance\u001b[0m\u001b[0;34m=\u001b[0m\u001b[0mtolerance\u001b[0m\u001b[0;34m)\u001b[0m\u001b[0;34m\u001b[0m\u001b[0;34m\u001b[0m\u001b[0m\n\u001b[1;32m   2661\u001b[0m         \u001b[0;32mif\u001b[0m \u001b[0mindexer\u001b[0m\u001b[0;34m.\u001b[0m\u001b[0mndim\u001b[0m \u001b[0;34m>\u001b[0m \u001b[0;36m1\u001b[0m \u001b[0;32mor\u001b[0m \u001b[0mindexer\u001b[0m\u001b[0;34m.\u001b[0m\u001b[0msize\u001b[0m \u001b[0;34m>\u001b[0m \u001b[0;36m1\u001b[0m\u001b[0;34m:\u001b[0m\u001b[0;34m\u001b[0m\u001b[0;34m\u001b[0m\u001b[0m\n",
      "\u001b[0;32mpandas/_libs/index.pyx\u001b[0m in \u001b[0;36mpandas._libs.index.IndexEngine.get_loc\u001b[0;34m()\u001b[0m\n",
      "\u001b[0;32mpandas/_libs/index.pyx\u001b[0m in \u001b[0;36mpandas._libs.index.IndexEngine.get_loc\u001b[0;34m()\u001b[0m\n",
      "\u001b[0;32mpandas/_libs/hashtable_class_helper.pxi\u001b[0m in \u001b[0;36mpandas._libs.hashtable.PyObjectHashTable.get_item\u001b[0;34m()\u001b[0m\n",
      "\u001b[0;32mpandas/_libs/hashtable_class_helper.pxi\u001b[0m in \u001b[0;36mpandas._libs.hashtable.PyObjectHashTable.get_item\u001b[0;34m()\u001b[0m\n",
      "\u001b[0;31mKeyError\u001b[0m: 'url_1'"
     ]
    }
   ],
   "source": [
    "dfs = []\n",
    "for link in makeup_nth_hrefs:\n",
    "    url = 'https://www.sephora.com' + link\n",
    "    df = make_product_df(url)\n",
    "    dfs.append(df)\n",
    "    time.sleep(5)"
   ]
  },
  {
   "cell_type": "code",
   "execution_count": 686,
   "metadata": {},
   "outputs": [],
   "source": [
    "# Like 30?\n",
    "dfs_test = pd.concat(dfs)"
   ]
  },
  {
   "cell_type": "code",
   "execution_count": 688,
   "metadata": {},
   "outputs": [],
   "source": [
    "dfs_test.reset_index(inplace = True, drop= True)"
   ]
  },
  {
   "cell_type": "code",
   "execution_count": 821,
   "metadata": {},
   "outputs": [
    {
     "data": {
      "text/plain": [
       "(1387, 7)"
      ]
     },
     "execution_count": 821,
     "metadata": {},
     "output_type": "execute_result"
    }
   ],
   "source": [
    "dfs_test.shape"
   ]
  },
  {
   "cell_type": "code",
   "execution_count": 823,
   "metadata": {},
   "outputs": [
    {
     "data": {
      "text/html": [
       "<div>\n",
       "<style scoped>\n",
       "    .dataframe tbody tr th:only-of-type {\n",
       "        vertical-align: middle;\n",
       "    }\n",
       "\n",
       "    .dataframe tbody tr th {\n",
       "        vertical-align: top;\n",
       "    }\n",
       "\n",
       "    .dataframe thead th {\n",
       "        text-align: right;\n",
       "    }\n",
       "</style>\n",
       "<table border=\"1\" class=\"dataframe\">\n",
       "  <thead>\n",
       "    <tr style=\"text-align: right;\">\n",
       "      <th></th>\n",
       "      <th>brand</th>\n",
       "      <th>category</th>\n",
       "      <th>name</th>\n",
       "      <th>price</th>\n",
       "      <th>sale_price</th>\n",
       "      <th>url</th>\n",
       "      <th>product_id</th>\n",
       "    </tr>\n",
       "  </thead>\n",
       "  <tbody>\n",
       "    <tr>\n",
       "      <th>0</th>\n",
       "      <td>FENTY BEAUTY by Rihanna</td>\n",
       "      <td>Foundation</td>\n",
       "      <td>Pro Filt'r Hydrating Longwear Foundation</td>\n",
       "      <td>35.00</td>\n",
       "      <td>NaN</td>\n",
       "      <td>https://www.sephora.com/product/pro-filt-r-hyd...</td>\n",
       "      <td>2268274</td>\n",
       "    </tr>\n",
       "    <tr>\n",
       "      <th>1</th>\n",
       "      <td>PAT McGRATH LABS</td>\n",
       "      <td>Foundation</td>\n",
       "      <td>Skin Fetish: Sublime Perfection Foundation</td>\n",
       "      <td>68.00</td>\n",
       "      <td>NaN</td>\n",
       "      <td>https://www.sephora.com/product/skin-fetish-su...</td>\n",
       "      <td>2257111</td>\n",
       "    </tr>\n",
       "    <tr>\n",
       "      <th>2</th>\n",
       "      <td>FENTY BEAUTY by Rihanna</td>\n",
       "      <td>Foundation</td>\n",
       "      <td>Pro Filt'r Soft Matte Longwear Foundation</td>\n",
       "      <td>35.00</td>\n",
       "      <td>NaN</td>\n",
       "      <td>https://www.sephora.com/product/pro-filtr-soft...</td>\n",
       "      <td>2164671</td>\n",
       "    </tr>\n",
       "    <tr>\n",
       "      <th>3</th>\n",
       "      <td>MILK MAKEUP</td>\n",
       "      <td>Foundation</td>\n",
       "      <td>Flex Foundation Stick</td>\n",
       "      <td>36.00</td>\n",
       "      <td>NaN</td>\n",
       "      <td>https://www.sephora.com/product/flex-foundatio...</td>\n",
       "      <td>2242105</td>\n",
       "    </tr>\n",
       "    <tr>\n",
       "      <th>4</th>\n",
       "      <td>Estée Lauder</td>\n",
       "      <td>Foundation</td>\n",
       "      <td>Double Wear Stay-in-Place Foundation</td>\n",
       "      <td>43.00</td>\n",
       "      <td>NaN</td>\n",
       "      <td>https://www.sephora.com/product/double-wear-st...</td>\n",
       "      <td>2112167</td>\n",
       "    </tr>\n",
       "    <tr>\n",
       "      <th>5</th>\n",
       "      <td>Giorgio Armani Beauty</td>\n",
       "      <td>Foundation</td>\n",
       "      <td>Luminous Silk Foundation</td>\n",
       "      <td>64.00</td>\n",
       "      <td>42.00</td>\n",
       "      <td>https://www.sephora.com/product/luminous-silk-...</td>\n",
       "      <td>2079168</td>\n",
       "    </tr>\n",
       "    <tr>\n",
       "      <th>6</th>\n",
       "      <td>Laura Mercier</td>\n",
       "      <td>Foundation</td>\n",
       "      <td>Tinted Moisturizer Natural Skin Perfector Broa...</td>\n",
       "      <td>47.00</td>\n",
       "      <td>24.00</td>\n",
       "      <td>https://www.sephora.com/product/tinted-moistur...</td>\n",
       "      <td>2250603</td>\n",
       "    </tr>\n",
       "    <tr>\n",
       "      <th>7</th>\n",
       "      <td>Smashbox</td>\n",
       "      <td>Foundation</td>\n",
       "      <td>Studio Skin Full Coverage 24 Hour Foundation</td>\n",
       "      <td>36.00</td>\n",
       "      <td>NaN</td>\n",
       "      <td>https://www.sephora.com/product/studio-skin-fu...</td>\n",
       "      <td>2251874</td>\n",
       "    </tr>\n",
       "    <tr>\n",
       "      <th>8</th>\n",
       "      <td>MAKE UP FOR EVER</td>\n",
       "      <td>Foundation</td>\n",
       "      <td>Ultra HD Invisible Cover Foundation</td>\n",
       "      <td>43.00</td>\n",
       "      <td>NaN</td>\n",
       "      <td>https://www.sephora.com/product/ultra-hd-invis...</td>\n",
       "      <td>2246726</td>\n",
       "    </tr>\n",
       "    <tr>\n",
       "      <th>9</th>\n",
       "      <td>IT Cosmetics</td>\n",
       "      <td>Foundation</td>\n",
       "      <td>CC+ Cream with SPF 50+</td>\n",
       "      <td>39.00</td>\n",
       "      <td>15.00</td>\n",
       "      <td>https://www.sephora.com/product/your-skin-but-...</td>\n",
       "      <td>1868165</td>\n",
       "    </tr>\n",
       "    <tr>\n",
       "      <th>10</th>\n",
       "      <td>Urban Decay</td>\n",
       "      <td>Foundation</td>\n",
       "      <td>Stay Naked Weightless Foundation</td>\n",
       "      <td>39.00</td>\n",
       "      <td>NaN</td>\n",
       "      <td>https://www.sephora.com/product/stay-naked-wei...</td>\n",
       "      <td>2247203</td>\n",
       "    </tr>\n",
       "    <tr>\n",
       "      <th>11</th>\n",
       "      <td>bareMinerals</td>\n",
       "      <td>Foundation</td>\n",
       "      <td>Original Loose Powder Mineral Foundation Broad...</td>\n",
       "      <td>31.00</td>\n",
       "      <td>NaN</td>\n",
       "      <td>https://www.sephora.com/product/bareminerals-o...</td>\n",
       "      <td>1922541</td>\n",
       "    </tr>\n",
       "    <tr>\n",
       "      <th>12</th>\n",
       "      <td>Giorgio Armani Beauty</td>\n",
       "      <td>Foundation</td>\n",
       "      <td>Power Fabric Longwear High Cover Foundation SP...</td>\n",
       "      <td>64.00</td>\n",
       "      <td>NaN</td>\n",
       "      <td>https://www.sephora.com/product/power-fabric-l...</td>\n",
       "      <td>2184547</td>\n",
       "    </tr>\n",
       "    <tr>\n",
       "      <th>13</th>\n",
       "      <td>MAKE UP FOR EVER</td>\n",
       "      <td>Foundation</td>\n",
       "      <td>Matte Velvet Skin Blurring Powder Foundation</td>\n",
       "      <td>38.00</td>\n",
       "      <td>NaN</td>\n",
       "      <td>https://www.sephora.com/product/matte-velvet-s...</td>\n",
       "      <td>2209906</td>\n",
       "    </tr>\n",
       "    <tr>\n",
       "      <th>14</th>\n",
       "      <td>Too Faced</td>\n",
       "      <td>Foundation</td>\n",
       "      <td>Born This Way Foundation</td>\n",
       "      <td>39.00</td>\n",
       "      <td>NaN</td>\n",
       "      <td>https://www.sephora.com/product/born-this-way-...</td>\n",
       "      <td>2084648</td>\n",
       "    </tr>\n",
       "    <tr>\n",
       "      <th>15</th>\n",
       "      <td>Lancôme</td>\n",
       "      <td>Foundation</td>\n",
       "      <td>Teint Idole Ultra Long Wear Foundation</td>\n",
       "      <td>47.00</td>\n",
       "      <td>NaN</td>\n",
       "      <td>https://www.sephora.com/product/teint-idole-ul...</td>\n",
       "      <td>2169845</td>\n",
       "    </tr>\n",
       "    <tr>\n",
       "      <th>16</th>\n",
       "      <td>Yves Saint Laurent</td>\n",
       "      <td>Foundation</td>\n",
       "      <td>All Hours Longwear Natural Matte Foundation</td>\n",
       "      <td>54.00</td>\n",
       "      <td>NaN</td>\n",
       "      <td>https://www.sephora.com/product/all-hours-full...</td>\n",
       "      <td>2247922</td>\n",
       "    </tr>\n",
       "    <tr>\n",
       "      <th>17</th>\n",
       "      <td>Dior</td>\n",
       "      <td>Foundation</td>\n",
       "      <td>Dior Airflash Spray Foundation</td>\n",
       "      <td>62.00</td>\n",
       "      <td>NaN</td>\n",
       "      <td>https://www.sephora.com/product/diorskin-airfl...</td>\n",
       "      <td>2224848</td>\n",
       "    </tr>\n",
       "    <tr>\n",
       "      <th>18</th>\n",
       "      <td>NARS</td>\n",
       "      <td>Foundation</td>\n",
       "      <td>Natural Radiant Longwear Foundation</td>\n",
       "      <td>49.00</td>\n",
       "      <td>NaN</td>\n",
       "      <td>https://www.sephora.com/product/natural-radian...</td>\n",
       "      <td>2031011</td>\n",
       "    </tr>\n",
       "    <tr>\n",
       "      <th>19</th>\n",
       "      <td>Dior</td>\n",
       "      <td>Foundation</td>\n",
       "      <td>BACKSTAGE Face &amp; Body Foundation</td>\n",
       "      <td>40.00</td>\n",
       "      <td>NaN</td>\n",
       "      <td>https://www.sephora.com/product/backstage-face...</td>\n",
       "      <td>2070571</td>\n",
       "    </tr>\n",
       "    <tr>\n",
       "      <th>20</th>\n",
       "      <td>bareMinerals</td>\n",
       "      <td>Foundation</td>\n",
       "      <td>COMPLEXION RESCUE™ Tinted Moisturizer Broad Sp...</td>\n",
       "      <td>32.00</td>\n",
       "      <td>NaN</td>\n",
       "      <td>https://www.sephora.com/product/complexion-res...</td>\n",
       "      <td>2176972</td>\n",
       "    </tr>\n",
       "    <tr>\n",
       "      <th>21</th>\n",
       "      <td>tarte</td>\n",
       "      <td>Foundation</td>\n",
       "      <td>Water Foundation Broad Spectrum SPF 15 - Sea C...</td>\n",
       "      <td>39.00</td>\n",
       "      <td>NaN</td>\n",
       "      <td>https://www.sephora.com/product/sea-water-foun...</td>\n",
       "      <td>2179158</td>\n",
       "    </tr>\n",
       "    <tr>\n",
       "      <th>22</th>\n",
       "      <td>Laura Mercier</td>\n",
       "      <td>Foundation</td>\n",
       "      <td>Tinted Moisturizer Broad Spectrum SPF 20 - Oil...</td>\n",
       "      <td>46.00</td>\n",
       "      <td>NaN</td>\n",
       "      <td>https://www.sephora.com/product/tinted-moistur...</td>\n",
       "      <td>905364</td>\n",
       "    </tr>\n",
       "    <tr>\n",
       "      <th>23</th>\n",
       "      <td>Kat Von D</td>\n",
       "      <td>Foundation</td>\n",
       "      <td>Lock-It Foundation</td>\n",
       "      <td>36.00</td>\n",
       "      <td>18.00</td>\n",
       "      <td>https://www.sephora.com/product/lock-it-tattoo...</td>\n",
       "      <td>2180578</td>\n",
       "    </tr>\n",
       "    <tr>\n",
       "      <th>24</th>\n",
       "      <td>HUDA BEAUTY</td>\n",
       "      <td>Foundation</td>\n",
       "      <td>#FauxFilter Foundation</td>\n",
       "      <td>40.00</td>\n",
       "      <td>NaN</td>\n",
       "      <td>https://www.sephora.com/product/fauxfilter-fou...</td>\n",
       "      <td>2001774</td>\n",
       "    </tr>\n",
       "    <tr>\n",
       "      <th>25</th>\n",
       "      <td>tarte</td>\n",
       "      <td>Foundation</td>\n",
       "      <td>Amazonian Clay Full Coverage Foundation SPF 15</td>\n",
       "      <td>39.00</td>\n",
       "      <td>NaN</td>\n",
       "      <td>https://www.sephora.com/product/amazonian-clay...</td>\n",
       "      <td>2094787</td>\n",
       "    </tr>\n",
       "    <tr>\n",
       "      <th>26</th>\n",
       "      <td>bareMinerals</td>\n",
       "      <td>Foundation</td>\n",
       "      <td>BAREPRO Performance Wear Powder Foundation</td>\n",
       "      <td>31.00</td>\n",
       "      <td>NaN</td>\n",
       "      <td>https://www.sephora.com/product/barepro-perfor...</td>\n",
       "      <td>2241883</td>\n",
       "    </tr>\n",
       "    <tr>\n",
       "      <th>27</th>\n",
       "      <td>NARS</td>\n",
       "      <td>Foundation</td>\n",
       "      <td>Sheer Glow Foundation</td>\n",
       "      <td>47.00</td>\n",
       "      <td>NaN</td>\n",
       "      <td>https://www.sephora.com/product/sheer-glow-fou...</td>\n",
       "      <td>2170645</td>\n",
       "    </tr>\n",
       "    <tr>\n",
       "      <th>28</th>\n",
       "      <td>NARS</td>\n",
       "      <td>Foundation</td>\n",
       "      <td>Pure Radiant Tinted Moisturizer Broad Spectrum...</td>\n",
       "      <td>45.00</td>\n",
       "      <td>NaN</td>\n",
       "      <td>https://www.sephora.com/product/pure-radiant-t...</td>\n",
       "      <td>1396399</td>\n",
       "    </tr>\n",
       "    <tr>\n",
       "      <th>29</th>\n",
       "      <td>Bobbi Brown</td>\n",
       "      <td>Foundation</td>\n",
       "      <td>Skin Long-Wear Weightless Foundation SPF 15</td>\n",
       "      <td>47.00</td>\n",
       "      <td>NaN</td>\n",
       "      <td>https://www.sephora.com/product/skin-long-wear...</td>\n",
       "      <td>2032845</td>\n",
       "    </tr>\n",
       "    <tr>\n",
       "      <th>...</th>\n",
       "      <td>...</td>\n",
       "      <td>...</td>\n",
       "      <td>...</td>\n",
       "      <td>...</td>\n",
       "      <td>...</td>\n",
       "      <td>...</td>\n",
       "      <td>...</td>\n",
       "    </tr>\n",
       "    <tr>\n",
       "      <th>1357</th>\n",
       "      <td>Bobbi Brown</td>\n",
       "      <td>Lip Liner</td>\n",
       "      <td>Art Stick</td>\n",
       "      <td>29.00</td>\n",
       "      <td>NaN</td>\n",
       "      <td>https://www.sephora.com/product/art-stick-P385587</td>\n",
       "      <td>1780857</td>\n",
       "    </tr>\n",
       "    <tr>\n",
       "      <th>1358</th>\n",
       "      <td>CLINIQUE</td>\n",
       "      <td>Lip Liner</td>\n",
       "      <td>Quickliner for Lips</td>\n",
       "      <td>18.50</td>\n",
       "      <td>NaN</td>\n",
       "      <td>https://www.sephora.com/product/quickliner-for...</td>\n",
       "      <td>71571</td>\n",
       "    </tr>\n",
       "    <tr>\n",
       "      <th>1359</th>\n",
       "      <td>Dior</td>\n",
       "      <td>Lip Liner</td>\n",
       "      <td>Contour Lipliner Pencil</td>\n",
       "      <td>31.00</td>\n",
       "      <td>NaN</td>\n",
       "      <td>https://www.sephora.com/product/contour-liplin...</td>\n",
       "      <td>1542943</td>\n",
       "    </tr>\n",
       "    <tr>\n",
       "      <th>1360</th>\n",
       "      <td>Smashbox</td>\n",
       "      <td>Lip Liner</td>\n",
       "      <td>Always Sharp Lip Liner</td>\n",
       "      <td>21.00</td>\n",
       "      <td>NaN</td>\n",
       "      <td>https://www.sephora.com/product/always-sharp-l...</td>\n",
       "      <td>1635705</td>\n",
       "    </tr>\n",
       "    <tr>\n",
       "      <th>1361</th>\n",
       "      <td>Melt Cosmetics</td>\n",
       "      <td>Lip Liner</td>\n",
       "      <td>Allday Everyday Lipliner</td>\n",
       "      <td>17.00</td>\n",
       "      <td>NaN</td>\n",
       "      <td>https://www.sephora.com/product/allday-everyda...</td>\n",
       "      <td>2229482</td>\n",
       "    </tr>\n",
       "    <tr>\n",
       "      <th>1362</th>\n",
       "      <td>Urban Decay</td>\n",
       "      <td>Lip Liner</td>\n",
       "      <td>Ultimate Ozone Multipurpose Primer Pencil</td>\n",
       "      <td>18.00</td>\n",
       "      <td>NaN</td>\n",
       "      <td>https://www.sephora.com/product/ultimate-ozone...</td>\n",
       "      <td>1704550</td>\n",
       "    </tr>\n",
       "    <tr>\n",
       "      <th>1363</th>\n",
       "      <td>TOM FORD</td>\n",
       "      <td>Lip Liner</td>\n",
       "      <td>Lip Sculptor</td>\n",
       "      <td>47.00</td>\n",
       "      <td>NaN</td>\n",
       "      <td>https://www.sephora.com/product/lip-sculptor-P...</td>\n",
       "      <td>2127801</td>\n",
       "    </tr>\n",
       "    <tr>\n",
       "      <th>1364</th>\n",
       "      <td>Hourglass</td>\n",
       "      <td>Lip Liner</td>\n",
       "      <td>Panoramic Long Wear Lip Liner</td>\n",
       "      <td>30.00</td>\n",
       "      <td>NaN</td>\n",
       "      <td>https://www.sephora.com/product/panoramic-long...</td>\n",
       "      <td>1553569</td>\n",
       "    </tr>\n",
       "    <tr>\n",
       "      <th>1365</th>\n",
       "      <td>KEVYN AUCOIN</td>\n",
       "      <td>Lip Liner</td>\n",
       "      <td>The Flesh Tone Lip Pencil</td>\n",
       "      <td>25.00</td>\n",
       "      <td>NaN</td>\n",
       "      <td>https://www.sephora.com/product/the-flesh-tone...</td>\n",
       "      <td>1067818</td>\n",
       "    </tr>\n",
       "    <tr>\n",
       "      <th>1366</th>\n",
       "      <td>NUDESTIX</td>\n",
       "      <td>Lip Liner</td>\n",
       "      <td>Cream Lip + Cheek Pencil</td>\n",
       "      <td>26.00</td>\n",
       "      <td>NaN</td>\n",
       "      <td>https://www.sephora.com/product/lip-cheek-penc...</td>\n",
       "      <td>1648328</td>\n",
       "    </tr>\n",
       "    <tr>\n",
       "      <th>1367</th>\n",
       "      <td>bareMinerals</td>\n",
       "      <td>Lip Liner</td>\n",
       "      <td>GEN NUDE™ Under Over™ Lip Liner</td>\n",
       "      <td>16.00</td>\n",
       "      <td>NaN</td>\n",
       "      <td>https://www.sephora.com/product/gen-nude-under...</td>\n",
       "      <td>1844273</td>\n",
       "    </tr>\n",
       "    <tr>\n",
       "      <th>1368</th>\n",
       "      <td>CLINIQUE</td>\n",
       "      <td>Lip Liner</td>\n",
       "      <td>Quickliner for Lips Intense</td>\n",
       "      <td>18.50</td>\n",
       "      <td>NaN</td>\n",
       "      <td>https://www.sephora.com/product/quickliner-for...</td>\n",
       "      <td>1719129</td>\n",
       "    </tr>\n",
       "    <tr>\n",
       "      <th>1369</th>\n",
       "      <td>SEPHORA COLLECTION</td>\n",
       "      <td>Lip Liner</td>\n",
       "      <td>Beauty Amplifier Universal Lip Liner</td>\n",
       "      <td>10.00</td>\n",
       "      <td>NaN</td>\n",
       "      <td>https://www.sephora.com/product/beauty-amplifi...</td>\n",
       "      <td>1509041</td>\n",
       "    </tr>\n",
       "    <tr>\n",
       "      <th>1370</th>\n",
       "      <td>Givenchy</td>\n",
       "      <td>Lip Liner</td>\n",
       "      <td>Lip Liner</td>\n",
       "      <td>29.00</td>\n",
       "      <td>NaN</td>\n",
       "      <td>https://www.sephora.com/product/lip-liner-P183916</td>\n",
       "      <td>1918275</td>\n",
       "    </tr>\n",
       "    <tr>\n",
       "      <th>1371</th>\n",
       "      <td>Marc Jacobs Beauty</td>\n",
       "      <td>Lip Liner</td>\n",
       "      <td>Longwear Lip Set</td>\n",
       "      <td>20.00</td>\n",
       "      <td>NaN</td>\n",
       "      <td>https://www.sephora.com/product/longwear-lip-s...</td>\n",
       "      <td>1893395</td>\n",
       "    </tr>\n",
       "    <tr>\n",
       "      <th>1372</th>\n",
       "      <td>rms beauty</td>\n",
       "      <td>Lip Liner</td>\n",
       "      <td>Lip Liner</td>\n",
       "      <td>20.00</td>\n",
       "      <td>NaN</td>\n",
       "      <td>https://www.sephora.com/product/lip-liner-P427524</td>\n",
       "      <td>2022390</td>\n",
       "    </tr>\n",
       "    <tr>\n",
       "      <th>1373</th>\n",
       "      <td>SEPHORA COLLECTION</td>\n",
       "      <td>Lip Liner</td>\n",
       "      <td>Rouge Gel Lip Liner</td>\n",
       "      <td>3.00</td>\n",
       "      <td>NaN</td>\n",
       "      <td>https://www.sephora.com/product/rouge-gel-lip-...</td>\n",
       "      <td>1895143</td>\n",
       "    </tr>\n",
       "    <tr>\n",
       "      <th>1374</th>\n",
       "      <td>tarte</td>\n",
       "      <td>Lip Liner</td>\n",
       "      <td>Tarteist™ Lip Crayon</td>\n",
       "      <td>18.00</td>\n",
       "      <td>NaN</td>\n",
       "      <td>https://www.sephora.com/product/tarteist-lip-c...</td>\n",
       "      <td>1777366</td>\n",
       "    </tr>\n",
       "    <tr>\n",
       "      <th>1375</th>\n",
       "      <td>Dior</td>\n",
       "      <td>Lip Liner</td>\n",
       "      <td>Rouge Dior Ink Lip Liner</td>\n",
       "      <td>32.00</td>\n",
       "      <td>NaN</td>\n",
       "      <td>https://www.sephora.com/product/rouge-dior-ink...</td>\n",
       "      <td>2105088</td>\n",
       "    </tr>\n",
       "    <tr>\n",
       "      <th>1376</th>\n",
       "      <td>ILIA</td>\n",
       "      <td>Lip Liner</td>\n",
       "      <td>Satin Cream Lip Crayon</td>\n",
       "      <td>24.00</td>\n",
       "      <td>NaN</td>\n",
       "      <td>https://www.sephora.com/product/butter-cream-l...</td>\n",
       "      <td>2017358</td>\n",
       "    </tr>\n",
       "    <tr>\n",
       "      <th>1377</th>\n",
       "      <td>Benefit Cosmetics</td>\n",
       "      <td>Lip Liner</td>\n",
       "      <td>City Lights</td>\n",
       "      <td>32.00</td>\n",
       "      <td>NaN</td>\n",
       "      <td>https://www.sephora.com/product/city-lights-pa...</td>\n",
       "      <td>1996412</td>\n",
       "    </tr>\n",
       "    <tr>\n",
       "      <th>1378</th>\n",
       "      <td>Natasha Denona</td>\n",
       "      <td>Lip Liner</td>\n",
       "      <td>Lip Liner Pencil</td>\n",
       "      <td>18.00</td>\n",
       "      <td>NaN</td>\n",
       "      <td>https://www.sephora.com/product/lip-liner-penc...</td>\n",
       "      <td>1910041</td>\n",
       "    </tr>\n",
       "    <tr>\n",
       "      <th>1379</th>\n",
       "      <td>Wander Beauty</td>\n",
       "      <td>Lip Liner</td>\n",
       "      <td>Lipsetter Dual Lipstick and Liner</td>\n",
       "      <td>20.00</td>\n",
       "      <td>NaN</td>\n",
       "      <td>https://www.sephora.com/product/lipsetter-dual...</td>\n",
       "      <td>1970805</td>\n",
       "    </tr>\n",
       "    <tr>\n",
       "      <th>1380</th>\n",
       "      <td>MAKE UP FOR EVER</td>\n",
       "      <td>Lip Liner</td>\n",
       "      <td>Lip Line Perfector</td>\n",
       "      <td>20.00</td>\n",
       "      <td>NaN</td>\n",
       "      <td>https://www.sephora.com/product/lip-line-perfe...</td>\n",
       "      <td>1354083</td>\n",
       "    </tr>\n",
       "    <tr>\n",
       "      <th>1381</th>\n",
       "      <td>Giorgio Armani Beauty</td>\n",
       "      <td>Lip Liner</td>\n",
       "      <td>Smooth Silk Lip Pencil</td>\n",
       "      <td>30.00</td>\n",
       "      <td>NaN</td>\n",
       "      <td>https://www.sephora.com/product/smooth-silk-li...</td>\n",
       "      <td>1575646</td>\n",
       "    </tr>\n",
       "    <tr>\n",
       "      <th>1382</th>\n",
       "      <td>Givenchy</td>\n",
       "      <td>Lip Liner</td>\n",
       "      <td>Universal Lip Liner</td>\n",
       "      <td>29.00</td>\n",
       "      <td>NaN</td>\n",
       "      <td>https://www.sephora.com/product/lip-liner-univ...</td>\n",
       "      <td>1918226</td>\n",
       "    </tr>\n",
       "    <tr>\n",
       "      <th>1383</th>\n",
       "      <td>Christian Louboutin</td>\n",
       "      <td>Lip Liner</td>\n",
       "      <td>Lip Definer</td>\n",
       "      <td>40.00</td>\n",
       "      <td>NaN</td>\n",
       "      <td>https://www.sephora.com/product/lip-definer-P4...</td>\n",
       "      <td>1750249</td>\n",
       "    </tr>\n",
       "    <tr>\n",
       "      <th>1384</th>\n",
       "      <td>bareMinerals</td>\n",
       "      <td>Lip Liner</td>\n",
       "      <td>Statement™ Under Over™ Lip Liner</td>\n",
       "      <td>16.00</td>\n",
       "      <td>NaN</td>\n",
       "      <td>https://www.sephora.com/product/statement-unde...</td>\n",
       "      <td>1945195</td>\n",
       "    </tr>\n",
       "    <tr>\n",
       "      <th>1385</th>\n",
       "      <td>Givenchy</td>\n",
       "      <td>Lip Liner</td>\n",
       "      <td>Universal Noir Révélateur Lip Liner</td>\n",
       "      <td>29.00</td>\n",
       "      <td>NaN</td>\n",
       "      <td>https://www.sephora.com/product/universal-noir...</td>\n",
       "      <td>1967496</td>\n",
       "    </tr>\n",
       "    <tr>\n",
       "      <th>1386</th>\n",
       "      <td>NARS</td>\n",
       "      <td>Lip Liner</td>\n",
       "      <td>Velvet Lip Liner</td>\n",
       "      <td>24.00</td>\n",
       "      <td>NaN</td>\n",
       "      <td>https://www.sephora.com/product/velvet-lip-lin...</td>\n",
       "      <td>1637313</td>\n",
       "    </tr>\n",
       "  </tbody>\n",
       "</table>\n",
       "<p>1387 rows × 7 columns</p>\n",
       "</div>"
      ],
      "text/plain": [
       "                        brand    category  \\\n",
       "0     FENTY BEAUTY by Rihanna  Foundation   \n",
       "1            PAT McGRATH LABS  Foundation   \n",
       "2     FENTY BEAUTY by Rihanna  Foundation   \n",
       "3                 MILK MAKEUP  Foundation   \n",
       "4                Estée Lauder  Foundation   \n",
       "5       Giorgio Armani Beauty  Foundation   \n",
       "6               Laura Mercier  Foundation   \n",
       "7                    Smashbox  Foundation   \n",
       "8            MAKE UP FOR EVER  Foundation   \n",
       "9                IT Cosmetics  Foundation   \n",
       "10                Urban Decay  Foundation   \n",
       "11               bareMinerals  Foundation   \n",
       "12      Giorgio Armani Beauty  Foundation   \n",
       "13           MAKE UP FOR EVER  Foundation   \n",
       "14                  Too Faced  Foundation   \n",
       "15                    Lancôme  Foundation   \n",
       "16         Yves Saint Laurent  Foundation   \n",
       "17                       Dior  Foundation   \n",
       "18                       NARS  Foundation   \n",
       "19                       Dior  Foundation   \n",
       "20               bareMinerals  Foundation   \n",
       "21                      tarte  Foundation   \n",
       "22              Laura Mercier  Foundation   \n",
       "23                  Kat Von D  Foundation   \n",
       "24                HUDA BEAUTY  Foundation   \n",
       "25                      tarte  Foundation   \n",
       "26               bareMinerals  Foundation   \n",
       "27                       NARS  Foundation   \n",
       "28                       NARS  Foundation   \n",
       "29                Bobbi Brown  Foundation   \n",
       "...                       ...         ...   \n",
       "1357              Bobbi Brown   Lip Liner   \n",
       "1358                 CLINIQUE   Lip Liner   \n",
       "1359                     Dior   Lip Liner   \n",
       "1360                 Smashbox   Lip Liner   \n",
       "1361           Melt Cosmetics   Lip Liner   \n",
       "1362              Urban Decay   Lip Liner   \n",
       "1363                 TOM FORD   Lip Liner   \n",
       "1364                Hourglass   Lip Liner   \n",
       "1365             KEVYN AUCOIN   Lip Liner   \n",
       "1366                 NUDESTIX   Lip Liner   \n",
       "1367             bareMinerals   Lip Liner   \n",
       "1368                 CLINIQUE   Lip Liner   \n",
       "1369       SEPHORA COLLECTION   Lip Liner   \n",
       "1370                 Givenchy   Lip Liner   \n",
       "1371       Marc Jacobs Beauty   Lip Liner   \n",
       "1372               rms beauty   Lip Liner   \n",
       "1373       SEPHORA COLLECTION   Lip Liner   \n",
       "1374                    tarte   Lip Liner   \n",
       "1375                     Dior   Lip Liner   \n",
       "1376                     ILIA   Lip Liner   \n",
       "1377        Benefit Cosmetics   Lip Liner   \n",
       "1378           Natasha Denona   Lip Liner   \n",
       "1379            Wander Beauty   Lip Liner   \n",
       "1380         MAKE UP FOR EVER   Lip Liner   \n",
       "1381    Giorgio Armani Beauty   Lip Liner   \n",
       "1382                 Givenchy   Lip Liner   \n",
       "1383      Christian Louboutin   Lip Liner   \n",
       "1384             bareMinerals   Lip Liner   \n",
       "1385                 Givenchy   Lip Liner   \n",
       "1386                     NARS   Lip Liner   \n",
       "\n",
       "                                                   name  price sale_price  \\\n",
       "0              Pro Filt'r Hydrating Longwear Foundation  35.00        NaN   \n",
       "1            Skin Fetish: Sublime Perfection Foundation  68.00        NaN   \n",
       "2             Pro Filt'r Soft Matte Longwear Foundation  35.00        NaN   \n",
       "3                                 Flex Foundation Stick  36.00        NaN   \n",
       "4                  Double Wear Stay-in-Place Foundation  43.00        NaN   \n",
       "5                              Luminous Silk Foundation  64.00      42.00   \n",
       "6     Tinted Moisturizer Natural Skin Perfector Broa...  47.00      24.00   \n",
       "7          Studio Skin Full Coverage 24 Hour Foundation  36.00        NaN   \n",
       "8                   Ultra HD Invisible Cover Foundation  43.00        NaN   \n",
       "9                                CC+ Cream with SPF 50+  39.00      15.00   \n",
       "10                     Stay Naked Weightless Foundation  39.00        NaN   \n",
       "11    Original Loose Powder Mineral Foundation Broad...  31.00        NaN   \n",
       "12    Power Fabric Longwear High Cover Foundation SP...  64.00        NaN   \n",
       "13         Matte Velvet Skin Blurring Powder Foundation  38.00        NaN   \n",
       "14                             Born This Way Foundation  39.00        NaN   \n",
       "15               Teint Idole Ultra Long Wear Foundation  47.00        NaN   \n",
       "16          All Hours Longwear Natural Matte Foundation  54.00        NaN   \n",
       "17                       Dior Airflash Spray Foundation  62.00        NaN   \n",
       "18                  Natural Radiant Longwear Foundation  49.00        NaN   \n",
       "19                     BACKSTAGE Face & Body Foundation  40.00        NaN   \n",
       "20    COMPLEXION RESCUE™ Tinted Moisturizer Broad Sp...  32.00        NaN   \n",
       "21    Water Foundation Broad Spectrum SPF 15 - Sea C...  39.00        NaN   \n",
       "22    Tinted Moisturizer Broad Spectrum SPF 20 - Oil...  46.00        NaN   \n",
       "23                                   Lock-It Foundation  36.00      18.00   \n",
       "24                               #FauxFilter Foundation  40.00        NaN   \n",
       "25       Amazonian Clay Full Coverage Foundation SPF 15  39.00        NaN   \n",
       "26           BAREPRO Performance Wear Powder Foundation  31.00        NaN   \n",
       "27                                Sheer Glow Foundation  47.00        NaN   \n",
       "28    Pure Radiant Tinted Moisturizer Broad Spectrum...  45.00        NaN   \n",
       "29          Skin Long-Wear Weightless Foundation SPF 15  47.00        NaN   \n",
       "...                                                 ...    ...        ...   \n",
       "1357                                          Art Stick  29.00        NaN   \n",
       "1358                                Quickliner for Lips  18.50        NaN   \n",
       "1359                            Contour Lipliner Pencil  31.00        NaN   \n",
       "1360                             Always Sharp Lip Liner  21.00        NaN   \n",
       "1361                           Allday Everyday Lipliner  17.00        NaN   \n",
       "1362          Ultimate Ozone Multipurpose Primer Pencil  18.00        NaN   \n",
       "1363                                       Lip Sculptor  47.00        NaN   \n",
       "1364                      Panoramic Long Wear Lip Liner  30.00        NaN   \n",
       "1365                          The Flesh Tone Lip Pencil  25.00        NaN   \n",
       "1366                           Cream Lip + Cheek Pencil  26.00        NaN   \n",
       "1367                    GEN NUDE™ Under Over™ Lip Liner  16.00        NaN   \n",
       "1368                        Quickliner for Lips Intense  18.50        NaN   \n",
       "1369               Beauty Amplifier Universal Lip Liner  10.00        NaN   \n",
       "1370                                          Lip Liner  29.00        NaN   \n",
       "1371                                   Longwear Lip Set  20.00        NaN   \n",
       "1372                                          Lip Liner  20.00        NaN   \n",
       "1373                                Rouge Gel Lip Liner   3.00        NaN   \n",
       "1374                               Tarteist™ Lip Crayon  18.00        NaN   \n",
       "1375                           Rouge Dior Ink Lip Liner  32.00        NaN   \n",
       "1376                             Satin Cream Lip Crayon  24.00        NaN   \n",
       "1377                                        City Lights  32.00        NaN   \n",
       "1378                                   Lip Liner Pencil  18.00        NaN   \n",
       "1379                  Lipsetter Dual Lipstick and Liner  20.00        NaN   \n",
       "1380                                 Lip Line Perfector  20.00        NaN   \n",
       "1381                             Smooth Silk Lip Pencil  30.00        NaN   \n",
       "1382                                Universal Lip Liner  29.00        NaN   \n",
       "1383                                        Lip Definer  40.00        NaN   \n",
       "1384                   Statement™ Under Over™ Lip Liner  16.00        NaN   \n",
       "1385                Universal Noir Révélateur Lip Liner  29.00        NaN   \n",
       "1386                                   Velvet Lip Liner  24.00        NaN   \n",
       "\n",
       "                                                    url product_id  \n",
       "0     https://www.sephora.com/product/pro-filt-r-hyd...    2268274  \n",
       "1     https://www.sephora.com/product/skin-fetish-su...    2257111  \n",
       "2     https://www.sephora.com/product/pro-filtr-soft...    2164671  \n",
       "3     https://www.sephora.com/product/flex-foundatio...    2242105  \n",
       "4     https://www.sephora.com/product/double-wear-st...    2112167  \n",
       "5     https://www.sephora.com/product/luminous-silk-...    2079168  \n",
       "6     https://www.sephora.com/product/tinted-moistur...    2250603  \n",
       "7     https://www.sephora.com/product/studio-skin-fu...    2251874  \n",
       "8     https://www.sephora.com/product/ultra-hd-invis...    2246726  \n",
       "9     https://www.sephora.com/product/your-skin-but-...    1868165  \n",
       "10    https://www.sephora.com/product/stay-naked-wei...    2247203  \n",
       "11    https://www.sephora.com/product/bareminerals-o...    1922541  \n",
       "12    https://www.sephora.com/product/power-fabric-l...    2184547  \n",
       "13    https://www.sephora.com/product/matte-velvet-s...    2209906  \n",
       "14    https://www.sephora.com/product/born-this-way-...    2084648  \n",
       "15    https://www.sephora.com/product/teint-idole-ul...    2169845  \n",
       "16    https://www.sephora.com/product/all-hours-full...    2247922  \n",
       "17    https://www.sephora.com/product/diorskin-airfl...    2224848  \n",
       "18    https://www.sephora.com/product/natural-radian...    2031011  \n",
       "19    https://www.sephora.com/product/backstage-face...    2070571  \n",
       "20    https://www.sephora.com/product/complexion-res...    2176972  \n",
       "21    https://www.sephora.com/product/sea-water-foun...    2179158  \n",
       "22    https://www.sephora.com/product/tinted-moistur...     905364  \n",
       "23    https://www.sephora.com/product/lock-it-tattoo...    2180578  \n",
       "24    https://www.sephora.com/product/fauxfilter-fou...    2001774  \n",
       "25    https://www.sephora.com/product/amazonian-clay...    2094787  \n",
       "26    https://www.sephora.com/product/barepro-perfor...    2241883  \n",
       "27    https://www.sephora.com/product/sheer-glow-fou...    2170645  \n",
       "28    https://www.sephora.com/product/pure-radiant-t...    1396399  \n",
       "29    https://www.sephora.com/product/skin-long-wear...    2032845  \n",
       "...                                                 ...        ...  \n",
       "1357  https://www.sephora.com/product/art-stick-P385587    1780857  \n",
       "1358  https://www.sephora.com/product/quickliner-for...      71571  \n",
       "1359  https://www.sephora.com/product/contour-liplin...    1542943  \n",
       "1360  https://www.sephora.com/product/always-sharp-l...    1635705  \n",
       "1361  https://www.sephora.com/product/allday-everyda...    2229482  \n",
       "1362  https://www.sephora.com/product/ultimate-ozone...    1704550  \n",
       "1363  https://www.sephora.com/product/lip-sculptor-P...    2127801  \n",
       "1364  https://www.sephora.com/product/panoramic-long...    1553569  \n",
       "1365  https://www.sephora.com/product/the-flesh-tone...    1067818  \n",
       "1366  https://www.sephora.com/product/lip-cheek-penc...    1648328  \n",
       "1367  https://www.sephora.com/product/gen-nude-under...    1844273  \n",
       "1368  https://www.sephora.com/product/quickliner-for...    1719129  \n",
       "1369  https://www.sephora.com/product/beauty-amplifi...    1509041  \n",
       "1370  https://www.sephora.com/product/lip-liner-P183916    1918275  \n",
       "1371  https://www.sephora.com/product/longwear-lip-s...    1893395  \n",
       "1372  https://www.sephora.com/product/lip-liner-P427524    2022390  \n",
       "1373  https://www.sephora.com/product/rouge-gel-lip-...    1895143  \n",
       "1374  https://www.sephora.com/product/tarteist-lip-c...    1777366  \n",
       "1375  https://www.sephora.com/product/rouge-dior-ink...    2105088  \n",
       "1376  https://www.sephora.com/product/butter-cream-l...    2017358  \n",
       "1377  https://www.sephora.com/product/city-lights-pa...    1996412  \n",
       "1378  https://www.sephora.com/product/lip-liner-penc...    1910041  \n",
       "1379  https://www.sephora.com/product/lipsetter-dual...    1970805  \n",
       "1380  https://www.sephora.com/product/lip-line-perfe...    1354083  \n",
       "1381  https://www.sephora.com/product/smooth-silk-li...    1575646  \n",
       "1382  https://www.sephora.com/product/lip-liner-univ...    1918226  \n",
       "1383  https://www.sephora.com/product/lip-definer-P4...    1750249  \n",
       "1384  https://www.sephora.com/product/statement-unde...    1945195  \n",
       "1385  https://www.sephora.com/product/universal-noir...    1967496  \n",
       "1386  https://www.sephora.com/product/velvet-lip-lin...    1637313  \n",
       "\n",
       "[1387 rows x 7 columns]"
      ]
     },
     "execution_count": 823,
     "metadata": {},
     "output_type": "execute_result"
    }
   ],
   "source": [
    "dfs_test"
   ]
  },
  {
   "cell_type": "code",
   "execution_count": 689,
   "metadata": {},
   "outputs": [],
   "source": [
    "dfs_test.to_csv('dfs_test.csv')"
   ]
  },
  {
   "cell_type": "markdown",
   "metadata": {},
   "source": [
    "### Get Product ID"
   ]
  },
  {
   "cell_type": "code",
   "execution_count": 241,
   "metadata": {},
   "outputs": [],
   "source": [
    "url = 'https://www.sephora.com/product/pro-filt-r-hydrating-longwear-foundation-P448702'\n",
    "res = requests.get(url)\n",
    "res.content\n",
    "soup = BeautifulSoup(res.content, 'lxml')"
   ]
  },
  {
   "cell_type": "code",
   "execution_count": 325,
   "metadata": {},
   "outputs": [],
   "source": [
    "div = soup.find('div', {'class':'css-1owflha'})"
   ]
  },
  {
   "cell_type": "code",
   "execution_count": 276,
   "metadata": {},
   "outputs": [
    {
     "data": {
      "text/plain": [
       "bs4.element.Tag"
      ]
     },
     "execution_count": 276,
     "metadata": {},
     "output_type": "execute_result"
    }
   ],
   "source": [
    "type(div[0])"
   ]
  },
  {
   "cell_type": "code",
   "execution_count": 327,
   "metadata": {},
   "outputs": [
    {
     "data": {
      "text/plain": [
       "\"FENTY BEAUTY by RihannaPro Filt'r Hydrating Longwear Foundation\""
      ]
     },
     "execution_count": 327,
     "metadata": {},
     "output_type": "execute_result"
    }
   ],
   "source": [
    "div.contents[0].text"
   ]
  },
  {
   "cell_type": "code",
   "execution_count": 316,
   "metadata": {},
   "outputs": [
    {
     "data": {
      "text/plain": [
       "\"FENTY BEAUTY by RihannaPro Filt'r Hydrating Longwear FoundationSIZE 1.08 oz/ 32 mL•ITEM 22682745 reviews6213 lovesexclusive·online only\""
      ]
     },
     "execution_count": 316,
     "metadata": {},
     "output_type": "execute_result"
    }
   ],
   "source": [
    "div[0].text"
   ]
  },
  {
   "cell_type": "code",
   "execution_count": 329,
   "metadata": {},
   "outputs": [
    {
     "data": {
      "text/plain": [
       "['SIZE 1.08 oz/ 32 mL', 'ITEM 2268274']"
      ]
     },
     "execution_count": 329,
     "metadata": {},
     "output_type": "execute_result"
    }
   ],
   "source": [
    "div.contents[1].text.split(\"•\")"
   ]
  },
  {
   "cell_type": "code",
   "execution_count": 39,
   "metadata": {},
   "outputs": [],
   "source": [
    "def product_id(url_list):\n",
    "    product_ids = []\n",
    "    for i, url in enumerate(url_list):\n",
    "        url = url\n",
    "        res = requests.get(url)\n",
    "        res.content\n",
    "        soup = BeautifulSoup(res.content, 'lxml')\n",
    "        div = soup.find('div', {'class':'css-1owflha'})\n",
    "        product_ids.append(div.contents[1].text.split('ITEM')[-1].strip())\n",
    "        print(f\"Product_id {i} retrieved\")\n",
    "    return product_ids"
   ]
  },
  {
   "cell_type": "code",
   "execution_count": 388,
   "metadata": {},
   "outputs": [],
   "source": [
    "url = 'https://www.sephora.com/product/stay-matte-sheer-pressed-powder-P122748'\n",
    "res = requests.get(url)\n",
    "res.content\n",
    "soup = BeautifulSoup(res.content, 'lxml')\n",
    "div = soup.find('div', {'class':'css-1owflha'})"
   ]
  },
  {
   "cell_type": "code",
   "execution_count": 389,
   "metadata": {},
   "outputs": [
    {
     "data": {
      "text/plain": [
       "'51573'"
      ]
     },
     "execution_count": 389,
     "metadata": {},
     "output_type": "execute_result"
    }
   ],
   "source": [
    "div.contents[1].text.split('ITEM')[-1].strip()"
   ]
  },
  {
   "cell_type": "code",
   "execution_count": 347,
   "metadata": {},
   "outputs": [
    {
     "name": "stdout",
     "output_type": "stream",
     "text": [
      "Product_id 0 retrieved\n",
      "Product_id 1 retrieved\n",
      "Product_id 2 retrieved\n",
      "Product_id 3 retrieved\n",
      "Product_id 4 retrieved\n"
     ]
    },
    {
     "data": {
      "text/plain": [
       "['2268274', '2257111', '2164671', '2242105', '2112167']"
      ]
     },
     "execution_count": 347,
     "metadata": {},
     "output_type": "execute_result"
    }
   ],
   "source": [
    "product_id(product_url[:5])"
   ]
  },
  {
   "cell_type": "markdown",
   "metadata": {},
   "source": [
    "### Extract Reviews"
   ]
  },
  {
   "cell_type": "code",
   "execution_count": 44,
   "metadata": {},
   "outputs": [],
   "source": [
    "url = 'http://reviews.sephora.com/8723abredes/2268274/reviews.htm?format=embedded&page=1'\n",
    "res = requests.get(url)\n",
    "res.content\n",
    "soup = BeautifulSoup(res.content, 'lxml')"
   ]
  },
  {
   "cell_type": "code",
   "execution_count": 45,
   "metadata": {},
   "outputs": [],
   "source": [
    "reviews = soup.find_all('span',{'class':'BVRRReviewText'})"
   ]
  },
  {
   "cell_type": "code",
   "execution_count": 46,
   "metadata": {},
   "outputs": [
    {
     "data": {
      "text/plain": [
       "\"A natural finish and at the same time gives coverage. It didnt' feel cakey at all but it looked amazing. My skin was glowing but not greasy. When the Mattying foundation launched I didnt like it as it felt dry on my skin just like how some people felt. This is my new favorite foundation.\""
      ]
     },
     "execution_count": 46,
     "metadata": {},
     "output_type": "execute_result"
    }
   ],
   "source": [
    "reviews[0].text"
   ]
  },
  {
   "cell_type": "code",
   "execution_count": 50,
   "metadata": {},
   "outputs": [
    {
     "data": {
      "text/plain": [
       "<span class=\"BVRRReviewText\">I wear 290 in the Soft Matte Longwear Foundation and found that 290 in this formulation is not an exact match even though it’s supposed to. It looked a bit grey so I went with 255. Not a perfect match but definitely made it work by buffing it out well (used about a half a pump). </span>"
      ]
     },
     "execution_count": 50,
     "metadata": {},
     "output_type": "execute_result"
    }
   ],
   "source": [
    "reviews[1]"
   ]
  },
  {
   "cell_type": "code",
   "execution_count": 359,
   "metadata": {},
   "outputs": [
    {
     "data": {
      "text/plain": [
       "[<span class=\"BVRRPageLink BVRRPageNumber BVRRSelectedPageNumber\">1</span>]"
      ]
     },
     "execution_count": 359,
     "metadata": {},
     "output_type": "execute_result"
    }
   ],
   "source": [
    "soup.find_all('span', {'class':'BVRRPageLink BVRRPageNumber BVRRSelectedPageNumber'})"
   ]
  },
  {
   "cell_type": "code",
   "execution_count": 361,
   "metadata": {},
   "outputs": [],
   "source": [
    "pages = soup.find_all('div', {'class':'BVRRPager BVRRPageBasedPager'})"
   ]
  },
  {
   "cell_type": "code",
   "execution_count": 372,
   "metadata": {},
   "outputs": [
    {
     "data": {
      "text/plain": [
       "['1', '|', '2', '|', '3', '|', '...next', '|']"
      ]
     },
     "execution_count": 372,
     "metadata": {},
     "output_type": "execute_result"
    }
   ],
   "source": [
    "# [num for num in pages[0].text.split() if isinstance(num, int)]\n",
    "pages[0].text.split()"
   ]
  },
  {
   "cell_type": "code",
   "execution_count": 377,
   "metadata": {},
   "outputs": [],
   "source": [
    "page_nums = []\n",
    "for string in pages[0].text.split():\n",
    "    try:\n",
    "        page_nums.append(int(string))\n",
    "    except:\n",
    "        pass"
   ]
  },
  {
   "cell_type": "code",
   "execution_count": 378,
   "metadata": {},
   "outputs": [
    {
     "data": {
      "text/plain": [
       "[1, 2, 3]"
      ]
     },
     "execution_count": 378,
     "metadata": {},
     "output_type": "execute_result"
    }
   ],
   "source": [
    "page_nums"
   ]
  },
  {
   "cell_type": "code",
   "execution_count": null,
   "metadata": {},
   "outputs": [],
   "source": [
    "# link format = review_url = 'http://reviews.sephora.com/8723abredes/{}/reviews.htm?format=embedded&page={}'.format(\n",
    "#        product_id, page)\n",
    "\n",
    "# source: https://github.com/nanafwu/sephora-reviews-nlp/blob/master/scrape.py\n"
   ]
  },
  {
   "cell_type": "markdown",
   "metadata": {},
   "source": [
    "## Put it all together"
   ]
  },
  {
   "cell_type": "code",
   "execution_count": 803,
   "metadata": {},
   "outputs": [],
   "source": [
    "def get_page_nums(product_id):\n",
    "    url = (f'http://reviews.sephora.com/8723abredes/{product_id}/reviews.htm?format=embedded&page=1')\n",
    "    res = requests.get(url)\n",
    "    res.content\n",
    "    soup = BeautifulSoup(res.content, 'lxml')\n",
    "    soup.find_all('span', {'class':'BVRRPageLink BVRRPageNumber BVRRSelectedPageNumber'})\n",
    "    pages = soup.find_all('div', {'class':'BVRRPager BVRRPageBasedPager'})\n",
    "    length = len(str(pages).split('target=\"__TARGETFRAME__\" title=\"'))\n",
    "    page_num = str(pages).split('target=\"__TARGETFRAME__\" title=\"')[length-2].split('\"')[0]\n",
    "    return page_num"
   ]
  },
  {
   "cell_type": "code",
   "execution_count": 401,
   "metadata": {},
   "outputs": [],
   "source": [
    "get_reviews(product_ids[:1])"
   ]
  },
  {
   "cell_type": "code",
   "execution_count": 402,
   "metadata": {},
   "outputs": [],
   "source": [
    "reviews_df = pd.DataFrame(reviews)"
   ]
  },
  {
   "cell_type": "code",
   "execution_count": 403,
   "metadata": {},
   "outputs": [
    {
     "data": {
      "text/html": [
       "<div>\n",
       "<style scoped>\n",
       "    .dataframe tbody tr th:only-of-type {\n",
       "        vertical-align: middle;\n",
       "    }\n",
       "\n",
       "    .dataframe tbody tr th {\n",
       "        vertical-align: top;\n",
       "    }\n",
       "\n",
       "    .dataframe thead th {\n",
       "        text-align: right;\n",
       "    }\n",
       "</style>\n",
       "<table border=\"1\" class=\"dataframe\">\n",
       "  <thead>\n",
       "    <tr style=\"text-align: right;\">\n",
       "      <th></th>\n",
       "      <th>age_range</th>\n",
       "      <th>eye_color</th>\n",
       "      <th>product_id</th>\n",
       "      <th>rating</th>\n",
       "      <th>review</th>\n",
       "      <th>skin_tone</th>\n",
       "      <th>skin_type</th>\n",
       "      <th>title</th>\n",
       "      <th>user</th>\n",
       "    </tr>\n",
       "  </thead>\n",
       "  <tbody>\n",
       "    <tr>\n",
       "      <th>0</th>\n",
       "      <td>None</td>\n",
       "      <td>Brown</td>\n",
       "      <td>2268274</td>\n",
       "      <td>5</td>\n",
       "      <td>A natural finish and at the same time gives co...</td>\n",
       "      <td>None</td>\n",
       "      <td>Oily</td>\n",
       "      <td>Feels airy and fresh with natural coverage</td>\n",
       "      <td>veens</td>\n",
       "    </tr>\n",
       "    <tr>\n",
       "      <th>1</th>\n",
       "      <td>18-24</td>\n",
       "      <td>Brown</td>\n",
       "      <td>2268274</td>\n",
       "      <td>4</td>\n",
       "      <td>Uh, at first I wanted to rate this a tad bit l...</td>\n",
       "      <td>Dark</td>\n",
       "      <td>Combination</td>\n",
       "      <td>Oh man...</td>\n",
       "      <td>KhrisGal</td>\n",
       "    </tr>\n",
       "    <tr>\n",
       "      <th>2</th>\n",
       "      <td>None</td>\n",
       "      <td>Brown</td>\n",
       "      <td>2268274</td>\n",
       "      <td>4</td>\n",
       "      <td>I wear 290 in the Soft Matte Longwear Foundati...</td>\n",
       "      <td>Olive</td>\n",
       "      <td>Combination</td>\n",
       "      <td></td>\n",
       "      <td>nichemarkit</td>\n",
       "    </tr>\n",
       "    <tr>\n",
       "      <th>3</th>\n",
       "      <td>35-44</td>\n",
       "      <td>Brown</td>\n",
       "      <td>2268274</td>\n",
       "      <td>5</td>\n",
       "      <td>Wow. This foundation is a drink of water that ...</td>\n",
       "      <td>Medium</td>\n",
       "      <td>Combination</td>\n",
       "      <td>Wow. A drink of water foundation.</td>\n",
       "      <td>northernrokz</td>\n",
       "    </tr>\n",
       "    <tr>\n",
       "      <th>4</th>\n",
       "      <td>over 54</td>\n",
       "      <td>Brown</td>\n",
       "      <td>2268274</td>\n",
       "      <td>5</td>\n",
       "      <td>first off I will say I am Always team Fenty! n...</td>\n",
       "      <td>Dark</td>\n",
       "      <td>Normal</td>\n",
       "      <td>CLAP CLAP RHI RHI</td>\n",
       "      <td>BUTTERCUP101</td>\n",
       "    </tr>\n",
       "  </tbody>\n",
       "</table>\n",
       "</div>"
      ],
      "text/plain": [
       "  age_range eye_color product_id rating  \\\n",
       "0      None     Brown    2268274      5   \n",
       "1     18-24     Brown    2268274      4   \n",
       "2      None     Brown    2268274      4   \n",
       "3     35-44     Brown    2268274      5   \n",
       "4   over 54     Brown    2268274      5   \n",
       "\n",
       "                                              review skin_tone    skin_type  \\\n",
       "0  A natural finish and at the same time gives co...      None         Oily   \n",
       "1  Uh, at first I wanted to rate this a tad bit l...      Dark  Combination   \n",
       "2  I wear 290 in the Soft Matte Longwear Foundati...     Olive  Combination   \n",
       "3  Wow. This foundation is a drink of water that ...    Medium  Combination   \n",
       "4  first off I will say I am Always team Fenty! n...      Dark       Normal   \n",
       "\n",
       "                                        title           user  \n",
       "0  Feels airy and fresh with natural coverage         veens   \n",
       "1                                   Oh man...      KhrisGal   \n",
       "2                                               nichemarkit   \n",
       "3           Wow. A drink of water foundation.  northernrokz   \n",
       "4                           CLAP CLAP RHI RHI  BUTTERCUP101   "
      ]
     },
     "execution_count": 403,
     "metadata": {},
     "output_type": "execute_result"
    }
   ],
   "source": [
    "reviews_df"
   ]
  },
  {
   "cell_type": "code",
   "execution_count": 859,
   "metadata": {},
   "outputs": [],
   "source": [
    "for i, p in enumerate(dfs_test['product_id']):\n",
    "    dfs_test['review_count'][i] = get_page_nums(p)\n",
    "    sleep(1)"
   ]
  },
  {
   "cell_type": "code",
   "execution_count": 865,
   "metadata": {},
   "outputs": [],
   "source": [
    "dfs_test['review_pages'] = dfs_test['review_count'].map(lambda x: 1 if x == '[]' else x)"
   ]
  },
  {
   "cell_type": "code",
   "execution_count": 869,
   "metadata": {},
   "outputs": [],
   "source": [
    "# input the product dataframe with all product_ids and count of pages \n",
    "def get_reviews(product_ids, pages):\n",
    "    reviews = []\n",
    "    for i, product_id in enumerate(product_ids):\n",
    "        pages_1 = pages[i]\n",
    "        \n",
    "        for page in list(range(int(pages_1))):\n",
    "            if page <= 3:\n",
    "                url = (f'http://reviews.sephora.com/8723abredes/{product_id}/reviews.htm?format=embedded&page={page}')\n",
    "                res = requests.get(url)\n",
    "                res.content\n",
    "                soup = BeautifulSoup(res.content, 'lxml')\n",
    "                base_data_reviews = soup.find_all('span', {'itemprop': 'review'})\n",
    "\n",
    "                \n",
    "                \n",
    "                for review in base_data_reviews:\n",
    "                    f_review = \"\"\n",
    "                    for row in review.find_all('span', {'class': 'BVRRReviewText'}):\n",
    "                        f_review += row.text\n",
    "                    info = {}\n",
    "                    info['product_id'] = product_id\n",
    "                    info['review'] = f_review\n",
    "                    \n",
    "                    if review.find('span', {'class':'BVRRValue BVRRContextDataValue BVRRContextDataValueeyeColor'}) is not None:\n",
    "                        info['eye_color'] = review.find('span', {'class':'BVRRValue BVRRContextDataValue BVRRContextDataValueeyeColor'}).text\n",
    "                    else:\n",
    "                        info['eye_color'] = None\n",
    "                    \n",
    "                    if review.find('span', {'class':'BVRRValue BVRRContextDataValue BVRRContextDataValueskinTone'}) is not None:\n",
    "                        info['skin_tone'] = review.find('span', {'class':'BVRRValue BVRRContextDataValue BVRRContextDataValueskinTone'}).text\n",
    "                    else:\n",
    "                        info['skin_tone'] = None\n",
    "                    \n",
    "                    if review.find('span', {'class':'BVRRValue BVRRContextDataValue BVRRContextDataValueskinType'}) is not None:\n",
    "                        info['skin_type'] = review.find('span', {'class':'BVRRValue BVRRContextDataValue BVRRContextDataValueskinType'}).text\n",
    "                    else:\n",
    "                        info['skin_type'] = None\n",
    "                        \n",
    "                    if review.find('span', {'class':'BVRRValue BVRRContextDataValue BVRRContextDataValueage'}) is not None:\n",
    "                        info['age_range'] = review.find('span', {'class':'BVRRValue BVRRContextDataValue BVRRContextDataValueage'}).text\n",
    "                    else:\n",
    "                        info['age_range'] = None\n",
    "                        \n",
    "                    if review.find('span', {'class': 'BVRRNumber BVRRRatingNumber'}) is not None:\n",
    "                        info['rating'] = review.find('span', {'class': 'BVRRNumber BVRRRatingNumber'}).text\n",
    "                    else:\n",
    "                        info['rating'] = None\n",
    "                    \n",
    "                    if review.find('span', {'class': 'BVRRValue BVRRReviewTitle'}) is not None:\n",
    "                        info['title'] = review.find('span', {'class': 'BVRRValue BVRRReviewTitle'}).text\n",
    "                    else:\n",
    "                        info['title'] = None\n",
    "                        \n",
    "                    info['user'] = review.find('span', {'class': 'BVRRNickname'}).text\n",
    "                    reviews.append(info)\n",
    "        sleep(1)            \n",
    "    return reviews"
   ]
  },
  {
   "cell_type": "code",
   "execution_count": 870,
   "metadata": {},
   "outputs": [],
   "source": [
    "reviews_test = get_reviews(dfs_test['product_id'], dfs_test['review_pages'])"
   ]
  },
  {
   "cell_type": "code",
   "execution_count": 873,
   "metadata": {},
   "outputs": [],
   "source": [
    "reviews_df = pd.DataFrame(reviews_test)"
   ]
  },
  {
   "cell_type": "code",
   "execution_count": 875,
   "metadata": {},
   "outputs": [],
   "source": [
    "reviews_df.to_csv('reviews_data.csv')"
   ]
  },
  {
   "cell_type": "code",
   "execution_count": 2,
   "metadata": {},
   "outputs": [],
   "source": [
    "df_product = pd.read_csv('dfs_test.csv')"
   ]
  },
  {
   "cell_type": "code",
   "execution_count": 3,
   "metadata": {},
   "outputs": [],
   "source": [
    "df_reviews= pd.read_csv('reviews_data.csv')"
   ]
  },
  {
   "cell_type": "code",
   "execution_count": null,
   "metadata": {},
   "outputs": [],
   "source": [
    "# input the product dataframe with all product_ids and count of pages \n",
    "def get_summary(product_ids):\n",
    "    summaries = []\n",
    "    for p_id in product_ids:\n",
    "        url = (f'http://reviews.sephora.com/8723abredes/{product_id}/reviews.htm?format=embedded&page=1')\n",
    "        res = requests.get(url)\n",
    "        res.content\n",
    "        soup = BeautifulSoup(res.content, 'lxml')\n",
    "        base_data_reviews = soup.find_all('span', {'itemprop': 'review'})\n",
    "                \n",
    "        for review in base_data_reviews:\n",
    "            f_review = \"\"\n",
    "            for row in review.find_all('span', {'class': 'BVRRReviewText'}):\n",
    "                f_review += row.text\n",
    "            info = {}\n",
    "            info['product_id'] = product_id\n",
    "            info['review'] = f_review\n",
    "\n",
    "            if review.find('span', {'class':'BVRRValue BVRRContextDataValue BVRRContextDataValueeyeColor'}) is not None:\n",
    "                info['eye_color'] = review.find('span', {'class':'BVRRValue BVRRContextDataValue BVRRContextDataValueeyeColor'}).text\n",
    "            else:\n",
    "                info['eye_color'] = None\n",
    "\n",
    "            if review.find('span', {'class':'BVRRValue BVRRContextDataValue BVRRContextDataValueskinTone'}) is not None:\n",
    "                info['skin_tone'] = review.find('span', {'class':'BVRRValue BVRRContextDataValue BVRRContextDataValueskinTone'}).text\n",
    "            else:\n",
    "                info['skin_tone'] = None\n",
    "\n",
    "            if review.find('span', {'class':'BVRRValue BVRRContextDataValue BVRRContextDataValueskinType'}) is not None:\n",
    "                info['skin_type'] = review.find('span', {'class':'BVRRValue BVRRContextDataValue BVRRContextDataValueskinType'}).text\n",
    "            else:\n",
    "                info['skin_type'] = None\n",
    "\n",
    "            if review.find('span', {'class':'BVRRValue BVRRContextDataValue BVRRContextDataValueage'}) is not None:\n",
    "                info['age_range'] = review.find('span', {'class':'BVRRValue BVRRContextDataValue BVRRContextDataValueage'}).text\n",
    "            else:\n",
    "                info['age_range'] = None\n",
    "\n",
    "            if review.find('span', {'class': 'BVRRNumber BVRRRatingNumber'}) is not None:\n",
    "                info['rating'] = review.find('span', {'class': 'BVRRNumber BVRRRatingNumber'}).text\n",
    "            else:\n",
    "                info['rating'] = None\n",
    "\n",
    "            if review.find('span', {'class': 'BVRRValue BVRRReviewTitle'}) is not None:\n",
    "                info['title'] = review.find('span', {'class': 'BVRRValue BVRRReviewTitle'}).text\n",
    "            else:\n",
    "                info['title'] = None\n",
    "\n",
    "            info['user'] = review.find('span', {'class': 'BVRRNickname'}).text\n",
    "            reviews.append(info)\n",
    "        sleep(1)            \n",
    "    return reviews"
   ]
  },
  {
   "cell_type": "code",
   "execution_count": 5,
   "metadata": {},
   "outputs": [
    {
     "data": {
      "text/plain": [
       "2246726"
      ]
     },
     "execution_count": 5,
     "metadata": {},
     "output_type": "execute_result"
    }
   ],
   "source": [
    "df_product['product_id'][8]"
   ]
  },
  {
   "cell_type": "code",
   "execution_count": 131,
   "metadata": {},
   "outputs": [],
   "source": [
    "def get_summary_content(product_ids):\n",
    "    summaries = []\n",
    "    for p in product_ids:\n",
    "        url = (f'http://reviews.sephora.com/8723abredes/{p}/reviews.htm?format=embedded&page=1')\n",
    "        res = requests.get(url)\n",
    "        res.content\n",
    "        soup = BeautifulSoup(res.content, 'lxml')\n",
    "        quick_take = soup.find_all('td', {'id': 'BVRRQuickTakeProTagsID'})\n",
    "        quick_list = quick_take[0].find_all('a')\n",
    "        quick_count = quick_take[0].find_all('span')\n",
    "    \n",
    "        for i, row in enumerate(quick_list[:-1]):\n",
    "            summary = {}\n",
    "            summary['key_word'] = quick_list[i].text\n",
    "            summary['key_word_count'] = quick_count[i].text\n",
    "            summary['product_id'] = p\n",
    "            summaries.append(summary)\n",
    "        sleep(1)\n",
    "    return summaries\n",
    "        "
   ]
  },
  {
   "cell_type": "code",
   "execution_count": 160,
   "metadata": {},
   "outputs": [],
   "source": [
    "df_product['pid_string'] = df_product['product_id'].map(lambda x: str(x).strip())"
   ]
  },
  {
   "cell_type": "code",
   "execution_count": 167,
   "metadata": {},
   "outputs": [
    {
     "data": {
      "text/plain": [
       "15    2169845\n",
       "16    2247922\n",
       "17    2224848\n",
       "18    2031011\n",
       "19    2070571\n",
       "Name: pid_string, dtype: object"
      ]
     },
     "execution_count": 167,
     "metadata": {},
     "output_type": "execute_result"
    }
   ],
   "source": [
    "df_product['pid_string'][15:20]"
   ]
  },
  {
   "cell_type": "code",
   "execution_count": 171,
   "metadata": {},
   "outputs": [],
   "source": [
    "def get_summary(product_ids):\n",
    "    summaries = []\n",
    "    for product_id in product_ids:\n",
    "        url = (f'http://reviews.sephora.com/8723abredes/{product_id}/reviews.htm?format=embedded&page=1')\n",
    "        res = requests.get(url)\n",
    "        res.content\n",
    "        soup = BeautifulSoup(res.content, 'lxml')\n",
    "        quick_take = soup.find_all('td', {'id': 'BVRRQuickTakeProTagsID'})\n",
    "        quick_list = quick_take[0].find_all('a')\n",
    "        quick_count = quick_take[0].find_all('span')\n",
    "\n",
    "        for i, row in enumerate(quick_list[:-1]):\n",
    "            summary = {}\n",
    "            summary['key_word'] = quick_list[i].text\n",
    "            summary['key_word_count'] = quick_count[i].text\n",
    "            summary['product_id'] = product_id\n",
    "            summaries.append(summary)\n",
    "        sleep(2)\n",
    "    \n",
    "    return summaries"
   ]
  },
  {
   "cell_type": "code",
   "execution_count": 186,
   "metadata": {},
   "outputs": [
    {
     "name": "stdout",
     "output_type": "stream",
     "text": [
      "100\n",
      "200\n",
      "300\n",
      "400\n",
      "500\n",
      "600\n",
      "700\n",
      "800\n",
      "900\n",
      "1000\n",
      "1100\n",
      "1200\n",
      "1300\n"
     ]
    }
   ],
   "source": [
    "\n",
    "summaries = []\n",
    "count = 0 \n",
    "for product_id in df_product['pid_string']:\n",
    "    url = (f'http://reviews.sephora.com/8723abredes/{product_id}/reviews.htm?format=embedded&page=1')\n",
    "    res = requests.get(url)\n",
    "    res.content\n",
    "    soup = BeautifulSoup(res.content, 'lxml')\n",
    "    quick_take = soup.find_all('td', {'id': 'BVRRQuickTakeProTagsID'})\n",
    "    count +=1\n",
    "    try:\n",
    "        quick_list = quick_take[0].find_all('a')\n",
    "        quick_count = quick_take[0].find_all('span')\n",
    "\n",
    "        for i, row in enumerate(quick_list[:-1]):\n",
    "            summary = {}\n",
    "            summary['key_word'] = quick_list[i].text\n",
    "            summary['key_word_count'] = quick_count[i].text\n",
    "            summary['product_id'] = product_id\n",
    "            summaries.append(summary)\n",
    "    except:\n",
    "        pass\n",
    "    if count % 100 == 0:\n",
    "        print(count)\n",
    "    sleep(1)\n",
    "    \n",
    "    \n"
   ]
  },
  {
   "cell_type": "code",
   "execution_count": 188,
   "metadata": {},
   "outputs": [],
   "source": [
    "summary_data = pd.DataFrame(summaries)"
   ]
  },
  {
   "cell_type": "code",
   "execution_count": 190,
   "metadata": {},
   "outputs": [],
   "source": [
    "summary_data.to_csv('summary_data.csv')"
   ]
  },
  {
   "cell_type": "code",
   "execution_count": 199,
   "metadata": {},
   "outputs": [
    {
     "data": {
      "text/html": [
       "<div>\n",
       "<style scoped>\n",
       "    .dataframe tbody tr th:only-of-type {\n",
       "        vertical-align: middle;\n",
       "    }\n",
       "\n",
       "    .dataframe tbody tr th {\n",
       "        vertical-align: top;\n",
       "    }\n",
       "\n",
       "    .dataframe thead th {\n",
       "        text-align: right;\n",
       "    }\n",
       "</style>\n",
       "<table border=\"1\" class=\"dataframe\">\n",
       "  <thead>\n",
       "    <tr style=\"text-align: right;\">\n",
       "      <th></th>\n",
       "      <th>key_word</th>\n",
       "      <th>key_word_count</th>\n",
       "      <th>product_id</th>\n",
       "    </tr>\n",
       "  </thead>\n",
       "  <tbody>\n",
       "    <tr>\n",
       "      <th>0</th>\n",
       "      <td>long wearing</td>\n",
       "      <td>(1,165)</td>\n",
       "      <td>2112167</td>\n",
       "    </tr>\n",
       "    <tr>\n",
       "      <th>1</th>\n",
       "      <td>buildable coverage</td>\n",
       "      <td>(905)</td>\n",
       "      <td>2112167</td>\n",
       "    </tr>\n",
       "    <tr>\n",
       "      <th>2</th>\n",
       "      <td>oil-free</td>\n",
       "      <td>(608)</td>\n",
       "      <td>2112167</td>\n",
       "    </tr>\n",
       "    <tr>\n",
       "      <th>3</th>\n",
       "      <td>full coverage</td>\n",
       "      <td>(77)</td>\n",
       "      <td>2112167</td>\n",
       "    </tr>\n",
       "    <tr>\n",
       "      <th>4</th>\n",
       "      <td>cakey</td>\n",
       "      <td>(26)</td>\n",
       "      <td>2112167</td>\n",
       "    </tr>\n",
       "  </tbody>\n",
       "</table>\n",
       "</div>"
      ],
      "text/plain": [
       "             key_word key_word_count product_id\n",
       "0        long wearing        (1,165)    2112167\n",
       "1  buildable coverage          (905)    2112167\n",
       "2            oil-free          (608)    2112167\n",
       "3       full coverage           (77)    2112167\n",
       "4               cakey           (26)    2112167"
      ]
     },
     "execution_count": 199,
     "metadata": {},
     "output_type": "execute_result"
    }
   ],
   "source": [
    "summary_data.head()"
   ]
  },
  {
   "cell_type": "code",
   "execution_count": 184,
   "metadata": {},
   "outputs": [
    {
     "data": {
      "text/plain": [
       "32    1787571\n",
       "33    1507367\n",
       "34    2261865\n",
       "Name: product_id, dtype: int64"
      ]
     },
     "execution_count": 184,
     "metadata": {},
     "output_type": "execute_result"
    }
   ],
   "source": [
    "df_product['product_id'][32:35]"
   ]
  },
  {
   "cell_type": "code",
   "execution_count": 173,
   "metadata": {},
   "outputs": [
    {
     "ename": "IndexError",
     "evalue": "list index out of range",
     "output_type": "error",
     "traceback": [
      "\u001b[0;31m---------------------------------------------------------------------------\u001b[0m",
      "\u001b[0;31mIndexError\u001b[0m                                Traceback (most recent call last)",
      "\u001b[0;32m<ipython-input-173-16ae3f83c61c>\u001b[0m in \u001b[0;36m<module>\u001b[0;34m\u001b[0m\n\u001b[0;32m----> 1\u001b[0;31m \u001b[0msumms\u001b[0m \u001b[0;34m=\u001b[0m \u001b[0mget_summary\u001b[0m\u001b[0;34m(\u001b[0m\u001b[0mdf_product\u001b[0m\u001b[0;34m[\u001b[0m\u001b[0;34m'pid_string'\u001b[0m\u001b[0;34m]\u001b[0m\u001b[0;34m)\u001b[0m\u001b[0;34m\u001b[0m\u001b[0;34m\u001b[0m\u001b[0m\n\u001b[0m",
      "\u001b[0;32m<ipython-input-171-5754b7f671b7>\u001b[0m in \u001b[0;36mget_summary\u001b[0;34m(product_ids)\u001b[0m\n\u001b[1;32m      7\u001b[0m         \u001b[0msoup\u001b[0m \u001b[0;34m=\u001b[0m \u001b[0mBeautifulSoup\u001b[0m\u001b[0;34m(\u001b[0m\u001b[0mres\u001b[0m\u001b[0;34m.\u001b[0m\u001b[0mcontent\u001b[0m\u001b[0;34m,\u001b[0m \u001b[0;34m'lxml'\u001b[0m\u001b[0;34m)\u001b[0m\u001b[0;34m\u001b[0m\u001b[0;34m\u001b[0m\u001b[0m\n\u001b[1;32m      8\u001b[0m         \u001b[0mquick_take\u001b[0m \u001b[0;34m=\u001b[0m \u001b[0msoup\u001b[0m\u001b[0;34m.\u001b[0m\u001b[0mfind_all\u001b[0m\u001b[0;34m(\u001b[0m\u001b[0;34m'td'\u001b[0m\u001b[0;34m,\u001b[0m \u001b[0;34m{\u001b[0m\u001b[0;34m'id'\u001b[0m\u001b[0;34m:\u001b[0m \u001b[0;34m'BVRRQuickTakeProTagsID'\u001b[0m\u001b[0;34m}\u001b[0m\u001b[0;34m)\u001b[0m\u001b[0;34m\u001b[0m\u001b[0;34m\u001b[0m\u001b[0m\n\u001b[0;32m----> 9\u001b[0;31m         \u001b[0mquick_list\u001b[0m \u001b[0;34m=\u001b[0m \u001b[0mquick_take\u001b[0m\u001b[0;34m[\u001b[0m\u001b[0;36m0\u001b[0m\u001b[0;34m]\u001b[0m\u001b[0;34m.\u001b[0m\u001b[0mfind_all\u001b[0m\u001b[0;34m(\u001b[0m\u001b[0;34m'a'\u001b[0m\u001b[0;34m)\u001b[0m\u001b[0;34m\u001b[0m\u001b[0;34m\u001b[0m\u001b[0m\n\u001b[0m\u001b[1;32m     10\u001b[0m         \u001b[0mquick_count\u001b[0m \u001b[0;34m=\u001b[0m \u001b[0mquick_take\u001b[0m\u001b[0;34m[\u001b[0m\u001b[0;36m0\u001b[0m\u001b[0;34m]\u001b[0m\u001b[0;34m.\u001b[0m\u001b[0mfind_all\u001b[0m\u001b[0;34m(\u001b[0m\u001b[0;34m'span'\u001b[0m\u001b[0;34m)\u001b[0m\u001b[0;34m\u001b[0m\u001b[0;34m\u001b[0m\u001b[0m\n\u001b[1;32m     11\u001b[0m \u001b[0;34m\u001b[0m\u001b[0m\n",
      "\u001b[0;31mIndexError\u001b[0m: list index out of range"
     ]
    }
   ],
   "source": [
    "summs = get_summary(df_product['pid_string'])"
   ]
  },
  {
   "cell_type": "code",
   "execution_count": 170,
   "metadata": {},
   "outputs": [
    {
     "data": {
      "text/plain": [
       "[{'key_word': 'long wearing',\n",
       "  'key_word_count': '(1,239)',\n",
       "  'product_id': '2169845'},\n",
       " {'key_word': 'buildable coverage',\n",
       "  'key_word_count': '(1,060)',\n",
       "  'product_id': '2169845'},\n",
       " {'key_word': 'oil-free', 'key_word_count': '(773)', 'product_id': '2169845'},\n",
       " {'key_word': 'full coverage',\n",
       "  'key_word_count': '(35)',\n",
       "  'product_id': '2169845'},\n",
       " {'key_word': 'matte', 'key_word_count': '(29)', 'product_id': '2169845'},\n",
       " {'key_word': 'lightweight',\n",
       "  'key_word_count': '(25)',\n",
       "  'product_id': '2169845'},\n",
       " {'key_word': 'flawless', 'key_word_count': '(19)', 'product_id': '2169845'},\n",
       " {'key_word': 'natural', 'key_word_count': '(16)', 'product_id': '2169845'},\n",
       " {'key_word': 'natural finish',\n",
       "  'key_word_count': '(13)',\n",
       "  'product_id': '2169845'},\n",
       " {'key_word': 'smooth', 'key_word_count': '(13)', 'product_id': '2169845'},\n",
       " {'key_word': 'light', 'key_word_count': '(11)', 'product_id': '2169845'},\n",
       " {'key_word': 'light weight',\n",
       "  'key_word_count': '(11)',\n",
       "  'product_id': '2169845'},\n",
       " {'key_word': 'moisturizing',\n",
       "  'key_word_count': '(10)',\n",
       "  'product_id': '2169845'},\n",
       " {'key_word': 'blendable', 'key_word_count': '(9)', 'product_id': '2169845'},\n",
       " {'key_word': 'drying', 'key_word_count': '(9)', 'product_id': '2169845'},\n",
       " {'key_word': 'matte finish',\n",
       "  'key_word_count': '(9)',\n",
       "  'product_id': '2169845'},\n",
       " {'key_word': 'amazing', 'key_word_count': '(8)', 'product_id': '2169845'},\n",
       " {'key_word': 'comfortable', 'key_word_count': '(7)', 'product_id': '2169845'},\n",
       " {'key_word': 'easy to apply',\n",
       "  'key_word_count': '(7)',\n",
       "  'product_id': '2169845'},\n",
       " {'key_word': 'flawless finish',\n",
       "  'key_word_count': '(7)',\n",
       "  'product_id': '2169845'},\n",
       " {'key_word': 'great coverage',\n",
       "  'key_word_count': '(7)',\n",
       "  'product_id': '2169845'},\n",
       " {'key_word': 'light-weight',\n",
       "  'key_word_count': '(7)',\n",
       "  'product_id': '2169845'},\n",
       " {'key_word': 'long lasting',\n",
       "  'key_word_count': '(7)',\n",
       "  'product_id': '2169845'},\n",
       " {'key_word': 'natural looking',\n",
       "  'key_word_count': '(7)',\n",
       "  'product_id': '2169845'},\n",
       " {'key_word': 'thick', 'key_word_count': '(7)', 'product_id': '2169845'},\n",
       " {'key_word': 'good coverage',\n",
       "  'key_word_count': '(6)',\n",
       "  'product_id': '2169845'},\n",
       " {'key_word': 'beautiful', 'key_word_count': '(5)', 'product_id': '2169845'},\n",
       " {'key_word': 'heavy', 'key_word_count': '(5)', 'product_id': '2169845'},\n",
       " {'key_word': 'beautiful finish',\n",
       "  'key_word_count': '(4)',\n",
       "  'product_id': '2169845'},\n",
       " {'key_word': 'cakey', 'key_word_count': '(4)', 'product_id': '2169845'},\n",
       " {'key_word': 'long wearing',\n",
       "  'key_word_count': '(51)',\n",
       "  'product_id': '2247922'},\n",
       " {'key_word': 'buildable coverage',\n",
       "  'key_word_count': '(38)',\n",
       "  'product_id': '2247922'},\n",
       " {'key_word': 'oil-free', 'key_word_count': '(31)', 'product_id': '2247922'},\n",
       " {'key_word': 'full coverage',\n",
       "  'key_word_count': '(3)',\n",
       "  'product_id': '2247922'},\n",
       " {'key_word': 'matte finish',\n",
       "  'key_word_count': '(3)',\n",
       "  'product_id': '2247922'},\n",
       " {'key_word': 'matte', 'key_word_count': '(2)', 'product_id': '2247922'},\n",
       " {'key_word': 'transfer proof',\n",
       "  'key_word_count': '(2)',\n",
       "  'product_id': '2247922'},\n",
       " {'key_word': '22 different shades',\n",
       "  'key_word_count': '(1)',\n",
       "  'product_id': '2247922'},\n",
       " {'key_word': '24 hour coverage',\n",
       "  'key_word_count': '(1)',\n",
       "  'product_id': '2247922'},\n",
       " {'key_word': 'comfortable', 'key_word_count': '(1)', 'product_id': '2247922'},\n",
       " {'key_word': 'flawless', 'key_word_count': '(1)', 'product_id': '2247922'},\n",
       " {'key_word': 'greasy', 'key_word_count': '(1)', 'product_id': '2247922'},\n",
       " {'key_word': 'great for oily skin',\n",
       "  'key_word_count': '(1)',\n",
       "  'product_id': '2247922'},\n",
       " {'key_word': 'includes spf',\n",
       "  'key_word_count': '(1)',\n",
       "  'product_id': '2247922'},\n",
       " {'key_word': 'lightweight', 'key_word_count': '(1)', 'product_id': '2247922'},\n",
       " {'key_word': 'spf 20', 'key_word_count': '(1)', 'product_id': '2247922'},\n",
       " {'key_word': 'long wearing',\n",
       "  'key_word_count': '(607)',\n",
       "  'product_id': '2224848'},\n",
       " {'key_word': 'buildable coverage',\n",
       "  'key_word_count': '(597)',\n",
       "  'product_id': '2224848'},\n",
       " {'key_word': 'moisturizing',\n",
       "  'key_word_count': '(318)',\n",
       "  'product_id': '2224848'},\n",
       " {'key_word': 'oil-free', 'key_word_count': '(243)', 'product_id': '2224848'},\n",
       " {'key_word': 'flawless', 'key_word_count': '(68)', 'product_id': '2224848'},\n",
       " {'key_word': 'light', 'key_word_count': '(68)', 'product_id': '2224848'},\n",
       " {'key_word': 'lightweight',\n",
       "  'key_word_count': '(42)',\n",
       "  'product_id': '2224848'},\n",
       " {'key_word': 'easy to use',\n",
       "  'key_word_count': '(41)',\n",
       "  'product_id': '2224848'},\n",
       " {'key_word': 'light weight',\n",
       "  'key_word_count': '(30)',\n",
       "  'product_id': '2224848'},\n",
       " {'key_word': 'full coverage',\n",
       "  'key_word_count': '(28)',\n",
       "  'product_id': '2224848'},\n",
       " {'key_word': 'amazing', 'key_word_count': '(25)', 'product_id': '2224848'},\n",
       " {'key_word': 'great coverage',\n",
       "  'key_word_count': '(25)',\n",
       "  'product_id': '2224848'},\n",
       " {'key_word': 'flawless finish',\n",
       "  'key_word_count': '(23)',\n",
       "  'product_id': '2224848'},\n",
       " {'key_word': 'long lasting',\n",
       "  'key_word_count': '(20)',\n",
       "  'product_id': '2224848'},\n",
       " {'key_word': 'natural', 'key_word_count': '(19)', 'product_id': '2224848'},\n",
       " {'key_word': 'smooth', 'key_word_count': '(19)', 'product_id': '2224848'},\n",
       " {'key_word': 'good coverage',\n",
       "  'key_word_count': '(18)',\n",
       "  'product_id': '2224848'},\n",
       " {'key_word': 'easy to apply',\n",
       "  'key_word_count': '(16)',\n",
       "  'product_id': '2224848'},\n",
       " {'key_word': 'easy', 'key_word_count': '(14)', 'product_id': '2224848'},\n",
       " {'key_word': 'natural looking',\n",
       "  'key_word_count': '(13)',\n",
       "  'product_id': '2224848'},\n",
       " {'key_word': 'matte', 'key_word_count': '(12)', 'product_id': '2224848'},\n",
       " {'key_word': 'perfect', 'key_word_count': '(12)', 'product_id': '2224848'},\n",
       " {'key_word': 'dewy', 'key_word_count': '(10)', 'product_id': '2224848'},\n",
       " {'key_word': 'drying', 'key_word_count': '(10)', 'product_id': '2224848'},\n",
       " {'key_word': 'foundation', 'key_word_count': '(10)', 'product_id': '2224848'},\n",
       " {'key_word': 'blendable', 'key_word_count': '(9)', 'product_id': '2224848'},\n",
       " {'key_word': 'expensive', 'key_word_count': '(9)', 'product_id': '2224848'},\n",
       " {'key_word': 'messy', 'key_word_count': '(9)', 'product_id': '2224848'},\n",
       " {'key_word': 'convenient', 'key_word_count': '(8)', 'product_id': '2224848'},\n",
       " {'key_word': 'luminous', 'key_word_count': '(8)', 'product_id': '2224848'}]"
      ]
     },
     "execution_count": 170,
     "metadata": {},
     "output_type": "execute_result"
    }
   ],
   "source": [
    "summaries"
   ]
  },
  {
   "cell_type": "code",
   "execution_count": 154,
   "metadata": {},
   "outputs": [
    {
     "data": {
      "text/plain": [
       "0    2268274\n",
       "1    2257111\n",
       "Name: product_id, dtype: object"
      ]
     },
     "execution_count": 154,
     "metadata": {},
     "output_type": "execute_result"
    }
   ],
   "source": [
    "df_product['product_id'][:2].map(lambda x: str(x).strip())"
   ]
  },
  {
   "cell_type": "code",
   "execution_count": 151,
   "metadata": {},
   "outputs": [
    {
     "data": {
      "text/plain": [
       "[]"
      ]
     },
     "execution_count": 151,
     "metadata": {},
     "output_type": "execute_result"
    }
   ],
   "source": [
    "summaries"
   ]
  },
  {
   "cell_type": "code",
   "execution_count": 134,
   "metadata": {},
   "outputs": [
    {
     "data": {
      "text/plain": [
       "[]"
      ]
     },
     "execution_count": 134,
     "metadata": {},
     "output_type": "execute_result"
    }
   ],
   "source": [
    "get_summary_content(df_product['product_id'][:1])"
   ]
  },
  {
   "cell_type": "code",
   "execution_count": 38,
   "metadata": {},
   "outputs": [],
   "source": [
    "url = (f'http://reviews.sephora.com/8723abredes/2246726/reviews.htm?format=embedded&page=1')\n",
    "res = requests.get(url)\n",
    "res.content\n",
    "soup = BeautifulSoup(res.content, 'lxml')\n",
    "# base_data_reviews = soup.find_all('span', {'itemprop': 'review'})"
   ]
  },
  {
   "cell_type": "code",
   "execution_count": 58,
   "metadata": {},
   "outputs": [],
   "source": [
    "hm = soup.find_all('td', {'id': 'BVRRQuickTakeProTagsID'})"
   ]
  },
  {
   "cell_type": "code",
   "execution_count": 120,
   "metadata": {},
   "outputs": [
    {
     "data": {
      "text/plain": [
       "30"
      ]
     },
     "execution_count": 120,
     "metadata": {},
     "output_type": "execute_result"
    }
   ],
   "source": [
    "len(hm[0].find_all('li'))"
   ]
  },
  {
   "cell_type": "code",
   "execution_count": 125,
   "metadata": {},
   "outputs": [
    {
     "data": {
      "text/plain": [
       "31"
      ]
     },
     "execution_count": 125,
     "metadata": {},
     "output_type": "execute_result"
    }
   ],
   "source": [
    "len(hm[0].find_all('a'))"
   ]
  },
  {
   "cell_type": "code",
   "execution_count": 126,
   "metadata": {},
   "outputs": [
    {
     "data": {
      "text/plain": [
       "'See All'"
      ]
     },
     "execution_count": 126,
     "metadata": {},
     "output_type": "execute_result"
    }
   ],
   "source": [
    "# key word\n",
    "hm[0].find_all('a')[-1].text"
   ]
  },
  {
   "cell_type": "code",
   "execution_count": 129,
   "metadata": {},
   "outputs": [
    {
     "data": {
      "text/plain": [
       "30"
      ]
     },
     "execution_count": 129,
     "metadata": {},
     "output_type": "execute_result"
    }
   ],
   "source": [
    "# number of key word uses\n",
    "len(hm[0].find_all('span'))"
   ]
  },
  {
   "cell_type": "code",
   "execution_count": null,
   "metadata": {},
   "outputs": [],
   "source": []
  },
  {
   "cell_type": "code",
   "execution_count": 37,
   "metadata": {},
   "outputs": [],
   "source": [
    "def get_aggregate(product_ids):\n",
    "    for p in product_ids:\n",
    "        url = (f'http://reviews.sephora.com/8723abredes/{p}/reviews.htm?format=embedded&page=1')\n",
    "        res = requests.get(url)\n",
    "        res.content\n",
    "        soup = BeautifulSoup(res.content, 'lxml')\n",
    "        agg_r = soup.find_all('span', {'itemprop': 'aggregateRating'})\n",
    "        rating = agg_r[0].find('span').text\n",
    "        print(rating) \n",
    "        sleep(1)"
   ]
  },
  {
   "cell_type": "code",
   "execution_count": 33,
   "metadata": {},
   "outputs": [
    {
     "data": {
      "text/plain": [
       "6    2250603\n",
       "7    2251874\n",
       "8    2246726\n",
       "9    1868165\n",
       "Name: product_id, dtype: int64"
      ]
     },
     "execution_count": 33,
     "metadata": {},
     "output_type": "execute_result"
    }
   ],
   "source": [
    "df_product['product_id'][6:10]"
   ]
  },
  {
   "cell_type": "code",
   "execution_count": 36,
   "metadata": {},
   "outputs": [
    {
     "name": "stdout",
     "output_type": "stream",
     "text": [
      "3.9\n",
      "4\n"
     ]
    }
   ],
   "source": [
    "agg_rating = []\n",
    "for p in df_product['product_id'][8:10]:\n",
    "    url = (f'http://reviews.sephora.com/8723abredes/{p}/reviews.htm?format=embedded&page=1')\n",
    "    res = requests.get(url)\n",
    "    res.content\n",
    "    soup = BeautifulSoup(res.content, 'lxml')\n",
    "    agg_r = soup.find_all('span', {'itemprop': 'aggregateRating'})\n",
    "    rating = agg_r[0].find('span').text\n",
    "    \n",
    "    \n"
   ]
  },
  {
   "cell_type": "code",
   "execution_count": 222,
   "metadata": {},
   "outputs": [],
   "source": [
    "agg_rating = []\n",
    "for p in df_product['pid_string']:\n",
    "    aggs = {}\n",
    "    url = (f'http://reviews.sephora.com/8723abredes/{p}/reviews.htm?format=embedded&page=1')\n",
    "    res = requests.get(url)\n",
    "    res.content\n",
    "    soup = BeautifulSoup(res.content, 'lxml')\n",
    "    rating = soup.find_all('div', {'class': 'BVRRRatingSummaryColumn'})\n",
    "    \n",
    "    try:\n",
    "        avg = rating[0].find('span', {'itemprop':'ratingValue'}).text\n",
    "        count = rating[0].find('span', {'class':'BVRRCount BVRRNonZeroCount'}).text\n",
    "\n",
    "        ind_star = rating[0].find('div', {'class':'BVRRHistogramContent'}).find_all('span')\n",
    "\n",
    "        aggs[ind_star[1].text] = ind_star[2].text\n",
    "        aggs[ind_star[4].text] = ind_star[5].text\n",
    "        aggs[ind_star[7].text] = ind_star[8].text\n",
    "        aggs[ind_star[10].text] = ind_star[11].text\n",
    "        aggs[ind_star[13].text] = ind_star[14].text\n",
    "        aggs['avg_rating'] = avg\n",
    "        aggs['review_count'] = count\n",
    "        aggs['product_id'] = p\n",
    "        agg_rating.append(aggs)\n",
    "    except:\n",
    "        pass\n",
    "    \n",
    "    sleep(1)\n",
    "    \n",
    "    \n",
    "    \n"
   ]
  },
  {
   "cell_type": "code",
   "execution_count": 98,
   "metadata": {},
   "outputs": [],
   "source": [
    "rating = soup.find_all('div', {'class': 'BVRRRatingSummaryColumn'})"
   ]
  },
  {
   "cell_type": "code",
   "execution_count": 224,
   "metadata": {},
   "outputs": [],
   "source": [
    "agg_rating_df = pd.DataFrame(agg_rating)"
   ]
  },
  {
   "cell_type": "code",
   "execution_count": 226,
   "metadata": {},
   "outputs": [],
   "source": [
    "agg_rating_df.to_csv('agg_rating.csv')"
   ]
  },
  {
   "cell_type": "code",
   "execution_count": 227,
   "metadata": {},
   "outputs": [
    {
     "data": {
      "text/plain": [
       "(965, 8)"
      ]
     },
     "execution_count": 227,
     "metadata": {},
     "output_type": "execute_result"
    }
   ],
   "source": [
    "agg_rating_df.shape"
   ]
  },
  {
   "cell_type": "code",
   "execution_count": 99,
   "metadata": {},
   "outputs": [
    {
     "data": {
      "text/plain": [
       "'3.9'"
      ]
     },
     "execution_count": 99,
     "metadata": {},
     "output_type": "execute_result"
    }
   ],
   "source": [
    "# Overall Rating \n",
    "rating[0].find('span', {'itemprop':'ratingValue'}).text"
   ]
  },
  {
   "cell_type": "code",
   "execution_count": 101,
   "metadata": {},
   "outputs": [
    {
     "data": {
      "text/plain": [
       "'9,565 reviews'"
      ]
     },
     "execution_count": 101,
     "metadata": {},
     "output_type": "execute_result"
    }
   ],
   "source": [
    "rating[0].find('span', {'class':'BVRRCount BVRRNonZeroCount'}).text"
   ]
  },
  {
   "cell_type": "code",
   "execution_count": 217,
   "metadata": {},
   "outputs": [
    {
     "data": {
      "text/plain": [
       "'1 star'"
      ]
     },
     "execution_count": 217,
     "metadata": {},
     "output_type": "execute_result"
    }
   ],
   "source": [
    "# Star count\n",
    "rating[0].find('div', {'class':'BVRRHistogramContent'}).find_all('span')[13].text"
   ]
  },
  {
   "cell_type": "code",
   "execution_count": null,
   "metadata": {},
   "outputs": [],
   "source": []
  }
 ],
 "metadata": {
  "kernelspec": {
   "display_name": "Python 3",
   "language": "python",
   "name": "python3"
  },
  "language_info": {
   "codemirror_mode": {
    "name": "ipython",
    "version": 3
   },
   "file_extension": ".py",
   "mimetype": "text/x-python",
   "name": "python",
   "nbconvert_exporter": "python",
   "pygments_lexer": "ipython3",
   "version": "3.7.3"
  }
 },
 "nbformat": 4,
 "nbformat_minor": 2
}
